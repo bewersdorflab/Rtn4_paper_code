{
 "cells": [
  {
   "cell_type": "code",
   "execution_count": 16,
   "id": "3ae11f9c-4931-4cf1-87cc-ea94abd144a7",
   "metadata": {},
   "outputs": [],
   "source": [
    "import numpy as np\n",
    "import pandas as pd\n",
    "import matplotlib.pyplot as plt\n",
    "from pathlib import Path\n",
    "import os\n",
    "import csv\n",
    "\n",
    "CB_color_cycle = ['#377eb8', '#ff7f00', '#4daf4a',\n",
    "                  '#f781bf', '#a65628', '#984ea3',\n",
    "                  '#999999', '#e41a1c', '#dede00']\n",
    "\n",
    "# CHANGE THIS PARAMETER\n",
    "which = 'mEGFP' #mEGFP or Halo\n",
    "\n",
    "# Load the appropriate data\n",
    "if which == 'mEGFP':\n",
    "    data = \"C:\\\\Users\\\\laf62\\\\Desktop\\\\LAF-Drive\\\\Yale_University\\\\Bewersdorf_Lab\\\\Publication Figures\\\\Supplementary Figures\\\\Rtn4-mEGFP_Western_Blotting\\\\20210520_U2OS_Rtn4-mEGFP_CRISPR_Blot2_anti-Rtn4_1min_lineplot.csv\"\n",
    "    savedir = \"C:\\\\Users\\\\laf62\\\\Desktop\\\\LAF-Drive\\\\Yale_University\\Bewersdorf_Lab\\\\Publication Figures\\\\Supplementary Figures\\\\Rtn4-mEGFP_Western_Blotting\"\n",
    "    ver = 'mEGFP_V1'\n",
    "    peak_dist = 50\n",
    "elif which == 'Halo':\n",
    "    data = \"C:\\\\Users\\\\laf62\\\\Desktop\\\\LAF-Drive\\Yale_University\\\\Bewersdorf_Lab\\\\Publication Figures\\\\Supplementary Figures\\\\Rtn4-Halo_images\\\\20191008_westernRtn4-Halo_anti-nogonew_30sec_SUCCESS_lineplot.csv\"\n",
    "    savedir = \"C:\\\\Users\\\\laf62\\\\Desktop\\\\LAF-Drive\\\\Yale_University\\\\Bewersdorf_Lab\\\\Publication Figures\\\\Supplementary Figures\\\\Rtn4-Halo_images\"\n",
    "    ver = 'Halo_V1'\n",
    "    peak_dist = 70\n",
    "\n",
    "else:\n",
    "    print('Please change the which variable to either mEGFP or Halo')\n",
    "\n",
    "read_csv = pd.read_csv(data)\n",
    "read_csv = np.array(read_csv)"
   ]
  },
  {
   "cell_type": "code",
   "execution_count": 17,
   "id": "53e9a95b-3459-4a2a-81ae-f67ec28a39cc",
   "metadata": {
    "tags": []
   },
   "outputs": [
    {
     "data": {
      "text/plain": [
       "(array([ 24, 113], dtype=int64), {})"
      ]
     },
     "execution_count": 17,
     "metadata": {},
     "output_type": "execute_result"
    }
   ],
   "source": [
    "# Find peaks\n",
    "from scipy.signal import find_peaks\n",
    "#find_peaks searches for local maxima. Distance sets the number of datapoints that must\n",
    "#be between found peaks\n",
    "peaks = find_peaks(read_csv[:,1],distance=peak_dist)\n",
    "peaks_g = read_csv[:,1][peaks[0]]\n",
    "peaks_dist = read_csv[:,0][peaks[0]]\n",
    "minim = np.min(read_csv[:,1])\n",
    "twopeaks = len(peaks)==2\n",
    "if twopeaks:\n",
    "    max1 = np.around(np.max(peaks_g)-minim,decimals=0)\n",
    "    max2 = np.around(np.min(peaks_g)-minim,decimals=0)\n",
    "    total = max1+max2\n",
    "    peak1 = int(np.around(max1/total,2)*100)\n",
    "    peak2 = int(np.around(max2/total,2)*100)\n",
    "peaks"
   ]
  },
  {
   "cell_type": "code",
   "execution_count": 19,
   "id": "edaef811-b38e-452e-bc97-de125e1b7836",
   "metadata": {},
   "outputs": [
    {
     "data": {
      "image/png": "[encoded data removed]",
      "text/plain": [
       "<Figure size 200x250 with 1 Axes>"
      ]
     },
     "metadata": {},
     "output_type": "display_data"
    }
   ],
   "source": [
    "if which == 'mEGFP':\n",
    "    plt.rcParams.update({'font.size': 8}) #32\n",
    "    plt.rcParams.update({'legend.frameon': False})\n",
    "    fig = plt.figure(figsize=[2,2.5])\n",
    "    plt.plot(read_csv[:,0],read_csv[:,1])\n",
    "    plt.xlim(0,1)\n",
    "    plt.ylim(0,50000)\n",
    "    plt.xlabel('Distance (cm)')\n",
    "    plt.ylabel('Grey value')\n",
    "    plt.text(peaks_dist[0]-0.05,max1+2500,str(peak1)+'%')#,color=CB_color_cycle[color[1]], fontsize='large')\n",
    "    plt.text(peaks_dist[1]-0.05,max2+2500,str(peak2)+'%')\n",
    "    fig.tight_layout()\n",
    "    mEGFP_save = savedir + '\\\\Rtn4-mEGFP_line_plot.png'\n",
    "    plt.savefig(mEGFP_save, dpi=600, facecolor='w', edgecolor='w',\n",
    "            orientation='portrait', papertype=None, format=None,\n",
    "            transparent=False, bbox_inches=\"tight\", pad_inches=0.1, metadata=None)\n",
    "    plt.show()\n",
    "elif which == 'Halo':\n",
    "    plt.rcParams.update({'font.size': 8}) #32\n",
    "    plt.rcParams.update({'legend.frameon': False})\n",
    "    fig = plt.figure(figsize=[2,2.5])\n",
    "    plt.plot(read_csv[:,0],read_csv[:,1])\n",
    "    plt.xlim(0,1.25)\n",
    "    plt.ylim(0,50000)\n",
    "    plt.xlabel('Distance (cm)')\n",
    "    plt.ylabel('Grey value')\n",
    "    plt.text(peaks_dist[0]-0.1,max1+4500,str(peak1)+'%')#,color=CB_color_cycle[color[1]], fontsize='large')\n",
    "    plt.text(peaks_dist[1]-0.1,max2+4500,str(peak2)+'%')\n",
    "    fig.tight_layout()\n",
    "    Halo_save = savedir + '\\\\Rtn4-Halo_line_plot.png'\n",
    "    plt.savefig(Halo_save, dpi=600, facecolor='w', edgecolor='w',\n",
    "            orientation='portrait', papertype=None, format=None,\n",
    "            transparent=False, bbox_inches=\"tight\", pad_inches=0.1, metadata=None)\n",
    "    plt.show()\n",
    "else:\n",
    "    print('Please change the which variable to either mEGFP or Halo')"
   ]
  },
  {
   "cell_type": "code",
   "execution_count": null,
   "id": "3ac06d09-119c-4311-a125-325f83b94734",
   "metadata": {},
   "outputs": [],
   "source": []
  }
 ],
 "metadata": {
  "kernelspec": {
   "display_name": "Python 3",
   "language": "python",
   "name": "python3"
  },
  "language_info": {
   "codemirror_mode": {
    "name": "ipython",
    "version": 3
   },
   "file_extension": ".py",
   "mimetype": "text/x-python",
   "name": "python",
   "nbconvert_exporter": "python",
   "pygments_lexer": "ipython3",
   "version": "3.7.9"
  }
 },
 "nbformat": 4,
 "nbformat_minor": 5
}
