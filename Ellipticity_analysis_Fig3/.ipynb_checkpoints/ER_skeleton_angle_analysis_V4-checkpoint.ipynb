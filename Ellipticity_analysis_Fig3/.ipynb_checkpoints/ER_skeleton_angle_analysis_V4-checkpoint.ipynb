{
 "cells": [
  {
   "cell_type": "code",
   "execution_count": 1,
   "id": "a51352c1-38c3-4dc3-aa40-cc98aa7c077b",
   "metadata": {
    "tags": []
   },
   "outputs": [
    {
     "name": "stdout",
     "output_type": "stream",
     "text": [
      "Trying to load 3rd party recipe module ch_shrinkwrap.recipe_modules.simulation\n",
      "Loaded 3rd party recipe module ch_shrinkwrap.recipe_modules.simulation\n",
      "Trying to load 3rd party recipe module nep_fitting.recipe_modules.nep_fits\n",
      "Loaded 3rd party recipe module nep_fitting.recipe_modules.nep_fits\n",
      "Trying to load 3rd party recipe module cc_drift_cor.plugins.recipes.processing\n",
      "Loaded 3rd party recipe module cc_drift_cor.plugins.recipes.processing\n",
      "Trying to load 3rd party recipe module pyme_picasso.recipe_modules.conversion\n",
      "Loaded 3rd party recipe module pyme_picasso.recipe_modules.conversion\n",
      "Trying to load 3rd party recipe module pyme_4pi.recipe_modules.conversion\n",
      "Loaded 3rd party recipe module pyme_4pi.recipe_modules.conversion\n",
      "Trying to load 3rd party recipe module ch_shrinkwrap.recipe_modules.surface_fitting\n",
      "Loaded 3rd party recipe module ch_shrinkwrap.recipe_modules.surface_fitting\n",
      "Trying to load 3rd party recipe module ch_shrinkwrap.recipe_modules.surface_feature_extraction\n",
      "Loaded 3rd party recipe module ch_shrinkwrap.recipe_modules.surface_feature_extraction\n",
      "Trying to load 3rd party recipe module cc_drift_cor.plugins.recipes.localisations\n",
      "Loaded 3rd party recipe module cc_drift_cor.plugins.recipes.localisations\n",
      "Trying to load 3rd party recipe module cc_drift_cor.plugins.recipes.io\n",
      "Loaded 3rd party recipe module cc_drift_cor.plugins.recipes.io\n",
      "Trying to load 3rd party recipe module cc_drift_cor.plugins.recipes.chung_cc\n",
      "Loaded 3rd party recipe module cc_drift_cor.plugins.recipes.chung_cc\n",
      "Detected a .git folder, assuming a development install\n"
     ]
    }
   ],
   "source": [
    "from PYME.LMVis import VisGUI\n",
    "\n",
    "%gui wx"
   ]
  },
  {
   "cell_type": "code",
   "execution_count": 2,
   "id": "03096bd8-f12a-47ad-87ed-9368db702348",
   "metadata": {
    "tags": []
   },
   "outputs": [
    {
     "name": "stderr",
     "output_type": "stream",
     "text": [
      "DEBUG:PYME.LMVis.visCore:Creating VisGUI menu bar\n",
      "DEBUG:PYME.LMVis.Extras:Initializing QPobjectSegment plugin\n",
      "DEBUG:PYME.LMVis.Extras:Initializing animation plugin\n",
      "DEBUG:PYME.LMVis.Extras:Initializing annotation plugin\n"
     ]
    },
    {
     "name": "stdout",
     "output_type": "stream",
     "text": [
      "quaternion module not found, disabling custom clip plane orientations\n",
      "quaternion module not found, disabling custom clip plane orientations\n",
      "New Canvas\n"
     ]
    },
    {
     "name": "stderr",
     "output_type": "stream",
     "text": [
      "c:\\users\\laf62\\code\\python-microscopy\\PYME\\DSView\\modules\\annotation.py:62: wxPyDeprecationWarning: Call to deprecated item. Use SetToolTip instead.\n",
      "  self.bAdjustSnake.SetToolTipString('Adjust the parameters of fo the \"snake\" (active contour) used for curve locking')\n",
      "c:\\users\\laf62\\code\\python-microscopy\\PYME\\DSView\\modules\\annotation.py:73: wxPyDeprecationWarning: Call to deprecated item. Use InsertItem instead.\n",
      "  self.lLabels.InsertStringItem(i, '%d' % i)\n",
      "c:\\users\\laf62\\code\\python-microscopy\\PYME\\DSView\\modules\\annotation.py:74: wxPyDeprecationWarning: Call to deprecated item. Use SetItem instead.\n",
      "  self.lLabels.SetStringItem(i, 1, 'Structure %d' % i)\n",
      "c:\\users\\laf62\\code\\python-microscopy\\PYME\\DSView\\modules\\annotation.py:76: wxPyDeprecationWarning: Call to deprecated item. Use SetItem instead.\n",
      "  self.lLabels.SetStringItem(0, 1, 'No label')\n",
      "c:\\users\\laf62\\code\\python-microscopy\\PYME\\DSView\\modules\\annotation.py:95: wxPyDeprecationWarning: Call to deprecated item. Use SetToolTip instead.\n",
      "  self.bAddLine.SetToolTipString('Add a curve annotation (ctrl-L / cmd-L)')\n",
      "DEBUG:PYME.LMVis.Extras:Initializing clusterAnalysis plugin\n",
      "WARNING:PYME.DSView.modules:Plugin [clusterAnalysis] injects into parent namespace, could result in circular references\n",
      "DEBUG:PYME.LMVis.Extras:Initializing dockedPanel plugin\n",
      "DEBUG:PYME.LMVis.Extras:Initializing extra_layers plugin\n",
      "DEBUG:PYME.LMVis.Extras:Initializing fiducial plugin\n",
      "DEBUG:PYME.LMVis.Extras:Initializing flagZMotionArtifacts plugin\n",
      "DEBUG:root:Adding menu items for event filters\n",
      "WARNING:PYME.DSView.modules:Plugin [flagZMotionArtifacts] injects into parent namespace, could result in circular references\n",
      "DEBUG:PYME.LMVis.Extras:Initializing fusionUtils plugin\n",
      "DEBUG:PYME.LMVis.Extras:Initializing multiColourAnalysis plugin\n",
      "DEBUG:PYME.LMVis.Extras:Initializing multiviewMapping plugin\n",
      "DEBUG:root:Adding menu items for multi-view manipulation\n",
      "WARNING:PYME.DSView.modules:Plugin [multiviewMapping] injects into parent namespace, could result in circular references\n",
      "DEBUG:PYME.LMVis.Extras:Initializing objectMeasurements plugin\n",
      "DEBUG:PYME.LMVis.Extras:Initializing particleTracking plugin\n",
      "WARNING:PYME.DSView.modules:Plugin [particleTracking] injects into parent namespace, could result in circular references\n",
      "DEBUG:PYME.LMVis.Extras:Initializing perFrameVariable plugin\n",
      "DEBUG:PYME.LMVis.Extras:Initializing photophysics plugin\n",
      "DEBUG:PYME.LMVis.Extras:Initializing pointSetGeneration plugin\n",
      "WARNING:PYME.DSView.modules:Plugin [pointSetGeneration] injects into parent namespace, could result in circular references\n",
      "DEBUG:PYME.LMVis.Extras:Initializing pointwiseColoc plugin\n",
      "DEBUG:PYME.LMVis.Extras:Initializing saved_views plugin\n",
      "DEBUG:PYME.LMVis.Extras:Initializing scaleBox plugin\n",
      "DEBUG:PYME.LMVis.Extras:Initializing sequentialSpecies plugin\n",
      "DEBUG:PYME.LMVis.Extras:Initializing setBGImage plugin\n",
      "DEBUG:PYME.LMVis.Extras:Initializing shiftmapGenerator plugin\n",
      "DEBUG:PYME.LMVis.Extras:Initializing showShortcuts plugin\n",
      "DEBUG:PYME.LMVis.Extras:Initializing snapshot plugin\n",
      "DEBUG:PYME.LMVis.Extras:Initializing spherical_harmonics plugin\n",
      "DEBUG:root:Adding menu items for spherical harmonic (shell) fitting\n",
      "WARNING:PYME.DSView.modules:Plugin [spherical_harmonics] injects into parent namespace, could result in circular references\n",
      "DEBUG:PYME.LMVis.Extras:Initializing subsets plugin\n",
      "DEBUG:PYME.LMVis.Extras:Initializing surface_fitting plugin\n",
      "DEBUG:PYME.LMVis.Extras:Initializing temperaturePlot plugin\n",
      "DEBUG:PYME.LMVis.Extras:Initializing vibration plugin\n",
      "DEBUG:PYME.recipes.recipe:Module timings: {}\n"
     ]
    },
    {
     "name": "stdout",
     "output_type": "stream",
     "text": [
      "Saved Views are deprecated -  use the ones with animation instead and remove me!\n",
      "Creating fold panel\n",
      "GenPanels\n",
      "Creating datasource panel\n",
      "Image list size: 1\n",
      "recipe.execute()\n",
      "0\n",
      "OpenGL - Version: b'4.6.0 NVIDIA 516.94'\n",
      "Shader - Version: b'4.60 NVIDIA'\n",
      "GL.GL_MAX_SAMPLES: 32, GL.GL_SAMPLES: 4\n"
     ]
    },
    {
     "name": "stderr",
     "output_type": "stream",
     "text": [
      "DEBUG:PYME.LMVis.shader_programs.ShaderProgramFactory:New shader program created: <class 'PYME.LMVis.shader_programs.DefaultShaderProgram.DefaultShaderProgram'>\n"
     ]
    },
    {
     "name": "stdout",
     "output_type": "stream",
     "text": [
      "Ev Idle\n",
      "('points', 't')\n",
      "refreshed\n",
      "Input datasources:  []\n",
      "Creating layers GUI\n",
      "height:  0\n",
      "NB best size: wx.Size(0, 0)\n"
     ]
    }
   ],
   "source": [
    "pymevis = VisGUI.ipython_pymevisualize()\n",
    "pipeline = pymevis.pipeline"
   ]
  },
  {
   "cell_type": "code",
   "execution_count": 3,
   "id": "38ee00a2-64ee-446b-9884-e576aab18834",
   "metadata": {},
   "outputs": [],
   "source": [
    "import numpy as np\n",
    "from PYME.IO import tabular\n",
    "\n",
    "# PARAMETERS to Change\n",
    "\n",
    "# Save location\n",
    "savedir = \"F:\\\\Rtn4_Paper_Data\\\\4Pi_data\\\\Cross-sectional_angles_analysis\"\n",
    "ver = 'V7-vector-rejection' # analysis version to not overwrite old analyses\n",
    "ball_r = 50 #radius used for query_ball_points\n",
    "max_nn = 200 #1000 #maximum # of nearest neighbors before collapsing them into one point\n",
    "min_dist = 10 #minimum distance between skeleton vertices in determining the vector that points from each vertex\n",
    "              #to the closest vertex that's at least this distance away (helps make nice backbone vectors)\n",
    "sim_p = 1 # number of simulated points per skeleton point\n",
    "high_filt=200          # Threshold for max distance a Rtn4 point can be from mesh and still be included in analysis\n",
    "low_filt=-100          # Threshold for min distance a Rtn4 point can be from mesh and still be included in analysis\n",
    "distance_filter = 2000  # Threshold for maximum distance a point can be from the skeleton to be in the angles calculation\n",
    "low_perp = 89          # Thresholdf or min angle a point can be relative to skeleton\n",
    "high_perp = 91         # Threshold of max angle a point can be relative to the skeleton\n",
    "\n",
    "#making save-folder if it doesn't exist (DON'T TOUCH THE NEXT 5 LINES)\n",
    "from pathlib import Path\n",
    "import os\n",
    "p = Path(savedir)\n",
    "if not p.exists():\n",
    "    os.mkdir(savedir)\n",
    "workdir = os.getcwd()\n",
    "new_path = savedir + '\\\\analysis_results_' + ver\n",
    "p1 = Path(new_path)\n",
    "if not p1.exists():\n",
    "    os.mkdir(new_path)\n",
    "\n",
    "#######################################################################################################################\n",
    "# Rtn4 parameters and files (for multiple ROIs)\n",
    "#######################################################################################################################\n",
    "\n",
    "# pass pointcloud and mesh files here for Rtn\n",
    "\n",
    "# Below are the parameters needed for analyzing multiple Rtn4 ROIs together. You will need to name each file as:\n",
    "# points: 'Cellxx_ROIy.hdf'\n",
    "# meshes: 'Cellxx_ROIy_mesh.stl'\n",
    "# Where xx is the number of the cell from which the ROI comes from in that dataset\n",
    "# Where y is the number of the ROI. It doesn't matter how many ROIs or what number they start at as long as you specify those\n",
    "# two parameters below AND the ROI numbers increase by +1 continuously.\n",
    "\n",
    "\n",
    "rtn_num = 3#10           # How many ROIs of Rtn4 do you want to analyze?\n",
    "rtn_roi_start = 1#7#          # What number does the first ROI start at?\n",
    "foldname = \"F:\\\\Rtn4_Paper_Data\\\\4Pi_data\\\\Cross-sectional_angles_analysis\\\\Rtn4_Data\"\n",
    "filename = '\\\\Rtn4_ROI'\n",
    "rtn_chan = 'chan1'    # channel name for Rtn4 data\n",
    "rtn_save = 'rtn4'\n",
    "rtn_list = []\n",
    "rtn_mesh_list = []\n",
    "rtn_skel_list = []\n",
    "for a in range(rtn_roi_start, rtn_num+rtn_roi_start):\n",
    "    rtn_list.append(foldname+filename+str(int(a))+'.hdf')\n",
    "    rtn_mesh_list.append(foldname+filename+str(int(a))+'_shrinkwrap.stl')\n",
    "    rtn_skel_list.append(foldname+filename+str(int(a))+'_skeleton.stl')\n",
    "\n",
    "# make dictionary with variables\n",
    "rtn_param = {\"chan\": rtn_chan, \"save\": rtn_save, \"low_filt\": low_filt, \"high_filt\": high_filt,\n",
    "            \"distance_filter\": distance_filter, \"roi_start\": rtn_roi_start, \"low_perp\": low_perp,\n",
    "            \"high_perp\": high_perp}\n",
    "\n",
    "#######################################################################################################################\n",
    "# Sec61B parameters and files\n",
    "#######################################################################################################################\n",
    "\n",
    "sec_num = 3           # How many ROIs of Sec61B do you want to analyze?\n",
    "sec_roi_start = 1          # What number does the first ROI start at?\n",
    "sec_foldname = \"F:\\\\Rtn4_Paper_Data\\\\4Pi_data\\\\Cross-sectional_angles_analysis\\\\Sec61B_Data\"\n",
    "sec_filename = '\\\\Sec61B_ROI'\n",
    "sec_chan = 'chan0'     # channel name for antibody data\n",
    "sec_save = 'sec61B'\n",
    "sec_list = []\n",
    "sec_mesh_list = []\n",
    "sec_skel_list = []\n",
    "for c in range(sec_roi_start, sec_num+sec_roi_start):\n",
    "    sec_list.append(sec_foldname+sec_filename+str(int(c))+'.hdf')\n",
    "    sec_mesh_list.append(sec_foldname+sec_filename+str(int(c))+'_shrinkwrap.stl')\n",
    "    sec_skel_list.append(sec_foldname+sec_filename+str(int(c))+'_skeleton.stl')\n",
    "\n",
    "# make dictionary with variables\n",
    "sec_param = {\"chan\": sec_chan, \"save\": sec_save, \"low_filt\": low_filt, \"high_filt\": high_filt,\n",
    "            \"distance_filter\": distance_filter, \"roi_start\": sec_roi_start, \"low_perp\": low_perp,\n",
    "            \"high_perp\": high_perp}\n",
    "\n",
    "#######################################################################################################################\n",
    "# KDEL parameters and files\n",
    "#######################################################################################################################\n",
    "\n",
    "kdel_num = 3           # How many ROIs of KDEL do you want to analyze?\n",
    "kdel_roi_start = 1          # What number does the first ROI start at?\n",
    "kdel_foldname = \"F:\\\\Rtn4_Paper_Data\\\\4Pi_data\\\\Cross-sectional_angles_analysis\\\\KDEL_Data\"\n",
    "kdel_filename = '\\\\KDEL_ROI'\n",
    "kdel_chan = 'chan0'     # channel name for Antibody data\n",
    "kdel_save = 'kdel'\n",
    "kdel_list = []\n",
    "kdel_mesh_list = []\n",
    "kdel_skel_list = []\n",
    "for c in range(kdel_roi_start, kdel_num+kdel_roi_start):\n",
    "    kdel_list.append(kdel_foldname+kdel_filename+str(int(c))+'.hdf')\n",
    "    kdel_mesh_list.append(kdel_foldname+kdel_filename+str(int(c))+'_shrinkwrap.stl')\n",
    "    kdel_skel_list.append(kdel_foldname+kdel_filename+str(int(c))+'_skeleton.stl')\n",
    "\n",
    "# make dictionary with variables\n",
    "kdel_param = {\"chan\": kdel_chan, \"save\": kdel_save, \"low_filt\": low_filt, \"high_filt\": high_filt,\n",
    "            \"distance_filter\": distance_filter, \"roi_start\": kdel_roi_start, \"low_perp\": low_perp,\n",
    "            \"high_perp\": high_perp}\n",
    "    "
   ]
  },
  {
   "cell_type": "code",
   "execution_count": 4,
   "id": "858b247a-cadf-43b4-ab54-780c29f3022b",
   "metadata": {
    "tags": []
   },
   "outputs": [],
   "source": [
    "import numpy as np\n",
    "from PYME.IO import tabular\n",
    "\n",
    "# generate 3D Gaussian\n",
    "# points = np.random.randn(100,3)*100\n",
    "\n",
    "#######################################################################################################################\n",
    "# Define needed functions\n",
    "#######################################################################################################################\n",
    "\n",
    "def add_ds_from_Nx3(points, pipeline, pymevis, ds_name='points', color=None, normals=None):\n",
    "    \"\"\"\n",
    "    Quickly add points/normals to the pipeline and pymevis display.\n",
    "    \"\"\"\n",
    "    \n",
    "    d = {'x': points[:,0], 'y': points[:,1], 'z': points[:,2]}\n",
    "    \n",
    "    if color is not None:\n",
    "        d['c'] = color\n",
    "        \n",
    "    if normals is not None:\n",
    "        d['xn'] = normals[:,0]\n",
    "        d['yn'] = normals[:,1]\n",
    "        d['zn'] = normals[:,2]\n",
    "\n",
    "    # create tabular mappingFilter data source and add it to pymevis\n",
    "    pipeline.addDataSource(ds_name, tabular.mappingFilter(d))\n",
    "\n",
    "    # select this data source (optional, but helps support \"default behavior\")\n",
    "    pipeline.selectDataSource(ds_name)\n",
    "\n",
    "    # Add a pointcloud layer that displays data source named 'points' (the one we just added)\n",
    "    pymevis.add_pointcloud_layer(ds_name=ds_name)\n",
    "    \n",
    "    if normals is not None:\n",
    "        pymevis.glCanvas.layers[-1].display_normals=True\n",
    "        pymevis.glCanvas.layers[-1].normal_scaling=25.0\n",
    "\n",
    "def save_snapshot(canvas, file_name=None):\n",
    "    if True:\n",
    "        pixel_size=None\n",
    "        \n",
    "        if file_name is None:\n",
    "            file_name = wx.FileSelector('Save current view as', wildcard=\"PNG files(*.png)|*.png\",\n",
    "                            flags=wx.FD_SAVE | wx.FD_OVERWRITE_PROMPT)\n",
    "        \n",
    "        if file_name:\n",
    "            snap = canvas.getIm(pixel_size, GL_RGB)\n",
    "            print(snap.dtype, snap.shape, snap.max())\n",
    "            if snap.ndim == 3:\n",
    "                img = PIL.Image.fromarray(snap.transpose(1, 0, 2))\n",
    "                #img = toimage(snap.transpose(1, 0, 2))\n",
    "            else:\n",
    "                img = PIL.Image.fromarray(snap.transpose())\n",
    "                #img = toimage(snap.transpose())\n",
    "            \n",
    "            img = img.transpose(PIL.Image.FLIP_TOP_BOTTOM)\n",
    "            \n",
    "            if not file_name.endswith('.png'):\n",
    "                img.save('{}.png'.format(file_name))\n",
    "            else:\n",
    "                img.save('{}'.format(file_name))\n",
    "                \n",
    "def interior_points_from_sdf(sdf, r_max=1, centre=(0,0,0), dx_min=1, p=0.1, eps=0):\n",
    "    '''\n",
    "    Generate points from a signed distance function. Effectively does octree-like subdivision of the function domain to\n",
    "    assign points on a regular grid, then passes through a Monte-Carlo acceptance function to simulate labelling efficiency\n",
    "    \n",
    "    Parameters\n",
    "    ----------\n",
    "    sdf : function\n",
    "        the signed distance function. Should be of the form dist = sdf(pts) where pts is a 3xN ndarray/\n",
    "    r_max: float\n",
    "        The maximum radius of the object (from centre)\n",
    "    centre : 3-tuple / array of float\n",
    "        The centre of the object\n",
    "    dx_min : float\n",
    "        The target side length of a voxel. Effectively a density parameter (density = 1/dx_min^3).\n",
    "    p : float\n",
    "        Monte-Carlo acceptance probability.\n",
    "\n",
    "    Returns\n",
    "    -------\n",
    "    \n",
    "    verts : 3xN ndarray of fluorophore positions\n",
    "\n",
    "    '''\n",
    "    dx = 1.2 * r_max\n",
    "    \n",
    "    vx, vy, vz = [v.ravel() for v in np.mgrid[-1:2, -1:2, -1:2]]\n",
    "    \n",
    "    verts = dx * np.vstack([vx, vy, vz]) + np.array(centre)[:,None]\n",
    "#     print(verts.shape)\n",
    "    \n",
    "    c_offs = np.array(\n",
    "        [[-1, -1, -1], [1, -1, -1], [1, 1, -1], [-1, 1, -1], [-1, -1, 1], [1, -1, 1], [1, 1, 1], [-1, 1, 1]])\n",
    "    #test_offs =\n",
    "    \n",
    "    while dx > dx_min:\n",
    "        dx /= 2.0\n",
    "        #test and discard.\n",
    "        corners = [verts + dx * c_offs[i][:, None] for i in range(8)]\n",
    "        corner_dists = [sdf(c) for c in corners] + [sdf(verts), ]\n",
    "#         print(corner_dists)\n",
    "        \n",
    "        #corner_dists = [sdf(verts),]\n",
    "        \n",
    "        #contains_points = np.abs(np.sum([np.sign(c) for c in corner_dists], axis=0)) < 9\n",
    "        # for some reason the sign test doesn't seem to work properly. Use a generous\n",
    "        # distance based test instead\n",
    "        contains_points = np.min([c for c in corner_dists], axis=0) < 2 * dx\n",
    "#         print(dx)\n",
    "#         print(corner_dists)\n",
    "        \n",
    "        verts = verts[:, contains_points]\n",
    "#         print(verts.shape)\n",
    "        \n",
    "        #subdivide\n",
    "        verts = np.concatenate([verts + dx * c_offs[i][:, None] for i in range(8)], axis=1)\n",
    "        #print(verts.shape)\n",
    "    \n",
    "    # because we use a fairly relaxed / conservative criterea for discarding above (which will\n",
    "    # effectively match the cell containing the surface AND it's neighbours)\n",
    "    # we perform a more stringent test on the final set of points.\n",
    "    corners = [verts + dx * c_offs[i][:, None] for i in range(8)]\n",
    "    corner_dists = [sdf(c) for c in corners]\n",
    "    \n",
    "    sv = sdf(verts)\n",
    "    contains_points = ((np.sum([np.sign(c) for c in corner_dists], axis=0) == -8) | (sv < dx)) & (sv < eps)\n",
    "    verts = verts[:, contains_points]\n",
    "    \n",
    "    #print(verts.shape)\n",
    "    \n",
    "    return verts[:, np.random.rand(verts.shape[1]) < p]\n",
    "\n",
    "def grad_sdf(pts, sdf, delta=0.1):\n",
    "    \"\"\"\n",
    "    Gradient of the signed distance function, calculated via central differences.\n",
    "    \n",
    "    Parameters\n",
    "    ----------\n",
    "    pts : np.array\n",
    "        3 x N array of points on which we evaluate the gradient\n",
    "    sdf : function\n",
    "        Signed-distance function. Expects 3xN vector of x, y, z coordinates.\n",
    "    delta : float\n",
    "        Shift in gradient direction.\n",
    "    \"\"\"\n",
    "    d2 = delta/2.0\n",
    "    hx = np.array([d2,0,0])[:,None]\n",
    "    hy = np.array([0,d2,0])[:,None]\n",
    "    hz = np.array([0,0,d2])[:,None]\n",
    "    dx = (sdf(pts + hx) - sdf(pts - hx))/delta\n",
    "    dy = (sdf(pts + hy) - sdf(pts - hy))/delta\n",
    "    dz = (sdf(pts + hz) - sdf(pts - hz))/delta\n",
    "    \n",
    "    return dx, dy, dz\n",
    "\n",
    "###########################################################################################################\n",
    "# New skeletonization function\n",
    "###########################################################################################################\n",
    "from ch_shrinkwrap.recipe_modules.surface_feature_extraction import SkeletonizeMembrane\n",
    "\n",
    "# function definition to compute magnitude of a vector\n",
    "import numpy\n",
    "import math\n",
    "def magnitude(vector):\n",
    "    return math.sqrt(sum(pow(element, 2) for element in vector))"
   ]
  },
  {
   "cell_type": "code",
   "execution_count": null,
   "id": "99ccaed3-317c-4c9f-a52c-391ea3169d6c",
   "metadata": {
    "tags": []
   },
   "outputs": [],
   "source": [
    "### Testing new vector from skeleton to point calculation\n",
    "import numpy as np\n",
    "sp = np.array([0,0,0])\n",
    "sp2 = np.array([1,0,0])\n",
    "b = sp2 - sp\n",
    "b_hat = b/np.linalg.norm(b)\n",
    "a = np.array([1,1,0])\n",
    "avec = a-sp\n",
    "# Vector rejection: a2 = a - bhat x (a dot b / |b|)\n",
    "ap = avec-b_hat*(np.dot(avec,b)/np.linalg.norm(b))\n",
    "ap"
   ]
  },
  {
   "cell_type": "code",
   "execution_count": null,
   "id": "f88de569-1f3e-400c-b7bd-ec014d913e69",
   "metadata": {
    "tags": []
   },
   "outputs": [],
   "source": [
    "# STill testing\n",
    "import numpy as np\n",
    "z = np.arange(300).reshape(100,3)\n",
    "np.linalg.norm(z[1])"
   ]
  },
  {
   "cell_type": "code",
   "execution_count": 5,
   "id": "ceb02b8b-be7f-40e6-aae5-222e121a1642",
   "metadata": {
    "tags": []
   },
   "outputs": [],
   "source": [
    "import os\n",
    "from os.path import exists\n",
    "import time\n",
    "import PIL\n",
    "import wx\n",
    "from OpenGL.GL import GL_LUMINANCE, GL_RGB\n",
    "from pathlib import Path\n",
    "import pickle\n",
    "\n",
    "def point_angles_V3(file_list, mesh_list, skel_list, param_list, sim_p):\n",
    "    \"\"\"\n",
    "    calculate the angle between vector1 (pointing from each data point to the closest skeleton point) and vector2\n",
    "    (e0 vector of each skeleton point that should point along axis of tubule) relative to the z-direction of each\n",
    "    tubule)\n",
    "    \n",
    "    update on 8-5-2022: I have changed the analysis from using the e0 vector. These seemed too inconstistent in\n",
    "    their directions, and I was worried they'd lead to artifacts in the analysis. Now, I reassign each skeleton \n",
    "    vertex to a coordinate that is the mean coordinate of that vertex and all the vertices on the skeleton within some\n",
    "    radius (20 nm seems to work well). I then make a vector that points from each vertex on the skeleton to the\n",
    "    closest vertex on the skeleton that is at least x distance away (5-10 nm works well). \n",
    "    \n",
    "    update on 11-11-2022: I am moving away from many small ROIs to a few large ROIs. Previously, since creating\n",
    "    skeletons within the script loop didn't take too long, I opted for this instead of manually creating skeletons\n",
    "    for each ROI. Now, it takes a few hours to create a skeleton for one of these larger ROIs, so I have opted to\n",
    "    manually create the skeletons beforehand and load them into the analysis. Thus, I am updating this function\n",
    "    to load in the skeletons instead of creating them each time.\n",
    "    \n",
    "    update on 12/14/2022: I am changing the way the vectors are calculated that point from the skeleton to the \n",
    "    localizations. Previously, the vectors pointed from the neareast skeleton point to each localization. \n",
    "    Now, the vector rejection is calculated instead. This ensures that the vector is actually perfectly perpendicular\n",
    "    to the skeleton. It should also allow me to remove the filtering of points that are not close to pependicular to\n",
    "    the skeleton. See vector projection wiki for info about vector rejection: https://en.wikipedia.org/wiki/Vector_projection.\n",
    "    The formula is a2 = a - bhat (a dot b / |b|), where a is the vector pointing from the skeleton to the localization, \n",
    "    a2 is the vector rejection, b is the skeleton axis, bhat is the unit vector of b, |b| is the magnitude of b.\n",
    "    \"\"\"\n",
    "    # initiate variables\n",
    "    angles_all = []\n",
    "    angles_z_all = []\n",
    "    sim_angles_all = []\n",
    "    sim_angles_z_all = []\n",
    "    skel_dist_all = []\n",
    "    skel_ind_all = []\n",
    "    sim_dist_all = []\n",
    "    sim_ind_all = []\n",
    "    points_all = []\n",
    "    skeleton_all = []\n",
    "    e0_all = []\n",
    "    e0_hat_all = []\n",
    "    e1_all = []\n",
    "    vecs_hat_all = []\n",
    "    vecs_hat_ind_all = []\n",
    "    v_hat_all = []\n",
    "    simv_hat_all = []\n",
    "    vecs_hat_sim_all = []\n",
    "    sim_points_all = []\n",
    "    sim_v_all = []\n",
    "    ps_deg_all = []\n",
    "    v_norm_all = []\n",
    "    save_screenshots = new_path + '\\\\screenshots'\n",
    "    p3 = Path(save_screenshots)\n",
    "    if not p3.exists():\n",
    "        os.mkdir(save_screenshots)\n",
    "\n",
    "    for d in range(len(file_list)):\n",
    "        angles = []\n",
    "        angles_z = []\n",
    "        sim_angles = []\n",
    "        sim_angles_z = []\n",
    "        start_time = time.time()\n",
    "\n",
    "        # Load and display points\n",
    "        print('start')\n",
    "        pymevis.OpenFile(file_list[d])\n",
    "\n",
    "        # define mesh sdf\n",
    "        from PYME.experimental.isosurface import distance_to_mesh\n",
    "\n",
    "        mesh_sdf = lambda pts: distance_to_mesh(pts.T, mesh)\n",
    "\n",
    "        print('loading mesh')\n",
    "        # Load and display mesh\n",
    "        from PYME.experimental._triangle_mesh import TriangleMesh\n",
    "        from PYME.LMVis.layers.mesh import TriangleRenderLayer\n",
    "\n",
    "        mesh = TriangleMesh.from_stl(mesh_list[d])\n",
    "\n",
    "        mesh_name = pipeline.new_ds_name('surf')\n",
    "        pipeline.recipe.namespace[mesh_name] = mesh\n",
    "        layer = TriangleRenderLayer(pipeline, dsname=mesh_name, method='wireframe', cmap = 'SolidCyan')\n",
    "        pymevis.add_layer(layer)\n",
    "\n",
    "        # grab the bounding box\n",
    "        mesh_bbox = pymevis.glCanvas.layers[-1]._bbox\n",
    "        \n",
    "        pipeline.selectDataSource('surf0')\n",
    "        sw = pipeline.selectedDataSource\n",
    "        sw_surf = sw._vertices['position'][sw._vertices['halfedge']!=-1]\n",
    "      \n",
    "        # Load and display skeleton (this is replacing the skeleton creation within the script approach because\n",
    "        # it takes so long to make the skeleton. Better to do it once and then load it in for analyses\n",
    "\n",
    "        from PYME.experimental._triangle_mesh import TriangleMesh\n",
    "        from PYME.LMVis.layers.mesh import TriangleRenderLayer\n",
    "\n",
    "        mesh = TriangleMesh.from_stl(skel_list[d])\n",
    "\n",
    "        mesh_name = pipeline.new_ds_name('skeleton')\n",
    "        pipeline.recipe.namespace[mesh_name] = mesh\n",
    "        layer = TriangleRenderLayer(pipeline, dsname=mesh_name, method='wireframe', cmap = 'SolidMagenta')\n",
    "        pymevis.add_layer(layer)\n",
    "\n",
    "        # grab the bounding box\n",
    "        mesh_bbox = pymevis.glCanvas.layers[-1]._bbox\n",
    "        \n",
    "        # assign values to permanent lists\n",
    "        pipeline.selectDataSource('skeleton0')\n",
    "        skelly = pipeline.selectedDataSource\n",
    "        orig_skeleton = skelly._vertices['position'][skelly._vertices['halfedge']!=-1]\n",
    "       \n",
    "        from scipy.spatial import cKDTree\n",
    "        tree_orig = cKDTree(orig_skeleton)\n",
    "\n",
    "        # Move each vertex to the average position of all of its neighbors within a 'ball_r' radius\n",
    "        # Also trim out vertices that have a # of nearest neighbors > than max_nn (these are the q-tip looking spots)\n",
    "        # This doesn't make the problem areas better, it just cuts them out entirely\n",
    "        from collections import OrderedDict\n",
    "        skeleton = orig_skeleton\n",
    "        print(skeleton)\n",
    "        print('search here')\n",
    "        bad_inds = []\n",
    "        a_ind = tree_orig.query_ball_point(skeleton, ball_r)\n",
    "        for trim in range(len(a_ind)):\n",
    "            skeleton[trim] = np.mean(skeleton[a_ind[trim]],axis=0)\n",
    "            if len(a_ind[trim]) > max_nn:\n",
    "                bad_inds.append(a_ind[trim])\n",
    "        flat_bad_inds = [element for sublist in bad_inds for element in sublist]\n",
    "        flat_unique = list(OrderedDict.fromkeys(flat_bad_inds))\n",
    "        skeleton = np.delete(skeleton, flat_unique, axis=0)\n",
    "        # Make KDTree based on the mean skeleton\n",
    "        mean_tree_skeleton = cKDTree(skeleton)\n",
    "\n",
    "        # Find the closest neighbor that is at least 'min_dist' away from point being queried.\n",
    "        nneigh_ind = np.zeros([len(skeleton),1])\n",
    "        nneigh_dist = np.zeros([len(skeleton),1])\n",
    "        for aa in range(len(skeleton)):\n",
    "            dist, ind = mean_tree_skeleton.query(skeleton[aa], k=len(skeleton), distance_upper_bound=min_dist*2)\n",
    "            for ab in range(len(dist)):\n",
    "                if dist[ab] > min_dist:\n",
    "                    nneigh_ind[aa] = ind[ab]\n",
    "                    nneigh_dist[aa] = dist[ab]\n",
    "                    break\n",
    "\n",
    "        # Calculate vectors pointing from each point to its nearest neighbor that is at least 'min_dist' away.\n",
    "        skel_vecs = np.zeros([len(skeleton),3])\n",
    "        for ac in range(len(skeleton)):\n",
    "            if nneigh_ind[ac] >= len(skeleton):\n",
    "                continue\n",
    "            else:\n",
    "                vec = skeleton[ac] - skeleton[int(nneigh_ind[ac][0])]\n",
    "                skel_vecs[int(ac)] = vec\n",
    "\n",
    "        # Normalize\n",
    "        skel_dist_mag = np.c_[nneigh_dist.ravel(),nneigh_dist.ravel(),nneigh_dist.ravel()]\n",
    "        vecs_hat = skel_vecs/skel_dist_mag\n",
    "        vecs_hat_all.append(vecs_hat)\n",
    "\n",
    "        # Add those vectors to the skeleton in the GUI\n",
    "        add_ds_from_Nx3(skeleton, pipeline, pymevis, ds_name=f'nn-mean-skel-{min_dist}nm', normals=vecs_hat)\n",
    "        \n",
    "        # store points/vectors\n",
    "        skeleton_all.append(skeleton)\n",
    "\n",
    "        print('starting filters')\n",
    "        # Import ExtractTableChannel Recipe\n",
    "        from PYME.recipes.localisations import ExtractTableChannel\n",
    "        recipe = pipeline.recipe\n",
    "        # Extract  points as 'points' DataSource\n",
    "        recipe.add_modules_and_execute([ExtractTableChannel(recipe, inputName = 'filtered_localizations', \n",
    "                                                            outputName = 'points', channel = param_list['chan'])])\n",
    "        \n",
    "        # Select DataSource\n",
    "        pipeline.selectDataSource('points')\n",
    "        \n",
    "        # Calculate distance from points to surface\n",
    "        from PYME.recipes.surface_fitting import DistanceToMesh\n",
    "        recipe = pipeline.recipe\n",
    "        recipe.add_modules_and_execute([DistanceToMesh(recipe, input_mesh = 'surf0', input_points = 'points', \n",
    "                                                       output = 'points_filt')])\n",
    "        # Select datasource that now has the distance_to_surf0 values associated with it\n",
    "        pipeline.selectDataSource('points_filt')\n",
    "\n",
    "        # Dictionary with info about what filter to use and what values\n",
    "        filt_dict = {'distance_to_surf0': [param_list['low_filt'],param_list['high_filt']]}\n",
    "\n",
    "        # Use PYME FilterTable to filter by distance to mesh (SDF) using low_filt and high_filt variables\n",
    "        from PYME.recipes.tablefilters import FilterTable\n",
    "        recipe.add_modules_and_execute([FilterTable(recipe, inputName = 'points_filt', filters = filt_dict, \n",
    "                                                    outputName = 'sdf_filtered_points')])\n",
    "\n",
    "        # Select the points that passed the SDF filter above\n",
    "        pipeline.selectDataSource('sdf_filtered_points')\n",
    "\n",
    "        # Extract x,y,z coordinates for simulated points\n",
    "        x = pipeline['x']\n",
    "        y = pipeline['y']\n",
    "        z = pipeline['z']\n",
    "\n",
    "        # Merge x,y,z coordinates into one variable 'points'\n",
    "        points = np.c_[x.ravel(),y.ravel(),z.ravel()]\n",
    "        print(points)\n",
    "        # skel_dist = distance from each point to closest skeleton point; skel_ind = index of the closest point in 'skeleton'\n",
    "        print('starting skeleton query')\n",
    "        query_time = time.time()\n",
    "        skel_dist, skel_ind = mean_tree_skeleton.query(points, k=1)\n",
    "        print('search here')\n",
    "        print(skel_ind)\n",
    "        # Create boolean Filter to filter out points that are too far from the skeleton\n",
    "        bool_dist = skel_dist <= param_list['distance_filter']\n",
    "        print(skel_dist)\n",
    "        print(\"skeleton query \", d,\" took\", time.time() - query_time, \"to run\")\n",
    "        # Filter out points that are too far from the skeleton\n",
    "        points = points[bool_dist]\n",
    "        skel_dist = skel_dist[bool_dist]\n",
    "        skel_ind = skel_ind[bool_dist]\n",
    "\n",
    "\n",
    "####### This part starts the calculations of angles\n",
    "        print('starting angle calculations')\n",
    "        angle_time = time.time()\n",
    "        # vector from 1st nearest neighbor to point\n",
    "\n",
    "        # Calculate vector pointing from points to skeleton\n",
    "        vp = points-skeleton[skel_ind]\n",
    "\n",
    "        # Calculate vector rejections\n",
    "        vecs_hat_ind = vecs_hat[skel_ind] #only relevant skeleton vectors\n",
    "\n",
    "        v = []\n",
    "        v_hat = []\n",
    "        for vrej in range(len(vp)):\n",
    "            v_temp = vp[vrej]-vecs_hat_ind[vrej]*(np.dot(vp[vrej],vecs_hat_ind[vrej])/np.linalg.norm(vecs_hat_ind[vrej]))\n",
    "            v.append(v_temp)\n",
    "            v_hat_temp = v_temp/np.linalg.norm(v_temp)\n",
    "            v_hat.append(v_hat_temp)\n",
    "        v = np.asarray(v)\n",
    "        v_hat = np.asarray(v_hat)\n",
    "\n",
    "        # make skel_dist an [n, 3] array to match v\n",
    "        skel_dist_mag = np.c_[skel_dist.ravel(),skel_dist.ravel(),skel_dist.ravel()]\n",
    "\n",
    "        # normalized/unit vector pointing from skeleton to point (divide each part of the vector by magnitidue of vector)\n",
    "        # v_hat = v/skel_dist_mag\n",
    "\n",
    "        \n",
    "        # Adding new filter to exclude points at angles not close to\n",
    "        # Perpendicular to the skeleton axis (vecs_hat)\n",
    "        ps_angle = []\n",
    "        for pa in range(len(v_hat)):\n",
    "            angle = np.arccos(np.dot(v_hat[pa],vecs_hat_ind[pa])/(magnitude(v_hat[pa])*magnitude(vecs_hat_ind[pa])))\n",
    "            ps_angle.append(angle)\n",
    "        ps_angle = np.asarray(ps_angle)\n",
    "        from numpy import pi\n",
    "        ps_deg = ps_angle * (180/pi)\n",
    "        # ps_low = ps_deg > param_list['low_perp'] # filter out angles below 85 degrees\n",
    "        # ps_high = ps_deg < param_list['high_perp'] # filter out angles above 95 degrees\n",
    "        # ps_filt = ps_low * ps_high # combine filters\n",
    "        # # Apply filters to everything\n",
    "        # ps_deg = ps_deg[ps_filt]\n",
    "        # points = points[ps_filt]\n",
    "        # skel_dist = skel_dist[ps_filt]\n",
    "        # skel_ind = skel_ind[ps_filt]\n",
    "        # v_hat = v_hat[ps_filt]\n",
    "        # vecs_hat_ind = vecs_hat_ind[ps_filt]\n",
    "        \n",
    "####### UNDER CONSTRUCTION: Normalize point vectors by the size of surface nearby\n",
    "        # Create KDTree from shrink-wrapped surface\n",
    "        surf_tree = cKDTree(sw_surf)\n",
    "        used_skel = skeleton[skel_ind]\n",
    "        # Find nearest neighbors of surface vertices to used skeleton points\n",
    "        sw_dist, sw_ind = surf_tree.query(used_skel, k=1)\n",
    "        # Calculate vector pointing from surface vertices to closest point on skeleton\n",
    "        sw_vec = sw_surf[sw_ind]-used_skel\n",
    "        # Determine relevant skeleton vectors\n",
    "        #sw_skel_vecs = vecs_hat[sw_ind]\n",
    "        # Calculate vector rejections\n",
    "        v_sw = []\n",
    "        v_sw_hat = []\n",
    "        for vrej2 in range(len(sw_vec)):\n",
    "            v_sw_temp = sw_vec[vrej2]-vecs_hat_ind[vrej2]*(np.dot(sw_vec[vrej2],vecs_hat_ind[vrej2])/np.linalg.norm(vecs_hat_ind[vrej2]))\n",
    "            v_sw.append(v_sw_temp)\n",
    "            v_sw_hat_temp = v_sw_temp/np.linalg.norm(v_sw_temp)\n",
    "            v_sw_hat.append(v_sw_hat_temp)\n",
    "        v_sw = np.asarray(v_sw)\n",
    "        v_sw_hat = np.asarray(v_sw_hat)\n",
    "        \n",
    "        # Normalize distance to localizations by the distance from the skeleton to closest surface vertex\n",
    "        #print(v)\n",
    "        v_mag = np.linalg.norm(v,axis=1)\n",
    "        mag_dist_filt = v_mag < param_list['distance_filter']\n",
    "        v_mag = v_mag[mag_dist_filt]\n",
    "        surf_mag = np.linalg.norm(v_sw,axis=1)\n",
    "        surf_mag = surf_mag[mag_dist_filt]\n",
    "        v_norm = v_mag/surf_mag\n",
    "        v_norm_all.append(v_norm)\n",
    "        # Apply filters to everything\n",
    "        ps_deg = ps_deg[mag_dist_filt]\n",
    "        points = points[mag_dist_filt]\n",
    "        skel_dist = skel_dist[mag_dist_filt]\n",
    "        skel_ind = skel_ind[mag_dist_filt]\n",
    "        v_hat = v_hat[mag_dist_filt]\n",
    "        vecs_hat_ind = vecs_hat_ind[mag_dist_filt]\n",
    "    \n",
    "        # Append distances and inds to permanent array\n",
    "        ps_deg_all.append(ps_deg)\n",
    "        points_all.append(points)\n",
    "        skel_dist_all.append(skel_dist)\n",
    "        skel_ind_all.append(skel_ind)\n",
    "        v_hat_all.append(v_hat)\n",
    "        vecs_hat_ind_all.append(vecs_hat_ind)\n",
    "    \n",
    "    \n",
    "        # now let's construct the frame of reference\n",
    "\n",
    "        # Z-direction unit vector\n",
    "        zdir = np.array([0,0,1])\n",
    "\n",
    "        # pick dir along skeleton axis as first vector in frame\n",
    "        frame0 = vecs_hat[skel_ind] #frame0 = e0_hat[skel_ind]\n",
    "\n",
    "        # component of z not in the direction of e0 or portion of Z-dir that is orthogonal to frame0\n",
    "        frame1 = zdir[None,:] - frame0*(frame0*zdir[None,:]).sum(1)[:,None]\n",
    "\n",
    "        # orthogonal to other two vectors in the frame\n",
    "        frame2 = np.cross(frame0,frame1,axis=1)\n",
    "\n",
    "        # make them unit vectors (vector divided its magnitude)\n",
    "        frame1 = frame1/np.linalg.norm(frame1,axis=1)[:,None]\n",
    "        frame2 = frame2/np.linalg.norm(frame2,axis=1)[:,None]\n",
    "\n",
    "        # Determine angles between relative z-direction of tubule and vector between point and skeleton\n",
    "        #angles.append(np.arccos((v_hat*frame1).sum(1)))  # this works because frame1 is also normalized (unit length=1)\n",
    "        angle_list = []\n",
    "        angleb_list = []\n",
    "        for pb in range(len(v_hat)):\n",
    "            angle = np.arccos(np.dot(v_hat[pb],frame1[pb])/(magnitude(v_hat[pb])*magnitude(frame1[pb])))\n",
    "            angle_list.append(angle)\n",
    "            angleb = np.arccos(np.dot(v_hat[pb],zdir)/(magnitude(v_hat[pb])*magnitude(zdir)))\n",
    "            angleb_list.append(angleb)\n",
    "        angles_all.append(angle_list)\n",
    "        angles_z_all.append(angleb_list)\n",
    "        #angles.append(np.arccos(np.dot(v_hat,frame1)/(magnitude(v_hat)*magnitude(frame1))))\n",
    "        # Determine angles between true z-direction and vector between point and skeleton\n",
    "        #angles_z.append(np.arccos((v_hat*zdir).sum(1)))\n",
    "        #angles_z.append(np.arccos(np.dot(v_hat,zdir)/(magnitude(v_hat)*magnitude(zdir))))\n",
    "        \n",
    "#####   Simulation zone\n",
    "        \n",
    "        rng = np.random.default_rng(12345)\n",
    "        # equations for making the vectors\n",
    "        r = 1 # radius of points sampled in the circle on the plane\n",
    "\n",
    "        f_all = []\n",
    "        for bd in range(len(skeleton)):\n",
    "            p1 = skeleton[bd]\n",
    "            n = vecs_hat[bd] # vector normal to the plane\n",
    "            nabs = np.absolute(n)\n",
    "            indices = (-n).argsort()[:3]\n",
    "            v = np.zeros(3)\n",
    "            v[indices[1]] = -n[indices[0]]\n",
    "            v[indices[0]] = n[indices[1]]\n",
    "            v[indices[2]] = 0\n",
    "            u = np.cross(n,v)\n",
    "            #normalize vectors\n",
    "            v_norm = v/np.linalg.norm(v)\n",
    "            u_norm = u/np.linalg.norm(u)\n",
    "            f = []\n",
    "            for be in range(sim_p):\n",
    "                rho = rng.random()*(2*np.pi)\n",
    "                circ_p = p1 + r * v_norm * np.cos(rho) + r * u_norm * np.sin(rho)\n",
    "                circ_vec = p1-circ_p\n",
    "                f.append(skeleton[bd] + np.random.randint(0,100)*(circ_vec/np.linalg.norm(circ_vec)))\n",
    "            f = np.asarray(f)\n",
    "            f_all.append(f)\n",
    "        f_all = np.asarray(f_all)\n",
    "        f_flat = [element for sublist in f_all for element in sublist]\n",
    "        f_flat = np.asarray(f_flat)\n",
    "        sim_points_all.append(f_flat)\n",
    "        \n",
    "\n",
    "        # for some reason, f_flat sometimes has NaN values which result in a sim_ind = len(skeleton)\n",
    "        # these next lines filter these out\n",
    "        sim_dist, sim_ind = mean_tree_skeleton.query(f_flat, k=1)\n",
    "        \n",
    "        bad_sim = sim_ind == len(skeleton)\n",
    "        f_flat = np.delete(f_flat, bad_sim, axis=0)\n",
    "        sim_ind = np.delete(sim_ind, bad_sim, axis=0)\n",
    "        sim_dist = np.delete(sim_dist, bad_sim, axis=0)\n",
    "        print(f_flat)\n",
    "        add_ds_from_Nx3(f_flat, pipeline, pymevis, ds_name='simulated-points', normals=None)\n",
    "        \n",
    "        # Calculate angles to simulated points\n",
    "        sim_v = f_flat - skeleton[sim_ind]           #Vector pointing from each simulated point to nearest skeleton point\n",
    "        # make skel_dist an [n, 3] array to match sim_v\n",
    "        sim_dist_mag = np.c_[sim_dist.ravel(),sim_dist.ravel(),sim_dist.ravel()]\n",
    "        # normalized/unit vector pointing from skeleton to point (divide each part of the vector by magnitidue of vector)\n",
    "        simv_hat = sim_v/sim_dist_mag\n",
    "        simv_hat_all.append(simv_hat)\n",
    "        # pick dir along skeleton axis as first vector in frame\n",
    "        sim_frame0 = vecs_hat[sim_ind]\n",
    "        # component of z not in the direction of e0 or portion of Z-dir that is orthogonal to frame0\n",
    "        sim_frame1 = zdir[None,:] - sim_frame0*(sim_frame0*zdir[None,:]).sum(1)[:,None]\n",
    "        # orthogonal to other two vectors in the frame\n",
    "        sim_frame2 = np.cross(sim_frame0,sim_frame1,axis=1)\n",
    "        # make them unit vectors (vector divided its magnitude)\n",
    "        sim_frame1 = sim_frame1/np.linalg.norm(sim_frame1,axis=1)[:,None]\n",
    "        sim_frame2 = sim_frame2/np.linalg.norm(sim_frame2,axis=1)[:,None]\n",
    "        # Determine angles between relative z-direction of tubule and vector between point and skeleton\n",
    "        # sim_angles.append(np.arccos((simv_hat*sim_frame1).sum(1)))  # this works because frame1 is also normalized (unit length=1)\n",
    "        sangle_list = []\n",
    "        sangleb_list = []\n",
    "        for pc in range(len(simv_hat)):\n",
    "            sangle = np.arccos(np.dot(simv_hat[pc],sim_frame1[pc])/(magnitude(simv_hat[pc])*magnitude(sim_frame1[pc])))\n",
    "            sangle_list.append(sangle)\n",
    "            sangleb = np.arccos(np.dot(simv_hat[pc],zdir)/(magnitude(simv_hat[pc])*magnitude(zdir)))\n",
    "            sangleb_list.append(sangleb)\n",
    "        sim_angles_all.append(sangle_list)\n",
    "        sim_angles_z_all.append(sangleb_list)\n",
    "        # sim_angles.append(np.arccos(np.dot(simv_hat,sim_frame1)/(magnitude(simv_hat)*magnitude(sim_frame1))))\n",
    "                        \n",
    "        # Determine angles between true z-direction and vector between point and skeleton\n",
    "        # sim_angles_z.append(np.arccos((simv_hat*zdir).sum(1)))\n",
    "        # sim_angles_z.append(np.arccos(np.dot(simv_hat,zdir)/(magnitude(simv_hat)*magnitude(zdir))))\n",
    "        sim_dist_all.append(sim_dist)\n",
    "        sim_ind_all.append(sim_ind)\n",
    "        vecs_hat_sim = vecs_hat[sim_ind]\n",
    "        vecs_hat_sim_all.append(vecs_hat_sim)\n",
    "        sim_v_all.append(sim_v)\n",
    "#####   End of simulation zone\n",
    "\n",
    "\n",
    "        print(\"angle calculations \", d,\" took\", time.time() - angle_time, \"to run\")\n",
    "        # Edit layers in Visgui to prepare for screenshot\n",
    "\n",
    "        pymevis.glCanvas.layers[0].visible=True\n",
    "        pymevis.glCanvas.layers[1].visible=False\n",
    "        pymevis.glCanvas.layers[2].visible=True\n",
    "        pymevis.glCanvas.layers[2].point_size = 5       # Change filtered data point size to 15 nm\n",
    "        #pymevis.glCanvas.layers[-2].visible=False\n",
    "        pymevis.glCanvas.layers[-1].visible=False\n",
    "\n",
    "        \n",
    "        #    pipeline.selectDataSource('skeleton')            # Select skeleton\n",
    "        #    pymevis.glCanvas.layers[4].cmap = 'R'            # Change skeleton color to red\n",
    "        #    pipeline.selectDataSource('sdf_filtered_Rtn4')   # Select filtered Rtn4 data\n",
    "        #    pymevis.glCanvas.layers[2].cmap = 'G'            # Change filtered Rtn4 data to green\n",
    "\n",
    "        import PIL\n",
    "        import wx\n",
    "        from OpenGL.GL import GL_LUMINANCE, GL_RGB\n",
    "        new_savedir = save_screenshots + '\\\\' + param_list['save'] + 'screenshot_ROI'+str(int(param_list['roi_start']+d))+'.png'         # Create path + file name variable\n",
    "        pymevis.OnResetRotation()\n",
    "        pymevis.SetFit()\n",
    "        pymevis.glCanvas.view.translation[1] += -100\n",
    "        pymevis.glCanvas.scaleBarLength = 100\n",
    "        pymevis.glCanvas.view.scale *= 0.8\n",
    "        # pymevis.glCanvas.layers[6].visible=True\n",
    "        # pymevis.glCanvas.layers[6].point_size=15\n",
    "        # pymevis.glCanvas.layers[6].method='spheres'\n",
    "        pymevis.glCanvas.Refresh()\n",
    "        save_snapshot(pymevis.glCanvas, new_savedir)     # Take screenshot of current Canvas and save at the path + file name provided by sim_savedir\n",
    "\n",
    "        print(\"Loop #\", d,\"took\", time.time() - start_time, \"to run\")\n",
    "    angles_all = np.asarray(angles_all)\n",
    "    angles_z_all = np.asarray(angles_z_all)\n",
    "    sim_angles_all = np.asarray(sim_angles_all)\n",
    "    sim_angles_z_all = np.asarray(sim_angles_z_all)\n",
    "\n",
    "\n",
    "    output = {'angles': angles_all, 'angles_z': angles_z_all, 'sim_angles': sim_angles_all, 'sim_angles_z': sim_angles_z_all,\n",
    "              'skel_dists': skel_dist_all, 'skel_inds': skel_ind_all, 'sim_dists': sim_dist_all,\n",
    "              'sim_inds': sim_ind_all, 'points': points_all, 'skeleton': skeleton_all, \n",
    "              'sim_points': sim_points_all, 'v_hat': v_hat_all, 'sim_v': sim_v_all, \n",
    "              'tube_axis': vecs_hat_all, 'ps_angle': ps_deg_all, 'vecs_hat_ind': vecs_hat_ind_all,\n",
    "             'vecs_hat_sim': vecs_hat_sim_all, 'Norm_dists': v_norm_all}\n",
    "    \n",
    "    save_output_path = new_path + '\\\\point_angles_output_dicts'\n",
    "    p2 = Path(save_output_path)\n",
    "    if not p2.exists():\n",
    "        os.mkdir(save_output_path)\n",
    "    save_output_file = save_output_path + '\\\\' + param_list['save'] + '_point_angles_output_dicts_ROI' + file_list[0][-5:-4] + '-' + str(int(file_list[0][-5:-4])+len(file_list)-1) + '.npy' #'_point_angles_output.npy' \n",
    "    np.save(save_output_file, output, allow_pickle=True)\n",
    "    \n",
    "    return output #angles, skel_dist_all"
   ]
  },
  {
   "cell_type": "code",
   "execution_count": 6,
   "id": "98e4b558-66e4-48be-ad79-b560ad82c785",
   "metadata": {
    "tags": []
   },
   "outputs": [
    {
     "name": "stdout",
     "output_type": "stream",
     "text": [
      "start\n",
      "Creating Pipeline\n"
     ]
    },
    {
     "name": "stderr",
     "output_type": "stream",
     "text": [
      "DEBUG:PYME.recipes.recipe:Executing <PYME.recipes.localisations.Pipelineify object at 0x0000015305CC8CA8>\n",
      "DEBUG:PYME.recipes.localisations:no events found\n",
      "DEBUG:PYME.recipes.recipe:Executing <PYME.recipes.localisations.ProcessColour object at 0x0000015377268E28>\n",
      "DEBUG:PYME.recipes.recipe:Executing <PYME.recipes.tablefilters.FilterTable object at 0x00000153020D2468>\n",
      "DEBUG:PYME.recipes.recipe:Module timings: {'localisations.AddPipelineDerivedVars': 0.0, 'localisations.ProcessColour': 0.017951488494873047, 'tablefilters.FilterTable': 0.02994847297668457}\n"
     ]
    },
    {
     "name": "stdout",
     "output_type": "stream",
     "text": [
      "recipe.execute()\n",
      "Pipeline Created\n"
     ]
    },
    {
     "name": "stderr",
     "output_type": "stream",
     "text": [
      "DEBUG:PYME.LMVis.VisGUI:Creating tabs\n",
      "DEBUG:PYME.LMVis.VisGUI:Finished creating tabs\n"
     ]
    },
    {
     "name": "stdout",
     "output_type": "stream",
     "text": [
      "0\n",
      "Gui stuff done\n",
      "loading mesh\n",
      "Data munged to vertices, faces\n",
      "initializing halfedges ...\n",
      "vertices.shape = (114004, 3), faces.shape = (229518, 3)\n",
      "iterating edges\n",
      "done initializing halfedges\n",
      "mesh_layer update\n",
      "mesh_layer update\n"
     ]
    },
    {
     "name": "stderr",
     "output_type": "stream",
     "text": [
      "c:\\users\\laf62\\code\\python-microscopy\\PYME\\IO\\tabular.py:996: VisibleDeprecationWarning: Mapping filter created with something that is not a tabular object. This will be unsupported in a future release. Consider DictSource or ColumnSource instead\n",
      "  warnings.warn(VisibleDeprecationWarning('Mapping filter created with something that is not a tabular object. This will be unsupported in a future release. Consider DictSource or ColumnSource instead'))\n"
     ]
    },
    {
     "name": "stdout",
     "output_type": "stream",
     "text": [
      "Data munged to vertices, faces\n",
      "initializing halfedges ...\n",
      "vertices.shape = (713298, 3), faces.shape = (1428130, 3)\n",
      "iterating edges\n",
      "done initializing halfedges\n",
      "mesh_layer update\n",
      "mesh_layer update\n",
      "mesh_layer update\n",
      "[[ 5.9076357e+03  1.9882826e+04 -7.2017235e+01]\n",
      " [ 5.9090220e+03  1.9885541e+04 -7.2171913e+01]\n",
      " [ 5.9092920e+03  1.9885184e+04 -6.9854408e+01]\n",
      " ...\n",
      " [ 2.0417131e+04  1.5840479e+04 -4.2562628e+00]\n",
      " [ 2.0418477e+04  1.5843159e+04 -1.3767977e+00]\n",
      " [ 2.0419033e+04  1.5844602e+04 -5.6340871e+00]]\n",
      "search here\n"
     ]
    },
    {
     "name": "stderr",
     "output_type": "stream",
     "text": [
      "c:\\users\\laf62\\code\\python-microscopy\\PYME\\IO\\tabular.py:48: VisibleDeprecationWarning: mappingFilter is deprecated, use MappingFilter instead\n",
      "  warnings.warn(VisibleDeprecationWarning('%s is deprecated, use %s instead' % (name, cls.__name__)))\n"
     ]
    },
    {
     "name": "stdout",
     "output_type": "stream",
     "text": [
      "mesh_layer update\n",
      "mesh_layer update\n"
     ]
    },
    {
     "name": "stderr",
     "output_type": "stream",
     "text": [
      "DEBUG:PYME.LMVis.visCore:Added layer, datasouce=nn-mean-skel-10nm\n",
      "DEBUG:PYME.recipes.recipe:Executing <PYME.recipes.localisations.ExtractTableChannel object at 0x000001563D889408>\n"
     ]
    },
    {
     "name": "stdout",
     "output_type": "stream",
     "text": [
      "pointcloud.update_from_datasource() - dsname=nn-mean-skel-10nm\n",
      "starting filters\n",
      "recipe.execute()\n",
      "mesh_layer update\n",
      "mesh_layer update\n"
     ]
    },
    {
     "name": "stderr",
     "output_type": "stream",
     "text": [
      "DEBUG:PYME.recipes.recipe:Module timings: {'localisations.AddPipelineDerivedVars': 0.0, 'localisations.ProcessColour': 0.017951488494873047, 'tablefilters.FilterTable': 0.02994847297668457, 'localisations.ExtractTableChannel': 0.0}\n"
     ]
    },
    {
     "name": "stdout",
     "output_type": "stream",
     "text": [
      "pointcloud.update_from_datasource() - dsname=nn-mean-skel-10nm\n",
      "mesh_layer update\n",
      "mesh_layer update\n"
     ]
    },
    {
     "name": "stderr",
     "output_type": "stream",
     "text": [
      "DEBUG:PYME.recipes.recipe:Executing <PYME.recipes.surface_fitting.DistanceToMesh object at 0x000001563D889768>\n"
     ]
    },
    {
     "name": "stdout",
     "output_type": "stream",
     "text": [
      "pointcloud.update_from_datasource() - dsname=nn-mean-skel-10nm\n",
      "recipe.execute()\n"
     ]
    },
    {
     "name": "stderr",
     "output_type": "stream",
     "text": [
      "c:\\users\\laf62\\code\\python-microscopy\\PYME\\experimental\\isosurface.py:76: RuntimeWarning: invalid value encountered in true_divide\n",
      "  c0 = ba*np.clip((ba*pa).sum(2)/(ba*ba).sum(2),0.0,1.0)[:,:,None]-pa\n",
      "c:\\users\\laf62\\code\\python-microscopy\\PYME\\experimental\\isosurface.py:77: RuntimeWarning: invalid value encountered in true_divide\n",
      "  c1 = cb*np.clip((cb*pb).sum(2)/(cb*cb).sum(2),0.0,1.0)[:,:,None]-pb\n",
      "c:\\users\\laf62\\code\\python-microscopy\\PYME\\experimental\\isosurface.py:78: RuntimeWarning: invalid value encountered in true_divide\n",
      "  c2 = ac*np.clip((ac*pc).sum(2)/(ac*ac).sum(2),0.0,1.0)[:,:,None]-pc\n",
      "c:\\users\\laf62\\code\\python-microscopy\\PYME\\experimental\\isosurface.py:83: RuntimeWarning: invalid value encountered in true_divide\n",
      "  g = norpa*norpa/(nor*nor).sum(2)\n",
      "c:\\users\\laf62\\code\\python-microscopy\\PYME\\experimental\\isosurface.py:97: RuntimeWarning: overflow encountered in exp2\n",
      "  val = -np.log2(np.nansum(np.exp2(-k*sdf), axis=1))/k\n",
      "C:\\Users\\laf62\\.conda\\envs\\pyme\\lib\\site-packages\\numpy\\core\\fromnumeric.py:87: RuntimeWarning: overflow encountered in reduce\n",
      "  return ufunc.reduce(obj, axis, dtype, out, **passkwargs)\n",
      "c:\\users\\laf62\\code\\python-microscopy\\PYME\\experimental\\isosurface.py:97: RuntimeWarning: divide by zero encountered in log2\n",
      "  val = -np.log2(np.nansum(np.exp2(-k*sdf), axis=1))/k\n"
     ]
    },
    {
     "name": "stdout",
     "output_type": "stream",
     "text": [
      "mesh_layer update\n",
      "mesh_layer update\n"
     ]
    },
    {
     "name": "stderr",
     "output_type": "stream",
     "text": [
      "DEBUG:PYME.recipes.recipe:Module timings: {'localisations.AddPipelineDerivedVars': 0.0, 'localisations.ProcessColour': 0.017951488494873047, 'tablefilters.FilterTable': 0.02994847297668457, 'localisations.ExtractTableChannel': 0.0, 'surface_fitting.DistanceToMesh': 3.4252567291259766}\n"
     ]
    },
    {
     "name": "stdout",
     "output_type": "stream",
     "text": [
      "pointcloud.update_from_datasource() - dsname=nn-mean-skel-10nm\n",
      "mesh_layer update\n",
      "mesh_layer update\n"
     ]
    },
    {
     "name": "stderr",
     "output_type": "stream",
     "text": [
      "DEBUG:PYME.recipes.recipe:Executing <PYME.recipes.tablefilters.FilterTable object at 0x000001531A7AA5E8>\n"
     ]
    },
    {
     "name": "stdout",
     "output_type": "stream",
     "text": [
      "pointcloud.update_from_datasource() - dsname=nn-mean-skel-10nm\n",
      "recipe.execute()\n",
      "mesh_layer update\n",
      "mesh_layer update\n",
      "pointcloud.update_from_datasource() - dsname=nn-mean-skel-10nm\n"
     ]
    },
    {
     "name": "stderr",
     "output_type": "stream",
     "text": [
      "DEBUG:PYME.recipes.recipe:Module timings: {'localisations.AddPipelineDerivedVars': 0.0, 'localisations.ProcessColour': 0.017951488494873047, 'tablefilters.FilterTable': 0.07098054885864258, 'localisations.ExtractTableChannel': 0.0, 'surface_fitting.DistanceToMesh': 3.4252567291259766}\n"
     ]
    },
    {
     "name": "stdout",
     "output_type": "stream",
     "text": [
      "mesh_layer update\n",
      "mesh_layer update\n",
      "pointcloud.update_from_datasource() - dsname=nn-mean-skel-10nm\n",
      "[[ 6.2401870e+03  7.5496497e+02  3.1062439e+01]\n",
      " [ 6.7969951e+03  2.7338245e+03  2.9633030e+01]\n",
      " [ 1.2327637e+04  1.0027708e+04 -6.3012660e-01]\n",
      " ...\n",
      " [ 1.1916508e+04  3.7550330e+03  5.7456539e+01]\n",
      " [ 1.5385266e+04  4.9331157e+03  6.5365631e+01]\n",
      " [ 1.1913454e+04  3.7496980e+03  6.0326729e+01]]\n",
      "starting skeleton query\n",
      "search here\n",
      "[  3100  16631 143022 ... 133717 203448 133584]\n",
      "[100.71298278 161.44019607  19.80315913 ...  63.22923969  86.88467453\n",
      "  67.38884187]\n",
      "skeleton query  0  took 2.455770969390869 to run\n",
      "starting angle calculations\n"
     ]
    },
    {
     "name": "stderr",
     "output_type": "stream",
     "text": [
      "C:\\Users\\laf62\\.conda\\envs\\pyme\\lib\\site-packages\\ipykernel_launcher.py:241: RuntimeWarning: invalid value encountered in double_scalars\n",
      "C:\\Users\\laf62\\.conda\\envs\\pyme\\lib\\site-packages\\ipykernel_launcher.py:289: RuntimeWarning: invalid value encountered in double_scalars\n",
      "C:\\Users\\laf62\\.conda\\envs\\pyme\\lib\\site-packages\\ipykernel_launcher.py:374: RuntimeWarning: invalid value encountered in true_divide\n",
      "C:\\Users\\laf62\\.conda\\envs\\pyme\\lib\\site-packages\\ipykernel_launcher.py:375: RuntimeWarning: invalid value encountered in true_divide\n"
     ]
    },
    {
     "name": "stdout",
     "output_type": "stream",
     "text": [
      "[[ 5.93395076e+03  1.21121319e+04 -1.87347674e+00]\n",
      " [ 5.93040173e+03  1.20599188e+04  2.72131204e+01]\n",
      " [ 5.93832949e+03  1.20854330e+04 -3.36626039e+01]\n",
      " ...\n",
      " [ 2.03953630e+04  1.58157703e+04 -4.61229271e+00]\n",
      " [ 2.03430013e+04  1.58546146e+04  3.95711594e+00]\n",
      " [ 2.03930643e+04  1.58153714e+04 -9.87172475e+01]]\n",
      "mesh_layer update\n",
      "mesh_layer update\n"
     ]
    },
    {
     "name": "stderr",
     "output_type": "stream",
     "text": [
      "DEBUG:PYME.LMVis.visCore:Added layer, datasouce=simulated-points\n"
     ]
    },
    {
     "name": "stdout",
     "output_type": "stream",
     "text": [
      "pointcloud.update_from_datasource() - dsname=nn-mean-skel-10nm\n",
      "pointcloud.update_from_datasource() - dsname=simulated-points\n"
     ]
    },
    {
     "name": "stderr",
     "output_type": "stream",
     "text": [
      "C:\\Users\\laf62\\.conda\\envs\\pyme\\lib\\site-packages\\ipykernel_launcher.py:406: RuntimeWarning: invalid value encountered in true_divide\n",
      "C:\\Users\\laf62\\.conda\\envs\\pyme\\lib\\site-packages\\ipykernel_launcher.py:416: RuntimeWarning: invalid value encountered in true_divide\n",
      "DEBUG:PYME.LMVis.shader_programs.ShaderProgramFactory:New shader program created: <class 'PYME.LMVis.shader_programs.WireFrameShaderProgram.WireFrameShaderProgram'>\n",
      "DEBUG:PYME.LMVis.shader_programs.ShaderProgramFactory:New shader program created: <class 'PYME.LMVis.shader_programs.DefaultShaderProgram.OpaquePointShaderProgram'>\n"
     ]
    },
    {
     "name": "stdout",
     "output_type": "stream",
     "text": [
      "angle calculations  0  took 82.14921760559082 to run\n",
      "pointcloud.update_from_datasource() - dsname=nn-mean-skel-10nm\n",
      "Viewport:  (982, 1254)\n",
      "uint8 (982, 1254, 3) 255\n",
      "Loop # 0 took 1379.8593595027924 to run\n",
      "start\n",
      "Creating Pipeline\n"
     ]
    },
    {
     "name": "stderr",
     "output_type": "stream",
     "text": [
      "DEBUG:PYME.recipes.recipe:Executing <PYME.recipes.localisations.Pipelineify object at 0x0000015305C9BA08>\n",
      "DEBUG:PYME.recipes.localisations:no events found\n",
      "DEBUG:PYME.recipes.recipe:Executing <PYME.recipes.localisations.ProcessColour object at 0x0000015305C9B588>\n",
      "DEBUG:PYME.recipes.recipe:Executing <PYME.recipes.tablefilters.FilterTable object at 0x0000015382373828>\n",
      "DEBUG:PYME.recipes.recipe:Module timings: {'localisations.AddPipelineDerivedVars': 0.0009965896606445312, 'localisations.ProcessColour': 0.00798177719116211, 'tablefilters.FilterTable': 0.005984067916870117, 'localisations.ExtractTableChannel': 0.0, 'surface_fitting.DistanceToMesh': 3.4252567291259766}\n",
      "DEBUG:PYME.LMVis.VisGUI:Creating tabs\n",
      "DEBUG:PYME.LMVis.VisGUI:Finished creating tabs\n"
     ]
    },
    {
     "name": "stdout",
     "output_type": "stream",
     "text": [
      "recipe.execute()\n",
      "Pipeline Created\n",
      "0\n",
      "Gui stuff done\n",
      "loading mesh\n",
      "Data munged to vertices, faces\n",
      "initializing halfedges ...\n",
      "vertices.shape = (45944, 3), faces.shape = (92300, 3)\n",
      "iterating edges\n",
      "done initializing halfedges\n",
      "mesh_layer update\n",
      "mesh_layer update\n",
      "mesh_layer update\n",
      "Data munged to vertices, faces\n",
      "initializing halfedges ...\n",
      "vertices.shape = (256888, 3), faces.shape = (514236, 3)\n",
      "iterating edges\n",
      "done initializing halfedges\n",
      "mesh_layer update\n",
      "mesh_layer update\n",
      "mesh_layer update\n",
      "mesh_layer update\n",
      "mesh_layer update\n",
      "[[ 6206.579    11131.133      -23.425217]\n",
      " [ 6207.182    11133.169      -21.255493]\n",
      " [ 6207.9253   11130.648      -19.759552]\n",
      " ...\n",
      " [15911.483    11416.929     -244.90538 ]\n",
      " [15911.5205   11419.219     -242.45786 ]\n",
      " [15911.906    11415.803     -241.13217 ]]\n",
      "search here\n",
      "mesh_layer update\n",
      "mesh_layer update\n"
     ]
    },
    {
     "name": "stderr",
     "output_type": "stream",
     "text": [
      "DEBUG:PYME.LMVis.visCore:Added layer, datasouce=nn-mean-skel-10nm\n",
      "DEBUG:PYME.recipes.recipe:Executing <PYME.recipes.localisations.ExtractTableChannel object at 0x000001538235AEE8>\n"
     ]
    },
    {
     "name": "stdout",
     "output_type": "stream",
     "text": [
      "pointcloud.update_from_datasource() - dsname=nn-mean-skel-10nm\n",
      "starting filters\n",
      "recipe.execute()\n",
      "mesh_layer update\n",
      "mesh_layer update\n"
     ]
    },
    {
     "name": "stderr",
     "output_type": "stream",
     "text": [
      "DEBUG:PYME.recipes.recipe:Module timings: {'localisations.AddPipelineDerivedVars': 0.0009965896606445312, 'localisations.ProcessColour': 0.00798177719116211, 'tablefilters.FilterTable': 0.005984067916870117, 'localisations.ExtractTableChannel': 0.0, 'surface_fitting.DistanceToMesh': 3.4252567291259766}\n"
     ]
    },
    {
     "name": "stdout",
     "output_type": "stream",
     "text": [
      "pointcloud.update_from_datasource() - dsname=nn-mean-skel-10nm\n",
      "mesh_layer update\n",
      "mesh_layer update\n"
     ]
    },
    {
     "name": "stderr",
     "output_type": "stream",
     "text": [
      "DEBUG:PYME.recipes.recipe:Executing <PYME.recipes.surface_fitting.DistanceToMesh object at 0x000001563D89AFA8>\n"
     ]
    },
    {
     "name": "stdout",
     "output_type": "stream",
     "text": [
      "pointcloud.update_from_datasource() - dsname=nn-mean-skel-10nm\n",
      "recipe.execute()\n",
      "mesh_layer update\n",
      "mesh_layer update\n",
      "pointcloud.update_from_datasource() - dsname=nn-mean-skel-10nm\n"
     ]
    },
    {
     "name": "stderr",
     "output_type": "stream",
     "text": [
      "DEBUG:PYME.recipes.recipe:Module timings: {'localisations.AddPipelineDerivedVars': 0.0009965896606445312, 'localisations.ProcessColour': 0.00798177719116211, 'tablefilters.FilterTable': 0.005984067916870117, 'localisations.ExtractTableChannel': 0.0, 'surface_fitting.DistanceToMesh': 1.762784719467163}\n"
     ]
    },
    {
     "name": "stdout",
     "output_type": "stream",
     "text": [
      "mesh_layer update\n",
      "mesh_layer update\n"
     ]
    },
    {
     "name": "stderr",
     "output_type": "stream",
     "text": [
      "DEBUG:PYME.recipes.recipe:Executing <PYME.recipes.tablefilters.FilterTable object at 0x0000015382373288>\n"
     ]
    },
    {
     "name": "stdout",
     "output_type": "stream",
     "text": [
      "pointcloud.update_from_datasource() - dsname=nn-mean-skel-10nm\n",
      "recipe.execute()\n",
      "mesh_layer update\n",
      "mesh_layer update\n"
     ]
    },
    {
     "name": "stderr",
     "output_type": "stream",
     "text": [
      "DEBUG:PYME.recipes.recipe:Module timings: {'localisations.AddPipelineDerivedVars': 0.0009965896606445312, 'localisations.ProcessColour': 0.00798177719116211, 'tablefilters.FilterTable': 0.030565261840820312, 'localisations.ExtractTableChannel': 0.0, 'surface_fitting.DistanceToMesh': 1.762784719467163}\n"
     ]
    },
    {
     "name": "stdout",
     "output_type": "stream",
     "text": [
      "pointcloud.update_from_datasource() - dsname=nn-mean-skel-10nm\n",
      "mesh_layer update\n",
      "mesh_layer update\n",
      "pointcloud.update_from_datasource() - dsname=nn-mean-skel-10nm\n",
      "[[11676.026    5699.4736   -277.82648]\n",
      " [ 7791.8354   9951.539     -50.75785]\n",
      " [10501.01     9297.775     -84.91806]\n",
      " ...\n",
      " [14451.818    8925.098    -192.98349]\n",
      " [12156.457    9615.655    -153.11462]\n",
      " [14458.823    8958.252    -178.8284 ]]\n",
      "starting skeleton query\n",
      "search here\n",
      "[54583 11991 39715 ... 83524 62474 83619]\n",
      "[ 51.358084     7.7532247   23.26662818 ... 105.88091438  84.83008524\n",
      " 141.00917199]\n",
      "skeleton query  1  took 1.11021089553833 to run\n",
      "starting angle calculations\n",
      "[[ 6.27756280e+03  1.11542338e+04 -1.10049424e+01]\n",
      " [ 6.26567405e+03  1.11501894e+04 -4.60836540e+01]\n",
      " [ 6.14695743e+03  1.10675335e+04 -4.29850123e-01]\n",
      " ...\n",
      " [ 1.58740517e+04  1.25327114e+04 -1.44797558e+02]\n",
      " [ 1.58488514e+04  1.25424371e+04 -1.18674016e+02]\n",
      " [ 1.58797388e+04  1.25346710e+04 -2.11984541e+02]]\n",
      "mesh_layer update\n",
      "mesh_layer update\n"
     ]
    },
    {
     "name": "stderr",
     "output_type": "stream",
     "text": [
      "DEBUG:PYME.LMVis.visCore:Added layer, datasouce=simulated-points\n"
     ]
    },
    {
     "name": "stdout",
     "output_type": "stream",
     "text": [
      "pointcloud.update_from_datasource() - dsname=nn-mean-skel-10nm\n",
      "pointcloud.update_from_datasource() - dsname=simulated-points\n",
      "angle calculations  1  took 39.30601382255554 to run\n",
      "pointcloud.update_from_datasource() - dsname=nn-mean-skel-10nm\n",
      "Viewport:  (982, 1254)\n",
      "uint8 (982, 1254, 3) 255\n",
      "Loop # 1 took 206.5137882232666 to run\n",
      "start\n",
      "Creating Pipeline\n"
     ]
    },
    {
     "name": "stderr",
     "output_type": "stream",
     "text": [
      "DEBUG:PYME.recipes.recipe:Executing <PYME.recipes.localisations.Pipelineify object at 0x0000015382368588>\n",
      "DEBUG:PYME.recipes.localisations:no events found\n",
      "DEBUG:PYME.recipes.recipe:Executing <PYME.recipes.localisations.ProcessColour object at 0x0000015305C9B2E8>\n",
      "DEBUG:PYME.recipes.recipe:Executing <PYME.recipes.tablefilters.FilterTable object at 0x00000153040B1648>\n",
      "DEBUG:PYME.recipes.recipe:Module timings: {'localisations.AddPipelineDerivedVars': 0.0009975433349609375, 'localisations.ProcessColour': 0.018975496292114258, 'tablefilters.FilterTable': 0.012933731079101562, 'localisations.ExtractTableChannel': 0.0, 'surface_fitting.DistanceToMesh': 1.762784719467163}\n",
      "DEBUG:PYME.LMVis.VisGUI:Creating tabs\n"
     ]
    },
    {
     "name": "stdout",
     "output_type": "stream",
     "text": [
      "recipe.execute()\n",
      "Pipeline Created\n",
      "0\n"
     ]
    },
    {
     "name": "stderr",
     "output_type": "stream",
     "text": [
      "DEBUG:PYME.LMVis.VisGUI:Finished creating tabs\n"
     ]
    },
    {
     "name": "stdout",
     "output_type": "stream",
     "text": [
      "Gui stuff done\n",
      "loading mesh\n",
      "Data munged to vertices, faces\n",
      "initializing halfedges ...\n",
      "vertices.shape = (47416, 3), faces.shape = (96032, 3)\n",
      "iterating edges\n",
      "done initializing halfedges\n",
      "mesh_layer update\n",
      "mesh_layer update\n",
      "mesh_layer update\n",
      "Data munged to vertices, faces\n",
      "initializing halfedges ...\n",
      "vertices.shape = (430942, 3), faces.shape = (863304, 3)\n",
      "iterating edges\n",
      "done initializing halfedges\n",
      "mesh_layer update\n",
      "mesh_layer update\n",
      "mesh_layer update\n",
      "mesh_layer update\n",
      "mesh_layer update\n",
      "[[10098.231   10094.997    -268.94412]\n",
      " [10098.231   10094.999    -268.93857]\n",
      " [10098.233   10094.994    -268.93765]\n",
      " ...\n",
      " [20561.545    7239.539    -175.44862]\n",
      " [20562.047    7235.49     -175.29745]\n",
      " [20562.57     7238.1997   -178.98293]]\n",
      "search here\n",
      "mesh_layer update\n",
      "mesh_layer update\n"
     ]
    },
    {
     "name": "stderr",
     "output_type": "stream",
     "text": [
      "DEBUG:PYME.LMVis.visCore:Added layer, datasouce=nn-mean-skel-10nm\n",
      "DEBUG:PYME.recipes.recipe:Executing <PYME.recipes.localisations.ExtractTableChannel object at 0x000001563D89AF48>\n"
     ]
    },
    {
     "name": "stdout",
     "output_type": "stream",
     "text": [
      "pointcloud.update_from_datasource() - dsname=nn-mean-skel-10nm\n",
      "starting filters\n",
      "recipe.execute()\n",
      "mesh_layer update\n",
      "mesh_layer update\n"
     ]
    },
    {
     "name": "stderr",
     "output_type": "stream",
     "text": [
      "DEBUG:PYME.recipes.recipe:Module timings: {'localisations.AddPipelineDerivedVars': 0.0009975433349609375, 'localisations.ProcessColour': 0.018975496292114258, 'tablefilters.FilterTable': 0.012933731079101562, 'localisations.ExtractTableChannel': 0.0, 'surface_fitting.DistanceToMesh': 1.762784719467163}\n"
     ]
    },
    {
     "name": "stdout",
     "output_type": "stream",
     "text": [
      "pointcloud.update_from_datasource() - dsname=nn-mean-skel-10nm\n",
      "mesh_layer update\n",
      "mesh_layer update\n"
     ]
    },
    {
     "name": "stderr",
     "output_type": "stream",
     "text": [
      "DEBUG:PYME.recipes.recipe:Executing <PYME.recipes.surface_fitting.DistanceToMesh object at 0x0000015382373B28>\n"
     ]
    },
    {
     "name": "stdout",
     "output_type": "stream",
     "text": [
      "pointcloud.update_from_datasource() - dsname=nn-mean-skel-10nm\n",
      "recipe.execute()\n",
      "mesh_layer update\n",
      "mesh_layer update\n",
      "pointcloud.update_from_datasource() - dsname=nn-mean-skel-10nm\n"
     ]
    },
    {
     "name": "stderr",
     "output_type": "stream",
     "text": [
      "DEBUG:PYME.recipes.recipe:Module timings: {'localisations.AddPipelineDerivedVars': 0.0009975433349609375, 'localisations.ProcessColour': 0.018975496292114258, 'tablefilters.FilterTable': 0.012933731079101562, 'localisations.ExtractTableChannel': 0.0, 'surface_fitting.DistanceToMesh': 3.780163288116455}\n"
     ]
    },
    {
     "name": "stdout",
     "output_type": "stream",
     "text": [
      "mesh_layer update\n",
      "mesh_layer update\n"
     ]
    },
    {
     "name": "stderr",
     "output_type": "stream",
     "text": [
      "DEBUG:PYME.recipes.recipe:Executing <PYME.recipes.tablefilters.FilterTable object at 0x00000153229CA9A8>\n"
     ]
    },
    {
     "name": "stdout",
     "output_type": "stream",
     "text": [
      "pointcloud.update_from_datasource() - dsname=nn-mean-skel-10nm\n",
      "recipe.execute()\n",
      "mesh_layer update\n",
      "mesh_layer update\n"
     ]
    },
    {
     "name": "stderr",
     "output_type": "stream",
     "text": [
      "DEBUG:PYME.recipes.recipe:Module timings: {'localisations.AddPipelineDerivedVars': 0.0009975433349609375, 'localisations.ProcessColour': 0.018975496292114258, 'tablefilters.FilterTable': 0.05283236503601074, 'localisations.ExtractTableChannel': 0.0, 'surface_fitting.DistanceToMesh': 3.780163288116455}\n"
     ]
    },
    {
     "name": "stdout",
     "output_type": "stream",
     "text": [
      "pointcloud.update_from_datasource() - dsname=nn-mean-skel-10nm\n",
      "mesh_layer update\n",
      "mesh_layer update\n",
      "pointcloud.update_from_datasource() - dsname=nn-mean-skel-10nm\n",
      "[[10927.528    9945.874    -185.70287]\n",
      " [11604.974   13650.515    -261.0359 ]\n",
      " [12222.559    9428.673    -263.4084 ]\n",
      " ...\n",
      " [19490.355    5152.7544   -290.5044 ]\n",
      " [11707.271    7462.7393   -227.48262]\n",
      " [16431.594    5003.765    -166.73659]]\n",
      "starting skeleton query\n",
      "search here\n",
      "[ 14966  26978  37287 ... 157647  29421 112668]\n",
      "[ 64.80270214  37.46893304  86.08052315 ... 117.60676368 105.86726905\n",
      "  46.50351544]\n",
      "skeleton query  2  took 2.715517282485962 to run\n",
      "starting angle calculations\n",
      "[[10136.47551929 10111.82422953  -268.56398864]\n",
      " [10119.99789015 10087.35099194  -269.9840746 ]\n",
      " [10097.20051154 10060.86868301  -248.62344536]\n",
      " ...\n",
      " [20328.33377694  7082.440377    -272.04016812]\n",
      " [20332.42638649  7095.56092515  -272.5593358 ]\n",
      " [20332.92651091  7101.41031981  -331.918547  ]]\n",
      "mesh_layer update\n",
      "mesh_layer update\n"
     ]
    },
    {
     "name": "stderr",
     "output_type": "stream",
     "text": [
      "DEBUG:PYME.LMVis.visCore:Added layer, datasouce=simulated-points\n"
     ]
    },
    {
     "name": "stdout",
     "output_type": "stream",
     "text": [
      "pointcloud.update_from_datasource() - dsname=nn-mean-skel-10nm\n",
      "pointcloud.update_from_datasource() - dsname=simulated-points\n",
      "angle calculations  2  took 81.60994362831116 to run\n",
      "pointcloud.update_from_datasource() - dsname=nn-mean-skel-10nm\n",
      "Viewport:  (982, 1254)\n",
      "uint8 (982, 1254, 3) 255\n",
      "Loop # 2 took 532.3011083602905 to run\n"
     ]
    },
    {
     "name": "stderr",
     "output_type": "stream",
     "text": [
      "C:\\Users\\laf62\\.conda\\envs\\pyme\\lib\\site-packages\\numpy\\core\\_asarray.py:83: VisibleDeprecationWarning: Creating an ndarray from ragged nested sequences (which is a list-or-tuple of lists-or-tuples-or ndarrays with different lengths or shapes) is deprecated. If you meant to do this, you must specify 'dtype=object' when creating the ndarray\n",
      "  return array(a, dtype, copy=False, order=order)\n"
     ]
    },
    {
     "name": "stdout",
     "output_type": "stream",
     "text": [
      "Input datasources:  ['_Localizations', 'FitResults', 'surf0', 'skeleton0', 'nn-mean-skel-10nm', 'simulated-points']\n",
      "Creating layers GUI\n",
      "hl update\n",
      "hl update\n",
      "hl update\n",
      "hl update\n",
      "height:  97\n",
      "NB best size: wx.Size(3, 88)\n"
     ]
    }
   ],
   "source": [
    "############################## Rtn4 Analysis ##############################\n",
    "rtn_output = point_angles_V3(file_list=rtn_list, mesh_list=rtn_mesh_list, skel_list=rtn_skel_list, \n",
    "                             param_list=rtn_param, sim_p = sim_p) "
   ]
  },
  {
   "cell_type": "code",
   "execution_count": null,
   "id": "2b42bf4f-206a-472a-a698-44443aca81e7",
   "metadata": {},
   "outputs": [],
   "source": [
    "poop = [[3,2,1],[1,2,3]]\n",
    "np.shape(poop)"
   ]
  },
  {
   "cell_type": "code",
   "execution_count": null,
   "id": "0c44cd75-6dbd-49db-a677-e89becdbe7bf",
   "metadata": {},
   "outputs": [],
   "source": [
    "skel_vecs = rtn_output['vecs_hat_ind'][0]\n",
    "loc_vecs = rtn_output['v_hat'][0]\n",
    "sim_vecs = rtn_output['sim_v'][0]\n",
    "sim_skel_vecs = rtn_output['vecs_hat_sim'][0]\n",
    "hand = np.cross(skel_vecs,loc_vecs)\n",
    "sim_hand = np.cross(sim_skel_vecs, sim_vecs)\n",
    "zhand = hand[:,2]\n",
    "sim_zhand = sim_hand[:,2]\n",
    "hand_bool = np.ones(len(zhand))\n",
    "for neg in range(len(zhand)):\n",
    "    if zhand[neg] >= 0:\n",
    "        continue\n",
    "    elif zhand[neg] < 0:\n",
    "        hand_bool[neg] = hand_bool[neg] * -1\n",
    "\n",
    "sim_hand_bool = np.ones(len(sim_zhand))\n",
    "for neg_sim in range(len(sim_zhand)):\n",
    "    if sim_zhand[neg_sim] >= 0:\n",
    "        continue\n",
    "    elif sim_zhand[neg_sim] < 0:\n",
    "        sim_hand_bool[neg_sim] = sim_hand_bool[neg_sim] * -1\n",
    "\n",
    "### Creating an average cross-section\n",
    "import math\n",
    "import matplotlib.pyplot as plt\n",
    "\n",
    "\n",
    "\n",
    "theta = rtn_output['angles'][0]\n",
    "phi = rtn_output['sim_angles'][0]\n",
    "#theta = theta + (np.pi/2)\n",
    "theta = theta*hand_bool\n",
    "phi = phi*sim_hand_bool\n",
    "r = rtn_output['skel_dists'][0]\n",
    "r_sim = rtn_output['sim_dists'][0]\n",
    "#theta = theta * (180/np.pi)\n",
    "x = r*np.cos(theta)\n",
    "y = r*np.sin(theta)\n",
    "z = np.zeros(len(x))\n",
    "x_sim = r_sim*np.cos(phi)\n",
    "y_sim = r_sim*np.sin(phi)\n",
    "#add_ds_from_Nx3(avg_cs, pipeline, pymevis, ds_name='average-cross-section', normals=None)\n",
    "plt.scatter(-y,x,alpha=0.01,s=50)\n",
    "plt.scatter(-y_sim,x_sim,alpha=0.01,s=50)\n",
    "plt.ylim([-100,100])\n",
    "plt.xlim([-100,100])"
   ]
  },
  {
   "cell_type": "code",
   "execution_count": null,
   "id": "d5882b86-a1d9-4dc0-b99b-728379d478f3",
   "metadata": {},
   "outputs": [],
   "source": [
    "#min(rtn_output['angles'][0])\n",
    "#max(theta)\n",
    "theta"
   ]
  },
  {
   "cell_type": "code",
   "execution_count": null,
   "id": "fcd2cdde-9759-4606-a97f-e46e1d6a2c11",
   "metadata": {},
   "outputs": [],
   "source": [
    "theta[1]"
   ]
  },
  {
   "cell_type": "code",
   "execution_count": null,
   "id": "bf46b153-b88d-4844-ac24-3ba0a993f4bb",
   "metadata": {},
   "outputs": [],
   "source": [
    "from numpy import pi\n",
    "ps = rtn_output['ps_angle']\n",
    "ps_deg = ps * (180/pi)\n",
    "ps_low = ps_deg > 85 # filter out angles below 85 degrees\n",
    "ps_high = ps_deg < 95 # filter out angles above 95 degrees\n",
    "ps_filt = ps_low * ps_high # combine filters\n",
    "ps_deg = ps_deg[ps_filt] # apply filter\n",
    "plt.hist(ps)"
   ]
  },
  {
   "cell_type": "code",
   "execution_count": null,
   "id": "df737d12-c1be-4ebd-846d-e3ef8563924a",
   "metadata": {
    "tags": []
   },
   "outputs": [],
   "source": [
    "##### Testing new way of simulating points around a tubule using the skeleton on real data\n",
    "pipeline.selectDataSource('skeleton0')\n",
    "d_skelly = pipeline.selectedDataSource\n",
    "orig_skeleton = d_skelly._vertices['position'][d_skelly._vertices['halfedge']!=-1]"
   ]
  },
  {
   "cell_type": "code",
   "execution_count": null,
   "id": "0e57b6e5-25d1-46bd-add3-14111b09be83",
   "metadata": {
    "tags": []
   },
   "outputs": [],
   "source": [
    "import numpy as np\n",
    "rng = np.random.default_rng(12345)\n",
    "\n",
    "skeleton = rtn_output['skeleton'][0]\n",
    "# skeleton = orig_skeleton\n",
    "# equations for making the vectors\n",
    "r = 1 # radius of points sampled in the circle on the plane\n",
    "v_num = 1 # number of vectors desired (evenly spaced around the circle)\n",
    "# rho = rng.random()*(2*np.pi)#\n",
    "# rho = np.linspace(0, 2*np.pi, v_num)\n",
    "# x = np.cos(rho) * r\n",
    "# y = np.sin(rho) * r\n",
    "# z = np.zeros(rho.shape)\n",
    "\n",
    "f_all = []\n",
    "for bd in range(len(skeleton)):\n",
    "    p1 = skeleton[bd]\n",
    "    n = rtn_output['tube_axis'][0][bd] # vector normal to the plane\n",
    "    #print(n)\n",
    "    #pp = arot_vecs[bd] #vector orthogonal to normal\n",
    "    nabs = np.absolute(n)\n",
    "    indices = (-n).argsort()[:3]\n",
    "    v = np.zeros(3)\n",
    "    v[indices[1]] = -n[indices[0]]\n",
    "    v[indices[0]] = n[indices[1]]\n",
    "    v[indices[2]] = 0\n",
    "    u = np.cross(n,v)\n",
    "    #normalize vectors\n",
    "    v_norm = v/np.linalg.norm(v)\n",
    "    u_norm = u/np.linalg.norm(u)\n",
    "    f = []\n",
    "    for be in range(v_num):\n",
    "        rho = rng.random()*(2*np.pi)\n",
    "        circ_p = p1 + r * v_norm * np.cos(rho) + r * u_norm * np.sin(rho)\n",
    "        circ_vec = p1-circ_p\n",
    "        f.append(skeleton[bd] + np.random.randint(50,100)*(circ_vec/np.linalg.norm(circ_vec)))\n",
    "    f = np.asarray(f, dtype=np.float32)\n",
    "    f_all.append(f)\n",
    "f_all = np.asarray(f_all, dtype=np.float32)\n",
    "f_flat = [element for sublist in f_all for element in sublist]\n",
    "f_flat = np.asarray(f_flat)\n",
    "# f_flat = f_flat * 100\n",
    "# for bf in range(len(f_flat)):\n",
    "#     for bg in range(v_num):\n",
    "#         f_flat[bf] = orig_skeleton"
   ]
  },
  {
   "cell_type": "code",
   "execution_count": null,
   "id": "c96736cf-9495-4e79-9ff1-bc3d66a8e7fe",
   "metadata": {
    "tags": []
   },
   "outputs": [],
   "source": [
    "pymevis.glCanvas.layers[6].visible=True\n",
    "pymevis.glCanvas.layers[6].point_size=20\n",
    "pymevis.glCanvas.layers[6].method='spheres'\n",
    "pymevis.glCanvas.layers[6].cmap='SolidGreen'\n",
    "save_snapshot(pymevis.glCanvas, 'E:\\\\Skeleton2_testing\\\\analysis\\\\screenshots_v2\\\\rtn4screenshot_ROI' + str(rtn_roi_start))"
   ]
  },
  {
   "cell_type": "code",
   "execution_count": null,
   "id": "50db7f32-b63c-495e-a74c-fb3a2f37759a",
   "metadata": {
    "tags": []
   },
   "outputs": [],
   "source": [
    "pymevis.glCanvas.layers[5].visible=True\n",
    "pymevis.glCanvas.layers[5].point_size=15\n",
    "pymevis.glCanvas.layers[5].method='spheres'\n",
    "pymevis.glCanvas.layers[5].cmap='SolidYellow'\n",
    "#save_snapshot(pymevis.glCanvas, 'E:\\\\Skeleton2_testing\\\\analysis\\\\screenshots_v2\\\\rtn4screenshot_ROI' + str(rtn_roi_start))\n",
    "#save_snapshot(pymevis.glCanvas, 'E:\\\\Skeleton2_testing\\\\analysis\\\\screenshots_v2\\\\sec61Bscreenshot_ROI' + str(sec_roi_start))\n",
    "save_snapshot(pymevis.glCanvas, 'E:\\\\Skeleton2_testing\\\\analysis\\\\screenshots_v2\\\\kdelscreenshot_ROI' + str(kdel_roi_start))"
   ]
  },
  {
   "cell_type": "code",
   "execution_count": 7,
   "id": "037736f3-7ece-4de2-9078-b46ba842b308",
   "metadata": {
    "collapsed": true,
    "jupyter": {
     "outputs_hidden": true
    },
    "tags": []
   },
   "outputs": [
    {
     "name": "stdout",
     "output_type": "stream",
     "text": [
      "start\n",
      "Creating Pipeline\n"
     ]
    },
    {
     "name": "stderr",
     "output_type": "stream",
     "text": [
      "DEBUG:PYME.recipes.recipe:Executing <PYME.recipes.localisations.Pipelineify object at 0x000001537A8F60A8>\n",
      "DEBUG:PYME.recipes.localisations:no events found\n",
      "DEBUG:PYME.recipes.recipe:Executing <PYME.recipes.localisations.ProcessColour object at 0x000001556BE31048>\n",
      "DEBUG:PYME.recipes.recipe:Executing <PYME.recipes.tablefilters.FilterTable object at 0x000001556AADCCA8>\n",
      "DEBUG:PYME.recipes.recipe:Module timings: {'localisations.AddPipelineDerivedVars': 0.0009703636169433594, 'localisations.ProcessColour': 0.008002758026123047, 'tablefilters.FilterTable': 0.006984710693359375, 'localisations.ExtractTableChannel': 0.0, 'surface_fitting.DistanceToMesh': 3.780163288116455}\n"
     ]
    },
    {
     "name": "stdout",
     "output_type": "stream",
     "text": [
      "recipe.execute()\n",
      "Pipeline Created\n"
     ]
    },
    {
     "name": "stderr",
     "output_type": "stream",
     "text": [
      "DEBUG:PYME.LMVis.VisGUI:Creating tabs\n",
      "DEBUG:PYME.LMVis.VisGUI:Finished creating tabs\n"
     ]
    },
    {
     "name": "stdout",
     "output_type": "stream",
     "text": [
      "0\n",
      "Gui stuff done\n",
      "loading mesh\n",
      "Data munged to vertices, faces\n",
      "initializing halfedges ...\n",
      "vertices.shape = (29426, 3), faces.shape = (59836, 3)\n",
      "iterating edges\n",
      "done initializing halfedges\n",
      "mesh_layer update\n",
      "mesh_layer update\n",
      "mesh_layer update\n"
     ]
    },
    {
     "name": "stderr",
     "output_type": "stream",
     "text": [
      "c:\\users\\laf62\\code\\python-microscopy\\PYME\\IO\\tabular.py:996: VisibleDeprecationWarning: Mapping filter created with something that is not a tabular object. This will be unsupported in a future release. Consider DictSource or ColumnSource instead\n",
      "  warnings.warn(VisibleDeprecationWarning('Mapping filter created with something that is not a tabular object. This will be unsupported in a future release. Consider DictSource or ColumnSource instead'))\n"
     ]
    },
    {
     "name": "stdout",
     "output_type": "stream",
     "text": [
      "Data munged to vertices, faces\n",
      "initializing halfedges ...\n",
      "vertices.shape = (570393, 3), faces.shape = (1142242, 3)\n",
      "iterating edges\n",
      "done initializing halfedges\n",
      "mesh_layer update\n",
      "mesh_layer update\n",
      "mesh_layer update\n",
      "mesh_layer update\n",
      "mesh_layer update\n",
      "[[ 2827.3755   8292.056    -293.35156]\n",
      " [ 2827.3794   8292.053    -293.35397]\n",
      " [ 2827.3796   8292.053    -293.35352]\n",
      " ...\n",
      " [20404.736   10560.095    -395.14456]\n",
      " [20404.74    10560.093    -395.16653]\n",
      " [20404.818   10564.313    -395.47937]]\n",
      "search here\n"
     ]
    },
    {
     "name": "stderr",
     "output_type": "stream",
     "text": [
      "c:\\users\\laf62\\code\\python-microscopy\\PYME\\IO\\tabular.py:48: VisibleDeprecationWarning: mappingFilter is deprecated, use MappingFilter instead\n",
      "  warnings.warn(VisibleDeprecationWarning('%s is deprecated, use %s instead' % (name, cls.__name__)))\n"
     ]
    },
    {
     "name": "stdout",
     "output_type": "stream",
     "text": [
      "mesh_layer update\n",
      "mesh_layer update\n",
      "pointcloud.update_from_datasource() - dsname=nn-mean-skel-10nm\n",
      "hl update\n",
      "mesh_layer update\n",
      "mesh_layer update\n"
     ]
    },
    {
     "name": "stderr",
     "output_type": "stream",
     "text": [
      "DEBUG:PYME.LMVis.visCore:Added layer, datasouce=nn-mean-skel-10nm\n",
      "DEBUG:PYME.recipes.recipe:Executing <PYME.recipes.localisations.ExtractTableChannel object at 0x000001555C700828>\n"
     ]
    },
    {
     "name": "stdout",
     "output_type": "stream",
     "text": [
      "pointcloud.update_from_datasource() - dsname=nn-mean-skel-10nm\n",
      "starting filters\n",
      "recipe.execute()\n",
      "mesh_layer update\n",
      "mesh_layer update\n",
      "pointcloud.update_from_datasource() - dsname=nn-mean-skel-10nm\n",
      "hl update\n",
      "mesh_layer update\n",
      "mesh_layer update\n"
     ]
    },
    {
     "name": "stderr",
     "output_type": "stream",
     "text": [
      "DEBUG:PYME.recipes.recipe:Module timings: {'localisations.AddPipelineDerivedVars': 0.0009703636169433594, 'localisations.ProcessColour': 0.008002758026123047, 'tablefilters.FilterTable': 0.006984710693359375, 'localisations.ExtractTableChannel': 0.0, 'surface_fitting.DistanceToMesh': 3.780163288116455}\n"
     ]
    },
    {
     "name": "stdout",
     "output_type": "stream",
     "text": [
      "pointcloud.update_from_datasource() - dsname=nn-mean-skel-10nm\n",
      "mesh_layer update\n",
      "mesh_layer update\n",
      "pointcloud.update_from_datasource() - dsname=nn-mean-skel-10nm\n",
      "hl update\n",
      "mesh_layer update\n",
      "mesh_layer update\n"
     ]
    },
    {
     "name": "stderr",
     "output_type": "stream",
     "text": [
      "DEBUG:PYME.recipes.recipe:Executing <PYME.recipes.surface_fitting.DistanceToMesh object at 0x000001555C6EAB28>\n"
     ]
    },
    {
     "name": "stdout",
     "output_type": "stream",
     "text": [
      "pointcloud.update_from_datasource() - dsname=nn-mean-skel-10nm\n",
      "recipe.execute()\n"
     ]
    },
    {
     "name": "stderr",
     "output_type": "stream",
     "text": [
      "c:\\users\\laf62\\code\\python-microscopy\\PYME\\experimental\\isosurface.py:76: RuntimeWarning: invalid value encountered in true_divide\n",
      "  c0 = ba*np.clip((ba*pa).sum(2)/(ba*ba).sum(2),0.0,1.0)[:,:,None]-pa\n",
      "c:\\users\\laf62\\code\\python-microscopy\\PYME\\experimental\\isosurface.py:77: RuntimeWarning: invalid value encountered in true_divide\n",
      "  c1 = cb*np.clip((cb*pb).sum(2)/(cb*cb).sum(2),0.0,1.0)[:,:,None]-pb\n",
      "c:\\users\\laf62\\code\\python-microscopy\\PYME\\experimental\\isosurface.py:78: RuntimeWarning: invalid value encountered in true_divide\n",
      "  c2 = ac*np.clip((ac*pc).sum(2)/(ac*ac).sum(2),0.0,1.0)[:,:,None]-pc\n",
      "c:\\users\\laf62\\code\\python-microscopy\\PYME\\experimental\\isosurface.py:83: RuntimeWarning: invalid value encountered in true_divide\n",
      "  g = norpa*norpa/(nor*nor).sum(2)\n",
      "C:\\Users\\laf62\\.conda\\envs\\pyme\\lib\\site-packages\\numpy\\core\\fromnumeric.py:87: RuntimeWarning: overflow encountered in reduce\n",
      "  return ufunc.reduce(obj, axis, dtype, out, **passkwargs)\n"
     ]
    },
    {
     "name": "stdout",
     "output_type": "stream",
     "text": [
      "mesh_layer update\n",
      "mesh_layer update\n",
      "pointcloud.update_from_datasource() - dsname=nn-mean-skel-10nm\n",
      "hl update\n",
      "mesh_layer update\n",
      "mesh_layer update\n"
     ]
    },
    {
     "name": "stderr",
     "output_type": "stream",
     "text": [
      "DEBUG:PYME.recipes.recipe:Module timings: {'localisations.AddPipelineDerivedVars': 0.0009703636169433594, 'localisations.ProcessColour': 0.008002758026123047, 'tablefilters.FilterTable': 0.006984710693359375, 'localisations.ExtractTableChannel': 0.0, 'surface_fitting.DistanceToMesh': 1.8817830085754395}\n"
     ]
    },
    {
     "name": "stdout",
     "output_type": "stream",
     "text": [
      "pointcloud.update_from_datasource() - dsname=nn-mean-skel-10nm\n",
      "mesh_layer update\n",
      "mesh_layer update\n",
      "pointcloud.update_from_datasource() - dsname=nn-mean-skel-10nm\n",
      "hl update\n",
      "mesh_layer update\n",
      "mesh_layer update\n"
     ]
    },
    {
     "name": "stderr",
     "output_type": "stream",
     "text": [
      "DEBUG:PYME.recipes.recipe:Executing <PYME.recipes.tablefilters.FilterTable object at 0x000001555C7009A8>\n"
     ]
    },
    {
     "name": "stdout",
     "output_type": "stream",
     "text": [
      "pointcloud.update_from_datasource() - dsname=nn-mean-skel-10nm\n",
      "recipe.execute()\n",
      "mesh_layer update\n",
      "mesh_layer update\n",
      "pointcloud.update_from_datasource() - dsname=nn-mean-skel-10nm\n",
      "hl update\n",
      "mesh_layer update\n",
      "mesh_layer update\n"
     ]
    },
    {
     "name": "stderr",
     "output_type": "stream",
     "text": [
      "DEBUG:PYME.recipes.recipe:Module timings: {'localisations.AddPipelineDerivedVars': 0.0009703636169433594, 'localisations.ProcessColour': 0.008002758026123047, 'tablefilters.FilterTable': 0.030713558197021484, 'localisations.ExtractTableChannel': 0.0, 'surface_fitting.DistanceToMesh': 1.8817830085754395}\n"
     ]
    },
    {
     "name": "stdout",
     "output_type": "stream",
     "text": [
      "pointcloud.update_from_datasource() - dsname=nn-mean-skel-10nm\n",
      "mesh_layer update\n",
      "mesh_layer update\n",
      "pointcloud.update_from_datasource() - dsname=nn-mean-skel-10nm\n",
      "hl update\n",
      "mesh_layer update\n",
      "mesh_layer update\n",
      "pointcloud.update_from_datasource() - dsname=nn-mean-skel-10nm\n",
      "[[ 2769.5454  11555.433    -433.7371 ]\n",
      " [ 9139.377   16158.975    -475.71576]\n",
      " [10255.922   11117.39     -318.78168]\n",
      " ...\n",
      " [ 4787.1343  13214.441    -412.50308]\n",
      " [17789.645   14610.258    -372.04593]\n",
      " [18896.379   13219.249    -404.2735 ]]\n",
      "starting skeleton query\n",
      "search here\n",
      "[   738  84901  99138 ...  27101 192096 205764]\n",
      "[193.54704141  56.60105588  89.12670398 ... 124.6840889   33.86607207\n",
      "  76.37989794]\n",
      "skeleton query  0  took 1.410825490951538 to run\n",
      "starting angle calculations\n"
     ]
    },
    {
     "name": "stderr",
     "output_type": "stream",
     "text": [
      "C:\\Users\\laf62\\.conda\\envs\\pyme\\lib\\site-packages\\ipykernel_launcher.py:241: RuntimeWarning: invalid value encountered in double_scalars\n",
      "C:\\Users\\laf62\\.conda\\envs\\pyme\\lib\\site-packages\\ipykernel_launcher.py:289: RuntimeWarning: invalid value encountered in double_scalars\n",
      "C:\\Users\\laf62\\.conda\\envs\\pyme\\lib\\site-packages\\ipykernel_launcher.py:374: RuntimeWarning: invalid value encountered in true_divide\n",
      "C:\\Users\\laf62\\.conda\\envs\\pyme\\lib\\site-packages\\ipykernel_launcher.py:375: RuntimeWarning: invalid value encountered in true_divide\n"
     ]
    },
    {
     "name": "stdout",
     "output_type": "stream",
     "text": [
      "[[ 2892.02018573 14614.09982671  -372.06211878]\n",
      " [ 2879.47131195 14613.93615047  -355.70494157]\n",
      " [ 2893.65487999 14616.15798226  -349.55661653]\n",
      " ...\n",
      " [20420.84337026 10561.21482398  -356.92800909]\n",
      " [20382.25068516 10563.60741715  -351.32881415]\n",
      " [20396.49288509 10566.76763264  -390.21510121]]\n",
      "mesh_layer update\n",
      "mesh_layer update\n",
      "pointcloud.update_from_datasource() - dsname=nn-mean-skel-10nm\n",
      "hl update\n",
      "pointcloud.update_from_datasource() - dsname=simulated-points\n",
      "hl update\n",
      "mesh_layer update\n",
      "mesh_layer update\n"
     ]
    },
    {
     "name": "stderr",
     "output_type": "stream",
     "text": [
      "DEBUG:PYME.LMVis.visCore:Added layer, datasouce=simulated-points\n"
     ]
    },
    {
     "name": "stdout",
     "output_type": "stream",
     "text": [
      "pointcloud.update_from_datasource() - dsname=nn-mean-skel-10nm\n",
      "pointcloud.update_from_datasource() - dsname=simulated-points\n"
     ]
    },
    {
     "name": "stderr",
     "output_type": "stream",
     "text": [
      "C:\\Users\\laf62\\.conda\\envs\\pyme\\lib\\site-packages\\ipykernel_launcher.py:406: RuntimeWarning: invalid value encountered in true_divide\n",
      "C:\\Users\\laf62\\.conda\\envs\\pyme\\lib\\site-packages\\ipykernel_launcher.py:416: RuntimeWarning: invalid value encountered in true_divide\n"
     ]
    },
    {
     "name": "stdout",
     "output_type": "stream",
     "text": [
      "angle calculations  0  took 55.19811272621155 to run\n",
      "pointcloud.update_from_datasource() - dsname=nn-mean-skel-10nm\n",
      "Viewport:  (662, 1054)\n",
      "uint8 (662, 1054, 3) 255\n",
      "Loop # 0 took 889.5669586658478 to run\n",
      "start\n",
      "Creating Pipeline\n"
     ]
    },
    {
     "name": "stderr",
     "output_type": "stream",
     "text": [
      "DEBUG:PYME.recipes.recipe:Executing <PYME.recipes.localisations.Pipelineify object at 0x000001555C6EA288>\n",
      "DEBUG:PYME.recipes.localisations:no events found\n",
      "DEBUG:PYME.recipes.recipe:Executing <PYME.recipes.localisations.ProcessColour object at 0x0000015302063BE8>\n",
      "DEBUG:PYME.recipes.recipe:Executing <PYME.recipes.tablefilters.FilterTable object at 0x000001555C700B28>\n",
      "DEBUG:PYME.recipes.recipe:Module timings: {'localisations.AddPipelineDerivedVars': 0.0009999275207519531, 'localisations.ProcessColour': 0.010072946548461914, 'tablefilters.FilterTable': 0.009218692779541016, 'localisations.ExtractTableChannel': 0.0, 'surface_fitting.DistanceToMesh': 1.8817830085754395}\n",
      "DEBUG:PYME.LMVis.VisGUI:Creating tabs\n"
     ]
    },
    {
     "name": "stdout",
     "output_type": "stream",
     "text": [
      "recipe.execute()\n",
      "Pipeline Created\n"
     ]
    },
    {
     "name": "stderr",
     "output_type": "stream",
     "text": [
      "DEBUG:PYME.LMVis.VisGUI:Finished creating tabs\n"
     ]
    },
    {
     "name": "stdout",
     "output_type": "stream",
     "text": [
      "0\n",
      "Gui stuff done\n",
      "loading mesh\n",
      "Data munged to vertices, faces\n",
      "initializing halfedges ...\n",
      "vertices.shape = (65333, 3), faces.shape = (131948, 3)\n",
      "iterating edges\n",
      "done initializing halfedges\n",
      "mesh_layer update\n",
      "mesh_layer update\n",
      "mesh_layer update\n",
      "mesh_layer update\n",
      "Data munged to vertices, faces\n",
      "initializing halfedges ...\n",
      "vertices.shape = (730511, 3), faces.shape = (1462700, 3)\n",
      "iterating edges\n",
      "done initializing halfedges\n",
      "mesh_layer update\n",
      "mesh_layer update\n",
      "mesh_layer update\n",
      "mesh_layer update\n",
      "mesh_layer update\n",
      "mesh_layer update\n",
      "mesh_layer update\n",
      "[[ 8792.876    1901.5208   -170.17802]\n",
      " [ 8793.123    1899.3268   -173.79977]\n",
      " [ 8793.4375   1901.9941   -173.89171]\n",
      " ...\n",
      " [20430.04    19434.479    -133.73096]\n",
      " [20430.854   19438.246    -130.18752]\n",
      " [20431.479   19436.273    -131.77094]]\n",
      "search here\n",
      "mesh_layer update\n",
      "mesh_layer update\n",
      "pointcloud.update_from_datasource() - dsname=nn-mean-skel-10nm\n",
      "hl update\n",
      "mesh_layer update\n",
      "mesh_layer update\n"
     ]
    },
    {
     "name": "stderr",
     "output_type": "stream",
     "text": [
      "DEBUG:PYME.LMVis.visCore:Added layer, datasouce=nn-mean-skel-10nm\n",
      "DEBUG:PYME.recipes.recipe:Executing <PYME.recipes.localisations.ExtractTableChannel object at 0x000001531A7AAD08>\n"
     ]
    },
    {
     "name": "stdout",
     "output_type": "stream",
     "text": [
      "pointcloud.update_from_datasource() - dsname=nn-mean-skel-10nm\n",
      "starting filters\n",
      "recipe.execute()\n",
      "mesh_layer update\n",
      "mesh_layer update\n",
      "pointcloud.update_from_datasource() - dsname=nn-mean-skel-10nm\n",
      "hl update\n",
      "mesh_layer update\n",
      "mesh_layer update\n",
      "pointcloud.update_from_datasource() - dsname=nn-mean-skel-10nm\n"
     ]
    },
    {
     "name": "stderr",
     "output_type": "stream",
     "text": [
      "DEBUG:PYME.recipes.recipe:Module timings: {'localisations.AddPipelineDerivedVars': 0.0009999275207519531, 'localisations.ProcessColour': 0.010072946548461914, 'tablefilters.FilterTable': 0.009218692779541016, 'localisations.ExtractTableChannel': 0.0, 'surface_fitting.DistanceToMesh': 1.8817830085754395}\n"
     ]
    },
    {
     "name": "stdout",
     "output_type": "stream",
     "text": [
      "mesh_layer update\n",
      "mesh_layer update\n",
      "pointcloud.update_from_datasource() - dsname=nn-mean-skel-10nm\n",
      "hl update\n",
      "mesh_layer update\n",
      "mesh_layer update\n",
      "pointcloud.update_from_datasource() - dsname=nn-mean-skel-10nm\n",
      "recipe.execute()\n"
     ]
    },
    {
     "name": "stderr",
     "output_type": "stream",
     "text": [
      "DEBUG:PYME.recipes.recipe:Executing <PYME.recipes.surface_fitting.DistanceToMesh object at 0x000001555C6EA588>\n",
      "c:\\users\\laf62\\code\\python-microscopy\\PYME\\experimental\\isosurface.py:97: RuntimeWarning: overflow encountered in exp2\n",
      "  val = -np.log2(np.nansum(np.exp2(-k*sdf), axis=1))/k\n"
     ]
    },
    {
     "name": "stdout",
     "output_type": "stream",
     "text": [
      "mesh_layer update\n",
      "mesh_layer update\n",
      "pointcloud.update_from_datasource() - dsname=nn-mean-skel-10nm\n",
      "hl update\n",
      "mesh_layer update\n",
      "mesh_layer update\n"
     ]
    },
    {
     "name": "stderr",
     "output_type": "stream",
     "text": [
      "DEBUG:PYME.recipes.recipe:Module timings: {'localisations.AddPipelineDerivedVars': 0.0009999275207519531, 'localisations.ProcessColour': 0.010072946548461914, 'tablefilters.FilterTable': 0.009218692779541016, 'localisations.ExtractTableChannel': 0.0, 'surface_fitting.DistanceToMesh': 2.583536148071289}\n"
     ]
    },
    {
     "name": "stdout",
     "output_type": "stream",
     "text": [
      "pointcloud.update_from_datasource() - dsname=nn-mean-skel-10nm\n",
      "mesh_layer update\n",
      "mesh_layer update\n",
      "pointcloud.update_from_datasource() - dsname=nn-mean-skel-10nm\n",
      "hl update\n",
      "mesh_layer update\n",
      "mesh_layer update\n"
     ]
    },
    {
     "name": "stderr",
     "output_type": "stream",
     "text": [
      "DEBUG:PYME.recipes.recipe:Executing <PYME.recipes.tablefilters.FilterTable object at 0x000001556F9B89A8>\n"
     ]
    },
    {
     "name": "stdout",
     "output_type": "stream",
     "text": [
      "pointcloud.update_from_datasource() - dsname=nn-mean-skel-10nm\n",
      "recipe.execute()\n",
      "mesh_layer update\n",
      "mesh_layer update\n",
      "pointcloud.update_from_datasource() - dsname=nn-mean-skel-10nm\n",
      "hl update\n",
      "mesh_layer update\n",
      "mesh_layer update\n"
     ]
    },
    {
     "name": "stderr",
     "output_type": "stream",
     "text": [
      "DEBUG:PYME.recipes.recipe:Module timings: {'localisations.AddPipelineDerivedVars': 0.0009999275207519531, 'localisations.ProcessColour': 0.010072946548461914, 'tablefilters.FilterTable': 0.046828508377075195, 'localisations.ExtractTableChannel': 0.0, 'surface_fitting.DistanceToMesh': 2.583536148071289}\n"
     ]
    },
    {
     "name": "stdout",
     "output_type": "stream",
     "text": [
      "pointcloud.update_from_datasource() - dsname=nn-mean-skel-10nm\n",
      "mesh_layer update\n",
      "mesh_layer update\n",
      "pointcloud.update_from_datasource() - dsname=nn-mean-skel-10nm\n",
      "hl update\n",
      "mesh_layer update\n",
      "mesh_layer update\n",
      "pointcloud.update_from_datasource() - dsname=nn-mean-skel-10nm\n",
      "[[ 9488.645    10828.871     -167.251   ]\n",
      " [10653.41      9425.338     -142.41237 ]\n",
      " [15788.851     5145.5244    -270.4032  ]\n",
      " ...\n",
      " [16076.509     3159.9934    -126.805305]\n",
      " [17777.73      7103.9277    -256.22256 ]\n",
      " [10500.803    13916.078     -203.81943 ]]\n",
      "starting skeleton query\n",
      "search here\n",
      "[ 16883  45284 191574 ... 199263 256194  45238]\n",
      "[ 89.57157734 182.01446567  59.77606153 ...  43.71298695 137.82733306\n",
      " 217.67735967]\n",
      "skeleton query  1  took 2.0367369651794434 to run\n",
      "starting angle calculations\n",
      "[[ 8833.34252871 13891.42167872  -246.77947086]\n",
      " [ 8811.58087661 13886.05569115  -220.54828849]\n",
      " [ 8791.02836349 13878.3391247   -147.44852522]\n",
      " ...\n",
      " [20436.96222881 19386.75412162   -79.11770121]\n",
      " [20442.84266522 19397.30324906  -165.78847131]\n",
      " [20361.70019428 19451.97312182  -148.91152046]]\n",
      "mesh_layer update\n",
      "mesh_layer update\n",
      "pointcloud.update_from_datasource() - dsname=nn-mean-skel-10nm\n",
      "hl update\n",
      "pointcloud.update_from_datasource() - dsname=simulated-points\n",
      "hl update\n",
      "mesh_layer update\n",
      "mesh_layer update\n"
     ]
    },
    {
     "name": "stderr",
     "output_type": "stream",
     "text": [
      "DEBUG:PYME.LMVis.visCore:Added layer, datasouce=simulated-points\n"
     ]
    },
    {
     "name": "stdout",
     "output_type": "stream",
     "text": [
      "pointcloud.update_from_datasource() - dsname=nn-mean-skel-10nm\n",
      "pointcloud.update_from_datasource() - dsname=simulated-points\n",
      "angle calculations  1  took 71.6194531917572 to run\n",
      "pointcloud.update_from_datasource() - dsname=nn-mean-skel-10nm\n",
      "Viewport:  (662, 1054)\n",
      "uint8 (662, 1054, 3) 255\n",
      "Loop # 1 took 1407.8451256752014 to run\n",
      "start\n",
      "Creating Pipeline\n"
     ]
    },
    {
     "name": "stderr",
     "output_type": "stream",
     "text": [
      "DEBUG:PYME.recipes.recipe:Executing <PYME.recipes.localisations.Pipelineify object at 0x0000015305CC8A08>\n",
      "DEBUG:PYME.recipes.localisations:no events found\n",
      "DEBUG:PYME.recipes.recipe:Executing <PYME.recipes.localisations.ProcessColour object at 0x000001556BE440A8>\n",
      "DEBUG:PYME.recipes.recipe:Executing <PYME.recipes.tablefilters.FilterTable object at 0x0000015566BAADC8>\n",
      "DEBUG:PYME.recipes.recipe:Module timings: {'localisations.AddPipelineDerivedVars': 0.000997781753540039, 'localisations.ProcessColour': 0.008002042770385742, 'tablefilters.FilterTable': 0.0, 'localisations.ExtractTableChannel': 0.0, 'surface_fitting.DistanceToMesh': 2.583536148071289}\n",
      "DEBUG:PYME.LMVis.VisGUI:Creating tabs\n"
     ]
    },
    {
     "name": "stdout",
     "output_type": "stream",
     "text": [
      "recipe.execute()\n",
      "Pipeline Created\n"
     ]
    },
    {
     "name": "stderr",
     "output_type": "stream",
     "text": [
      "DEBUG:PYME.LMVis.VisGUI:Finished creating tabs\n"
     ]
    },
    {
     "name": "stdout",
     "output_type": "stream",
     "text": [
      "0\n",
      "Gui stuff done\n",
      "loading mesh\n",
      "Data munged to vertices, faces\n",
      "initializing halfedges ...\n",
      "vertices.shape = (31992, 3), faces.shape = (64798, 3)\n",
      "iterating edges\n",
      "done initializing halfedges\n",
      "mesh_layer update\n",
      "mesh_layer update\n",
      "mesh_layer update\n",
      "mesh_layer update\n",
      "Data munged to vertices, faces\n",
      "initializing halfedges ...\n",
      "vertices.shape = (376620, 3), faces.shape = (754180, 3)\n",
      "iterating edges\n",
      "done initializing halfedges\n",
      "mesh_layer update\n",
      "mesh_layer update\n",
      "mesh_layer update\n",
      "mesh_layer update\n",
      "mesh_layer update\n",
      "mesh_layer update\n",
      "mesh_layer update\n",
      "[[ 5591.1616    5164.852      -46.182144]\n",
      " [ 5591.451     5168.188      -49.613605]\n",
      " [ 5592.149     5163.3633     -50.68656 ]\n",
      " ...\n",
      " [12899.496    17307.402     -107.056526]\n",
      " [12899.511    17303.686     -106.677376]\n",
      " [12899.521    17303.69      -106.644844]]\n",
      "search here\n",
      "mesh_layer update\n",
      "mesh_layer update\n",
      "pointcloud.update_from_datasource() - dsname=nn-mean-skel-10nm\n",
      "hl update\n",
      "mesh_layer update\n",
      "mesh_layer update\n"
     ]
    },
    {
     "name": "stderr",
     "output_type": "stream",
     "text": [
      "DEBUG:PYME.LMVis.visCore:Added layer, datasouce=nn-mean-skel-10nm\n",
      "DEBUG:PYME.recipes.recipe:Executing <PYME.recipes.localisations.ExtractTableChannel object at 0x00000153040B1528>\n"
     ]
    },
    {
     "name": "stdout",
     "output_type": "stream",
     "text": [
      "pointcloud.update_from_datasource() - dsname=nn-mean-skel-10nm\n",
      "starting filters\n",
      "recipe.execute()\n",
      "mesh_layer update\n",
      "mesh_layer update\n",
      "pointcloud.update_from_datasource() - dsname=nn-mean-skel-10nm\n",
      "hl update\n",
      "mesh_layer update\n",
      "mesh_layer update\n"
     ]
    },
    {
     "name": "stderr",
     "output_type": "stream",
     "text": [
      "DEBUG:PYME.recipes.recipe:Module timings: {'localisations.AddPipelineDerivedVars': 0.000997781753540039, 'localisations.ProcessColour': 0.008002042770385742, 'tablefilters.FilterTable': 0.0, 'localisations.ExtractTableChannel': 0.0, 'surface_fitting.DistanceToMesh': 2.583536148071289}\n"
     ]
    },
    {
     "name": "stdout",
     "output_type": "stream",
     "text": [
      "pointcloud.update_from_datasource() - dsname=nn-mean-skel-10nm\n",
      "mesh_layer update\n",
      "mesh_layer update\n",
      "pointcloud.update_from_datasource() - dsname=nn-mean-skel-10nm\n",
      "hl update\n",
      "mesh_layer update\n",
      "mesh_layer update\n"
     ]
    },
    {
     "name": "stderr",
     "output_type": "stream",
     "text": [
      "DEBUG:PYME.recipes.recipe:Executing <PYME.recipes.surface_fitting.DistanceToMesh object at 0x000001556F9B89A8>\n"
     ]
    },
    {
     "name": "stdout",
     "output_type": "stream",
     "text": [
      "pointcloud.update_from_datasource() - dsname=nn-mean-skel-10nm\n",
      "recipe.execute()\n"
     ]
    },
    {
     "name": "stderr",
     "output_type": "stream",
     "text": [
      "c:\\users\\laf62\\code\\python-microscopy\\PYME\\experimental\\isosurface.py:97: RuntimeWarning: divide by zero encountered in log2\n",
      "  val = -np.log2(np.nansum(np.exp2(-k*sdf), axis=1))/k\n"
     ]
    },
    {
     "name": "stdout",
     "output_type": "stream",
     "text": [
      "mesh_layer update\n",
      "mesh_layer update\n",
      "pointcloud.update_from_datasource() - dsname=nn-mean-skel-10nm\n",
      "hl update\n",
      "mesh_layer update\n",
      "mesh_layer update\n"
     ]
    },
    {
     "name": "stderr",
     "output_type": "stream",
     "text": [
      "DEBUG:PYME.recipes.recipe:Module timings: {'localisations.AddPipelineDerivedVars': 0.000997781753540039, 'localisations.ProcessColour': 0.008002042770385742, 'tablefilters.FilterTable': 0.0, 'localisations.ExtractTableChannel': 0.0, 'surface_fitting.DistanceToMesh': 1.8605139255523682}\n"
     ]
    },
    {
     "name": "stdout",
     "output_type": "stream",
     "text": [
      "pointcloud.update_from_datasource() - dsname=nn-mean-skel-10nm\n",
      "mesh_layer update\n",
      "mesh_layer update\n",
      "pointcloud.update_from_datasource() - dsname=nn-mean-skel-10nm\n",
      "hl update\n",
      "mesh_layer update\n",
      "mesh_layer update\n"
     ]
    },
    {
     "name": "stderr",
     "output_type": "stream",
     "text": [
      "DEBUG:PYME.recipes.recipe:Executing <PYME.recipes.tablefilters.FilterTable object at 0x00000155725A98E8>\n"
     ]
    },
    {
     "name": "stdout",
     "output_type": "stream",
     "text": [
      "pointcloud.update_from_datasource() - dsname=nn-mean-skel-10nm\n",
      "recipe.execute()\n",
      "mesh_layer update\n",
      "mesh_layer update\n",
      "pointcloud.update_from_datasource() - dsname=nn-mean-skel-10nm\n",
      "hl update\n",
      "mesh_layer update\n",
      "mesh_layer update\n"
     ]
    },
    {
     "name": "stderr",
     "output_type": "stream",
     "text": [
      "DEBUG:PYME.recipes.recipe:Module timings: {'localisations.AddPipelineDerivedVars': 0.000997781753540039, 'localisations.ProcessColour': 0.008002042770385742, 'tablefilters.FilterTable': 0.031243562698364258, 'localisations.ExtractTableChannel': 0.0, 'surface_fitting.DistanceToMesh': 1.8605139255523682}\n"
     ]
    },
    {
     "name": "stdout",
     "output_type": "stream",
     "text": [
      "pointcloud.update_from_datasource() - dsname=nn-mean-skel-10nm\n",
      "mesh_layer update\n",
      "mesh_layer update\n",
      "pointcloud.update_from_datasource() - dsname=nn-mean-skel-10nm\n",
      "hl update\n",
      "mesh_layer update\n",
      "mesh_layer update\n",
      "pointcloud.update_from_datasource() - dsname=nn-mean-skel-10nm\n",
      "[[ 6544.211    13648.729      -77.736305]\n",
      " [ 7976.2188    5581.324     -127.26654 ]\n",
      " [ 9417.691     9675.6875     -68.72522 ]\n",
      " ...\n",
      " [10083.415    15761.046     -165.95262 ]\n",
      " [ 5887.503     9190.902      -86.23882 ]\n",
      " [10081.526    15767.206     -160.7525  ]]\n",
      "starting skeleton query\n",
      "search here\n",
      "[10319 33806 65725 ... 83330  3606 83330]\n",
      "[ 22.44976456 199.83739553 124.90206147 ...  35.38747623  78.35006196\n",
      "  36.53317039]\n",
      "skeleton query  2  took 1.0709502696990967 to run\n",
      "starting angle calculations\n",
      "[[ 5640.9270753   8201.47133436   -89.75017205]\n",
      " [ 5647.29426533  8193.30155962  -211.3949617 ]\n",
      " [ 5551.07515298  8191.13593332   -52.15738   ]\n",
      " ...\n",
      " [12874.1196803  17312.46795532   -70.23194255]\n",
      " [12842.70300134 17306.48442216  -105.76030225]\n",
      " [12831.11226187 17313.52945789   -40.42635321]]\n",
      "mesh_layer update\n",
      "mesh_layer update\n",
      "pointcloud.update_from_datasource() - dsname=nn-mean-skel-10nm\n",
      "hl update\n",
      "pointcloud.update_from_datasource() - dsname=simulated-points\n",
      "hl update\n",
      "mesh_layer update\n",
      "mesh_layer update\n"
     ]
    },
    {
     "name": "stderr",
     "output_type": "stream",
     "text": [
      "DEBUG:PYME.LMVis.visCore:Added layer, datasouce=simulated-points\n"
     ]
    },
    {
     "name": "stdout",
     "output_type": "stream",
     "text": [
      "pointcloud.update_from_datasource() - dsname=nn-mean-skel-10nm\n",
      "pointcloud.update_from_datasource() - dsname=simulated-points\n",
      "angle calculations  2  took 39.537129163742065 to run\n",
      "pointcloud.update_from_datasource() - dsname=nn-mean-skel-10nm\n",
      "Viewport:  (662, 1054)\n",
      "uint8 (662, 1054, 3) 255\n",
      "Loop # 2 took 449.06966042518616 to run\n"
     ]
    },
    {
     "name": "stderr",
     "output_type": "stream",
     "text": [
      "C:\\Users\\laf62\\.conda\\envs\\pyme\\lib\\site-packages\\numpy\\core\\_asarray.py:83: VisibleDeprecationWarning: Creating an ndarray from ragged nested sequences (which is a list-or-tuple of lists-or-tuples-or ndarrays with different lengths or shapes) is deprecated. If you meant to do this, you must specify 'dtype=object' when creating the ndarray\n",
      "  return array(a, dtype, copy=False, order=order)\n"
     ]
    },
    {
     "name": "stdout",
     "output_type": "stream",
     "text": [
      "Disposing of FilterEditor\n",
      "<PYME.ui.filterPane.FilterPanel object at 0x000001556F1511F8> <PYME.ui.filterPane.FilterPanel object at 0x000001556F1511F8>\n",
      "<wx._core.ListCtrl object at 0x000001556F151318> <wx._core.ListCtrl object at 0x000001556F151318>\n",
      "Disposing of CBEditor\n",
      "Disposing of FilterEditor\n",
      "<PYME.ui.filterPane.FilterPanel object at 0x00000155668F69D8> <PYME.ui.filterPane.FilterPanel object at 0x00000155668F69D8>\n",
      "<wx._core.ListCtrl object at 0x00000155668F6798> <wx._core.ListCtrl object at 0x00000155668F6798>\n",
      "Disposing of HistLimitsEditor\n",
      "Disposing of HistLimitsEditor\n",
      "Disposing of HistLimitsEditor\n",
      "Disposing of HistLimitsEditor\n",
      "Input datasources:  ['_Localizations', 'FitResults', 'surf0', 'skeleton0', 'nn-mean-skel-10nm', 'simulated-points']\n",
      "Creating layers GUI\n",
      "hl update\n",
      "hl update\n",
      "hl update\n",
      "hl update\n",
      "height:  97\n",
      "NB best size: wx.Size(3, 88)\n"
     ]
    }
   ],
   "source": [
    "############################## Sec61B Analysis ##############################\n",
    "sec_output = point_angles_V3(file_list=sec_list, mesh_list=sec_mesh_list, skel_list=sec_skel_list, \n",
    "                             param_list=sec_param, sim_p = sim_p) "
   ]
  },
  {
   "cell_type": "code",
   "execution_count": 8,
   "id": "ef0c228d-a4f1-44e7-9e54-7f22a0fc8b42",
   "metadata": {
    "tags": []
   },
   "outputs": [
    {
     "name": "stdout",
     "output_type": "stream",
     "text": [
      "start\n",
      "Creating Pipeline\n"
     ]
    },
    {
     "name": "stderr",
     "output_type": "stream",
     "text": [
      "DEBUG:PYME.recipes.recipe:Executing <PYME.recipes.localisations.Pipelineify object at 0x000001537A8E46A8>\n",
      "DEBUG:PYME.recipes.localisations:no events found\n",
      "DEBUG:PYME.recipes.recipe:Executing <PYME.recipes.localisations.ProcessColour object at 0x000001563D8896A8>\n",
      "DEBUG:PYME.recipes.recipe:Executing <PYME.recipes.tablefilters.FilterTable object at 0x000001555C6EA348>\n",
      "DEBUG:PYME.recipes.recipe:Module timings: {'localisations.AddPipelineDerivedVars': 0.0, 'localisations.ProcessColour': 0.01096963882446289, 'tablefilters.FilterTable': 0.01109623908996582, 'localisations.ExtractTableChannel': 0.0, 'surface_fitting.DistanceToMesh': 1.8605139255523682}\n",
      "ERROR:PYME.ui.layerFoldPanel:Error refreshing layer caption\n",
      "Traceback (most recent call last):\n",
      "  File \"c:\\users\\laf62\\code\\python-microscopy\\PYME\\ui\\layerFoldPanel.py\", line 122, in _refresh\n",
      "    self.Refresh()\n",
      "RuntimeError: wrapped C/C++ object of type LayerCaptionBar has been deleted\n",
      "ERROR:PYME.ui.layerFoldPanel:Error refreshing layer caption\n",
      "Traceback (most recent call last):\n",
      "  File \"c:\\users\\laf62\\code\\python-microscopy\\PYME\\ui\\layerFoldPanel.py\", line 122, in _refresh\n",
      "    self.Refresh()\n",
      "RuntimeError: wrapped C/C++ object of type LayerCaptionBar has been deleted\n",
      "ERROR:PYME.ui.layerFoldPanel:Error refreshing layer caption\n",
      "Traceback (most recent call last):\n",
      "  File \"c:\\users\\laf62\\code\\python-microscopy\\PYME\\ui\\layerFoldPanel.py\", line 122, in _refresh\n",
      "    self.Refresh()\n",
      "RuntimeError: wrapped C/C++ object of type LayerCaptionBar has been deleted\n",
      "ERROR:PYME.ui.layerFoldPanel:Error refreshing layer caption\n",
      "Traceback (most recent call last):\n",
      "  File \"c:\\users\\laf62\\code\\python-microscopy\\PYME\\ui\\layerFoldPanel.py\", line 122, in _refresh\n",
      "    self.Refresh()\n",
      "RuntimeError: wrapped C/C++ object of type LayerCaptionBar has been deleted\n"
     ]
    },
    {
     "name": "stdout",
     "output_type": "stream",
     "text": [
      "recipe.execute()\n",
      "Pipeline Created\n"
     ]
    },
    {
     "name": "stderr",
     "output_type": "stream",
     "text": [
      "DEBUG:PYME.LMVis.VisGUI:Creating tabs\n",
      "DEBUG:PYME.LMVis.VisGUI:Finished creating tabs\n"
     ]
    },
    {
     "name": "stdout",
     "output_type": "stream",
     "text": [
      "0\n",
      "Gui stuff done\n",
      "loading mesh\n",
      "Data munged to vertices, faces\n",
      "initializing halfedges ...\n",
      "vertices.shape = (42752, 3), faces.shape = (86304, 3)\n",
      "iterating edges\n"
     ]
    },
    {
     "name": "stderr",
     "output_type": "stream",
     "text": [
      "ERROR:PYME.ui.layerFoldPanel:Error refreshing layer caption\n",
      "Traceback (most recent call last):\n",
      "  File \"c:\\users\\laf62\\code\\python-microscopy\\PYME\\ui\\layerFoldPanel.py\", line 122, in _refresh\n",
      "    self.Refresh()\n",
      "RuntimeError: wrapped C/C++ object of type LayerCaptionBar has been deleted\n",
      "ERROR:PYME.ui.layerFoldPanel:Error refreshing layer caption\n",
      "Traceback (most recent call last):\n",
      "  File \"c:\\users\\laf62\\code\\python-microscopy\\PYME\\ui\\layerFoldPanel.py\", line 122, in _refresh\n",
      "    self.Refresh()\n",
      "RuntimeError: wrapped C/C++ object of type LayerCaptionBar has been deleted\n",
      "ERROR:PYME.ui.layerFoldPanel:Error refreshing layer caption\n",
      "Traceback (most recent call last):\n",
      "  File \"c:\\users\\laf62\\code\\python-microscopy\\PYME\\ui\\layerFoldPanel.py\", line 122, in _refresh\n",
      "    self.Refresh()\n",
      "RuntimeError: wrapped C/C++ object of type LayerCaptionBar has been deleted\n",
      "ERROR:PYME.ui.layerFoldPanel:Error refreshing layer caption\n",
      "Traceback (most recent call last):\n",
      "  File \"c:\\users\\laf62\\code\\python-microscopy\\PYME\\ui\\layerFoldPanel.py\", line 122, in _refresh\n",
      "    self.Refresh()\n",
      "RuntimeError: wrapped C/C++ object of type LayerCaptionBar has been deleted\n"
     ]
    },
    {
     "name": "stdout",
     "output_type": "stream",
     "text": [
      "done initializing halfedges\n",
      "mesh_layer update\n",
      "mesh_layer update\n",
      "mesh_layer update\n",
      "mesh_layer update\n",
      "Data munged to vertices, faces\n",
      "initializing halfedges ...\n",
      "vertices.shape = (403299, 3), faces.shape = (807662, 3)\n",
      "iterating edges\n",
      "done initializing halfedges\n",
      "mesh_layer update\n"
     ]
    },
    {
     "name": "stderr",
     "output_type": "stream",
     "text": [
      "ERROR:PYME.ui.layerFoldPanel:Error refreshing layer caption\n",
      "Traceback (most recent call last):\n",
      "  File \"c:\\users\\laf62\\code\\python-microscopy\\PYME\\ui\\layerFoldPanel.py\", line 122, in _refresh\n",
      "    self.Refresh()\n",
      "RuntimeError: wrapped C/C++ object of type LayerCaptionBar has been deleted\n",
      "ERROR:PYME.ui.layerFoldPanel:Error refreshing layer caption\n",
      "Traceback (most recent call last):\n",
      "  File \"c:\\users\\laf62\\code\\python-microscopy\\PYME\\ui\\layerFoldPanel.py\", line 122, in _refresh\n",
      "    self.Refresh()\n",
      "RuntimeError: wrapped C/C++ object of type LayerCaptionBar has been deleted\n"
     ]
    },
    {
     "name": "stdout",
     "output_type": "stream",
     "text": [
      "mesh_layer update\n",
      "mesh_layer update\n"
     ]
    },
    {
     "name": "stderr",
     "output_type": "stream",
     "text": [
      "ERROR:PYME.ui.layerFoldPanel:Error refreshing layer caption\n",
      "Traceback (most recent call last):\n",
      "  File \"c:\\users\\laf62\\code\\python-microscopy\\PYME\\ui\\layerFoldPanel.py\", line 122, in _refresh\n",
      "    self.Refresh()\n",
      "RuntimeError: wrapped C/C++ object of type LayerCaptionBar has been deleted\n",
      "ERROR:PYME.ui.layerFoldPanel:Error refreshing layer caption\n",
      "Traceback (most recent call last):\n",
      "  File \"c:\\users\\laf62\\code\\python-microscopy\\PYME\\ui\\layerFoldPanel.py\", line 122, in _refresh\n",
      "    self.Refresh()\n",
      "RuntimeError: wrapped C/C++ object of type LayerCaptionBar has been deleted\n"
     ]
    },
    {
     "name": "stdout",
     "output_type": "stream",
     "text": [
      "mesh_layer update\n",
      "mesh_layer update\n",
      "mesh_layer update\n",
      "mesh_layer update\n",
      "[[ 7802.3184  17077.58      -93.16483]\n",
      " [ 7802.4995  17076.83      -90.43408]\n",
      " [ 7802.615   17075.084     -92.3523 ]\n",
      " ...\n",
      " [20469.527   17841.951    -241.01978]\n",
      " [20469.531   17841.953    -241.01848]\n",
      " [20469.604   17841.992    -240.99696]]\n",
      "search here\n",
      "mesh_layer update\n",
      "mesh_layer update\n",
      "pointcloud.update_from_datasource() - dsname=nn-mean-skel-10nm\n",
      "hl update\n",
      "mesh_layer update\n",
      "mesh_layer update\n"
     ]
    },
    {
     "name": "stderr",
     "output_type": "stream",
     "text": [
      "DEBUG:PYME.LMVis.visCore:Added layer, datasouce=nn-mean-skel-10nm\n",
      "DEBUG:PYME.recipes.recipe:Executing <PYME.recipes.localisations.ExtractTableChannel object at 0x000001557495ECA8>\n"
     ]
    },
    {
     "name": "stdout",
     "output_type": "stream",
     "text": [
      "pointcloud.update_from_datasource() - dsname=nn-mean-skel-10nm\n",
      "starting filters\n",
      "recipe.execute()\n",
      "mesh_layer update\n",
      "mesh_layer update\n",
      "pointcloud.update_from_datasource() - dsname=nn-mean-skel-10nm\n",
      "hl update\n",
      "mesh_layer update\n",
      "mesh_layer update\n"
     ]
    },
    {
     "name": "stderr",
     "output_type": "stream",
     "text": [
      "DEBUG:PYME.recipes.recipe:Module timings: {'localisations.AddPipelineDerivedVars': 0.0, 'localisations.ProcessColour': 0.01096963882446289, 'tablefilters.FilterTable': 0.01109623908996582, 'localisations.ExtractTableChannel': 0.0, 'surface_fitting.DistanceToMesh': 1.8605139255523682}\n"
     ]
    },
    {
     "name": "stdout",
     "output_type": "stream",
     "text": [
      "pointcloud.update_from_datasource() - dsname=nn-mean-skel-10nm\n",
      "mesh_layer update\n",
      "mesh_layer update\n",
      "pointcloud.update_from_datasource() - dsname=nn-mean-skel-10nm\n",
      "hl update\n",
      "mesh_layer update\n",
      "mesh_layer update\n"
     ]
    },
    {
     "name": "stderr",
     "output_type": "stream",
     "text": [
      "DEBUG:PYME.recipes.recipe:Executing <PYME.recipes.surface_fitting.DistanceToMesh object at 0x000001557495E528>\n"
     ]
    },
    {
     "name": "stdout",
     "output_type": "stream",
     "text": [
      "pointcloud.update_from_datasource() - dsname=nn-mean-skel-10nm\n",
      "recipe.execute()\n",
      "mesh_layer update\n",
      "mesh_layer update\n",
      "pointcloud.update_from_datasource() - dsname=nn-mean-skel-10nm\n",
      "hl update\n",
      "mesh_layer update\n",
      "mesh_layer update\n"
     ]
    },
    {
     "name": "stderr",
     "output_type": "stream",
     "text": [
      "DEBUG:PYME.recipes.recipe:Module timings: {'localisations.AddPipelineDerivedVars': 0.0, 'localisations.ProcessColour': 0.01096963882446289, 'tablefilters.FilterTable': 0.01109623908996582, 'localisations.ExtractTableChannel': 0.0, 'surface_fitting.DistanceToMesh': 2.5462465286254883}\n"
     ]
    },
    {
     "name": "stdout",
     "output_type": "stream",
     "text": [
      "pointcloud.update_from_datasource() - dsname=nn-mean-skel-10nm\n",
      "mesh_layer update\n",
      "mesh_layer update\n",
      "pointcloud.update_from_datasource() - dsname=nn-mean-skel-10nm\n",
      "hl update\n",
      "mesh_layer update\n",
      "mesh_layer update\n"
     ]
    },
    {
     "name": "stderr",
     "output_type": "stream",
     "text": [
      "DEBUG:PYME.recipes.recipe:Executing <PYME.recipes.tablefilters.FilterTable object at 0x000001557495E6A8>\n"
     ]
    },
    {
     "name": "stdout",
     "output_type": "stream",
     "text": [
      "pointcloud.update_from_datasource() - dsname=nn-mean-skel-10nm\n",
      "recipe.execute()\n",
      "mesh_layer update\n",
      "mesh_layer update\n",
      "pointcloud.update_from_datasource() - dsname=nn-mean-skel-10nm\n",
      "hl update\n",
      "mesh_layer update\n",
      "mesh_layer update\n"
     ]
    },
    {
     "name": "stderr",
     "output_type": "stream",
     "text": [
      "DEBUG:PYME.recipes.recipe:Module timings: {'localisations.AddPipelineDerivedVars': 0.0, 'localisations.ProcessColour': 0.01096963882446289, 'tablefilters.FilterTable': 0.050437211990356445, 'localisations.ExtractTableChannel': 0.0, 'surface_fitting.DistanceToMesh': 2.5462465286254883}\n"
     ]
    },
    {
     "name": "stdout",
     "output_type": "stream",
     "text": [
      "pointcloud.update_from_datasource() - dsname=nn-mean-skel-10nm\n",
      "mesh_layer update\n",
      "mesh_layer update\n",
      "pointcloud.update_from_datasource() - dsname=nn-mean-skel-10nm\n",
      "hl update\n",
      "mesh_layer update\n",
      "mesh_layer update\n",
      "pointcloud.update_from_datasource() - dsname=nn-mean-skel-10nm\n",
      "[[11198.613   18098.385    -289.1469 ]\n",
      " [17623.512    9139.059    -269.82114]\n",
      " [12694.133   13570.329    -418.2917 ]\n",
      " ...\n",
      " [ 8953.807   18177.902    -129.06035]\n",
      " [ 8965.967   18239.338    -140.03487]\n",
      " [ 9284.055   18053.215    -156.7157 ]]\n",
      "starting skeleton query\n",
      "search here\n",
      "[ 48315 119065  59235 ...  16684  16582  19721]\n",
      "[542.4132915  121.36166953 497.12863236 ...  74.63560595  56.40446638\n",
      " 107.69663465]\n",
      "skeleton query  0  took 2.035659074783325 to run\n",
      "starting angle calculations\n"
     ]
    },
    {
     "name": "stderr",
     "output_type": "stream",
     "text": [
      "C:\\Users\\laf62\\.conda\\envs\\pyme\\lib\\site-packages\\ipykernel_launcher.py:241: RuntimeWarning: invalid value encountered in double_scalars\n",
      "C:\\Users\\laf62\\.conda\\envs\\pyme\\lib\\site-packages\\ipykernel_launcher.py:289: RuntimeWarning: invalid value encountered in double_scalars\n",
      "C:\\Users\\laf62\\.conda\\envs\\pyme\\lib\\site-packages\\ipykernel_launcher.py:374: RuntimeWarning: invalid value encountered in true_divide\n",
      "C:\\Users\\laf62\\.conda\\envs\\pyme\\lib\\site-packages\\ipykernel_launcher.py:375: RuntimeWarning: invalid value encountered in true_divide\n"
     ]
    },
    {
     "name": "stdout",
     "output_type": "stream",
     "text": [
      "[[ 7820.69801469 11924.51346431  -416.04073175]\n",
      " [ 7855.32117231 11919.98462363  -396.12399424]\n",
      " [ 7856.65847456 11907.8411887   -461.82573217]\n",
      " ...\n",
      " [20435.0922032  17824.83209569  -242.55236908]\n",
      " [20430.52224627 17782.75041025  -227.37062143]\n",
      " [20442.83700606 17828.39165901  -252.94245487]]\n",
      "mesh_layer update\n",
      "mesh_layer update\n",
      "pointcloud.update_from_datasource() - dsname=nn-mean-skel-10nm\n",
      "hl update\n",
      "pointcloud.update_from_datasource() - dsname=simulated-points\n",
      "hl update\n",
      "mesh_layer update\n",
      "mesh_layer update\n"
     ]
    },
    {
     "name": "stderr",
     "output_type": "stream",
     "text": [
      "DEBUG:PYME.LMVis.visCore:Added layer, datasouce=simulated-points\n"
     ]
    },
    {
     "name": "stdout",
     "output_type": "stream",
     "text": [
      "pointcloud.update_from_datasource() - dsname=nn-mean-skel-10nm\n",
      "pointcloud.update_from_datasource() - dsname=simulated-points\n"
     ]
    },
    {
     "name": "stderr",
     "output_type": "stream",
     "text": [
      "C:\\Users\\laf62\\.conda\\envs\\pyme\\lib\\site-packages\\ipykernel_launcher.py:406: RuntimeWarning: invalid value encountered in true_divide\n",
      "C:\\Users\\laf62\\.conda\\envs\\pyme\\lib\\site-packages\\ipykernel_launcher.py:416: RuntimeWarning: invalid value encountered in true_divide\n"
     ]
    },
    {
     "name": "stdout",
     "output_type": "stream",
     "text": [
      "angle calculations  0  took 59.57159233093262 to run\n",
      "pointcloud.update_from_datasource() - dsname=nn-mean-skel-10nm\n",
      "Viewport:  (982, 894)\n",
      "uint8 (982, 894, 3) 255\n",
      "Loop # 0 took 551.7140820026398 to run\n",
      "start\n",
      "Creating Pipeline\n"
     ]
    },
    {
     "name": "stderr",
     "output_type": "stream",
     "text": [
      "DEBUG:PYME.recipes.recipe:Executing <PYME.recipes.localisations.Pipelineify object at 0x0000015555530CA8>\n",
      "DEBUG:PYME.recipes.localisations:no events found\n",
      "DEBUG:PYME.recipes.recipe:Executing <PYME.recipes.localisations.ProcessColour object at 0x000001557495E2E8>\n",
      "DEBUG:PYME.recipes.recipe:Executing <PYME.recipes.tablefilters.FilterTable object at 0x000001531FB25DC8>\n",
      "DEBUG:PYME.recipes.recipe:Module timings: {'localisations.AddPipelineDerivedVars': 0.0009877681732177734, 'localisations.ProcessColour': 0.011967658996582031, 'tablefilters.FilterTable': 0.008301973342895508, 'localisations.ExtractTableChannel': 0.0, 'surface_fitting.DistanceToMesh': 2.5462465286254883}\n",
      "DEBUG:PYME.LMVis.VisGUI:Creating tabs\n"
     ]
    },
    {
     "name": "stdout",
     "output_type": "stream",
     "text": [
      "recipe.execute()\n",
      "Pipeline Created\n"
     ]
    },
    {
     "name": "stderr",
     "output_type": "stream",
     "text": [
      "DEBUG:PYME.LMVis.VisGUI:Finished creating tabs\n"
     ]
    },
    {
     "name": "stdout",
     "output_type": "stream",
     "text": [
      "0\n",
      "Gui stuff done\n",
      "loading mesh\n",
      "Data munged to vertices, faces\n",
      "initializing halfedges ...\n",
      "vertices.shape = (55074, 3), faces.shape = (110926, 3)\n",
      "iterating edges\n",
      "done initializing halfedges\n",
      "mesh_layer update\n",
      "mesh_layer update\n",
      "mesh_layer update\n",
      "mesh_layer update\n",
      "Data munged to vertices, faces\n",
      "initializing halfedges ...\n",
      "vertices.shape = (654070, 3), faces.shape = (1308980, 3)\n",
      "iterating edges\n",
      "done initializing halfedges\n",
      "mesh_layer update\n",
      "mesh_layer update\n",
      "mesh_layer update\n",
      "mesh_layer update\n",
      "mesh_layer update\n",
      "mesh_layer update\n",
      "mesh_layer update\n",
      "[[ 9.9050166e+03  1.0754295e+04  5.5704838e+01]\n",
      " [ 9.9050234e+03  1.0749146e+04  5.6821648e+01]\n",
      " [ 9.9050303e+03  1.0749145e+04  5.6816406e+01]\n",
      " ...\n",
      " [ 2.0509559e+04  7.0393872e+03 -1.9218291e+00]\n",
      " [ 2.0509561e+04  7.0393833e+03 -1.9228009e+00]\n",
      " [ 2.0509561e+04  7.0393843e+03 -1.9227997e+00]]\n",
      "search here\n",
      "mesh_layer update\n",
      "mesh_layer update\n",
      "pointcloud.update_from_datasource() - dsname=nn-mean-skel-10nm\n",
      "hl update\n",
      "mesh_layer update\n",
      "mesh_layer update\n"
     ]
    },
    {
     "name": "stderr",
     "output_type": "stream",
     "text": [
      "DEBUG:PYME.LMVis.visCore:Added layer, datasouce=nn-mean-skel-10nm\n",
      "DEBUG:PYME.recipes.recipe:Executing <PYME.recipes.localisations.ExtractTableChannel object at 0x000001557495ED08>\n"
     ]
    },
    {
     "name": "stdout",
     "output_type": "stream",
     "text": [
      "pointcloud.update_from_datasource() - dsname=nn-mean-skel-10nm\n",
      "starting filters\n",
      "recipe.execute()\n",
      "mesh_layer update\n",
      "mesh_layer update\n",
      "pointcloud.update_from_datasource() - dsname=nn-mean-skel-10nm\n",
      "hl update\n",
      "mesh_layer update\n",
      "mesh_layer update\n",
      "pointcloud.update_from_datasource() - dsname=nn-mean-skel-10nm\n"
     ]
    },
    {
     "name": "stderr",
     "output_type": "stream",
     "text": [
      "DEBUG:PYME.recipes.recipe:Module timings: {'localisations.AddPipelineDerivedVars': 0.0009877681732177734, 'localisations.ProcessColour': 0.011967658996582031, 'tablefilters.FilterTable': 0.008301973342895508, 'localisations.ExtractTableChannel': 0.0, 'surface_fitting.DistanceToMesh': 2.5462465286254883}\n"
     ]
    },
    {
     "name": "stdout",
     "output_type": "stream",
     "text": [
      "mesh_layer update\n",
      "mesh_layer update\n",
      "pointcloud.update_from_datasource() - dsname=nn-mean-skel-10nm\n",
      "hl update\n",
      "mesh_layer update\n",
      "mesh_layer update\n"
     ]
    },
    {
     "name": "stderr",
     "output_type": "stream",
     "text": [
      "DEBUG:PYME.recipes.recipe:Executing <PYME.recipes.surface_fitting.DistanceToMesh object at 0x000001531FB25708>\n"
     ]
    },
    {
     "name": "stdout",
     "output_type": "stream",
     "text": [
      "pointcloud.update_from_datasource() - dsname=nn-mean-skel-10nm\n",
      "recipe.execute()\n",
      "mesh_layer update\n",
      "mesh_layer update\n",
      "pointcloud.update_from_datasource() - dsname=nn-mean-skel-10nm\n",
      "hl update\n",
      "mesh_layer update\n",
      "mesh_layer update\n"
     ]
    },
    {
     "name": "stderr",
     "output_type": "stream",
     "text": [
      "DEBUG:PYME.recipes.recipe:Module timings: {'localisations.AddPipelineDerivedVars': 0.0009877681732177734, 'localisations.ProcessColour': 0.011967658996582031, 'tablefilters.FilterTable': 0.008301973342895508, 'localisations.ExtractTableChannel': 0.0, 'surface_fitting.DistanceToMesh': 4.171557664871216}\n"
     ]
    },
    {
     "name": "stdout",
     "output_type": "stream",
     "text": [
      "pointcloud.update_from_datasource() - dsname=nn-mean-skel-10nm\n",
      "mesh_layer update\n",
      "mesh_layer update\n",
      "pointcloud.update_from_datasource() - dsname=nn-mean-skel-10nm\n",
      "hl update\n",
      "mesh_layer update\n",
      "mesh_layer update\n"
     ]
    },
    {
     "name": "stderr",
     "output_type": "stream",
     "text": [
      "DEBUG:PYME.recipes.recipe:Executing <PYME.recipes.tablefilters.FilterTable object at 0x000001537A8E46A8>\n"
     ]
    },
    {
     "name": "stdout",
     "output_type": "stream",
     "text": [
      "pointcloud.update_from_datasource() - dsname=nn-mean-skel-10nm\n",
      "recipe.execute()\n",
      "mesh_layer update\n",
      "mesh_layer update\n",
      "pointcloud.update_from_datasource() - dsname=nn-mean-skel-10nm\n",
      "hl update\n",
      "mesh_layer update\n",
      "mesh_layer update\n"
     ]
    },
    {
     "name": "stderr",
     "output_type": "stream",
     "text": [
      "DEBUG:PYME.recipes.recipe:Module timings: {'localisations.AddPipelineDerivedVars': 0.0009877681732177734, 'localisations.ProcessColour': 0.011967658996582031, 'tablefilters.FilterTable': 0.05014204978942871, 'localisations.ExtractTableChannel': 0.0, 'surface_fitting.DistanceToMesh': 4.171557664871216}\n"
     ]
    },
    {
     "name": "stdout",
     "output_type": "stream",
     "text": [
      "pointcloud.update_from_datasource() - dsname=nn-mean-skel-10nm\n",
      "mesh_layer update\n",
      "mesh_layer update\n",
      "pointcloud.update_from_datasource() - dsname=nn-mean-skel-10nm\n",
      "hl update\n",
      "mesh_layer update\n",
      "mesh_layer update\n",
      "pointcloud.update_from_datasource() - dsname=nn-mean-skel-10nm\n",
      "[[ 1.1804130e+04  4.1269111e+03  1.5266888e+01]\n",
      " [ 1.2795321e+04  1.0610935e+04  9.4529434e+01]\n",
      " [ 1.6602867e+04  1.4349514e+04 -6.2777756e+01]\n",
      " ...\n",
      " [ 1.9770283e+04  1.2852727e+04 -2.0730019e+00]\n",
      " [ 1.6533932e+04  1.6921092e+04 -1.1246039e+02]\n",
      " [ 1.9784906e+04  1.2857619e+04 -1.0752064e+01]]\n",
      "starting skeleton query\n",
      "search here\n",
      "[ 44407  60670 156617 ... 227451 153689 227499]\n",
      "[ 83.99251235  54.54908334  47.70105664 ...  19.03269146 144.28128365\n",
      "   4.83486165]\n",
      "skeleton query  1  took 1.691732406616211 to run\n",
      "starting angle calculations\n",
      "[[ 9.90098490e+03  1.07593882e+04  8.17244822e+01]\n",
      " [ 9.87642147e+03  1.07582170e+04  9.98579517e+01]\n",
      " [ 9.91659346e+03  1.07431966e+04  3.60574888e+01]\n",
      " ...\n",
      " [ 2.04046519e+04  7.03729701e+03 -4.12513871e+01]\n",
      " [ 2.04627534e+04  7.02817852e+03  5.74475204e+00]\n",
      " [ 2.04953721e+04  7.02373472e+03 -1.56248127e+01]]\n",
      "mesh_layer update\n",
      "mesh_layer update\n",
      "pointcloud.update_from_datasource() - dsname=nn-mean-skel-10nm\n",
      "hl update\n",
      "pointcloud.update_from_datasource() - dsname=simulated-points\n",
      "hl update\n",
      "mesh_layer update\n",
      "mesh_layer update\n"
     ]
    },
    {
     "name": "stderr",
     "output_type": "stream",
     "text": [
      "DEBUG:PYME.LMVis.visCore:Added layer, datasouce=simulated-points\n"
     ]
    },
    {
     "name": "stdout",
     "output_type": "stream",
     "text": [
      "pointcloud.update_from_datasource() - dsname=nn-mean-skel-10nm\n",
      "pointcloud.update_from_datasource() - dsname=simulated-points\n",
      "angle calculations  1  took 65.51345610618591 to run\n",
      "pointcloud.update_from_datasource() - dsname=nn-mean-skel-10nm\n",
      "Viewport:  (982, 894)\n",
      "uint8 (982, 894, 3) 255\n",
      "Loop # 1 took 1283.8539254665375 to run\n",
      "start\n",
      "Creating Pipeline\n"
     ]
    },
    {
     "name": "stderr",
     "output_type": "stream",
     "text": [
      "DEBUG:PYME.recipes.recipe:Executing <PYME.recipes.localisations.Pipelineify object at 0x00000155E68C7108>\n",
      "DEBUG:PYME.recipes.localisations:no events found\n",
      "DEBUG:PYME.recipes.recipe:Executing <PYME.recipes.localisations.ProcessColour object at 0x000001531FB25F48>\n",
      "DEBUG:PYME.recipes.recipe:Executing <PYME.recipes.tablefilters.FilterTable object at 0x000001557495ECA8>\n",
      "DEBUG:PYME.recipes.recipe:Module timings: {'localisations.AddPipelineDerivedVars': 0.0010035037994384766, 'localisations.ProcessColour': 0.014980077743530273, 'tablefilters.FilterTable': 0.011732339859008789, 'localisations.ExtractTableChannel': 0.0, 'surface_fitting.DistanceToMesh': 4.171557664871216}\n"
     ]
    },
    {
     "name": "stdout",
     "output_type": "stream",
     "text": [
      "recipe.execute()\n",
      "Pipeline Created\n"
     ]
    },
    {
     "name": "stderr",
     "output_type": "stream",
     "text": [
      "DEBUG:PYME.LMVis.VisGUI:Creating tabs\n",
      "DEBUG:PYME.LMVis.VisGUI:Finished creating tabs\n"
     ]
    },
    {
     "name": "stdout",
     "output_type": "stream",
     "text": [
      "0\n",
      "Gui stuff done\n",
      "loading mesh\n",
      "Data munged to vertices, faces\n",
      "initializing halfedges ...\n",
      "vertices.shape = (41299, 3), faces.shape = (83172, 3)\n",
      "iterating edges\n",
      "done initializing halfedges\n",
      "mesh_layer update\n",
      "mesh_layer update\n",
      "mesh_layer update\n",
      "mesh_layer update\n",
      "Data munged to vertices, faces\n",
      "initializing halfedges ...\n",
      "vertices.shape = (295432, 3), faces.shape = (591520, 3)\n",
      "iterating edges\n",
      "done initializing halfedges\n",
      "mesh_layer update\n",
      "mesh_layer update\n",
      "mesh_layer update\n",
      "mesh_layer update\n",
      "mesh_layer update\n",
      "mesh_layer update\n",
      "mesh_layer update\n",
      "[[ 9570.824    19759.363      278.1531  ]\n",
      " [ 9571.224    19759.568      282.52673 ]\n",
      " [ 9572.169    19755.96       280.15176 ]\n",
      " ...\n",
      " [16053.589    12338.75        90.57544 ]\n",
      " [16053.688    12335.572       91.51496 ]\n",
      " [16054.713    12336.551       93.854485]]\n",
      "search here\n",
      "mesh_layer update\n",
      "mesh_layer update\n",
      "pointcloud.update_from_datasource() - dsname=nn-mean-skel-10nm\n",
      "hl update\n",
      "mesh_layer update\n",
      "mesh_layer update\n"
     ]
    },
    {
     "name": "stderr",
     "output_type": "stream",
     "text": [
      "DEBUG:PYME.LMVis.visCore:Added layer, datasouce=nn-mean-skel-10nm\n",
      "DEBUG:PYME.recipes.recipe:Executing <PYME.recipes.localisations.ExtractTableChannel object at 0x0000015600370588>\n"
     ]
    },
    {
     "name": "stdout",
     "output_type": "stream",
     "text": [
      "pointcloud.update_from_datasource() - dsname=nn-mean-skel-10nm\n",
      "starting filters\n",
      "recipe.execute()\n",
      "mesh_layer update\n",
      "mesh_layer update\n",
      "pointcloud.update_from_datasource() - dsname=nn-mean-skel-10nm\n",
      "hl update\n",
      "mesh_layer update\n",
      "mesh_layer update\n"
     ]
    },
    {
     "name": "stderr",
     "output_type": "stream",
     "text": [
      "DEBUG:PYME.recipes.recipe:Module timings: {'localisations.AddPipelineDerivedVars': 0.0010035037994384766, 'localisations.ProcessColour': 0.014980077743530273, 'tablefilters.FilterTable': 0.011732339859008789, 'localisations.ExtractTableChannel': 0.0, 'surface_fitting.DistanceToMesh': 4.171557664871216}\n"
     ]
    },
    {
     "name": "stdout",
     "output_type": "stream",
     "text": [
      "pointcloud.update_from_datasource() - dsname=nn-mean-skel-10nm\n",
      "mesh_layer update\n",
      "mesh_layer update\n",
      "pointcloud.update_from_datasource() - dsname=nn-mean-skel-10nm\n",
      "hl update\n",
      "mesh_layer update\n",
      "mesh_layer update\n",
      "pointcloud.update_from_datasource() - dsname=nn-mean-skel-10nm\n",
      "recipe.execute()\n"
     ]
    },
    {
     "name": "stderr",
     "output_type": "stream",
     "text": [
      "DEBUG:PYME.recipes.recipe:Executing <PYME.recipes.surface_fitting.DistanceToMesh object at 0x000001557495E168>\n"
     ]
    },
    {
     "name": "stdout",
     "output_type": "stream",
     "text": [
      "mesh_layer update\n",
      "mesh_layer update\n",
      "pointcloud.update_from_datasource() - dsname=nn-mean-skel-10nm\n",
      "hl update\n",
      "mesh_layer update\n",
      "mesh_layer update\n"
     ]
    },
    {
     "name": "stderr",
     "output_type": "stream",
     "text": [
      "DEBUG:PYME.recipes.recipe:Module timings: {'localisations.AddPipelineDerivedVars': 0.0010035037994384766, 'localisations.ProcessColour': 0.014980077743530273, 'tablefilters.FilterTable': 0.011732339859008789, 'localisations.ExtractTableChannel': 0.0, 'surface_fitting.DistanceToMesh': 2.2242488861083984}\n"
     ]
    },
    {
     "name": "stdout",
     "output_type": "stream",
     "text": [
      "pointcloud.update_from_datasource() - dsname=nn-mean-skel-10nm\n",
      "mesh_layer update\n",
      "mesh_layer update\n",
      "pointcloud.update_from_datasource() - dsname=nn-mean-skel-10nm\n",
      "hl update\n",
      "mesh_layer update\n",
      "mesh_layer update\n"
     ]
    },
    {
     "name": "stderr",
     "output_type": "stream",
     "text": [
      "DEBUG:PYME.recipes.recipe:Executing <PYME.recipes.tablefilters.FilterTable object at 0x00000155E68C7228>\n"
     ]
    },
    {
     "name": "stdout",
     "output_type": "stream",
     "text": [
      "pointcloud.update_from_datasource() - dsname=nn-mean-skel-10nm\n",
      "recipe.execute()\n",
      "mesh_layer update\n",
      "mesh_layer update\n",
      "pointcloud.update_from_datasource() - dsname=nn-mean-skel-10nm\n",
      "hl update\n",
      "mesh_layer update\n",
      "mesh_layer update\n"
     ]
    },
    {
     "name": "stderr",
     "output_type": "stream",
     "text": [
      "DEBUG:PYME.recipes.recipe:Module timings: {'localisations.AddPipelineDerivedVars': 0.0010035037994384766, 'localisations.ProcessColour': 0.014980077743530273, 'tablefilters.FilterTable': 0.031243324279785156, 'localisations.ExtractTableChannel': 0.0, 'surface_fitting.DistanceToMesh': 2.2242488861083984}\n"
     ]
    },
    {
     "name": "stdout",
     "output_type": "stream",
     "text": [
      "pointcloud.update_from_datasource() - dsname=nn-mean-skel-10nm\n",
      "mesh_layer update\n",
      "mesh_layer update\n",
      "pointcloud.update_from_datasource() - dsname=nn-mean-skel-10nm\n",
      "hl update\n",
      "mesh_layer update\n",
      "mesh_layer update\n",
      "pointcloud.update_from_datasource() - dsname=nn-mean-skel-10nm\n",
      "[[11521.94      9508.314       67.36998 ]\n",
      " [13857.089    14340.538      138.88638 ]\n",
      " [16011.053    14344.698       25.392326]\n",
      " ...\n",
      " [15535.238     9495.116       67.80661 ]\n",
      " [10442.356    16617.682      271.33246 ]\n",
      " [10452.341    16645.445      262.3123  ]]\n",
      "starting skeleton query\n",
      "search here\n",
      "[ 30320  72614 109552 ... 102532   9848   9848]\n",
      "[ 93.65885047 118.38449695 226.90329631 ... 104.38345322 267.54380765\n",
      " 266.47620751]\n",
      "skeleton query  2  took 1.5476317405700684 to run\n",
      "starting angle calculations\n",
      "[[ 9615.0296092   4314.46512618   169.40419848]\n",
      " [ 9561.51060117  4287.59334622    88.28793072]\n",
      " [ 9606.81935042  4321.71864278   156.25328216]\n",
      " ...\n",
      " [15876.16707119 13082.60211693    93.09639856]\n",
      " [15989.71915142 13084.06754463    30.40219869]\n",
      " [15937.60251954 13083.36469616    62.95418325]]\n",
      "mesh_layer update\n",
      "mesh_layer update\n",
      "pointcloud.update_from_datasource() - dsname=nn-mean-skel-10nm\n",
      "hl update\n",
      "pointcloud.update_from_datasource() - dsname=simulated-points\n",
      "hl update\n",
      "mesh_layer update\n",
      "mesh_layer update\n"
     ]
    },
    {
     "name": "stderr",
     "output_type": "stream",
     "text": [
      "DEBUG:PYME.LMVis.visCore:Added layer, datasouce=simulated-points\n"
     ]
    },
    {
     "name": "stdout",
     "output_type": "stream",
     "text": [
      "pointcloud.update_from_datasource() - dsname=nn-mean-skel-10nm\n",
      "pointcloud.update_from_datasource() - dsname=simulated-points\n",
      "angle calculations  2  took 51.1441216468811 to run\n",
      "pointcloud.update_from_datasource() - dsname=nn-mean-skel-10nm\n",
      "Viewport:  (982, 894)\n",
      "uint8 (982, 894, 3) 255\n",
      "Loop # 2 took 513.6632475852966 to run\n",
      "Disposing of FilterEditor\n",
      "<PYME.ui.filterPane.FilterPanel object at 0x000001555C6EF288> <PYME.ui.filterPane.FilterPanel object at 0x000001555C6EF288>\n",
      "<wx._core.ListCtrl object at 0x000001555C6EF3A8> <wx._core.ListCtrl object at 0x000001555C6EF3A8>\n",
      "Disposing of CBEditor\n",
      "Disposing of FilterEditor\n",
      "<PYME.ui.filterPane.FilterPanel object at 0x000001557428FDC8> <PYME.ui.filterPane.FilterPanel object at 0x000001557428FDC8>\n",
      "<wx._core.ListCtrl object at 0x000001557428FB88> <wx._core.ListCtrl object at 0x000001557428FB88>\n",
      "Disposing of HistLimitsEditor\n",
      "Disposing of HistLimitsEditor\n",
      "Disposing of HistLimitsEditor\n",
      "Disposing of HistLimitsEditor\n",
      "Input datasources:  ['_Localizations', 'FitResults', 'surf0', 'skeleton0', 'nn-mean-skel-10nm', 'simulated-points']\n",
      "Creating layers GUI\n",
      "hl update\n",
      "hl update\n",
      "hl update\n",
      "hl update\n",
      "height:  97\n",
      "NB best size: wx.Size(3, 88)\n"
     ]
    }
   ],
   "source": [
    "############################## KDEL Analysis ##############################\n",
    "kdel_output = point_angles_V3(file_list=kdel_list, mesh_list=kdel_mesh_list, skel_list=kdel_skel_list, \n",
    "                              param_list=kdel_param, sim_p = sim_p) "
   ]
  },
  {
   "cell_type": "code",
   "execution_count": null,
   "id": "0d17cef1-891b-420f-9d13-ecd6757486a0",
   "metadata": {},
   "outputs": [],
   "source": [
    "skel_vecs = kdel_output['vecs_hat_ind'][0]\n",
    "loc_vecs = kdel_output['v_hat'][0]\n",
    "sim_vecs = kdel_output['sim_v'][0]\n",
    "sim_skel_vecs = kdel_output['vecs_hat_sim'][0]\n",
    "hand = np.cross(skel_vecs,loc_vecs)\n",
    "sim_hand = np.cross(sim_skel_vecs, sim_vecs)\n",
    "zhand = hand[:,2]\n",
    "sim_zhand = sim_hand[:,2]\n",
    "hand_bool = np.ones(len(zhand))\n",
    "for neg in range(len(zhand)):\n",
    "    if zhand[neg] >= 0:\n",
    "        continue\n",
    "    elif zhand[neg] < 0:\n",
    "        hand_bool[neg] = hand_bool[neg] * -1\n",
    "\n",
    "sim_hand_bool = np.ones(len(sim_zhand))\n",
    "for neg_sim in range(len(sim_zhand)):\n",
    "    if sim_zhand[neg_sim] >= 0:\n",
    "        continue\n",
    "    elif sim_zhand[neg_sim] < 0:\n",
    "        sim_hand_bool[neg_sim] = sim_hand_bool[neg_sim] * -1\n",
    "\n",
    "### Creating an average cross-section\n",
    "import math\n",
    "import matplotlib.pyplot as plt\n",
    "\n",
    "\n",
    "\n",
    "theta = kdel_output['angles'][0]\n",
    "phi = kdel_output['sim_angles'][0]\n",
    "#theta = theta + (np.pi/2)\n",
    "theta = theta*hand_bool\n",
    "phi = phi*sim_hand_bool\n",
    "r = kdel_output['skel_dists'][0]\n",
    "r_sim = kdel_output['sim_dists'][0]\n",
    "#theta = theta * (180/np.pi)\n",
    "x = r*np.cos(theta)\n",
    "y = r*np.sin(theta)\n",
    "z = np.zeros(len(x))\n",
    "x_sim = r_sim*np.cos(phi)\n",
    "y_sim = r_sim*np.sin(phi)\n",
    "#add_ds_from_Nx3(avg_cs, pipeline, pymevis, ds_name='average-cross-section', normals=None)\n",
    "fig = plt.figure(figsize=[8,8])\n",
    "plt.scatter(-y[20000:30000],x[20000:30000],alpha=0.1,s=50)\n",
    "#plt.scatter(-y_sim[20000:30000],x_sim[20000:30000],alpha=0.01,s=50)\n",
    "plt.ylim([-200,200])\n",
    "plt.xlim([-200,200])\n",
    "plt.xlabel('Simulated_Data')"
   ]
  },
  {
   "cell_type": "code",
   "execution_count": null,
   "id": "722df0ed-ddb6-4de3-b102-45363a2ceb64",
   "metadata": {},
   "outputs": [],
   "source": [
    "### Creating an average cross-section\n",
    "import math\n",
    "import matplotlib.pyplot as plt\n",
    "from numpy import pi\n",
    "\n",
    "phi = kdel_output['angles'][0]\n",
    "phi_mirror = -phi + 2*pi\n",
    "#phi_mirror = np.flip(phi_mirror)\n",
    "theta = np.concatenate((phi,phi_mirror))\n",
    "\n",
    "r = np.concatenate((kdel_output['skel_dists'][0],kdel_output['skel_dists'][0]))\n",
    "x = r*np.cos(theta)\n",
    "y = r*np.sin(theta)\n",
    "z = np.zeros(len(x))\n",
    "avg_cs = np.c_[x.ravel(),y.ravel(),z.ravel()]\n",
    "#add_ds_from_Nx3(avg_cs, pipeline, pymevis, ds_name='average-cross-section', normals=None)\n",
    "plt.scatter(x,y)\n",
    "plt.xlim([-1000,1000])\n",
    "plt.ylim([-1000,1000])"
   ]
  },
  {
   "cell_type": "code",
   "execution_count": null,
   "id": "f47e1edb-5417-4823-bce2-0cb3284256d0",
   "metadata": {},
   "outputs": [],
   "source": []
  },
  {
   "cell_type": "code",
   "execution_count": null,
   "id": "139e0508-e90a-4c77-b2ab-0b25417f8a5b",
   "metadata": {},
   "outputs": [],
   "source": [
    "pymevis.glCanvas.layers[6].visible=True\n",
    "pymevis.glCanvas.layers[6].point_size=15\n",
    "pymevis.glCanvas.layers[6].method='spheres'"
   ]
  },
  {
   "cell_type": "code",
   "execution_count": null,
   "id": "88f6d143-77fe-4535-9550-71cca548936c",
   "metadata": {},
   "outputs": [],
   "source": [
    "# Plots a histogram for each set of data onto one graph\n",
    "import matplotlib.pyplot as plt\n",
    "from numpy import pi\n",
    "plt.close(fig=None)\n",
    "\n",
    "# Initialize lists\n",
    "n_sim = []\n",
    "bins_sim = []\n",
    "patches_sim = []\n",
    "bin_num = 20\n",
    "\n",
    "# for j in loops:\n",
    "    # Plot histogram\n",
    "#     if j > 0:\n",
    "#         n, bins, patches = plt.hist(x=sim_output['angles'][int(j)],bins=bin_num, alpha=0.2, rwidth=0.85, \n",
    "#                                     density=True, color='tab:grey', range=(0,pi))\n",
    "#     else:\n",
    "#         n, bins, patches = plt.hist(x=sim_output['angles'][int(j)],bins=bin_num, alpha=0.05, label = 'Simulated', \n",
    "#                                     rwidth=0.85, density=True, color='tab:grey', range=(0,pi))\n",
    "\n",
    "#     # Append plot variables to list\n",
    "#     n_sim.append([n])\n",
    "#     bins_sim.append([bins])\n",
    "#     patches_sim.append([patches])\n",
    "#     # delete variables that are unique to each loop\n",
    "#     del n, bins, patches\n",
    "\n",
    "n_rtn = []\n",
    "n_rtn_sim = []\n",
    "bins_rtn = []\n",
    "bins_rtn_sim = []\n",
    "patches_rtn = []\n",
    "patches_rtn_sim = []\n",
    "for k in range(len(rtn_output['angles'])):\n",
    "    # Plot histogram\n",
    "    if k > 0:\n",
    "        n, bins, patches = plt.hist(x=rtn_output['angles'][int(k)],bins=bin_num, alpha=0.2, \n",
    "                                    rwidth=0.85, density=True, color='lime', range=(0,pi))\n",
    "        sim_n, sim_bins, sim_patches = plt.hist(x=rtn_output['sim_angles'][int(k)],bins=bin_num, alpha=0.2, \n",
    "                                    rwidth=0.85, density=True, color='grey', range=(0,pi))\n",
    "    else:\n",
    "        n, bins, patches = plt.hist(x=rtn_output['angles'][int(k)],bins=bin_num, alpha=0.2, label = 'Rtn4', \n",
    "                                    rwidth=0.85, density=True, color='lime', range=(0,pi))\n",
    "        sim_n, sim_bins, sim_patches = plt.hist(x=rtn_output['sim_angles'][int(k)],bins=bin_num, alpha=0.2, \n",
    "                                    label = 'Rtn4_sim', rwidth=0.85, density=True, color='grey', range=(0,pi))\n",
    "\n",
    "    # Append plot variables to list\n",
    "    n_rtn.append([n])\n",
    "    bins_rtn.append([bins])\n",
    "    patches_rtn.append([patches])\n",
    "    # delete variables that are unique to each loop\n",
    "    del n, bins, patches\n",
    "    \n",
    "# n_sec = []\n",
    "# bins_sec = []\n",
    "# patches_sec = []\n",
    "# for l in range(len(sec_output['angles'])):\n",
    "#     # Plot histogram\n",
    "#     if l > 0:\n",
    "#         n, bins, patches = plt.hist(x=sec_output['angles'][int(l)],bins=bin_num, alpha=0.05, rwidth=0.85, density=True, color='magenta', range=(0,pi))\n",
    "#     else:\n",
    "#         n, bins, patches = plt.hist(x=sec_output['angles'][int(l)],bins=bin_num, alpha=0.05, label = 'Sec61B', rwidth=0.85, density=True, color='magenta', range=(0,pi))\n",
    "\n",
    "#     # Append plot variables to list\n",
    "#     n_sec.append([n])\n",
    "#     bins_sec.append([bins])\n",
    "#     patches_sec.append([patches])\n",
    "#     # delete variables that are unique to each loop\n",
    "#     del n, bins, patches\n",
    "    \n",
    "# n_kdel = []\n",
    "# bins_kdel = []\n",
    "# patches_kdel = []\n",
    "# for l in range(len(angles_kdel_filt)):\n",
    "#     # Plot histogram\n",
    "#     if l > 0:\n",
    "#         n, bins, patches = plt.hist(x=angles_kdel_filt[int(l)],bins=bin_num, alpha=0.05, rwidth=0.85, density=True, \n",
    "#                                     color='gold', range=(0,pi))\n",
    "#     else:\n",
    "#         n, bins, patches = plt.hist(x=angles_kdel_filt[int(l)],bins=bin_num, alpha=0.05, label = 'KDEL', rwidth=0.85, \n",
    "#                                     density=True, color='gold', range=(0,pi))\n",
    "\n",
    "#     # Append plot variables to list\n",
    "#     n_kdel.append([n])\n",
    "#     bins_kdel.append([bins])\n",
    "#     patches_kdel.append([patches])\n",
    "#     # delete variables that are unique to each loop\n",
    "#     del n, bins, patches\n",
    "    \n",
    "# n_tru, bins_tru, patches_tru = plt.hist(x=angles_tru,bins=bin_num, alpha=0.2, label = 'True', rwidth=0.85, density=True, color='cyan', range=(0,pi))\n",
    "\n",
    "# n_rtn, bins_rtn, patches_rtn = plt.hist(x=angles_rtn, bins=bin_num, alpha=0.5, rwidth=0.85, label='Rtn4', density=True, color='lime', range=(0,pi))\n",
    "# n_Sec61B, bins_Sec61B, patches_Sec61B = plt.hist(x=angles_Sec61B, bins=bin_num, alpha=0.5, rwidth=0.85, label='Sec61B', density=True, color='magenta', range=(0,pi))\n",
    "# plt.close(fig=None)\n",
    "\n",
    "# Calculate average histogram\n",
    "\n",
    "\n",
    "plt.xlabel('Angle')\n",
    "plt.ylabel('Normalized # of events')\n",
    "plt.legend()"
   ]
  },
  {
   "cell_type": "code",
   "execution_count": null,
   "id": "2be85f74-ff8a-427a-93a1-73f795e0a411",
   "metadata": {},
   "outputs": [],
   "source": [
    "from PYME.LMVis import gl_render3D_shaders"
   ]
  },
  {
   "cell_type": "code",
   "execution_count": null,
   "id": "8c10277a-7ca4-47bb-894e-d847bd5af867",
   "metadata": {},
   "outputs": [],
   "source": [
    "#pymevis.glCanvas.recenter\n",
    "pymevis.OnResetRotation()\n",
    "pymevis.SetFit()\n",
    "pymevis.RefreshView()"
   ]
  },
  {
   "cell_type": "code",
   "execution_count": null,
   "id": "d1c4e150-939a-4a45-a37b-507e58277d89",
   "metadata": {
    "tags": []
   },
   "outputs": [],
   "source": [
    "##### ARCHIVED CODE FOR REFERENCE ONLY\n",
    "##### This section averages the skeleton and creates vectors that point to a nearest neighbor at least x distance away\n",
    "# Obtain vertex positions of the skeleton and make KDTree from it\n",
    "pipeline.selectDataSource('skeleton0')\n",
    "skelly = pipeline.selectedDataSource\n",
    "skeleton = skelly._vertices['position'][skelly._vertices['halfedge']!=-1]\n",
    "from scipy.spatial import cKDTree\n",
    "tree_skeleton = cKDTree(skeleton)\n",
    "\n",
    "# Average the locations of the skeleton to reduce the Q-tip effect\n",
    "a_ind = tree_skeleton.query_ball_point(skeleton, 20)\n",
    "skeleton[a_ind[0]]\n",
    "\n",
    "mean_skel = np.zeros([len(skeleton),3])\n",
    "for ba in range(len(skeleton)):\n",
    "    mean_skel[ba] = np.mean(skeleton[a_ind[ba]],axis=0)\n",
    "\n",
    "# Make KDTree based on the mean skeleton\n",
    "mean_tree_skeleton = cKDTree(mean_skel)\n",
    "\n",
    "# Find the closest neighbor that is at least 'min_dist' away from point being queried.\n",
    "nneigh_ind = np.zeros([len(mean_skel),1])\n",
    "nneigh_dist = np.zeros([len(mean_skel),1])\n",
    "min_dist = 10\n",
    "for aa in range(len(skeleton)):\n",
    "    dist, ind = mean_tree_skeleton.query(mean_skel[aa], k=len(mean_skel))#, distance_upper_bound=1000)\n",
    "    for ab in range(len(dist)):\n",
    "        if dist[ab] > min_dist:\n",
    "            nneigh_ind[aa] = ind[ab]\n",
    "            nneigh_dist[aa] = dist[ab]\n",
    "            break\n",
    "\n",
    "# Calculate vectors pointing from each point to its nearest neighbor that is at least 'min_dist' away.\n",
    "skel_vecs = np.zeros([len(mean_skel),3])\n",
    "for ac in range(len(skeleton)):\n",
    "    vec = mean_skel[ac] - mean_skel[int(nneigh_ind[ac][0])]\n",
    "    skel_vecs[int(ac)] = vec#np.append([skel_vecs], [vec], axis=0)\n",
    "\n",
    "# Normalize\n",
    "skel_dist_mag = np.c_[nneigh_dist.ravel(),nneigh_dist.ravel(),nneigh_dist.ravel()]\n",
    "vecs_hat = skel_vecs/skel_dist_mag\n",
    "\n",
    "# Add those vectors to the skeleton in the GUI\n",
    "add_ds_from_Nx3(mean_skel, pipeline, pymevis, ds_name=f'nn-mean-skel-{min_dist}nm', normals=vecs_hat)\n",
    "##### The skeleton averaging and vector creation section ends here"
   ]
  }
 ],
 "metadata": {
  "kernelspec": {
   "display_name": "pyme",
   "language": "python",
   "name": "pyme"
  },
  "language_info": {
   "codemirror_mode": {
    "name": "ipython",
    "version": 3
   },
   "file_extension": ".py",
   "mimetype": "text/x-python",
   "name": "python",
   "nbconvert_exporter": "python",
   "pygments_lexer": "ipython3",
   "version": "3.7.9"
  }
 },
 "nbformat": 4,
 "nbformat_minor": 5
}
