{
 "cells": [
  {
   "cell_type": "code",
   "execution_count": 7,
   "id": "0d8bf994-6cdf-4d76-b091-28fab5c0e6ec",
   "metadata": {},
   "outputs": [],
   "source": [
    "# Data paths and parameters\n",
    "# Note: np.load will load saved dictionaries as a numpy array containinga dictionary. Use 'arrayname'.item() to get the actual dictionary\n",
    "import numpy as np\n",
    "import pandas as pd\n",
    "import matplotlib.pyplot as plt\n",
    "from pathlib import Path\n",
    "import os\n",
    "\n",
    "# Paramters\n",
    "binsize = 6\n",
    "d1_name = 'Peripheral'             # name of dataset 1\n",
    "d2_name = 'Perinuclear'              # name of dataset 2\n",
    "\n",
    "savedir = \"K:\\\\SP8\\\\Inner_vs_Outer_Rtn4-intensity_analysis\\\\Results\"\n",
    "d1dir = \"F:\\\\Rtn4_Paper_Data\\\\SP8\\\\Inner_vs_Outer_Rtn4-intensity_analysis\\\\All_Outer_Lineplots\"\n",
    "d2dir = \"F:\\\\Rtn4_Paper_Data\\\\SP8\\\\Inner_vs_Outer_Rtn4-intensity_analysis\\\\All_Inner_Lineplots\"\n",
    "ver = '_V2'\n",
    "\n",
    "# create list of files in data folder\n",
    "d1_list = []\n",
    "for path1 in os.listdir(d1dir):\n",
    "    # check if current path is a file\n",
    "    if os.path.isfile(os.path.join(d1dir, path1)):\n",
    "        d1_list.append(path1)\n",
    "        \n",
    "d2_list = []\n",
    "for path2 in os.listdir(d2dir):\n",
    "    # check if current path is a file\n",
    "    if os.path.isfile(os.path.join(d2dir, path2)):\n",
    "        d2_list.append(path2)"
   ]
  },
  {
   "cell_type": "code",
   "execution_count": 2,
   "id": "48fb558f-a2cf-40d3-b914-79e1c203d919",
   "metadata": {},
   "outputs": [],
   "source": [
    "import csv\n",
    "\n",
    "# Calculate the average of each line plot for each dataset. Multiply the average by 10 (to get the \n",
    "# sum of intensities across the tubule averaged along the tubule)\n",
    "d1_avg = []\n",
    "for a in range(len(d1_list)):\n",
    "    read_csv1 = pd.read_csv(d1dir + '\\\\' + d1_list[a])\n",
    "    read_csv1 = np.array(read_csv1)\n",
    "    for b in range(int(np.size(read_csv1, axis=1)/2)):\n",
    "        col = read_csv1[:,(b*2)+1][~np.isnan(read_csv1[:,(b*2)+1])]\n",
    "        avg = np.nanmean(col)\n",
    "        d1_avg.append(avg)\n",
    "d1_avg = np.array(d1_avg)\n",
    "d1_avg = d1_avg * 10\n",
    "\n",
    "d2_avg = []\n",
    "for c in range(len(d2_list)):\n",
    "    read_csv2 = pd.read_csv(d2dir + '\\\\' + d2_list[c])\n",
    "    read_csv2 = np.array(read_csv2)\n",
    "    for d in range(int(np.size(read_csv2, axis=1)/2)):\n",
    "        col = read_csv2[:,(d*2)+1][~np.isnan(read_csv2[:,(d*2)+1])]\n",
    "        avg = np.nanmean(col)\n",
    "        d2_avg.append(avg)\n",
    "d2_avg = np.array(d2_avg)\n",
    "d2_avg = d2_avg * 10"
   ]
  },
  {
   "cell_type": "code",
   "execution_count": 3,
   "id": "e674eb61",
   "metadata": {},
   "outputs": [],
   "source": [
    "# Function to remove outliers from data\n",
    "def filter_outliers(data):\n",
    "    '''\n",
    "    -----\n",
    "    Input\n",
    "    -----\n",
    "        data: (N,) numpy array of floats\n",
    "            array to filter out outliers\n",
    "            \n",
    "    ------\n",
    "    Output\n",
    "    ------\n",
    "        filt_data: (N-# of outliers,) numpy array of floats\n",
    "            'data' with outliers removed\n",
    "    '''\n",
    "    # find q1 and q3 values\n",
    "    q1, q3 = np.percentile(sorted(data), [25, 75])\n",
    " \n",
    "    # compute IRQ\n",
    "    iqr = q3 - q1\n",
    " \n",
    "    # find lower and upper bounds\n",
    "    lower_bound = q1 - (1.5 * iqr)\n",
    "    upper_bound = q3 + (1.5 * iqr)\n",
    "    \n",
    "    low_inds = data > lower_bound\n",
    "    high_inds = data < upper_bound\n",
    "    inds = low_inds * high_inds\n",
    "    filt_data = data[inds]\n",
    "    #outliers = [x for x in data if x <= lower_bound or x >= upper_bound]\n",
    " \n",
    "    return filt_data, inds"
   ]
  },
  {
   "cell_type": "code",
   "execution_count": 4,
   "id": "802c2b67",
   "metadata": {},
   "outputs": [],
   "source": [
    "# use outlier filter function on averaged data\n",
    "d1_filt, d1_inds = filter_outliers(d1_avg)\n",
    "d2_filt, d2_inds = filter_outliers(d2_avg)\n",
    "\n",
    "# Find the minimum and maximum of all data\n",
    "absmin = np.min([np.min(d1_filt),np.min(d2_filt)])#,np.min(bg_avg)])\n",
    "absmax = np.max([np.max(d1_filt),np.max(d2_filt)])#,np.max(bg_avg)])\n",
    "roundmin = np.round(absmin,-1)\n",
    "roundmax = np.round(absmax,-1)\n",
    "if roundmin > absmin:\n",
    "    roundmin = roundmin - 10\n",
    "\n",
    "if roundmax < absmax:\n",
    "    roundmax = roundmax + 10\n",
    "\n",
    "# establish bins for histogram\n",
    "bins = np.arange(roundmin,roundmax,binsize)"
   ]
  },
  {
   "cell_type": "code",
   "execution_count": 8,
   "id": "66a228f4",
   "metadata": {},
   "outputs": [],
   "source": [
    "# Wilcoxon rank sum statistical test and save to pickled .npy file\n",
    "from scipy.stats import ranksums\n",
    "stats = ranksums(d1_filt,d2_filt)\n",
    "save_stats = savedir + '\\\\' + d1_name +'_vs_' + d2_name + ver + '.npy'\n",
    "np.save(save_stats, stats, allow_pickle=True)"
   ]
  },
  {
   "cell_type": "code",
   "execution_count": null,
   "id": "9de1160d-92d6-447a-b772-aa937f94f7a6",
   "metadata": {},
   "outputs": [],
   "source": [
    "stats"
   ]
  },
  {
   "cell_type": "code",
   "execution_count": 19,
   "id": "482ccef2",
   "metadata": {},
   "outputs": [
    {
     "data": {
      "image/png": "[encoded data removed]",
      "text/plain": [
       "<Figure size 300x250 with 1 Axes>"
      ]
     },
     "metadata": {},
     "output_type": "display_data"
    }
   ],
   "source": [
    "CB_color_cycle = ['#377eb8', '#ff7f00', '#4daf4a',\n",
    "                  '#f781bf', '#a65628', '#984ea3',\n",
    "                  '#999999', '#e41a1c', '#dede00']\n",
    "\n",
    "d1_mean = np.average(d1_filt)\n",
    "d2_mean = np.average(d2_filt)\n",
    "\n",
    "plt.rcParams.update({'font.size': 10}) #18\n",
    "plt.rcParams.update({'legend.frameon': False})\n",
    "fig = plt.figure(figsize=[3,2.5])\n",
    "n1, bins1, patches1 = plt.hist(x=d1_filt,bins=bins, alpha=0.75, rwidth=1, density=False, color=CB_color_cycle[4],range=(0,roundmax),\n",
    "                              label=d1_name + '\\n(n = ' + str(len(d1_filt)) + ')',\n",
    "                               edgecolor=CB_color_cycle[4], histtype='step', linewidth=2)\n",
    "n2, bins2, patches2 = plt.hist(x=d2_filt,bins=bins, alpha=0.75, rwidth=1, density=False, color=CB_color_cycle[8],range=(0,roundmax),\n",
    "                              label=d2_name + '\\n(n = ' + str(len(d2_filt)) + ')',\n",
    "                               edgecolor=CB_color_cycle[8], histtype='step', linewidth=2)\n",
    "plt.xlim(0,125)\n",
    "plt.ylim(bottom=0,top=18)#np.max([n1,n2])+(np.max([n1,n2])/10))\n",
    "# Add dashed line at average value for d1\n",
    "plt.axvline(x=np.rint(d1_mean), linestyle='--',color=CB_color_cycle[4],alpha=0.75)\n",
    "# Add average value as text on plot near top of average line for d1\n",
    "plt.text(d1_mean+2,np.max([n1,n2])+(np.max([n1,n2])/7)-1,str(int(np.rint(d1_mean))),color=CB_color_cycle[4], fontsize='large')\n",
    "# Add dashed line at average value for d2\n",
    "plt.axvline(x=np.rint(d2_mean), linestyle='--',color=CB_color_cycle[8],alpha=0.75)\n",
    "# Add average value as text on plot near top of average line for d2\n",
    "plt.text(d2_mean-14,np.max([n1,n2])+(np.max([n1,n2])/7)-1,str(int(np.rint(d2_mean))),color=CB_color_cycle[8], fontsize='large')\n",
    "# Add p-value text onto plot\n",
    "#plt.text(roundmax-20,np.max([n1,n2])-6,'p = ' + str(np.format_float_scientific(stats[1], precision=2)), fontsize='large')\n",
    "plt.xlabel('Average Rtn4 intensity (a.u)')\n",
    "plt.ylabel('Frequency')\n",
    "plt.legend(loc='right',framealpha=0.25, bbox_to_anchor=(1.02,0.7),fontsize='small')\n",
    "fig.tight_layout()\n",
    "hist_save = savedir + '\\\\' + d1_name +'_vs_' + d2_name + ver + '.png'\n",
    "plt.savefig(hist_save, dpi=300, facecolor='w', edgecolor='w',\n",
    "        orientation='portrait', papertype=None, format=None,\n",
    "        transparent=False, bbox_inches=\"tight\", pad_inches=0.1, metadata=None)\n",
    "plt.show()"
   ]
  },
  {
   "cell_type": "code",
   "execution_count": null,
   "id": "a5606f6d",
   "metadata": {},
   "outputs": [],
   "source": [
    "stats"
   ]
  }
 ],
 "metadata": {
  "kernelspec": {
   "display_name": "pyme",
   "language": "python",
   "name": "pyme"
  },
  "language_info": {
   "codemirror_mode": {
    "name": "ipython",
    "version": 3
   },
   "file_extension": ".py",
   "mimetype": "text/x-python",
   "name": "python",
   "nbconvert_exporter": "python",
   "pygments_lexer": "ipython3",
   "version": "3.7.9"
  }
 },
 "nbformat": 4,
 "nbformat_minor": 5
}
