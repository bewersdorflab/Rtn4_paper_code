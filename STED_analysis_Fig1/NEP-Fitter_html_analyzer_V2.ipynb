{
 "cells": [
  {
   "cell_type": "code",
   "execution_count": null,
   "id": "0e2e8e96",
   "metadata": {},
   "outputs": [],
   "source": [
    "# This script will read the html code from NEP-Fitters webpage and extract\n",
    "# out the PSF-FWHM as well as the other values and their errors into a\n",
    "# structure. Then it will perform a Wilcoxon rank sum test and output the\n",
    "# statistics and histograms comparing populations\n",
    "\n",
    "# Change values of Parameters/variables\n",
    "# Input: html files\n",
    "    # Data is organized that each html file contains both the outer and inner tubule results, in that order.\n",
    "    # The script will separate them based on the number of datapoints and the number of datasets or 'set1'.\n",
    "    # It assumes that there is an even number of outer and inner tubules, so make sure that is the case\n",
    "# Output: \n",
    "#     - png file of histogram\n",
    "#     - pickled .npy file containing stats info from Wilcoxon rank sum statistics"
   ]
  },
  {
   "cell_type": "code",
   "execution_count": 15,
   "id": "14e1789b",
   "metadata": {},
   "outputs": [],
   "source": [
    "# Parameters \n",
    "import numpy as np\n",
    "import os\n",
    "\n",
    "savedir = \"F:\\\\Rtn4_Paper_Data\\\\SP8\\\\Inner_vs_Outer_Diameter_analysis\\\\20221102_Analysis_Results\"\n",
    "#savedir = \"K:\\\\SP8\\\\WT-U2OS_vs_Rtn4KO\\\\Analysis-U2OS-Halo-Sec61B_Vs_Rtn4KO-Halo-Sec61B\\\\Analysis_triplicate\"\n",
    "\n",
    "# Adjust these variables\n",
    "set1 = 9                           # # of files for first set of data (how many cells)\n",
    "#set2 = 2                           # # of files for second set of data (how many cells)\n",
    "diathresh = 30.                     # diameters above this threshold are permissible\n",
    "errthresh = 25.                     # errors below this threshold are permissible\n",
    "\n",
    "d2name = 'Perinuclear';                   # Name of first dataset\n",
    "d1name = 'Peripheral';           # Name of second dataset\n",
    "ddir = \"F:\\\\Rtn4_Paper_Data\\\\SP8\\\\Inner_vs_Outer_Diameter_analysis\\\\All_html\"  # File path to folder with saved data\n",
    "#ddir = \"K:\\\\SP8\\WT-U2OS_vs_Rtn4KO\\\\Analysis-U2OS-Halo-Sec61B_Vs_Rtn4KO-Halo-Sec61B\\\\nep_html_files\"\n",
    "\n",
    "# create list of files in data folder\n",
    "d_list = []\n",
    "for path in os.listdir(ddir):\n",
    "    # check if current path is a file\n",
    "    if os.path.isfile(os.path.join(ddir, path)):\n",
    "        d_list.append(path)\n",
    "        \n",
    "\n",
    "# Histogram adjustments\n",
    "xm1 = -30                           # x coordinate of d1 mean\n",
    "ym1 = -0.3                             # y coordinate of d1 mean\n",
    "xm2 = 2                             # x coordinate of d2 mean\n",
    "ym2 = -0.3                           # y coordinate of d2 mean\n",
    "xp = -60                           # x coordinate of p-value text\n",
    "yp = -5                             # y coordinate of p-value text\n",
    "legloc = 'upper right'\n",
    "\n",
    "# don't touch\n",
    "d1_list = np.zeros(set1,dtype=list)\n",
    "for a in range(set1):\n",
    "    d1_list[a] = ddir + '\\\\' + d_list[a]"
   ]
  },
  {
   "cell_type": "code",
   "execution_count": 2,
   "id": "528adb2d",
   "metadata": {
    "jupyter": {
     "source_hidden": true
    },
    "tags": []
   },
   "outputs": [],
   "source": [
    "import codecs\n",
    "import re\n",
    "\n",
    "# Function to remove outliers from data\n",
    "def filter_outliers(data):\n",
    "    '''\n",
    "    -----\n",
    "    Input\n",
    "    -----\n",
    "        data: (N,) numpy array of floats\n",
    "            array to filter out outliers\n",
    "            \n",
    "    ------\n",
    "    Output\n",
    "    ------\n",
    "        filt_data: (N-# of outliers,) numpy array of floats\n",
    "            'data' with outliers removed\n",
    "    '''\n",
    "    # find q1 and q3 values\n",
    "    q1, q3 = np.percentile(sorted(data), [25, 75])\n",
    " \n",
    "    # compute IRQ\n",
    "    iqr = q3 - q1\n",
    " \n",
    "    # find lower and upper bounds\n",
    "    lower_bound = q1 - (1.5 * iqr)\n",
    "    upper_bound = q3 + (1.5 * iqr)\n",
    "    \n",
    "    low_inds = data > lower_bound\n",
    "    high_inds = data < upper_bound\n",
    "    inds = low_inds * high_inds\n",
    "    filt_data = data[inds]\n",
    "    #outliers = [x for x in data if x <= lower_bound or x >= upper_bound]\n",
    " \n",
    "    return filt_data, inds\n",
    "\n",
    "def nep_reader(data_list):\n",
    "    '''\n",
    "    Read .html file output from NEP-Fitting analysis in PYME. Extract measurements and their erros and output in a \n",
    "    dictionary 'output'. Note: this code only works because the .html file output from NEP Fitting is consistent. It\n",
    "    doesn't parse the .html in a sophisticated way (ie. its gross but it gets the job done).\n",
    "    \n",
    "    -----\n",
    "    Input\n",
    "    -----\n",
    "        data_list: list of strings\n",
    "            Each value in the list is a pathway string for an .html file to be read and data extracted\n",
    "            \n",
    "    ------\n",
    "    Output\n",
    "    ------\n",
    "        output: dictionary\n",
    "            contains keys for each type of measurement output from NEP-Fitting and their errors (N: # of datapoints from \n",
    "            dataset1)\n",
    "                Keys:\n",
    "                    'amplitude'\n",
    "                        N x 1 array of amplitude measurements\n",
    "                        \n",
    "                    'amplitude-error'\n",
    "                        N x 1 array of amplitude errors\n",
    "                        \n",
    "                    'diameter'\n",
    "                        N x 1 array of diameter measurements\n",
    "                        \n",
    "                    'diameter-error'\n",
    "                        N x 1 array of diameter errors\n",
    "                        \n",
    "                    'center'\n",
    "                        N x 1 array of center measurements\n",
    "                        \n",
    "                    'center-error'\n",
    "                        N x 1 array of center errors\n",
    "                        \n",
    "                    'background'\n",
    "                        N x 1 array of background measurements\n",
    "                    \n",
    "                    'background-error'\n",
    "                        N x 1 array of background errors\n",
    "    '''\n",
    "    print(set1)\n",
    "    dpoints = 0\n",
    "    # Loop to determine how many data points there will be total for array initialization\n",
    "    for j in range(len(data_list)):\n",
    "        jr = codecs.open(data_list[j],'r','utf-8')\n",
    "        jread = jr.read()\n",
    "        last_j = str.rfind(jread,'plusmn')\n",
    "        points_test = jread[last_j-330:last_j-323]\n",
    "        dpoints = dpoints + int(re.sub('[^0-9.]','',points_test)) + 1\n",
    "    \n",
    "    # initialize arrays\n",
    "    d1_amp_all = np.zeros(dpoints,dtype=list)\n",
    "    d1_amp_err = np.zeros(dpoints,dtype=list)\n",
    "    d1_diam_all = np.zeros(dpoints,dtype=list)\n",
    "    d1_diam_err = np.zeros(dpoints,dtype=list)\n",
    "    d1_cent_all = np.zeros(dpoints,dtype=list)\n",
    "    d1_cent_err = np.zeros(dpoints,dtype=list)\n",
    "    d1_bg_all = np.zeros(dpoints,dtype=list)\n",
    "    d1_bg_err = np.zeros(dpoints,dtype=list)\n",
    "    count = 0\n",
    "    for c in range(len(data_list)):\n",
    "        f=codecs.open(data_list[c],'r','utf-8')\n",
    "        fread = f.read()\n",
    "        last_p = str.rfind(fread,'plusmn')\n",
    "        d_test = fread[last_p-330:last_p-323]\n",
    "        d_num = int(re.sub('[^0-9.]','',points_test))\n",
    "\n",
    "        if c <= set1:\n",
    "            for d in range(d_num+2):\n",
    "                if d == 0:\n",
    "                    ind = str.find(fread,'plusmn')\n",
    "                    avg_test = fread[ind-8:ind-2]\n",
    "                    # remove non-numericals\n",
    "                    if not avg_test.isnumeric():\n",
    "                        for e in range(len(avg_test)):\n",
    "                            if avg_test[e].isnumeric():\n",
    "                                d1_avg = np.float64(avg_test[e:])\n",
    "                                break\n",
    "                    else:\n",
    "                        d1_avg = float(avg_test)\n",
    "                    fread2 = fread[ind+10:]\n",
    "                else:\n",
    "                    # find amplitude and filter out non-numericals\n",
    "                    ind1 = str.find(fread2,'plusmn')\n",
    "                    amp_test = fread2[ind1-8:ind1-2]\n",
    "                    d1_amp_all[count] = np.float64(re.sub('[^0-9.]','',amp_test))\n",
    "                    amp_err = fread2[ind1+6:ind1+13]\n",
    "                    d1_amp_err[count] = np.float64(re.sub('[^0-9.]','',amp_err))\n",
    "                    fread2 = fread2[ind1+10:]\n",
    "                    \n",
    "                    # find diameter and filter out non-numericals\n",
    "                    ind2 = str.find(fread2,'plusmn')\n",
    "                    diam_test = fread2[ind2-8:ind2-2]\n",
    "                    d1_diam_all[count] = np.float64(re.sub('[^0-9.]','',diam_test))\n",
    "                    diam_err = fread2[ind2+6:ind2+13]\n",
    "                    d1_diam_err[count] = np.float64(re.sub('[^0-9.]','',diam_err))\n",
    "                    fread2 = fread2[ind2+10:]\n",
    "                    \n",
    "                    # find center and filter out non-numericals\n",
    "                    ind3 = str.find(fread2,'plusmn')\n",
    "                    cent_test = fread2[ind3-8:ind3-2]\n",
    "                    d1_cent_all[count] = np.float64(re.sub('[^0-9.]','',cent_test))\n",
    "                    cent_err = fread2[ind3+6:ind3+13]\n",
    "                    d1_cent_err[count] = np.float64(re.sub('[^0-9.]','',cent_err))\n",
    "                    fread2 = fread2[ind3+10:]\n",
    "                    \n",
    "                    # find background and filter out non-numericals\n",
    "                    ind4 = str.find(fread2,'plusmn')\n",
    "                    bg_test = fread2[ind4-7:ind4-2]\n",
    "                    d1_bg_all[count] = np.float64(re.sub('[^0-9.]','',bg_test))\n",
    "                    bg_err = fread2[ind4+6:ind4+13]\n",
    "                    d1_bg_err[count] = np.float64(re.sub('[^0-9.]','',bg_err))\n",
    "                    fread2 = fread2[ind4+10:]\n",
    "                    count = count + 1\n",
    "                      \n",
    "    output = {'amplitude': d1_amp_all,'amplitude-error': d1_amp_err, \n",
    "              'diameter': d1_diam_all, 'diameter-error': d1_diam_err,\n",
    "              'center': d1_cent_all, 'center-error': d1_cent_err, \n",
    "              'background':d1_bg_all, 'background-error': d1_bg_err}\n",
    "\n",
    "    return output"
   ]
  },
  {
   "cell_type": "code",
   "execution_count": 3,
   "id": "a8360ff6",
   "metadata": {
    "jupyter": {
     "source_hidden": true
    },
    "tags": []
   },
   "outputs": [
    {
     "name": "stdout",
     "output_type": "stream",
     "text": [
      "9\n"
     ]
    }
   ],
   "source": [
    "# Read NEP Fitter html files and extract information\n",
    "d1_output = nep_reader(d1_list)"
   ]
  },
  {
   "cell_type": "code",
   "execution_count": 4,
   "id": "e99b4a53-3545-46e2-9760-3c1875b058e8",
   "metadata": {
    "jupyter": {
     "source_hidden": true
    },
    "tags": []
   },
   "outputs": [],
   "source": [
    "# Create filters to get out only the outer or inner datapoints\n",
    "plen = len(d1_output['amplitude']) #determine total number of datapoints\n",
    "# batch assumes that there is an even number of datapoints from each cell for each set (ex: 10 inner tubules and 10 outer tubules)\n",
    "batch = int(plen/set1/2) #determine how many datapoints from each cell belong to set1 or set2\n",
    "# Function that creates a list of indices based on batch (ex: 0-9, skip 10-19, 20-29, skip 30-39, etc)\n",
    "def gen(x):\n",
    "    while x + 10 <= plen:\n",
    "        yield list(range(x,x+10))#(tuple(range(x,x+10)))\n",
    "        x += batch*2\n",
    "# Create lists for outer tubules and inner tubules and flatten them\n",
    "outer_bool_filt = list(gen(x=0))\n",
    "outer_bool_flat = [item for sublist in outer_bool_filt for item in sublist]\n",
    "inner_bool_filt = list(gen(x=10))\n",
    "inner_bool_flat = [item for sublist in inner_bool_filt for item in sublist]"
   ]
  },
  {
   "cell_type": "code",
   "execution_count": 5,
   "id": "1b97884f-f4e2-4886-8446-040e7ee3cd98",
   "metadata": {
    "jupyter": {
     "source_hidden": true
    },
    "tags": []
   },
   "outputs": [],
   "source": [
    "# Use index lists to extract out tubule measurements from each set (ex: outer and inner tubules)\n",
    "diam_outer = d1_output['diameter'][outer_bool_flat]\n",
    "diam_inner = d1_output['diameter'][inner_bool_flat]\n",
    "err_outer = d1_output['diameter-error'][outer_bool_flat]\n",
    "err_inner = d1_output['diameter-error'][inner_bool_flat]"
   ]
  },
  {
   "cell_type": "code",
   "execution_count": 6,
   "id": "2c9f4fd1-f672-4273-b33f-0361978d74e2",
   "metadata": {
    "jupyter": {
     "source_hidden": true
    },
    "tags": []
   },
   "outputs": [],
   "source": [
    "# apply error and diameter thresholds\n",
    "diam_filt_outer = diam_outer >= diathresh\n",
    "err_filt_outer = err_outer <= errthresh\n",
    "diam_filt_inner = diam_inner >= diathresh\n",
    "err_filt_inner = err_outer <= errthresh\n",
    "filt_outer = diam_filt_outer*err_filt_outer\n",
    "filt_inner = diam_filt_inner*err_filt_inner\n",
    "diam_outer = diam_outer[filt_outer]\n",
    "diam_inner = diam_inner[filt_inner]\n",
    "err_outer = err_outer[filt_outer]\n",
    "err_inner = err_inner[filt_inner]"
   ]
  },
  {
   "cell_type": "code",
   "execution_count": 7,
   "id": "bbfbe78b",
   "metadata": {
    "jupyter": {
     "source_hidden": true
    },
    "tags": []
   },
   "outputs": [
    {
     "data": {
      "text/plain": [
       "RanksumsResult(statistic=-2.605598037470524, pvalue=0.009171402266567473)"
      ]
     },
     "execution_count": 7,
     "metadata": {},
     "output_type": "execute_result"
    }
   ],
   "source": [
    "# Wilcoxon rank sum statistical test and save to pickled .npy file\n",
    "from scipy.stats import ranksums\n",
    "stats = ranksums(diam_outer,diam_inner)\n",
    "save_stats = savedir + '\\\\' + d1name +'_vs_' + d2name + '.npy'\n",
    "np.save(save_stats, stats, allow_pickle=True)\n",
    "stats"
   ]
  },
  {
   "cell_type": "code",
   "execution_count": 17,
   "id": "5e1abddf",
   "metadata": {},
   "outputs": [
    {
     "data": {
      "image/png": "[encoded data removed]",
      "text/plain": [
       "<Figure size 640x480 with 1 Axes>"
      ]
     },
     "metadata": {},
     "output_type": "display_data"
    }
   ],
   "source": [
    "# Graph for Inner vs Outer tubules\n",
    "\n",
    "CB_color_cycle = ['#377eb8', '#ff7f00', '#4daf4a',\n",
    "                  '#f781bf', '#a65628', '#984ea3',\n",
    "                  '#999999', '#e41a1c', '#dede00']\n",
    "\n",
    "d_max = np.max([np.max(diam_outer),np.max(diam_inner)])\n",
    "roundmax = np.around(d_max,-1)\n",
    "bins = np.arange(0,220,10)\n",
    "d1_mean = np.average(diam_outer,axis=0)\n",
    "d2_mean = np.average(diam_inner,axis=0)\n",
    "\n",
    "import matplotlib.pyplot as plt\n",
    "plt.rcParams.update({'font.size': 16}) #32\n",
    "plt.rcParams.update({'legend.frameon': False})\n",
    "fig = plt.figure()#figsize=[14,10])\n",
    "\n",
    "n1, bins1, patches1 = plt.hist(x=diam_outer,bins=bins, alpha=0.5, rwidth=1, density=False, color=CB_color_cycle[1],\n",
    "                              label=d1name + '\\n(n = ' + str(len(diam_outer)) + ')',edgecolor='k',range=(0,200))\n",
    "n2, bins2, patches2 = plt.hist(x=diam_inner,bins=bins, alpha=0.5, rwidth=1, density=False, color=CB_color_cycle[6],\n",
    "                              label=d2name + '\\n(n = ' + str(len(diam_inner)) + ')',edgecolor='k',range=(0,200))\n",
    "\n",
    "plt.ylim(bottom=0,top=np.max([n1,n2])+(np.max([n1,n2])/10))\n",
    "\n",
    "# Add dashed line at average value for d1\n",
    "plt.axvline(x=d1_mean, linestyle='--',color=CB_color_cycle[1],alpha=0.5)\n",
    "\n",
    "# Add average value as text on plot near top of average line for d1\n",
    "plt.text(d1_mean+xm1,np.max([n1,n2])+(np.max([n1,n2])/20)+ym1,str(np.round(d1_mean,1)),color=CB_color_cycle[1], fontsize='large')\n",
    "\n",
    "# Add dashed line at average value for d2\n",
    "plt.axvline(x=d2_mean, linestyle='--',color=CB_color_cycle[6],alpha=0.5)\n",
    "\n",
    "# Add average value as text on plot near top of average line for d2\n",
    "plt.text(d2_mean+xm2,np.max([n1,n2])+(np.max([n1,n2])/20)+ym2,str(np.round(d2_mean,1)),color=CB_color_cycle[6], fontsize='large')\n",
    "\n",
    "# Add p-value text onto plot\n",
    "#plt.text(roundmax+xp,np.max([n1,n2])+yp,'p = ' + str(np.format_float_scientific(stats[1], precision=2)), fontsize='large')\n",
    "\n",
    "plt.xlabel('Tubule diameter (nm)')\n",
    "plt.ylabel('Frequency')\n",
    "plt.legend(loc=legloc,framealpha=0.25, bbox_to_anchor=(1.02,0.95))\n",
    "\n",
    "hist_save = savedir + '\\\\' + d1name +'_vs_' + d2name + '.png'\n",
    "plt.savefig(hist_save, dpi=300, facecolor='w', edgecolor='w',\n",
    "        orientation='portrait', papertype=None, format=None,\n",
    "        transparent=False, bbox_inches=\"tight\", pad_inches=0.1,\n",
    "        metadata=None)\n",
    "\n",
    "plt.show()\n",
    "plt.close()"
   ]
  },
  {
   "cell_type": "code",
   "execution_count": null,
   "id": "4f03735e",
   "metadata": {},
   "outputs": [],
   "source": [
    "# class Parse(HTMLParser):\n",
    "#     def __init__(self):\n",
    "#     #Since Python 3, we need to call the __init__() function \n",
    "#     #of the parent class\n",
    "#         super().__init__()\n",
    "#         self.reset()\n",
    " \n",
    "#     #Defining what the methods should output when called by HTMLParser.\n",
    "#     def handle_starttag(self, tag, attrs):\n",
    "#         print(\"Start tag: \", tag)\n",
    "#         for a in attrs:\n",
    "#             print(\"Attributes of the tag: \", a)\n",
    " \n",
    "#     def handle_data(self, data):\n",
    "#         print(\"Here's the data: \", data)\n",
    "#         return data\n",
    " \n",
    "#     def handle_endtag(self, tag):\n",
    "#         print(\"End tag: \", tag)\n",
    " \n",
    " \n",
    "# testParser = Parse()\n",
    "# poop = testParser.feed(fread)"
   ]
  },
  {
   "cell_type": "code",
   "execution_count": null,
   "id": "b3135d10-71ca-4f7c-be2b-99b307fffe9c",
   "metadata": {},
   "outputs": [],
   "source": []
  }
 ],
 "metadata": {
  "kernelspec": {
   "display_name": "pyme",
   "language": "python",
   "name": "pyme"
  },
  "language_info": {
   "codemirror_mode": {
    "name": "ipython",
    "version": 3
   },
   "file_extension": ".py",
   "mimetype": "text/x-python",
   "name": "python",
   "nbconvert_exporter": "python",
   "pygments_lexer": "ipython3",
   "version": "3.7.9"
  }
 },
 "nbformat": 4,
 "nbformat_minor": 5
}
