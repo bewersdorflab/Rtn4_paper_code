{
 "cells": [
  {
   "cell_type": "code",
   "execution_count": 1,
   "id": "3eba5224-eac8-4f36-a8a6-310b6e712e04",
   "metadata": {},
   "outputs": [],
   "source": [
    "import numpy as np\n",
    "import matplotlib.pyplot as plt\n",
    "\n",
    "#Colorblind friendly colors\n",
    "CB_color_cycle = ['#377eb8', '#ff7f00', '#4daf4a',\n",
    "                  '#f781bf', '#a65628', '#984ea3',\n",
    "                  '#999999', '#e41a1c', '#dede00']\n",
    "\n",
    "# PARAMETERS to Change\n",
    "\n",
    "# Save location\n",
    "savedir = \"C:\\\\Users\\\\laf62\\\\Desktop\\\\LAF-Drive\\\\Yale_University\\\\Bewersdorf_Lab\\\\Publication Figures\\\\Publication Figures - 20211212\\\\Counting_Figure\\\\Nup96_histogram\"\n",
    "\n",
    "# File path to folder containing csv files with cluster measurements\n",
    "ddir = \"C:\\\\Users\\\\laf62\\\\Desktop\\\\LAF-Drive\\\\Yale_University\\\\Bewersdorf_Lab\\\\Publication Figures\\\\Publication Figures - 20211212\\\\Counting_Figure\\\\Nup96_histogram\"\n",
    "\n",
    "# base name of files (should all be the same except for the '_#' at the end but don't include that here)\n",
    "dname = \"MATLAB_hist_extraction\"\n",
    "\n",
    "ver = 'V2' #version name for files to not overwrite old ones\n",
    "\n",
    "# number of files to analyze\n",
    "fnum = 3\n",
    "bin_size = 2\n",
    "\n",
    "# color list -> should be as long as the number of datasets you're analyzing\n",
    "colors = [CB_color_cycle[0], CB_color_cycle[1], CB_color_cycle[2]]\n",
    "names = ['Exp. 1', 'Exp. 2', 'Exp. 3']\n",
    "\n",
    "# Don't touch\n",
    "cluster_list = []\n",
    "c_data_all = np.zeros(fnum,dtype=list)\n",
    "count_max = 0\n",
    "for a in range(fnum):\n",
    "    cluster_list.append(ddir+'\\\\'+dname+'_'+str(int(a+1))+'.csv')\n",
    "    c_data_all[a] = np.genfromtxt(cluster_list[a],delimiter=',')\n",
    "    count_max = max(max(c_data_all[a][:,0]),count_max)"
   ]
  },
  {
   "cell_type": "code",
   "execution_count": 2,
   "id": "ee0caff9-b9e9-48ac-a236-e55b5a1dc999",
   "metadata": {},
   "outputs": [],
   "source": [
    "# Adjust the data to reflect the desired bin_width\n",
    "adj_data_x = []\n",
    "adj_data_n = []\n",
    "for b in range(fnum):\n",
    "    adj_data = np.zeros([int((count_max)/bin_size),2])\n",
    "    counter = 0\n",
    "    for a in range(int(len(c_data_all[b])/bin_size)):\n",
    "        adj_data[a,0] = (c_data_all[b][a+counter,0] + c_data_all[b][a+counter+1,0])/2\n",
    "        adj_data[a,1] = c_data_all[b][a+counter,1] + c_data_all[b][a+counter+1,1]\n",
    "        counter = counter + bin_size - 1\n",
    "    adj_data_x.append(adj_data[:,0])\n",
    "    adj_data_n.append(adj_data[:,1])\n",
    "    if not adj_data_x[b][-1] == 0:\n",
    "        avg_data_x = adj_data_x[b]\n",
    "avg_data_n = np.average(adj_data_n,axis=0)\n",
    "std_data_n = np.std(avg_data_n,axis=0)"
   ]
  },
  {
   "cell_type": "code",
   "execution_count": 9,
   "id": "45882c48-5052-43d6-858e-caa0caeae53b",
   "metadata": {},
   "outputs": [
    {
     "data": {
      "image/png": "[encoded data removed]",
      "text/plain": [
       "<Figure size 300x200 with 1 Axes>"
      ]
     },
     "metadata": {},
     "output_type": "display_data"
    }
   ],
   "source": [
    "import matplotlib.pyplot as plt\n",
    "plt.close(fig=None)\n",
    "plt.rcParams.update({'font.size': 9})\n",
    "# Average histogram of all experiments\n",
    "fig = plt.figure(figsize=[3,2])\n",
    "for c in range(fnum):\n",
    "    plt.bar(avg_data_x, adj_data_n[c], width=bin_size, label=names[c], color=colors[c], alpha=0.3, edgecolor = 'k',\n",
    "            ecolor='tab:blue')#,yerr=n_std)\n",
    "    #plt.axvline(x=med_avg, linestyle='--',color='tab:red',alpha=1)\n",
    "    #plt.text(med_avg+1,np.max(n_avg),str(np.round(med_avg,2)),color='tab:red', fontsize='large')\n",
    "    plt.xlabel('Localizations per NPC')\n",
    "    plt.ylabel('Frequency')\n",
    "    plt.xlim([0,110])\n",
    "plt.legend()\n",
    "save_path = savedir + '\\\\All_NPC_Hists_' + ver + '.png'\n",
    "plt.savefig(save_path, dpi=600, facecolor='w', edgecolor='w',\n",
    "        orientation='portrait', papertype=None, format=None,\n",
    "        transparent=False, bbox_inches='tight', pad_inches=0, metadata=None)\n",
    "plt.show()\n",
    "plt.close(fig=None)"
   ]
  },
  {
   "cell_type": "code",
   "execution_count": null,
   "id": "0fd86cc5-4841-4f9c-8477-a0ec1d9a28f5",
   "metadata": {},
   "outputs": [],
   "source": [
    "plt.close(fig=None)\n",
    "\n",
    "plt.bar(avg_data_x, avg_data_n, width=bin_size, label='Average', color='tab:blue', alpha=0.75, edgecolor='k',\n",
    "        yerr=std_data_n, ecolor='tab:blue')\n",
    "plt.xlabel('Localizations per NPC')\n",
    "plt.ylabel('Average frequency')\n",
    "plt.show()"
   ]
  },
  {
   "cell_type": "code",
   "execution_count": null,
   "id": "dd73c288-c80f-4e36-b7bf-5b970b2a82af",
   "metadata": {},
   "outputs": [],
   "source": [
    "plt.close(fig=None)\n",
    "\n",
    "# Average histogram of all experiments\n",
    "plt.bar(c_data[:,0], c_data[:,1], width=4, label='Exp 1', color='tab:blue', alpha=0.75, edgecolor = 'k',\n",
    "        ecolor='tab:blue')#,yerr=n_std)\n",
    "#plt.axvline(x=med_avg, linestyle='--',color='tab:red',alpha=1)\n",
    "#plt.text(med_avg+1,np.max(n_avg),str(np.round(med_avg,2)),color='tab:red', fontsize='large')\n",
    "plt.xlabel('Localizations per NPC')\n",
    "plt.ylabel('Frequency')\n",
    "plt.show()"
   ]
  },
  {
   "cell_type": "code",
   "execution_count": null,
   "id": "0d00373b-d762-4aa2-b096-7c9972a437b9",
   "metadata": {},
   "outputs": [],
   "source": [
    "c_data"
   ]
  },
  {
   "cell_type": "code",
   "execution_count": null,
   "id": "cce8e315-1c1e-4dfe-97e7-6ecebd3dddcb",
   "metadata": {},
   "outputs": [],
   "source": []
  }
 ],
 "metadata": {
  "kernelspec": {
   "display_name": "pyme",
   "language": "python",
   "name": "pyme"
  },
  "language_info": {
   "codemirror_mode": {
    "name": "ipython",
    "version": 3
   },
   "file_extension": ".py",
   "mimetype": "text/x-python",
   "name": "python",
   "nbconvert_exporter": "python",
   "pygments_lexer": "ipython3",
   "version": "3.7.9"
  }
 },
 "nbformat": 4,
 "nbformat_minor": 5
}
