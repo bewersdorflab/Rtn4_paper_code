{
 "cells": [
  {
   "cell_type": "code",
   "execution_count": null,
   "id": "4abccdcc-b654-4530-aa3f-eb6c64aa9263",
   "metadata": {
    "tags": []
   },
   "outputs": [],
   "source": [
    "from PYME.LMVis import VisGUI\n",
    "\n",
    "from PYME.IO import tabular\n",
    "import numpy as np\n",
    "\n",
    "from ch_shrinkwrap import _membrane_mesh as membrane_mesh\n",
    "from PYME.LMVis.layers.mesh import TriangleRenderLayer\n",
    "\n",
    "%gui wx"
   ]
  },
  {
   "cell_type": "code",
   "execution_count": null,
   "id": "1c6fe2c5-ada2-4d6b-b3b0-3e8315efd51d",
   "metadata": {
    "tags": []
   },
   "outputs": [],
   "source": [
    "pymevis = VisGUI.ipython_pymevisualize()\n",
    "pipeline = pymevis.pipeline"
   ]
  },
  {
   "cell_type": "code",
   "execution_count": null,
   "id": "eb0d4794-cfa7-4cb1-a376-c9718a48db6c",
   "metadata": {
    "tags": []
   },
   "outputs": [],
   "source": [
    "import numpy as np\n",
    "from pathlib import Path\n",
    "import os\n",
    "\n",
    "#Parameters to change\n",
    "save_loc = \"C:\\\\Users\\\\laf62\\\\Desktop\\\\LAF-Drive\\\\Yale_University\\\\Bewersdorf_Lab\\\\Publication Figures\\\\Publication Figures - 20211212\\Curvature_Figure\\\\20221014_analysis_V2\\\\\"\n",
    "fig_name = 'rtn4_density_50nm_average_V2.png'\n",
    "sets = 3\n",
    "data = [\"C:\\\\Users\\\\laf62\\\\Desktop\\\\LAF-Drive\\\\Yale_University\\\\Bewersdorf_Lab\\\\Publication Figures\\\\Publication Figures - 20211212\\\\Curvature_Figure\\\\20221014_analysis_V2\\\\rtn4_density_counts_dataset1_V2.npy\",\n",
    "       \"C:\\\\Users\\\\laf62\\\\Desktop\\\\LAF-Drive\\\\Yale_University\\\\Bewersdorf_Lab\\\\Publication Figures\\\\Publication Figures - 20211212\\\\Curvature_Figure\\\\20221014_analysis_V2\\\\rtn4_density_counts_dataset2_V2.npy\",\n",
    "       \"C:\\\\Users\\\\laf62\\\\Desktop\\\\LAF-Drive\\\\Yale_University\\\\Bewersdorf_Lab\\\\Publication Figures\\\\Publication Figures - 20211212\\\\Curvature_Figure\\\\20221014_analysis_V2\\\\rtn4_density_counts_dataset3_V2.npy\"]\n",
    "\n",
    "# Import data\n",
    "curv = []\n",
    "rtn = []\n",
    "for a in range(sets):\n",
    "    output = np.load(data[a], allow_pickle=True)\n",
    "    output = output.item()\n",
    "    curv.append(output['curf-count'])\n",
    "    rtn.append(output['rtn-count'])\n",
    "\n",
    "bins = output['bins']\n",
    "curv_avg = np.average(curv, axis=0)\n",
    "rtn_avg = np.average(rtn, axis=0)"
   ]
  },
  {
   "cell_type": "code",
   "execution_count": null,
   "id": "ca5c1103-6ac2-47c3-8b1e-827a93069eea",
   "metadata": {
    "tags": []
   },
   "outputs": [],
   "source": [
    "import matplotlib.pyplot as plt\n",
    "import matplotlib\n",
    "matplotlib.rcParams.update({'font.size': 20})\n",
    "\n",
    "fig, axs = plt.subplots(3,1, figsize=(12,36))\n",
    "axs[0].step(bins[:-1], curv_avg, color='magenta', linewidth=3)\n",
    "axs[0].set_yscale('log')\n",
    "\n",
    "axs[1].step(bins[:-1], rtn_avg, color='green', linewidth=3)\n",
    "axs[1].set_yscale('log')\n",
    "\n",
    "axs[2].step(bins[:-1], rtn_avg/curv_avg, color='black', linewidth=3)\n",
    "x0 = bins[:-1][np.argmax(curv_avg)]\n",
    "y0 = np.max(curv_avg)//3\n",
    "dx = 0.5*(bins[1]-bins[0])\n",
    "\n",
    "#x0m = np.median(mesh.curvature_principal1)\n",
    "max_dia = 1/x0\n",
    "\n",
    "x1 =bins[:-1][np.argmax(rtn_avg)]\n",
    "y1 = np.max(rtn_avg)//3\n",
    "\n",
    "#x1m = np.median(use_curv)\n",
    "\n",
    "x2 = bins[:-1][np.argmax(rtn_avg/curv_avg)]\n",
    "y2 = np.max(rtn_avg/curv_avg)\n",
    "axs[2].axvline(x2, linestyle='--', c='k')\n",
    "axs[2].text(x2+dx,y2*1.07, str('{:.2f}'.format(2*(1/x2)) + ' nm'))#            f'{2*(1/x2)} nm')#f'1/{(1/x2):.0f} nm')\n",
    "x2m = bins[:-1][np.argsort(rtn_avg/curv_avg)[len(rtn_avg/curv_avg)//2]]\n",
    "\n",
    "\n",
    "# Find ticks\n",
    "tick0 = np.max(curv_avg)/4\n",
    "tick0_list = [0, tick0, tick0*2, tick0*3, tick0*4, tick0*5]\n",
    "\n",
    "axs[0].set_ylabel('Frequency', color='magenta')\n",
    "axs[1].set_ylabel('Rtn4 \\nDensity', color='green')\n",
    "axs[2].set_ylabel('Rtn4 Density/\\nFrequency', color='black')\n",
    "axs[2].set_xlabel('Maximal principal curvature (1/nm)')\n",
    "plt.subplots_adjust(wspace=0, hspace=0)\n",
    "fig.tight_layout()\n",
    "plt.show()"
   ]
  },
  {
   "cell_type": "code",
   "execution_count": null,
   "id": "5cee9523-7828-4d04-b855-1702dd6d9759",
   "metadata": {},
   "outputs": [],
   "source": [
    "# Save figure\n",
    "fig.savefig(save_loc + fig_name, dpi=600)"
   ]
  },
  {
   "cell_type": "code",
   "execution_count": null,
   "id": "a67df182-25ac-47e8-8850-647fe784a879",
   "metadata": {},
   "outputs": [],
   "source": []
  }
 ],
 "metadata": {
  "kernelspec": {
   "display_name": "pyme",
   "language": "python",
   "name": "pyme"
  },
  "language_info": {
   "codemirror_mode": {
    "name": "ipython",
    "version": 3
   },
   "file_extension": ".py",
   "mimetype": "text/x-python",
   "name": "python",
   "nbconvert_exporter": "python",
   "pygments_lexer": "ipython3",
   "version": "3.7.9"
  }
 },
 "nbformat": 4,
 "nbformat_minor": 5
}
