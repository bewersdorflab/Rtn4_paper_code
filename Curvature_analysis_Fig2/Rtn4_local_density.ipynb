{
 "cells": [
  {
   "cell_type": "code",
   "execution_count": 1,
   "id": "5e128380-baff-496a-a842-181d18c903d3",
   "metadata": {},
   "outputs": [
    {
     "name": "stderr",
     "output_type": "stream",
     "text": [
      "ERROR:PYME.recipes.modules:Error loading plugin: pyme_picasso.recipe_modules.conversion\n",
      "Traceback (most recent call last):\n",
      "  File \"c:\\users\\laf62\\code\\python-microscopy\\PYME\\recipes\\modules.py\", line 44, in <module>\n",
      "    m = __import__(mn, fromlist=mn.split('.')[:-1])\n",
      "ModuleNotFoundError: No module named 'pyme_picasso'\n"
     ]
    },
    {
     "name": "stdout",
     "output_type": "stream",
     "text": [
      "Trying to load 3rd party recipe module pyme_4pi.recipe_modules.conversion\n",
      "Loaded 3rd party recipe module pyme_4pi.recipe_modules.conversion\n",
      "Trying to load 3rd party recipe module nep_fitting.recipe_modules.nep_fits\n",
      "Loaded 3rd party recipe module nep_fitting.recipe_modules.nep_fits\n",
      "Trying to load 3rd party recipe module cc_drift_cor.plugins.recipes.processing\n",
      "Loaded 3rd party recipe module cc_drift_cor.plugins.recipes.processing\n",
      "Trying to load 3rd party recipe module cc_drift_cor.plugins.recipes.chung_cc\n",
      "Loaded 3rd party recipe module cc_drift_cor.plugins.recipes.chung_cc\n",
      "Trying to load 3rd party recipe module ch_shrinkwrap.recipe_modules.surface_fitting\n",
      "Loaded 3rd party recipe module ch_shrinkwrap.recipe_modules.surface_fitting\n",
      "Trying to load 3rd party recipe module pyme_picasso.recipe_modules.conversion\n",
      "Trying to load 3rd party recipe module cc_drift_cor.plugins.recipes.localisations\n",
      "Loaded 3rd party recipe module cc_drift_cor.plugins.recipes.localisations\n",
      "Trying to load 3rd party recipe module ch_shrinkwrap.recipe_modules.simulation\n",
      "Loaded 3rd party recipe module ch_shrinkwrap.recipe_modules.simulation\n",
      "Trying to load 3rd party recipe module ch_shrinkwrap.recipe_modules.surface_feature_extraction\n",
      "Loaded 3rd party recipe module ch_shrinkwrap.recipe_modules.surface_feature_extraction\n",
      "Trying to load 3rd party recipe module cc_drift_cor.plugins.recipes.io\n",
      "Loaded 3rd party recipe module cc_drift_cor.plugins.recipes.io\n",
      "Detected a .git folder, assuming a development install\n"
     ]
    }
   ],
   "source": [
    "from PYME.LMVis import VisGUI\n",
    "\n",
    "%gui wx"
   ]
  },
  {
   "cell_type": "code",
   "execution_count": 2,
   "id": "ca7772f0-0875-4707-9751-de25d43ac0cc",
   "metadata": {
    "tags": []
   },
   "outputs": [
    {
     "name": "stdout",
     "output_type": "stream",
     "text": [
      "quaternion module not found, disabling custom clip plane orientations\n",
      "quaternion module not found, disabling custom clip plane orientations\n",
      "New Canvas\n"
     ]
    },
    {
     "name": "stderr",
     "output_type": "stream",
     "text": [
      "DEBUG:PYME.LMVis.visCore:Creating VisGUI menu bar\n",
      "DEBUG:PYME.LMVis.Extras:Initializing QPobjectSegment plugin\n",
      "DEBUG:PYME.LMVis.Extras:Initializing animation plugin\n",
      "DEBUG:PYME.LMVis.Extras:Initializing annotation plugin\n",
      "c:\\users\\laf62\\code\\python-microscopy\\PYME\\DSView\\modules\\annotation.py:62: wxPyDeprecationWarning: Call to deprecated item. Use SetToolTip instead.\n",
      "  self.bAdjustSnake.SetToolTipString('Adjust the parameters of fo the \"snake\" (active contour) used for curve locking')\n",
      "c:\\users\\laf62\\code\\python-microscopy\\PYME\\DSView\\modules\\annotation.py:73: wxPyDeprecationWarning: Call to deprecated item. Use InsertItem instead.\n",
      "  self.lLabels.InsertStringItem(i, '%d' % i)\n",
      "c:\\users\\laf62\\code\\python-microscopy\\PYME\\DSView\\modules\\annotation.py:74: wxPyDeprecationWarning: Call to deprecated item. Use SetItem instead.\n",
      "  self.lLabels.SetStringItem(i, 1, 'Structure %d' % i)\n",
      "c:\\users\\laf62\\code\\python-microscopy\\PYME\\DSView\\modules\\annotation.py:76: wxPyDeprecationWarning: Call to deprecated item. Use SetItem instead.\n",
      "  self.lLabels.SetStringItem(0, 1, 'No label')\n",
      "c:\\users\\laf62\\code\\python-microscopy\\PYME\\DSView\\modules\\annotation.py:95: wxPyDeprecationWarning: Call to deprecated item. Use SetToolTip instead.\n",
      "  self.bAddLine.SetToolTipString('Add a curve annotation (ctrl-L / cmd-L)')\n",
      "DEBUG:PYME.LMVis.Extras:Initializing clusterAnalysis plugin\n",
      "WARNING:PYME.DSView.modules:Plugin [clusterAnalysis] injects into parent namespace, could result in circular references\n",
      "DEBUG:PYME.LMVis.Extras:Initializing dockedPanel plugin\n",
      "DEBUG:PYME.LMVis.Extras:Initializing extra_layers plugin\n",
      "DEBUG:PYME.LMVis.Extras:Initializing fiducial plugin\n",
      "DEBUG:PYME.LMVis.Extras:Initializing flagZMotionArtifacts plugin\n",
      "DEBUG:root:Adding menu items for event filters\n",
      "WARNING:PYME.DSView.modules:Plugin [flagZMotionArtifacts] injects into parent namespace, could result in circular references\n",
      "DEBUG:PYME.LMVis.Extras:Initializing fusionUtils plugin\n",
      "DEBUG:PYME.LMVis.Extras:Initializing multiColourAnalysis plugin\n",
      "DEBUG:PYME.LMVis.Extras:Initializing multiviewMapping plugin\n",
      "DEBUG:root:Adding menu items for multi-view manipulation\n",
      "WARNING:PYME.DSView.modules:Plugin [multiviewMapping] injects into parent namespace, could result in circular references\n",
      "DEBUG:PYME.LMVis.Extras:Initializing objectMeasurements plugin\n",
      "DEBUG:PYME.LMVis.Extras:Initializing particleTracking plugin\n",
      "WARNING:PYME.DSView.modules:Plugin [particleTracking] injects into parent namespace, could result in circular references\n",
      "DEBUG:PYME.LMVis.Extras:Initializing perFrameVariable plugin\n",
      "DEBUG:PYME.LMVis.Extras:Initializing photophysics plugin\n",
      "DEBUG:PYME.LMVis.Extras:Initializing pointSetGeneration plugin\n",
      "WARNING:PYME.DSView.modules:Plugin [pointSetGeneration] injects into parent namespace, could result in circular references\n",
      "DEBUG:PYME.LMVis.Extras:Initializing pointwiseColoc plugin\n",
      "DEBUG:PYME.LMVis.Extras:Initializing saved_views plugin\n",
      "DEBUG:PYME.LMVis.Extras:Initializing scaleBox plugin\n",
      "DEBUG:PYME.LMVis.Extras:Initializing sequentialSpecies plugin\n",
      "DEBUG:PYME.LMVis.Extras:Initializing setBGImage plugin\n",
      "DEBUG:PYME.LMVis.Extras:Initializing shiftmapGenerator plugin\n",
      "DEBUG:PYME.LMVis.Extras:Initializing showShortcuts plugin\n",
      "DEBUG:PYME.LMVis.Extras:Initializing snapshot plugin\n",
      "DEBUG:PYME.LMVis.Extras:Initializing spherical_harmonics plugin\n",
      "DEBUG:root:Adding menu items for spherical harmonic (shell) fitting\n",
      "WARNING:PYME.DSView.modules:Plugin [spherical_harmonics] injects into parent namespace, could result in circular references\n",
      "DEBUG:PYME.LMVis.Extras:Initializing subsets plugin\n",
      "DEBUG:PYME.LMVis.Extras:Initializing surface_fitting plugin\n",
      "DEBUG:PYME.LMVis.Extras:Initializing temperaturePlot plugin\n",
      "DEBUG:PYME.LMVis.Extras:Initializing vibration plugin\n",
      "ERROR:PYME.LMVis.Extras:Error loading plugin: pyme_picasso.visgui_modules.conversion\n",
      "Traceback (most recent call last):\n",
      "  File \"c:\\users\\laf62\\code\\python-microscopy\\PYME\\LMVis\\Extras\\__init__.py\", line 49, in InitPlugins\n",
      "    m = __import__(mn, fromlist=mn.split('.')[:-1])\n",
      "ModuleNotFoundError: No module named 'pyme_picasso'\n"
     ]
    },
    {
     "name": "stdout",
     "output_type": "stream",
     "text": [
      "Saved Views are deprecated -  use the ones with animation instead and remove me!\n",
      "Creating fold panel\n",
      "GenPanels\n",
      "Creating datasource panel\n",
      "Image list size: 1\n"
     ]
    },
    {
     "name": "stderr",
     "output_type": "stream",
     "text": [
      "DEBUG:PYME.recipes.recipe:recipe.execute()\n",
      "DEBUG:PYME.recipes.recipe:Module timings: {}\n"
     ]
    },
    {
     "name": "stdout",
     "output_type": "stream",
     "text": [
      "0\n",
      "OpenGL - Version: b'4.6.0 NVIDIA 531.79'\n",
      "Shader - Version: b'4.60 NVIDIA'\n",
      "GL.GL_MAX_SAMPLES: 32, GL.GL_SAMPLES: 4\n"
     ]
    },
    {
     "name": "stderr",
     "output_type": "stream",
     "text": [
      "DEBUG:PYME.LMVis.shader_programs.ShaderProgramFactory:New shader program created: <class 'PYME.LMVis.shader_programs.DefaultShaderProgram.DefaultShaderProgram'>\n"
     ]
    },
    {
     "name": "stdout",
     "output_type": "stream",
     "text": [
      "Ev Idle\n",
      "('points', 't')\n",
      "refreshed\n",
      "Input datasources:  []\n",
      "Creating layers GUI\n",
      "height:  0\n",
      "NB best size: wx.Size(0, 0)\n"
     ]
    }
   ],
   "source": [
    "pymevis = VisGUI.ipython_pymevisualize()\n",
    "pipeline = pymevis.pipeline"
   ]
  },
  {
   "cell_type": "code",
   "execution_count": 3,
   "id": "42881281-5931-4c59-ab9a-ba932e1d10b6",
   "metadata": {
    "tags": []
   },
   "outputs": [],
   "source": [
    "from PYME.IO import tabular\n",
    "\n",
    "def add_mesh_ds(vertices, faces, param, pipeline, pymevis, ds_name='new_param', color=None, normals=None):\n",
    "    \"\"\"\n",
    "    Quickly add surface that has information about distance to another surface\n",
    "    \"\"\"\n",
    "    \n",
    "    #d = {'vertices': vertices, 'faces': faces, 'surf-surf-distance': surf_dist}\n",
    "    d = {'x': vertices[:,0], 'y': vertices[:,1], 'z': vertices[:,2]} \n",
    "\n",
    "    if color is not None:\n",
    "        d['c'] = color\n",
    "        \n",
    "    if normals is not None:\n",
    "        d['xn'] = normals[:,0]\n",
    "        d['yn'] = normals[:,1]\n",
    "        d['zn'] = normals[:,2]\n",
    "\n",
    "    # create tabular mappingFilter data source and add it to pymevis\n",
    "    out = tabular.MappingFilter(d)\n",
    "    out.addColumn('Rtn4-density', param)\n",
    "    pipeline.addDataSource(ds_name, out)                    \n",
    "\n",
    "    # select this data source (optional, but helps support \"default behavior\")\n",
    "    pipeline.selectDataSource(ds_name)\n",
    "    \n",
    "#     if normals is not None:\n",
    "#         pymevis.glCanvas.layers[-1].display_normals=True\n",
    "#         pymevis.glCanvas.layers[-1].normal_scaling=25.0"
   ]
  },
  {
   "cell_type": "code",
   "execution_count": 4,
   "id": "766841cd-3c2b-4d16-8260-9b89c52e7399",
   "metadata": {},
   "outputs": [],
   "source": [
    "import numpy as np\n",
    "\n",
    "# Load data\n",
    "points = r\"F:\\Rtn4_paper_data_backup_20230622\\4Pi_data\\U2OS_Rtn4_mCherry-Sec61B_STORM\\20210907_U2OS-Rtn4-Ab_mCh-Sec61B-Nano\\Cell02_mapped.hdf\"\n",
    "#points = \"I:\\\\4Pi\\\\20210907_U2OS-Rtn4-Ab_mCh-Sec61B-Nano\\\\Oligomer_analysis\\\\Cell02_mapped_clumped_oligomer_ROI2.hdf\"\n",
    "mesh_1 = r\"F:\\Rtn4_paper_data_backup_20230622\\4Pi_data\\U2OS_Rtn4_mCherry-Sec61B_STORM\\20210907_U2OS-Rtn4-Ab_mCh-Sec61B-Nano\\Cell02_shrink-wrap_2.stl\"\n",
    "#mesh_1 = \"I:\\\\4Pi\\\\20210907_U2OS-Rtn4-Ab_mCh-Sec61B-Nano\\\\Oligomer_analysis\\\\Cell02_oligomer_ROI2_shrinkwrap.stl\"\n",
    "\n",
    "# Parameters\n",
    "r = 100 #search radius for neighbors in nanometers"
   ]
  },
  {
   "cell_type": "code",
   "execution_count": 5,
   "id": "259de8c7-e7d1-4d73-ae7a-89515baca196",
   "metadata": {
    "tags": []
   },
   "outputs": [
    {
     "name": "stdout",
     "output_type": "stream",
     "text": [
      "Creating Pipeline\n"
     ]
    },
    {
     "name": "stderr",
     "output_type": "stream",
     "text": [
      "DEBUG:PYME.recipes.recipe:recipe.execute()\n",
      "DEBUG:PYME.recipes.recipe:Executing <PYME.recipes.localisations.Pipelineify object at 0x00000191DC0771C8>\n",
      "c:\\users\\laf62\\code\\python-microscopy\\PYME\\IO\\MetaDataHandler.py:666: UserWarning: DictMDHandler is not yet fully supported, and will likely cause failures for anything related to localisation fitting\n",
      "  warnings.warn('DictMDHandler is not yet fully supported, and will likely cause failures for anything related to localisation fitting')\n",
      "DEBUG:PYME.recipes.localisations:no events found\n",
      "DEBUG:PYME.recipes.recipe:Executing <PYME.recipes.localisations.ProcessColour object at 0x00000191DC077588>\n",
      "DEBUG:PYME.recipes.recipe:Executing <PYME.recipes.tablefilters.FilterTable object at 0x00000191DC0AF1C8>\n",
      "DEBUG:PYME.recipes.recipe:Module timings: {'localisations.AddPipelineDerivedVars': 0.0009961128234863281, 'localisations.ProcessColour': 0.02240467071533203, 'tablefilters.FilterTable': 0.04990029335021973}\n",
      "DEBUG:PYME.LMVis.VisGUI:Creating tabs\n",
      "DEBUG:PYME.LMVis.VisGUI:Finished creating tabs\n"
     ]
    },
    {
     "name": "stdout",
     "output_type": "stream",
     "text": [
      "Pipeline Created\n",
      "0\n",
      "Gui stuff done\n",
      "Input datasources:  ['_Localizations', 'FitResults']\n",
      "vcs:  ['t', 'z']\n",
      "pointcloud.update_from_datasource() - dsname=output\n"
     ]
    },
    {
     "name": "stderr",
     "output_type": "stream",
     "text": [
      "DEBUG:PYME.LMVis.visCore:Added layer, datasouce=output\n"
     ]
    },
    {
     "name": "stdout",
     "output_type": "stream",
     "text": [
      "pointcloud.update_from_datasource() - dsname=output.chan0\n"
     ]
    },
    {
     "name": "stderr",
     "output_type": "stream",
     "text": [
      "DEBUG:PYME.LMVis.visCore:Added layer, datasouce=output.chan0\n"
     ]
    },
    {
     "name": "stdout",
     "output_type": "stream",
     "text": [
      "pointcloud.update_from_datasource() - dsname=output.chan1\n"
     ]
    },
    {
     "name": "stderr",
     "output_type": "stream",
     "text": [
      "DEBUG:PYME.LMVis.visCore:Added layer, datasouce=output.chan1\n",
      "DEBUG:PYME.LMVis.shader_programs.ShaderProgramFactory:New shader program created: <class 'PYME.LMVis.shader_programs.DefaultShaderProgram.OpaquePointShaderProgram'>\n"
     ]
    },
    {
     "name": "stdout",
     "output_type": "stream",
     "text": [
      "Creating layers GUI\n",
      "hl update\n",
      "hl update\n",
      "hl update\n",
      "height:  72\n",
      "NB best size: wx.Size(3, 66)\n"
     ]
    }
   ],
   "source": [
    "# Display point data in Visgui\n",
    "pymevis.OpenFile(points)"
   ]
  },
  {
   "cell_type": "code",
   "execution_count": 6,
   "id": "17f628de-3299-4d3c-8938-e9b8f1ee73db",
   "metadata": {
    "tags": []
   },
   "outputs": [
    {
     "name": "stdout",
     "output_type": "stream",
     "text": [
      "Data munged to vertices, faces\n",
      "initializing halfedges ...\n",
      "vertices.shape = (909187, 3), faces.shape = (1820910, 3)\n",
      "done initializing halfedges\n",
      "mesh_layer update\n"
     ]
    },
    {
     "name": "stderr",
     "output_type": "stream",
     "text": [
      "DEBUG:PYME.LMVis.shader_programs.ShaderProgramFactory:New shader program created: <class 'PYME.LMVis.shader_programs.GouraudShaderProgram.GouraudShaderProgram'>\n"
     ]
    },
    {
     "name": "stdout",
     "output_type": "stream",
     "text": [
      "Disposing of HistLimitsEditor\n",
      "Disposing of HistLimitsEditor\n",
      "Disposing of HistLimitsEditor\n",
      "Creating layers GUI\n",
      "hl update\n",
      "hl update\n",
      "hl update\n",
      "hl update\n",
      "height:  97\n",
      "NB best size: wx.Size(3, 88)\n"
     ]
    }
   ],
   "source": [
    "from PYME.experimental._triangle_mesh import TriangleMesh\n",
    "from PYME.LMVis.layers.mesh import TriangleRenderLayer\n",
    "\n",
    "mesh = TriangleMesh.from_stl(mesh_1)\n",
    "\n",
    "mesh_name = pipeline.new_ds_name('surf1')\n",
    "pipeline.recipe.namespace[mesh_name] = mesh\n",
    "layer = TriangleRenderLayer(pipeline, dsname=mesh_name, method='shaded', cmap = 'SolidMagenta')\n",
    "pymevis.add_layer(layer)\n",
    "\n",
    "# grab the bounding box\n",
    "mesh_bbox = pymevis.glCanvas.layers[-1]._bbox"
   ]
  },
  {
   "cell_type": "code",
   "execution_count": 7,
   "id": "e85c8511-c17c-4ba8-802c-d5f3447c6cc0",
   "metadata": {
    "collapsed": true,
    "jupyter": {
     "outputs_hidden": true
    },
    "tags": []
   },
   "outputs": [
    {
     "name": "stderr",
     "output_type": "stream",
     "text": [
      "c:\\users\\laf62\\code\\python-microscopy\\PYME\\IO\\tabular.py:996: VisibleDeprecationWarning: Mapping filter created with something that is not a tabular object. This will be unsupported in a future release. Consider DictSource or ColumnSource instead\n",
      "  warnings.warn(VisibleDeprecationWarning('Mapping filter created with something that is not a tabular object. This will be unsupported in a future release. Consider DictSource or ColumnSource instead'))\n",
      "ERROR:PYME.ui.layerFoldPanel:Error refreshing layer caption\n",
      "Traceback (most recent call last):\n",
      "  File \"c:\\users\\laf62\\code\\python-microscopy\\PYME\\ui\\layerFoldPanel.py\", line 122, in _refresh\n",
      "    self.Refresh()\n",
      "RuntimeError: wrapped C/C++ object of type LayerCaptionBar has been deleted\n",
      "ERROR:PYME.ui.layerFoldPanel:Error refreshing layer caption\n",
      "Traceback (most recent call last):\n",
      "  File \"c:\\users\\laf62\\code\\python-microscopy\\PYME\\ui\\layerFoldPanel.py\", line 122, in _refresh\n",
      "    self.Refresh()\n",
      "RuntimeError: wrapped C/C++ object of type LayerCaptionBar has been deleted\n",
      "ERROR:PYME.ui.layerFoldPanel:Error refreshing layer caption\n",
      "Traceback (most recent call last):\n",
      "  File \"c:\\users\\laf62\\code\\python-microscopy\\PYME\\ui\\layerFoldPanel.py\", line 122, in _refresh\n",
      "    self.Refresh()\n",
      "RuntimeError: wrapped C/C++ object of type LayerCaptionBar has been deleted\n",
      "ERROR:PYME.ui.layerFoldPanel:Error refreshing layer caption\n",
      "Traceback (most recent call last):\n",
      "  File \"c:\\users\\laf62\\code\\python-microscopy\\PYME\\ui\\layerFoldPanel.py\", line 122, in _refresh\n",
      "    self.Refresh()\n",
      "RuntimeError: wrapped C/C++ object of type LayerCaptionBar has been deleted\n",
      "ERROR:PYME.ui.layerFoldPanel:Error refreshing layer caption\n",
      "Traceback (most recent call last):\n",
      "  File \"c:\\users\\laf62\\code\\python-microscopy\\PYME\\ui\\layerFoldPanel.py\", line 122, in _refresh\n",
      "    self.Refresh()\n",
      "RuntimeError: wrapped C/C++ object of type LayerCaptionBar has been deleted\n",
      "ERROR:PYME.ui.layerFoldPanel:Error refreshing layer caption\n",
      "Traceback (most recent call last):\n",
      "  File \"c:\\users\\laf62\\code\\python-microscopy\\PYME\\ui\\layerFoldPanel.py\", line 122, in _refresh\n",
      "    self.Refresh()\n",
      "RuntimeError: wrapped C/C++ object of type LayerCaptionBar has been deleted\n"
     ]
    },
    {
     "name": "stdout",
     "output_type": "stream",
     "text": [
      "pointcloud.update_from_datasource() - dsname=output\n",
      "pointcloud.update_from_datasource() - dsname=output.chan0\n",
      "hl update\n",
      "pointcloud.update_from_datasource() - dsname=output.chan1\n",
      "hl update\n",
      "mesh_layer update\n"
     ]
    },
    {
     "name": "stderr",
     "output_type": "stream",
     "text": [
      "DEBUG:PYME.recipes.recipe:recipe.execute()\n",
      "DEBUG:PYME.recipes.recipe:Executing <PYME.recipes.localisations.ExtractTableChannel object at 0x0000019186AFAB28>\n",
      "c:\\users\\laf62\\code\\python-microscopy\\PYME\\IO\\MetaDataHandler.py:666: UserWarning: DictMDHandler is not yet fully supported, and will likely cause failures for anything related to localisation fitting\n",
      "  warnings.warn('DictMDHandler is not yet fully supported, and will likely cause failures for anything related to localisation fitting')\n",
      "ERROR:PYME.ui.layerFoldPanel:Error refreshing layer caption\n",
      "Traceback (most recent call last):\n",
      "  File \"c:\\users\\laf62\\code\\python-microscopy\\PYME\\ui\\layerFoldPanel.py\", line 122, in _refresh\n",
      "    self.Refresh()\n",
      "RuntimeError: wrapped C/C++ object of type LayerCaptionBar has been deleted\n",
      "ERROR:PYME.ui.layerFoldPanel:Error refreshing layer caption\n",
      "Traceback (most recent call last):\n",
      "  File \"c:\\users\\laf62\\code\\python-microscopy\\PYME\\ui\\layerFoldPanel.py\", line 122, in _refresh\n",
      "    self.Refresh()\n",
      "RuntimeError: wrapped C/C++ object of type LayerCaptionBar has been deleted\n",
      "ERROR:PYME.ui.layerFoldPanel:Error refreshing layer caption\n",
      "Traceback (most recent call last):\n",
      "  File \"c:\\users\\laf62\\code\\python-microscopy\\PYME\\ui\\layerFoldPanel.py\", line 122, in _refresh\n",
      "    self.Refresh()\n",
      "RuntimeError: wrapped C/C++ object of type LayerCaptionBar has been deleted\n"
     ]
    },
    {
     "name": "stdout",
     "output_type": "stream",
     "text": [
      "pointcloud.update_from_datasource() - dsname=output\n",
      "pointcloud.update_from_datasource() - dsname=output.chan0\n",
      "hl update\n",
      "pointcloud.update_from_datasource() - dsname=output.chan1\n",
      "hl update\n",
      "mesh_layer update\n"
     ]
    },
    {
     "name": "stderr",
     "output_type": "stream",
     "text": [
      "DEBUG:PYME.recipes.recipe:Module timings: {'localisations.AddPipelineDerivedVars': 0.0009961128234863281, 'localisations.ProcessColour': 0.02240467071533203, 'tablefilters.FilterTable': 0.04990029335021973, 'localisations.ExtractTableChannel': 0.0}\n",
      "ERROR:PYME.ui.layerFoldPanel:Error refreshing layer caption\n",
      "Traceback (most recent call last):\n",
      "  File \"c:\\users\\laf62\\code\\python-microscopy\\PYME\\ui\\layerFoldPanel.py\", line 122, in _refresh\n",
      "    self.Refresh()\n",
      "RuntimeError: wrapped C/C++ object of type LayerCaptionBar has been deleted\n",
      "ERROR:PYME.ui.layerFoldPanel:Error refreshing layer caption\n",
      "Traceback (most recent call last):\n",
      "  File \"c:\\users\\laf62\\code\\python-microscopy\\PYME\\ui\\layerFoldPanel.py\", line 122, in _refresh\n",
      "    self.Refresh()\n",
      "RuntimeError: wrapped C/C++ object of type LayerCaptionBar has been deleted\n"
     ]
    },
    {
     "name": "stdout",
     "output_type": "stream",
     "text": [
      "pointcloud.update_from_datasource() - dsname=output\n"
     ]
    },
    {
     "name": "stderr",
     "output_type": "stream",
     "text": [
      "ERROR:PYME.ui.layerFoldPanel:Error refreshing layer caption\n",
      "Traceback (most recent call last):\n",
      "  File \"c:\\users\\laf62\\code\\python-microscopy\\PYME\\ui\\layerFoldPanel.py\", line 122, in _refresh\n",
      "    self.Refresh()\n",
      "RuntimeError: wrapped C/C++ object of type LayerCaptionBar has been deleted\n",
      "ERROR:PYME.ui.layerFoldPanel:Error refreshing layer caption\n",
      "Traceback (most recent call last):\n",
      "  File \"c:\\users\\laf62\\code\\python-microscopy\\PYME\\ui\\layerFoldPanel.py\", line 122, in _refresh\n",
      "    self.Refresh()\n",
      "RuntimeError: wrapped C/C++ object of type LayerCaptionBar has been deleted\n"
     ]
    },
    {
     "name": "stdout",
     "output_type": "stream",
     "text": [
      "hl update\n",
      "pointcloud.update_from_datasource() - dsname=output.chan0\n"
     ]
    },
    {
     "name": "stderr",
     "output_type": "stream",
     "text": [
      "ERROR:PYME.ui.layerFoldPanel:Error refreshing layer caption\n",
      "Traceback (most recent call last):\n",
      "  File \"c:\\users\\laf62\\code\\python-microscopy\\PYME\\ui\\layerFoldPanel.py\", line 122, in _refresh\n",
      "    self.Refresh()\n",
      "RuntimeError: wrapped C/C++ object of type LayerCaptionBar has been deleted\n",
      "ERROR:PYME.ui.layerFoldPanel:Error refreshing layer caption\n",
      "Traceback (most recent call last):\n",
      "  File \"c:\\users\\laf62\\code\\python-microscopy\\PYME\\ui\\layerFoldPanel.py\", line 122, in _refresh\n",
      "    self.Refresh()\n",
      "RuntimeError: wrapped C/C++ object of type LayerCaptionBar has been deleted\n"
     ]
    },
    {
     "name": "stdout",
     "output_type": "stream",
     "text": [
      "hl update\n",
      "pointcloud.update_from_datasource() - dsname=output.chan1\n",
      "hl update\n",
      "mesh_layer update\n",
      "Disposing of FilterEditor\n",
      "<PYME.ui.filterPane.FilterPanel object at 0x00000191F6085948> <PYME.ui.filterPane.FilterPanel object at 0x00000191F6085948>\n",
      "<wx._core.ListCtrl object at 0x00000191F6085708> <wx._core.ListCtrl object at 0x00000191F6085708>\n",
      "Input datasources:  ['_Localizations', 'FitResults', 'surf10']\n"
     ]
    }
   ],
   "source": [
    "# extract vertices and faces of surface 1\n",
    "pipeline.selectDataSource('surf10')\n",
    "surf = pipeline.selectedDataSource\n",
    "surf_verts = surf._vertices['position']\n",
    "surf_faces = surf.faces\n",
    "\n",
    "from PYME.recipes.localisations import ExtractTableChannel\n",
    "recipe = pipeline.recipe\n",
    "# Extract Rtn4 points as 'Rtn4' DataSource\n",
    "recipe.add_modules_and_execute([ExtractTableChannel(recipe, inputName = 'filtered_localizations', \n",
    "                                                    outputName = 'Rtn4', channel = 'chan1')])\n",
    "\n",
    "# Select Rtn4 datasource\n",
    "pipeline.selectDataSource('Rtn4')\n",
    "                                \n",
    "# Extract x,y,z coordinates for Rtn4 points\n",
    "x = pipeline['x']\n",
    "y = pipeline['y']\n",
    "z = pipeline['z']\n",
    "\n",
    "# Merge x,y,z coordinates into one variable 'points'\n",
    "rtn_points = np.c_[x.ravel(),y.ravel(),z.ravel()]"
   ]
  },
  {
   "cell_type": "code",
   "execution_count": 8,
   "id": "0a0f6739-93ae-4c59-8dc8-16282ef86a9c",
   "metadata": {},
   "outputs": [],
   "source": [
    "# Calculate distance from the vertices of one mesh to the other\n",
    "from scipy.spatial import cKDTree\n",
    "\n",
    "# Determine the number of Rtn4 points within 50 nm of each mesh vertex\n",
    "tree_rtn = cKDTree(rtn_points)\n",
    "rtn_nb = tree_rtn.query_ball_point(surf_verts, r=r, return_length=True)"
   ]
  },
  {
   "cell_type": "code",
   "execution_count": 13,
   "id": "e5226534-96ec-4480-8046-486b1dbf075b",
   "metadata": {
    "tags": []
   },
   "outputs": [
    {
     "name": "stdout",
     "output_type": "stream",
     "text": [
      "mesh_layer update\n"
     ]
    },
    {
     "name": "stderr",
     "output_type": "stream",
     "text": [
      "DEBUG:PYME.LMVis.visCore:Added layer, datasouce=surf10\n"
     ]
    },
    {
     "name": "stdout",
     "output_type": "stream",
     "text": [
      "Disposing of HistLimitsEditor\n",
      "Disposing of HistLimitsEditor\n",
      "Disposing of HistLimitsEditor\n",
      "Disposing of HistLimitsEditor\n",
      "Creating layers GUI\n",
      "hl update\n",
      "hl update\n",
      "hl update\n",
      "hl update\n",
      "hl update\n",
      "height:  122\n",
      "NB best size: wx.Size(3, 110)\n",
      "mesh_layer update\n",
      "hl update\n",
      "mesh_layer update\n",
      "mesh_layer update\n"
     ]
    }
   ],
   "source": [
    "surf.extra_vertex_data['Rtn4-density'] = rtn_nb\n",
    "#add_mesh_ds(surf_verts, surf_faces, rtn_nb, pipeline, pymevis, color=None, normals=None)"
   ]
  },
  {
   "cell_type": "code",
   "execution_count": null,
   "id": "b01dbd53-2030-4f58-bbfa-8a9ffe088eee",
   "metadata": {},
   "outputs": [],
   "source": []
  }
 ],
 "metadata": {
  "kernelspec": {
   "display_name": "pyme",
   "language": "python",
   "name": "pyme"
  },
  "language_info": {
   "codemirror_mode": {
    "name": "ipython",
    "version": 3
   },
   "file_extension": ".py",
   "mimetype": "text/x-python",
   "name": "python",
   "nbconvert_exporter": "python",
   "pygments_lexer": "ipython3",
   "version": "3.7.16"
  }
 },
 "nbformat": 4,
 "nbformat_minor": 5
}
