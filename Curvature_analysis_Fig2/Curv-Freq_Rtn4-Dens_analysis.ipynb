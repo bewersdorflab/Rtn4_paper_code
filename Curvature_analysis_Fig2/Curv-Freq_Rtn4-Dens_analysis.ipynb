{
 "cells": [
  {
   "cell_type": "code",
   "execution_count": 1,
   "id": "744e83ca",
   "metadata": {
    "tags": []
   },
   "outputs": [
    {
     "name": "stdout",
     "output_type": "stream",
     "text": [
      "Trying to load 3rd party recipe module cc_drift_cor.plugins.recipes.localisations\n",
      "Loaded 3rd party recipe module cc_drift_cor.plugins.recipes.localisations\n",
      "Trying to load 3rd party recipe module ch_shrinkwrap.recipe_modules.surface_feature_extraction\n",
      "Loaded 3rd party recipe module ch_shrinkwrap.recipe_modules.surface_feature_extraction\n",
      "Trying to load 3rd party recipe module cc_drift_cor.plugins.recipes.chung_cc\n",
      "Loaded 3rd party recipe module cc_drift_cor.plugins.recipes.chung_cc\n",
      "Trying to load 3rd party recipe module cc_drift_cor.plugins.recipes.io\n",
      "Loaded 3rd party recipe module cc_drift_cor.plugins.recipes.io\n",
      "Trying to load 3rd party recipe module pyme_4pi.recipe_modules.conversion\n",
      "Loaded 3rd party recipe module pyme_4pi.recipe_modules.conversion\n",
      "Trying to load 3rd party recipe module ch_shrinkwrap.recipe_modules.simulation\n",
      "Loaded 3rd party recipe module ch_shrinkwrap.recipe_modules.simulation\n",
      "Trying to load 3rd party recipe module pyme_picasso.recipe_modules.conversion\n",
      "Loaded 3rd party recipe module pyme_picasso.recipe_modules.conversion\n",
      "Trying to load 3rd party recipe module ch_shrinkwrap.recipe_modules.surface_fitting\n",
      "Loaded 3rd party recipe module ch_shrinkwrap.recipe_modules.surface_fitting\n",
      "Trying to load 3rd party recipe module cc_drift_cor.plugins.recipes.processing\n",
      "Loaded 3rd party recipe module cc_drift_cor.plugins.recipes.processing\n",
      "Trying to load 3rd party recipe module nep_fitting.recipe_modules.nep_fits\n",
      "Loaded 3rd party recipe module nep_fitting.recipe_modules.nep_fits\n",
      "Detected a .git folder, assuming a development install\n",
      "quaternion module not found, disabling custom clip plane orientations\n"
     ]
    }
   ],
   "source": [
    "from PYME.LMVis import VisGUI\n",
    "\n",
    "from PYME.IO import tabular\n",
    "import numpy as np\n",
    "\n",
    "from ch_shrinkwrap import _membrane_mesh as membrane_mesh\n",
    "from PYME.LMVis.layers.mesh import TriangleRenderLayer\n",
    "\n",
    "%gui wx"
   ]
  },
  {
   "cell_type": "code",
   "execution_count": 2,
   "id": "34046f16",
   "metadata": {
    "scrolled": true,
    "tags": []
   },
   "outputs": [
    {
     "name": "stderr",
     "output_type": "stream",
     "text": [
      "DEBUG:PYME.LMVis.visCore:Creating VisGUI menu bar\n"
     ]
    },
    {
     "name": "stdout",
     "output_type": "stream",
     "text": [
      "quaternion module not found, disabling custom clip plane orientations\n",
      "New Canvas\n"
     ]
    },
    {
     "name": "stderr",
     "output_type": "stream",
     "text": [
      "DEBUG:PYME.LMVis.Extras:Initializing QPobjectSegment plugin\n",
      "DEBUG:PYME.LMVis.Extras:Initializing animation plugin\n",
      "DEBUG:PYME.LMVis.Extras:Initializing annotation plugin\n",
      "c:\\users\\laf62\\code\\python-microscopy\\PYME\\DSView\\modules\\annotation.py:62: wxPyDeprecationWarning: Call to deprecated item. Use SetToolTip instead.\n",
      "  self.bAdjustSnake.SetToolTipString('Adjust the parameters of fo the \"snake\" (active contour) used for curve locking')\n",
      "c:\\users\\laf62\\code\\python-microscopy\\PYME\\DSView\\modules\\annotation.py:73: wxPyDeprecationWarning: Call to deprecated item. Use InsertItem instead.\n",
      "  self.lLabels.InsertStringItem(i, '%d' % i)\n",
      "c:\\users\\laf62\\code\\python-microscopy\\PYME\\DSView\\modules\\annotation.py:74: wxPyDeprecationWarning: Call to deprecated item. Use SetItem instead.\n",
      "  self.lLabels.SetStringItem(i, 1, 'Structure %d' % i)\n",
      "c:\\users\\laf62\\code\\python-microscopy\\PYME\\DSView\\modules\\annotation.py:76: wxPyDeprecationWarning: Call to deprecated item. Use SetItem instead.\n",
      "  self.lLabels.SetStringItem(0, 1, 'No label')\n",
      "c:\\users\\laf62\\code\\python-microscopy\\PYME\\DSView\\modules\\annotation.py:95: wxPyDeprecationWarning: Call to deprecated item. Use SetToolTip instead.\n",
      "  self.bAddLine.SetToolTipString('Add a curve annotation (ctrl-L / cmd-L)')\n",
      "DEBUG:PYME.LMVis.Extras:Initializing clusterAnalysis plugin\n",
      "WARNING:PYME.DSView.modules:Plugin [clusterAnalysis] injects into parent namespace, could result in circular references\n",
      "DEBUG:PYME.LMVis.Extras:Initializing dockedPanel plugin\n",
      "DEBUG:PYME.LMVis.Extras:Initializing extra_layers plugin\n",
      "DEBUG:PYME.LMVis.Extras:Initializing fiducial plugin\n",
      "DEBUG:PYME.LMVis.Extras:Initializing flagZMotionArtifacts plugin\n",
      "DEBUG:root:Adding menu items for event filters\n",
      "WARNING:PYME.DSView.modules:Plugin [flagZMotionArtifacts] injects into parent namespace, could result in circular references\n",
      "DEBUG:PYME.LMVis.Extras:Initializing fusionUtils plugin\n",
      "DEBUG:PYME.LMVis.Extras:Initializing multiColourAnalysis plugin\n",
      "DEBUG:PYME.LMVis.Extras:Initializing multiviewMapping plugin\n",
      "DEBUG:root:Adding menu items for multi-view manipulation\n",
      "WARNING:PYME.DSView.modules:Plugin [multiviewMapping] injects into parent namespace, could result in circular references\n",
      "DEBUG:PYME.LMVis.Extras:Initializing objectMeasurements plugin\n",
      "DEBUG:PYME.LMVis.Extras:Initializing particleTracking plugin\n",
      "WARNING:PYME.DSView.modules:Plugin [particleTracking] injects into parent namespace, could result in circular references\n",
      "DEBUG:PYME.LMVis.Extras:Initializing perFrameVariable plugin\n",
      "DEBUG:PYME.LMVis.Extras:Initializing photophysics plugin\n",
      "DEBUG:PYME.LMVis.Extras:Initializing pointSetGeneration plugin\n",
      "WARNING:PYME.DSView.modules:Plugin [pointSetGeneration] injects into parent namespace, could result in circular references\n",
      "DEBUG:PYME.LMVis.Extras:Initializing pointwiseColoc plugin\n",
      "DEBUG:PYME.LMVis.Extras:Initializing saved_views plugin\n",
      "DEBUG:PYME.LMVis.Extras:Initializing scaleBox plugin\n",
      "DEBUG:PYME.LMVis.Extras:Initializing sequentialSpecies plugin\n",
      "DEBUG:PYME.LMVis.Extras:Initializing setBGImage plugin\n",
      "DEBUG:PYME.LMVis.Extras:Initializing shiftmapGenerator plugin\n",
      "DEBUG:PYME.LMVis.Extras:Initializing showShortcuts plugin\n",
      "DEBUG:PYME.LMVis.Extras:Initializing snapshot plugin\n",
      "DEBUG:PYME.LMVis.Extras:Initializing spherical_harmonics plugin\n",
      "DEBUG:root:Adding menu items for spherical harmonic (shell) fitting\n",
      "WARNING:PYME.DSView.modules:Plugin [spherical_harmonics] injects into parent namespace, could result in circular references\n",
      "DEBUG:PYME.LMVis.Extras:Initializing subsets plugin\n",
      "DEBUG:PYME.LMVis.Extras:Initializing surface_fitting plugin\n",
      "DEBUG:PYME.LMVis.Extras:Initializing temperaturePlot plugin\n",
      "DEBUG:PYME.LMVis.Extras:Initializing vibration plugin\n"
     ]
    },
    {
     "name": "stdout",
     "output_type": "stream",
     "text": [
      "Saved Views are deprecated -  use the ones with animation instead and remove me!\n",
      "Creating fold panel\n",
      "GenPanels\n",
      "Creating datasource panel\n",
      "Image list size: 1\n"
     ]
    },
    {
     "name": "stderr",
     "output_type": "stream",
     "text": [
      "DEBUG:PYME.recipes.recipe:Module timings: {}\n"
     ]
    },
    {
     "name": "stdout",
     "output_type": "stream",
     "text": [
      "recipe.execute()\n",
      "0\n",
      "OpenGL - Version: b'4.6.0 NVIDIA 516.94'\n",
      "Shader - Version: b'4.60 NVIDIA'\n",
      "GL.GL_MAX_SAMPLES: 32, GL.GL_SAMPLES: 4\n"
     ]
    },
    {
     "name": "stderr",
     "output_type": "stream",
     "text": [
      "DEBUG:PYME.LMVis.shader_programs.ShaderProgramFactory:New shader program created: <class 'PYME.LMVis.shader_programs.DefaultShaderProgram.DefaultShaderProgram'>\n"
     ]
    },
    {
     "name": "stdout",
     "output_type": "stream",
     "text": [
      "Ev Idle\n",
      "('points', 't')\n",
      "refreshed\n",
      "Input datasources:  []\n",
      "Creating layers GUI\n",
      "height:  0\n",
      "NB best size: wx.Size(0, 0)\n"
     ]
    }
   ],
   "source": [
    "pymevis = VisGUI.ipython_pymevisualize()\n",
    "pipeline = pymevis.pipeline"
   ]
  },
  {
   "cell_type": "code",
   "execution_count": 3,
   "id": "1ea0a462-c2a7-4cab-88b1-6b416b4fae20",
   "metadata": {
    "tags": []
   },
   "outputs": [],
   "source": [
    "er_chan = 'chan0'\n",
    "rtn4_chan = 'chan1'\n",
    "# Save location\n",
    "save_loc = \"C:\\\\Users\\\\laf62\\\\Desktop\\\\LAF-Drive\\\\Yale_University\\\\Bewersdorf_Lab\\\\Publication Figures\\\\Publication Figures - 20211212\\Curvature_Figure\\\\20221014_analysis_V2\\\\\"\n",
    "en = 3 #experiment number (1-3)\n",
    "if en == 1:\n",
    "    points_fn = \"I:\\\\4Pi\\\\20210907_U2OS-Rtn4-Ab_mCh-Sec61B-Nano\\\\Cell02_mapped.hdf\" #dataset 1\n",
    "    mesh_fn = \"I:\\\\4Pi\\\\20210907_U2OS-Rtn4-Ab_mCh-Sec61B-Nano\\\\Cell02_shrink-wrap_2.stl\" #dataset1\n",
    "    fig_name = 'rtn4_density_50nm_dataset1_V2.png'\n",
    "    plot_info = 'rtn4_density_counts_dataset1_V2.npy'\n",
    "if en == 2:\n",
    "    points_fn = \"F:\\\\4Pi\\\\20220930_U2OS-Rtn4_mCh-Sec61B_STORM-11-2\\\\Cell03_mapped.hdf\"\n",
    "    mesh_fn = \"F:\\\\4Pi\\\\20220930_U2OS-Rtn4_mCh-Sec61B_STORM-11-2\\\\Cell03_shrinkwrap.stl\"\n",
    "    fig_name = 'rtn4_density_50nm_dataset2_V2.png'\n",
    "    plot_info = 'rtn4_density_counts_dataset2_V2.npy'\n",
    "if en == 3:\n",
    "    points_fn = \"F:\\\\4Pi\\\\20221004_U2OS_Rtn4_mCh-Sec61B_STORM-12-2\\\\Cell05_mapped_best.hdf\"\n",
    "    mesh_fn = \"F:\\\\4Pi\\\\20221004_U2OS_Rtn4_mCh-Sec61B_STORM-12-2\\\\Cell05_shrinkwrap.stl\"\n",
    "    fig_name = 'rtn4_density_50nm_dataset3_V2.png'\n",
    "    plot_info = 'rtn4_density_counts_dataset3_V2.npy'"
   ]
  },
  {
   "cell_type": "code",
   "execution_count": null,
   "id": "9bcd8f43",
   "metadata": {},
   "outputs": [],
   "source": [
    "# #points_fn = \"I:\\\\4Pi\\\\20210907_U2OS-Rtn4-Ab_mCh-Sec61B-Nano\\\\Cell02_mapped.hdf\" #dataset 1\n",
    "# #points_fn = \"K:\\\\4Pi\\\\20210927_U2OS-Rtn4-Ab+mCh-Sec61B-Nano\\\\20210927_Cell02_mapped_drift_corrected.hdf\" #dataset 2\n",
    "# points_fn = \"K:\\\\4Pi\\\\20210913_U2OS-Rtn4-Ab+mCh-Sec61B-Nano\\\\20210913_Cell02_mapped_undrifted.hdf\"\n",
    "\n",
    "# er_chan = 'chan0'\n",
    "# rtn4_chan = 'chan1'\n",
    "\n",
    "# #mesh_fn = \"I:\\\\4Pi\\\\20210907_U2OS-Rtn4-Ab_mCh-Sec61B-Nano\\\\Cell02_shrink-wrap_2.stl\" #dataset1\n",
    "# #mesh_fn = \"K:\\\\4Pi\\\\20210927_U2OS-Rtn4-Ab+mCh-Sec61B-Nano\\\\Cell02_shrink-wrap.stl\"\n",
    "# mesh_fn = \"K:\\\\4Pi\\\\20210913_U2OS-Rtn4-Ab+mCh-Sec61B-Nano\\\\Cell02_shrink-wrap.stl\"\n",
    "\n",
    "# # Save location\n",
    "# save_loc = 'C:\\\\Users\\\\laf62\\\\Desktop\\\\LAF-Drive\\\\Yale_University\\\\Bewersdorf_Lab\\\\Publication Figures\\\\Publication Figures - 20211212\\\\Curvature_Figure\\\\'\n",
    "# fig_name = 'rtn4_density_50nm_dataset3.png'\n",
    "# plot_info = 'rtn4_density_counts_dataset3.npy'"
   ]
  },
  {
   "cell_type": "code",
   "execution_count": 4,
   "id": "87bbd450",
   "metadata": {
    "tags": []
   },
   "outputs": [
    {
     "name": "stdout",
     "output_type": "stream",
     "text": [
      "Creating Pipeline\n"
     ]
    },
    {
     "name": "stderr",
     "output_type": "stream",
     "text": [
      "DEBUG:PYME.recipes.recipe:Executing <PYME.recipes.localisations.Pipelineify object at 0x000002289B7177C8>\n",
      "DEBUG:PYME.recipes.localisations:no events found\n",
      "DEBUG:PYME.recipes.recipe:Executing <PYME.recipes.localisations.ProcessColour object at 0x000002289B717948>\n",
      "DEBUG:PYME.recipes.recipe:Executing <PYME.recipes.tablefilters.FilterTable object at 0x000002289B72AFA8>\n",
      "DEBUG:PYME.recipes.recipe:Module timings: {'localisations.AddPipelineDerivedVars': 0.000997781753540039, 'localisations.ProcessColour': 0.03789877891540527, 'tablefilters.FilterTable': 0.06189918518066406}\n"
     ]
    },
    {
     "name": "stdout",
     "output_type": "stream",
     "text": [
      "recipe.execute()\n"
     ]
    },
    {
     "name": "stderr",
     "output_type": "stream",
     "text": [
      "DEBUG:PYME.LMVis.VisGUI:Creating tabs\n",
      "DEBUG:PYME.LMVis.VisGUI:Finished creating tabs\n"
     ]
    },
    {
     "name": "stdout",
     "output_type": "stream",
     "text": [
      "Pipeline Created\n",
      "0\n",
      "Gui stuff done\n",
      "Input datasources:  ['_Localizations', 'FitResults']\n",
      "vcs:  ['t', 'z']\n",
      "pointcloud.update_from_datasource() - dsname=output\n"
     ]
    },
    {
     "name": "stderr",
     "output_type": "stream",
     "text": [
      "DEBUG:PYME.LMVis.visCore:Added layer, datasouce=output\n"
     ]
    },
    {
     "name": "stdout",
     "output_type": "stream",
     "text": [
      "pointcloud.update_from_datasource() - dsname=output.chan0\n"
     ]
    },
    {
     "name": "stderr",
     "output_type": "stream",
     "text": [
      "DEBUG:PYME.LMVis.visCore:Added layer, datasouce=output.chan0\n"
     ]
    },
    {
     "name": "stdout",
     "output_type": "stream",
     "text": [
      "pointcloud.update_from_datasource() - dsname=output.chan1\n"
     ]
    },
    {
     "name": "stderr",
     "output_type": "stream",
     "text": [
      "DEBUG:PYME.LMVis.visCore:Added layer, datasouce=output.chan1\n",
      "DEBUG:PYME.LMVis.shader_programs.ShaderProgramFactory:New shader program created: <class 'PYME.LMVis.shader_programs.DefaultShaderProgram.OpaquePointShaderProgram'>\n"
     ]
    },
    {
     "name": "stdout",
     "output_type": "stream",
     "text": [
      "Creating layers GUI\n",
      "hl update\n",
      "hl update\n",
      "hl update\n",
      "height:  72\n",
      "NB best size: wx.Size(3, 66)\n"
     ]
    }
   ],
   "source": [
    "# Open the points\n",
    "pymevis.OpenFile(points_fn)"
   ]
  },
  {
   "cell_type": "code",
   "execution_count": 5,
   "id": "94d29eed",
   "metadata": {
    "tags": []
   },
   "outputs": [
    {
     "name": "stdout",
     "output_type": "stream",
     "text": [
      "Data munged to vertices, faces\n",
      "initializing halfedges ...\n",
      "vertices.shape = (750452, 3), faces.shape = (1503230, 3)\n",
      "iterating edges\n",
      "done initializing halfedges\n",
      "mesh_layer update\n"
     ]
    },
    {
     "name": "stderr",
     "output_type": "stream",
     "text": [
      "DEBUG:PYME.LMVis.shader_programs.ShaderProgramFactory:New shader program created: <class 'PYME.LMVis.shader_programs.GouraudShaderProgram.GouraudShaderProgram'>\n"
     ]
    },
    {
     "name": "stdout",
     "output_type": "stream",
     "text": [
      "Disposing of HistLimitsEditor\n",
      "Disposing of HistLimitsEditor\n",
      "Disposing of HistLimitsEditor\n",
      "Creating layers GUI\n",
      "hl update\n",
      "hl update\n",
      "hl update\n",
      "hl update\n",
      "height:  97\n",
      "NB best size: wx.Size(3, 88)\n"
     ]
    }
   ],
   "source": [
    "mesh = membrane_mesh.MembraneMesh.from_stl(mesh_fn)\n",
    "\n",
    "mesh_name = pipeline.new_ds_name('er')\n",
    "pipeline.recipe.namespace[mesh_name] = mesh\n",
    "layer = TriangleRenderLayer(pipeline, dsname=mesh_name, method='shaded', cmap = 'SolidMagenta')\n",
    "pymevis.add_layer(layer)"
   ]
  },
  {
   "cell_type": "code",
   "execution_count": 6,
   "id": "b6fadb4f",
   "metadata": {
    "scrolled": true,
    "tags": []
   },
   "outputs": [
    {
     "name": "stderr",
     "output_type": "stream",
     "text": [
      "DEBUG:PYME.recipes.recipe:Executing <PYME.recipes.localisations.ExtractTableChannel object at 0x00000228B7B0F1C8>\n",
      "ERROR:PYME.ui.layerFoldPanel:Error refreshing layer caption\n",
      "Traceback (most recent call last):\n",
      "  File \"c:\\users\\laf62\\code\\python-microscopy\\PYME\\ui\\layerFoldPanel.py\", line 122, in _refresh\n",
      "    self.Refresh()\n",
      "RuntimeError: wrapped C/C++ object of type LayerCaptionBar has been deleted\n"
     ]
    },
    {
     "name": "stdout",
     "output_type": "stream",
     "text": [
      "recipe.execute()\n",
      "pointcloud.update_from_datasource() - dsname=output\n"
     ]
    },
    {
     "name": "stderr",
     "output_type": "stream",
     "text": [
      "ERROR:PYME.ui.layerFoldPanel:Error refreshing layer caption\n",
      "Traceback (most recent call last):\n",
      "  File \"c:\\users\\laf62\\code\\python-microscopy\\PYME\\ui\\layerFoldPanel.py\", line 122, in _refresh\n",
      "    self.Refresh()\n",
      "RuntimeError: wrapped C/C++ object of type LayerCaptionBar has been deleted\n"
     ]
    },
    {
     "name": "stdout",
     "output_type": "stream",
     "text": [
      "hl update\n",
      "pointcloud.update_from_datasource() - dsname=output.chan0\n"
     ]
    },
    {
     "name": "stderr",
     "output_type": "stream",
     "text": [
      "ERROR:PYME.ui.layerFoldPanel:Error refreshing layer caption\n",
      "Traceback (most recent call last):\n",
      "  File \"c:\\users\\laf62\\code\\python-microscopy\\PYME\\ui\\layerFoldPanel.py\", line 122, in _refresh\n",
      "    self.Refresh()\n",
      "RuntimeError: wrapped C/C++ object of type LayerCaptionBar has been deleted\n"
     ]
    },
    {
     "name": "stdout",
     "output_type": "stream",
     "text": [
      "hl update\n",
      "pointcloud.update_from_datasource() - dsname=output.chan1\n",
      "hl update\n",
      "mesh_layer update\n"
     ]
    },
    {
     "name": "stderr",
     "output_type": "stream",
     "text": [
      "DEBUG:PYME.recipes.recipe:Module timings: {'localisations.AddPipelineDerivedVars': 0.000997781753540039, 'localisations.ProcessColour': 0.03789877891540527, 'tablefilters.FilterTable': 0.06189918518066406, 'localisations.ExtractTableChannel': 0.0}\n",
      "DEBUG:PYME.recipes.recipe:Executing <PYME.recipes.localisations.ExtractTableChannel object at 0x00000228B7A38228>\n",
      "ERROR:PYME.ui.layerFoldPanel:Error refreshing layer caption\n",
      "Traceback (most recent call last):\n",
      "  File \"c:\\users\\laf62\\code\\python-microscopy\\PYME\\ui\\layerFoldPanel.py\", line 122, in _refresh\n",
      "    self.Refresh()\n",
      "RuntimeError: wrapped C/C++ object of type LayerCaptionBar has been deleted\n"
     ]
    },
    {
     "name": "stdout",
     "output_type": "stream",
     "text": [
      "recipe.execute()\n",
      "pointcloud.update_from_datasource() - dsname=output\n"
     ]
    },
    {
     "name": "stderr",
     "output_type": "stream",
     "text": [
      "ERROR:PYME.ui.layerFoldPanel:Error refreshing layer caption\n",
      "Traceback (most recent call last):\n",
      "  File \"c:\\users\\laf62\\code\\python-microscopy\\PYME\\ui\\layerFoldPanel.py\", line 122, in _refresh\n",
      "    self.Refresh()\n",
      "RuntimeError: wrapped C/C++ object of type LayerCaptionBar has been deleted\n"
     ]
    },
    {
     "name": "stdout",
     "output_type": "stream",
     "text": [
      "hl update\n",
      "pointcloud.update_from_datasource() - dsname=output.chan0\n"
     ]
    },
    {
     "name": "stderr",
     "output_type": "stream",
     "text": [
      "ERROR:PYME.ui.layerFoldPanel:Error refreshing layer caption\n",
      "Traceback (most recent call last):\n",
      "  File \"c:\\users\\laf62\\code\\python-microscopy\\PYME\\ui\\layerFoldPanel.py\", line 122, in _refresh\n",
      "    self.Refresh()\n",
      "RuntimeError: wrapped C/C++ object of type LayerCaptionBar has been deleted\n"
     ]
    },
    {
     "name": "stdout",
     "output_type": "stream",
     "text": [
      "hl update\n",
      "pointcloud.update_from_datasource() - dsname=output.chan1\n",
      "hl update\n",
      "mesh_layer update\n"
     ]
    },
    {
     "name": "stderr",
     "output_type": "stream",
     "text": [
      "DEBUG:PYME.recipes.recipe:Module timings: {'localisations.AddPipelineDerivedVars': 0.000997781753540039, 'localisations.ProcessColour': 0.03789877891540527, 'tablefilters.FilterTable': 0.06189918518066406, 'localisations.ExtractTableChannel': 0.0}\n"
     ]
    },
    {
     "name": "stdout",
     "output_type": "stream",
     "text": [
      "Disposing of FilterEditor\n",
      "<PYME.ui.filterPane.FilterPanel object at 0x00000228B7B5C9D8> <PYME.ui.filterPane.FilterPanel object at 0x00000228B7B5C9D8>\n",
      "<wx._core.ListCtrl object at 0x00000228B7B5C798> <wx._core.ListCtrl object at 0x00000228B7B5C798>\n",
      "Input datasources:  ['_Localizations', 'FitResults', 'er0']\n"
     ]
    }
   ],
   "source": [
    "# Import ExtractTableChannel Recipe\n",
    "from PYME.recipes.localisations import ExtractTableChannel\n",
    "recipe = pipeline.recipe\n",
    "\n",
    "# Extract ER points\n",
    "recipe.add_modules_and_execute([ExtractTableChannel(recipe, inputName = 'filtered_localizations', outputName = 'er',\n",
    "                                                    channel = er_chan)])\n",
    "\n",
    "# Extract Rtn4 points\n",
    "recipe.add_modules_and_execute([ExtractTableChannel(recipe, inputName = 'filtered_localizations', outputName = 'rtn4',\n",
    "                                                    channel = rtn4_chan)])"
   ]
  },
  {
   "cell_type": "code",
   "execution_count": 7,
   "id": "167b6b99",
   "metadata": {
    "tags": []
   },
   "outputs": [
    {
     "name": "stdout",
     "output_type": "stream",
     "text": [
      "pointcloud.update_from_datasource() - dsname=output\n",
      "hl update\n",
      "pointcloud.update_from_datasource() - dsname=output.chan0\n",
      "hl update\n",
      "pointcloud.update_from_datasource() - dsname=output.chan1\n",
      "hl update\n",
      "mesh_layer update\n"
     ]
    }
   ],
   "source": [
    "# Select ER DataSource\n",
    "pipeline.selectDataSource('rtn4')"
   ]
  },
  {
   "cell_type": "code",
   "execution_count": 8,
   "id": "5da4020e",
   "metadata": {
    "scrolled": true,
    "tags": []
   },
   "outputs": [
    {
     "name": "stdout",
     "output_type": "stream",
     "text": [
      "pointcloud.update_from_datasource() - dsname=output\n"
     ]
    },
    {
     "name": "stderr",
     "output_type": "stream",
     "text": [
      "ERROR:traits:Exception occurred in traits notification handler for object: <PYME.LMVis.layers.pointcloud.PointCloudRenderLayer object at 0x00000228B7AC7C48>, trait: cmap, old value: gist_rainbow, new value: SolidGreen\n",
      "Traceback (most recent call last):\n",
      "  File \"C:\\Users\\laf62\\.conda\\envs\\pyme\\lib\\site-packages\\traits\\trait_notifiers.py\", line 524, in _dispatch_change_event\n",
      "    self.dispatch(handler, *args)\n",
      "  File \"C:\\Users\\laf62\\.conda\\envs\\pyme\\lib\\site-packages\\traits\\trait_notifiers.py\", line 486, in dispatch\n",
      "    handler(*args)\n",
      "  File \"c:\\users\\laf62\\code\\python-microscopy\\PYME\\LMVis\\layers\\pointcloud.py\", line 199, in update\n",
      "    self.update_from_datasource(self.datasource)\n",
      "  File \"c:\\users\\laf62\\code\\python-microscopy\\PYME\\LMVis\\layers\\pointcloud.py\", line 232, in update_from_datasource\n",
      "    self.data_updated.send(self)\n",
      "  File \"c:\\users\\laf62\\code\\python-microscopy\\PYME\\contrib\\dispatch\\dispatcher.py\", line 174, in send\n",
      "    for receiver in self._live_receivers(sender)\n",
      "  File \"c:\\users\\laf62\\code\\python-microscopy\\PYME\\contrib\\dispatch\\dispatcher.py\", line 174, in <listcomp>\n",
      "    for receiver in self._live_receivers(sender)\n",
      "  File \"c:\\users\\laf62\\code\\python-microscopy\\PYME\\ui\\custom_traits_editors.py\", line 472, in n_update\n",
      "    self.update_editor()\n",
      "  File \"c:\\users\\laf62\\code\\python-microscopy\\PYME\\ui\\custom_traits_editors.py\", line 484, in update_editor\n",
      "    self.control.SetData(self.factory.data(), *self.value)\n",
      "AttributeError: 'NoneType' object has no attribute 'SetData'\n",
      "ERROR:PYME.ui.layerFoldPanel:Error refreshing layer caption\n",
      "Traceback (most recent call last):\n",
      "  File \"c:\\users\\laf62\\code\\python-microscopy\\PYME\\ui\\layerFoldPanel.py\", line 122, in _refresh\n",
      "    self.Refresh()\n",
      "RuntimeError: wrapped C/C++ object of type LayerCaptionBar has been deleted\n",
      "ERROR:PYME.ui.layerFoldPanel:Error refreshing layer caption\n",
      "Traceback (most recent call last):\n",
      "  File \"c:\\users\\laf62\\code\\python-microscopy\\PYME\\ui\\layerFoldPanel.py\", line 122, in _refresh\n",
      "    self.Refresh()\n",
      "RuntimeError: wrapped C/C++ object of type LayerCaptionBar has been deleted\n",
      "ERROR:PYME.ui.layerFoldPanel:Error refreshing layer caption\n",
      "Traceback (most recent call last):\n",
      "  File \"c:\\users\\laf62\\code\\python-microscopy\\PYME\\ui\\layerFoldPanel.py\", line 122, in _refresh\n",
      "    self.Refresh()\n",
      "RuntimeError: wrapped C/C++ object of type LayerCaptionBar has been deleted\n"
     ]
    },
    {
     "name": "stdout",
     "output_type": "stream",
     "text": [
      "hl update\n"
     ]
    },
    {
     "name": "stderr",
     "output_type": "stream",
     "text": [
      "DEBUG:PYME.LMVis.shader_programs.ShaderProgramFactory:New shader program created: <class 'PYME.LMVis.shader_programs.GouraudShaderProgram.GouraudSphereShaderProgram'>\n"
     ]
    }
   ],
   "source": [
    "# optionally zoom\n",
    "rescale = 1\n",
    "# optionally translate\n",
    "dx, dy, dz = 0, 0, 0\n",
    "# dx, dy, dz = 0, 2000, 0\n",
    "pymevis.glCanvas.view.scale *= rescale\n",
    "pymevis.glCanvas.view.translation[0] += dx* (1. - 1. / rescale)\n",
    "pymevis.glCanvas.view.translation[1] += dy* (1. - 1. / rescale)\n",
    "pymevis.glCanvas.view.translation[2] += dz* (1. - 1. / rescale)\n",
    "\n",
    "\n",
    "# change layer properties to show mesh and points\n",
    "pymevis.glCanvas.layers[0].cmap = 'SolidGreen'\n",
    "pymevis.glCanvas.layers[0].method = 'spheres'\n",
    "pymevis.glCanvas.LUTDraw = False\n",
    "# pymevis.glCanvas.layers[-1].visible = False\n",
    "pymevis.glCanvas.Refresh()\n",
    "# pymevis.glCanvas.layers[0].update()"
   ]
  },
  {
   "cell_type": "code",
   "execution_count": 9,
   "id": "2dca58ba",
   "metadata": {},
   "outputs": [
    {
     "name": "stdout",
     "output_type": "stream",
     "text": [
      "Viewport:  (968, 1254)\n"
     ]
    }
   ],
   "source": [
    "# take points\n",
    "from PIL import Image\n",
    "snap = pymevis.glCanvas.getSnapshot().transpose(1,0,2)\n",
    "Image.fromarray(snap).transpose(Image.FLIP_TOP_BOTTOM).save(fig_name)"
   ]
  },
  {
   "cell_type": "code",
   "execution_count": 10,
   "id": "b49e576f-5fbe-400c-a330-2fa7ef5e5ef8",
   "metadata": {},
   "outputs": [
    {
     "name": "stdout",
     "output_type": "stream",
     "text": [
      "0.0019761114 0.008804743\n"
     ]
    }
   ],
   "source": [
    "nbins = 50\n",
    "ll = -0.05\n",
    "ul = 0.1\n",
    "\n",
    "count0, bin0 = np.histogram(mesh.curvature_principal1, range=(ll,ul), bins=nbins)\n",
    "\n",
    "print(np.median(mesh.curvature_principal0), np.median(mesh.curvature_principal1))"
   ]
  },
  {
   "cell_type": "code",
   "execution_count": 11,
   "id": "4bad9296-c936-4304-8d75-8fc24305ba00",
   "metadata": {},
   "outputs": [
    {
     "name": "stdout",
     "output_type": "stream",
     "text": [
      "-0.0358965\n"
     ]
    }
   ],
   "source": [
    "from PYME.experimental.isosurface import distance_to_mesh\n",
    "import scipy.spatial\n",
    "\n",
    "pts = np.vstack([pipeline['x'],pipeline['y'],pipeline['z']]).T\n",
    "\n",
    "tree = scipy.spatial.cKDTree(mesh._vertices['position'], compact_nodes=False)\n",
    "\n",
    "dists, inds = tree.query(pts, k=1)\n",
    "\n",
    "curv = mesh.curvature_principal1[inds]\n",
    "use_curv = curv[dists < 50.0]\n",
    "\n",
    "count1, bin1 = np.histogram(use_curv, range=(ll,ul), bins=nbins)\n",
    "print(np.mean(use_curv))\n",
    "\n",
    "output = {'bins': bin0, 'curf-count': count0, 'rtn-count': count1}"
   ]
  },
  {
   "cell_type": "code",
   "execution_count": 12,
   "id": "6b5b285f-08c6-4973-89f1-6cb09d5e9b86",
   "metadata": {
    "tags": []
   },
   "outputs": [
    {
     "name": "stderr",
     "output_type": "stream",
     "text": [
      "DEBUG:matplotlib.ticker:vmin 409.03756320220936 vmax 73829.11672850713\n",
      "DEBUG:matplotlib.ticker:ticklocs array([1.e+01, 1.e+02, 1.e+03, 1.e+04, 1.e+05, 1.e+06])\n",
      "DEBUG:matplotlib.ticker:vmin 409.03756320220936 vmax 73829.11672850713\n",
      "DEBUG:matplotlib.ticker:ticklocs array([1.e+01, 1.e+02, 1.e+03, 1.e+04, 1.e+05, 1.e+06])\n",
      "DEBUG:matplotlib.ticker:vmin 409.03756320220936 vmax 73829.11672850713\n",
      "DEBUG:matplotlib.ticker:ticklocs array([2.e+01, 3.e+01, 4.e+01, 5.e+01, 6.e+01, 7.e+01, 8.e+01, 9.e+01,\n",
      "       2.e+02, 3.e+02, 4.e+02, 5.e+02, 6.e+02, 7.e+02, 8.e+02, 9.e+02,\n",
      "       2.e+03, 3.e+03, 4.e+03, 5.e+03, 6.e+03, 7.e+03, 8.e+03, 9.e+03,\n",
      "       2.e+04, 3.e+04, 4.e+04, 5.e+04, 6.e+04, 7.e+04, 8.e+04, 9.e+04,\n",
      "       2.e+05, 3.e+05, 4.e+05, 5.e+05, 6.e+05, 7.e+05, 8.e+05, 9.e+05,\n",
      "       2.e+06, 3.e+06, 4.e+06, 5.e+06, 6.e+06, 7.e+06, 8.e+06, 9.e+06])\n",
      "DEBUG:matplotlib.ticker:vmin 409.03756320220936 vmax 73829.11672850713\n",
      "DEBUG:matplotlib.ticker:ticklocs array([1.e+01, 1.e+02, 1.e+03, 1.e+04, 1.e+05, 1.e+06])\n",
      "DEBUG:matplotlib.ticker:vmin 409.03756320220936 vmax 73829.11672850713\n",
      "DEBUG:matplotlib.ticker:ticklocs array([1.e+01, 1.e+02, 1.e+03, 1.e+04, 1.e+05, 1.e+06])\n",
      "DEBUG:matplotlib.ticker:vmin 409.03756320220936 vmax 73829.11672850713\n",
      "DEBUG:matplotlib.ticker:ticklocs array([2.e+01, 3.e+01, 4.e+01, 5.e+01, 6.e+01, 7.e+01, 8.e+01, 9.e+01,\n",
      "       2.e+02, 3.e+02, 4.e+02, 5.e+02, 6.e+02, 7.e+02, 8.e+02, 9.e+02,\n",
      "       2.e+03, 3.e+03, 4.e+03, 5.e+03, 6.e+03, 7.e+03, 8.e+03, 9.e+03,\n",
      "       2.e+04, 3.e+04, 4.e+04, 5.e+04, 6.e+04, 7.e+04, 8.e+04, 9.e+04,\n",
      "       2.e+05, 3.e+05, 4.e+05, 5.e+05, 6.e+05, 7.e+05, 8.e+05, 9.e+05,\n",
      "       2.e+06, 3.e+06, 4.e+06, 5.e+06, 6.e+06, 7.e+06, 8.e+06, 9.e+06])\n",
      "DEBUG:matplotlib.ticker:vmin 614.6241378436009 vmax 176715.63531668208\n",
      "DEBUG:matplotlib.ticker:ticklocs array([1.e+01, 1.e+02, 1.e+03, 1.e+04, 1.e+05, 1.e+06, 1.e+07])\n",
      "DEBUG:matplotlib.ticker:vmin 614.6241378436009 vmax 176715.63531668208\n",
      "DEBUG:matplotlib.ticker:ticklocs array([1.e+01, 1.e+02, 1.e+03, 1.e+04, 1.e+05, 1.e+06, 1.e+07])\n",
      "DEBUG:matplotlib.ticker:vmin 614.6241378436009 vmax 176715.63531668208\n",
      "DEBUG:matplotlib.ticker:ticklocs array([2.e+01, 3.e+01, 4.e+01, 5.e+01, 6.e+01, 7.e+01, 8.e+01, 9.e+01,\n",
      "       2.e+02, 3.e+02, 4.e+02, 5.e+02, 6.e+02, 7.e+02, 8.e+02, 9.e+02,\n",
      "       2.e+03, 3.e+03, 4.e+03, 5.e+03, 6.e+03, 7.e+03, 8.e+03, 9.e+03,\n",
      "       2.e+04, 3.e+04, 4.e+04, 5.e+04, 6.e+04, 7.e+04, 8.e+04, 9.e+04,\n",
      "       2.e+05, 3.e+05, 4.e+05, 5.e+05, 6.e+05, 7.e+05, 8.e+05, 9.e+05,\n",
      "       2.e+06, 3.e+06, 4.e+06, 5.e+06, 6.e+06, 7.e+06, 8.e+06, 9.e+06,\n",
      "       2.e+07, 3.e+07, 4.e+07, 5.e+07, 6.e+07, 7.e+07, 8.e+07, 9.e+07])\n",
      "DEBUG:matplotlib.ticker:vmin 614.6241378436009 vmax 176715.63531668208\n",
      "DEBUG:matplotlib.ticker:ticklocs array([1.e+01, 1.e+02, 1.e+03, 1.e+04, 1.e+05, 1.e+06, 1.e+07])\n",
      "DEBUG:matplotlib.ticker:vmin 614.6241378436009 vmax 176715.63531668208\n",
      "DEBUG:matplotlib.ticker:ticklocs array([1.e+01, 1.e+02, 1.e+03, 1.e+04, 1.e+05, 1.e+06, 1.e+07])\n",
      "DEBUG:matplotlib.ticker:vmin 614.6241378436009 vmax 176715.63531668208\n",
      "DEBUG:matplotlib.ticker:ticklocs array([2.e+01, 3.e+01, 4.e+01, 5.e+01, 6.e+01, 7.e+01, 8.e+01, 9.e+01,\n",
      "       2.e+02, 3.e+02, 4.e+02, 5.e+02, 6.e+02, 7.e+02, 8.e+02, 9.e+02,\n",
      "       2.e+03, 3.e+03, 4.e+03, 5.e+03, 6.e+03, 7.e+03, 8.e+03, 9.e+03,\n",
      "       2.e+04, 3.e+04, 4.e+04, 5.e+04, 6.e+04, 7.e+04, 8.e+04, 9.e+04,\n",
      "       2.e+05, 3.e+05, 4.e+05, 5.e+05, 6.e+05, 7.e+05, 8.e+05, 9.e+05,\n",
      "       2.e+06, 3.e+06, 4.e+06, 5.e+06, 6.e+06, 7.e+06, 8.e+06, 9.e+06,\n",
      "       2.e+07, 3.e+07, 4.e+07, 5.e+07, 6.e+07, 7.e+07, 8.e+07, 9.e+07])\n",
      "DEBUG:matplotlib.ticker:vmin 409.03756320220936 vmax 73829.11672850713\n",
      "DEBUG:matplotlib.ticker:ticklocs array([1.e+01, 1.e+02, 1.e+03, 1.e+04, 1.e+05, 1.e+06])\n",
      "DEBUG:matplotlib.ticker:vmin 409.03756320220936 vmax 73829.11672850713\n",
      "DEBUG:matplotlib.ticker:ticklocs array([1.e+01, 1.e+02, 1.e+03, 1.e+04, 1.e+05, 1.e+06])\n",
      "DEBUG:matplotlib.ticker:vmin 409.03756320220936 vmax 73829.11672850713\n",
      "DEBUG:matplotlib.ticker:ticklocs array([2.e+01, 3.e+01, 4.e+01, 5.e+01, 6.e+01, 7.e+01, 8.e+01, 9.e+01,\n",
      "       2.e+02, 3.e+02, 4.e+02, 5.e+02, 6.e+02, 7.e+02, 8.e+02, 9.e+02,\n",
      "       2.e+03, 3.e+03, 4.e+03, 5.e+03, 6.e+03, 7.e+03, 8.e+03, 9.e+03,\n",
      "       2.e+04, 3.e+04, 4.e+04, 5.e+04, 6.e+04, 7.e+04, 8.e+04, 9.e+04,\n",
      "       2.e+05, 3.e+05, 4.e+05, 5.e+05, 6.e+05, 7.e+05, 8.e+05, 9.e+05,\n",
      "       2.e+06, 3.e+06, 4.e+06, 5.e+06, 6.e+06, 7.e+06, 8.e+06, 9.e+06])\n",
      "DEBUG:matplotlib.ticker:vmin 409.03756320220936 vmax 73829.11672850713\n",
      "DEBUG:matplotlib.ticker:ticklocs array([1.e+01, 1.e+02, 1.e+03, 1.e+04, 1.e+05, 1.e+06])\n",
      "DEBUG:matplotlib.ticker:vmin 409.03756320220936 vmax 73829.11672850713\n",
      "DEBUG:matplotlib.ticker:ticklocs array([1.e+01, 1.e+02, 1.e+03, 1.e+04, 1.e+05, 1.e+06])\n",
      "DEBUG:matplotlib.ticker:vmin 409.03756320220936 vmax 73829.11672850713\n",
      "DEBUG:matplotlib.ticker:ticklocs array([2.e+01, 3.e+01, 4.e+01, 5.e+01, 6.e+01, 7.e+01, 8.e+01, 9.e+01,\n",
      "       2.e+02, 3.e+02, 4.e+02, 5.e+02, 6.e+02, 7.e+02, 8.e+02, 9.e+02,\n",
      "       2.e+03, 3.e+03, 4.e+03, 5.e+03, 6.e+03, 7.e+03, 8.e+03, 9.e+03,\n",
      "       2.e+04, 3.e+04, 4.e+04, 5.e+04, 6.e+04, 7.e+04, 8.e+04, 9.e+04,\n",
      "       2.e+05, 3.e+05, 4.e+05, 5.e+05, 6.e+05, 7.e+05, 8.e+05, 9.e+05,\n",
      "       2.e+06, 3.e+06, 4.e+06, 5.e+06, 6.e+06, 7.e+06, 8.e+06, 9.e+06])\n",
      "DEBUG:matplotlib.ticker:vmin 614.6241378436009 vmax 176715.63531668208\n",
      "DEBUG:matplotlib.ticker:ticklocs array([1.e+01, 1.e+02, 1.e+03, 1.e+04, 1.e+05, 1.e+06, 1.e+07])\n",
      "DEBUG:matplotlib.ticker:vmin 614.6241378436009 vmax 176715.63531668208\n",
      "DEBUG:matplotlib.ticker:ticklocs array([1.e+01, 1.e+02, 1.e+03, 1.e+04, 1.e+05, 1.e+06, 1.e+07])\n",
      "DEBUG:matplotlib.ticker:vmin 614.6241378436009 vmax 176715.63531668208\n",
      "DEBUG:matplotlib.ticker:ticklocs array([2.e+01, 3.e+01, 4.e+01, 5.e+01, 6.e+01, 7.e+01, 8.e+01, 9.e+01,\n",
      "       2.e+02, 3.e+02, 4.e+02, 5.e+02, 6.e+02, 7.e+02, 8.e+02, 9.e+02,\n",
      "       2.e+03, 3.e+03, 4.e+03, 5.e+03, 6.e+03, 7.e+03, 8.e+03, 9.e+03,\n",
      "       2.e+04, 3.e+04, 4.e+04, 5.e+04, 6.e+04, 7.e+04, 8.e+04, 9.e+04,\n",
      "       2.e+05, 3.e+05, 4.e+05, 5.e+05, 6.e+05, 7.e+05, 8.e+05, 9.e+05,\n",
      "       2.e+06, 3.e+06, 4.e+06, 5.e+06, 6.e+06, 7.e+06, 8.e+06, 9.e+06,\n",
      "       2.e+07, 3.e+07, 4.e+07, 5.e+07, 6.e+07, 7.e+07, 8.e+07, 9.e+07])\n",
      "DEBUG:matplotlib.ticker:vmin 614.6241378436009 vmax 176715.63531668208\n",
      "DEBUG:matplotlib.ticker:ticklocs array([1.e+01, 1.e+02, 1.e+03, 1.e+04, 1.e+05, 1.e+06, 1.e+07])\n",
      "DEBUG:matplotlib.ticker:vmin 614.6241378436009 vmax 176715.63531668208\n",
      "DEBUG:matplotlib.ticker:ticklocs array([1.e+01, 1.e+02, 1.e+03, 1.e+04, 1.e+05, 1.e+06, 1.e+07])\n",
      "DEBUG:matplotlib.ticker:vmin 614.6241378436009 vmax 176715.63531668208\n",
      "DEBUG:matplotlib.ticker:ticklocs array([2.e+01, 3.e+01, 4.e+01, 5.e+01, 6.e+01, 7.e+01, 8.e+01, 9.e+01,\n",
      "       2.e+02, 3.e+02, 4.e+02, 5.e+02, 6.e+02, 7.e+02, 8.e+02, 9.e+02,\n",
      "       2.e+03, 3.e+03, 4.e+03, 5.e+03, 6.e+03, 7.e+03, 8.e+03, 9.e+03,\n",
      "       2.e+04, 3.e+04, 4.e+04, 5.e+04, 6.e+04, 7.e+04, 8.e+04, 9.e+04,\n",
      "       2.e+05, 3.e+05, 4.e+05, 5.e+05, 6.e+05, 7.e+05, 8.e+05, 9.e+05,\n",
      "       2.e+06, 3.e+06, 4.e+06, 5.e+06, 6.e+06, 7.e+06, 8.e+06, 9.e+06,\n",
      "       2.e+07, 3.e+07, 4.e+07, 5.e+07, 6.e+07, 7.e+07, 8.e+07, 9.e+07])\n"
     ]
    }
   ],
   "source": [
    "import matplotlib.pyplot as plt\n",
    "import matplotlib\n",
    "matplotlib.rcParams.update({'font.size': 20})\n",
    "\n",
    "fig, axs = plt.subplots(3,1, figsize=(12,36))\n",
    "axs[0].step(bin0[:-1], count0, color='magenta', linewidth=3)\n",
    "axs[0].set_yscale('log')\n",
    "#axs[0].tick_params(axis='y', which='minor')\n",
    "axs[1].step(bin1[:-1], count1, color='green', linewidth=3)\n",
    "axs[1].set_yscale('log')\n",
    "# axs[1].yaxis.grid(True, which='minor')\n",
    "# axs[1].minorticks_on()\n",
    "# axs[1].tick_params(axis='y', which='minor', color='r')\n",
    "axs[2].step(bin1[:-1], count1/count0, color='black', linewidth=3)\n",
    "# axs[0].axvline(np.median(mesh.curvature_principal1), linestyle='--', c='k')\n",
    "x0 = bin1[:-1][np.argmax(count0)]\n",
    "y0 = np.max(count0)//3\n",
    "dx = 0.5*(bin1[1]-bin1[0])\n",
    "#axs[0].axvline(x0, linestyle='--', c='k')\n",
    "#axs[0].text(x0-dx,y0*3.3,f'1/{(1/x0):.0f} nm', ha='right')\n",
    "x0m = np.median(mesh.curvature_principal1)\n",
    "#axs[0].axvline(x0m, linestyle='dotted', c='k')\n",
    "max_dia = 1/x0\n",
    "#axs[0].text(x0m+dx,y0*3.3,f'{(1/x0m):.0f} nm')\n",
    "####axs[0].text(x0m+dx,y0*3.3,f'1/{(1/x0m):.0f} nm')\n",
    "\n",
    "\n",
    "# axs[0,1].step(bin1[:-1], count1/np.sum(count0), color='cyan')\n",
    "# axs[1,1].axvline(np.median(mesh1.curvature_principal1), linestyle='--', c='k')\n",
    "# axs[1].axvline(np.median(use_curv), linestyle='--', c='k')\n",
    "\n",
    "\n",
    "x1 = bin1[:-1][np.argmax(count1)]\n",
    "y1 = np.max(count1)//3\n",
    "#axs[1].axvline(x1, linestyle='--', c='k')\n",
    "#axs[1].text(x1-dx,y1*3.3,f'1/{(1/x1):.0f} nm', ha='right')\n",
    "x1m = np.median(use_curv)\n",
    "#axs[1].axvline(x1m, linestyle='dotted', c='k')\n",
    "#axs[1].text(x1m+dx,y1*3.3,f'1/{(1/x1m):.0f} nm')\n",
    "x2 = bin1[:-1][np.argmax(count1/count0)]\n",
    "y2 = np.max(count1/count0)\n",
    "axs[2].axvline(x2, linestyle='--', c='k')\n",
    "axs[2].text(x2+dx,y2*1.07, str('{:.2f}'.format(2*(1/x2)) + ' nm'))#            f'{2*(1/x2)} nm')#f'1/{(1/x2):.0f} nm')\n",
    "x2m = bin1[:-1][np.argsort(count1/count0)[len(count1/count0)//2]]\n",
    "#axs[2].axvline(x2m, linestyle='dotted', c='k')\n",
    "#axs[2].text(x2m-dx,y2*1.07,f'1/{(1/x2m):.0f} nm', ha='right')\n",
    "\n",
    "# Find ticks\n",
    "tick0 = np.max(count0)/4\n",
    "tick0_list = [0, tick0, tick0*2, tick0*3, tick0*4, tick0*5]\n",
    "#axs[0].set_ylim(tick0_list[0],tick0_list[-1])\n",
    "#axs[1].set_ylim(tick0_list[0],tick0_list[-1]+1000000)\n",
    "\n",
    "#axs[0].set_yticks(tick0_list)\n",
    "#axs[0].get_xaxis().set_major_formatter(matplotlib.ticker.ScalarFormatter())\n",
    "\n",
    "\n",
    "axs[0].set_ylabel('Frequency', color='magenta')\n",
    "axs[1].set_ylabel('Rtn4 \\nDensity', color='green')\n",
    "axs[2].set_ylabel('Rtn4 Density/\\nFrequency', color='black')\n",
    "# axs[1,1].set_ylabel('Frequency')\n",
    "axs[2].set_xlabel('Maximal principal curvature (1/nm)')\n",
    "# plt.axis('equal')\n",
    "plt.subplots_adjust(wspace=0, hspace=0)\n",
    "fig.tight_layout()"
   ]
  },
  {
   "cell_type": "code",
   "execution_count": null,
   "id": "a5379e93",
   "metadata": {
    "tags": []
   },
   "outputs": [],
   "source": [
    "# Save figure\n",
    "fig.savefig(save_loc + fig_name, dpi=600)"
   ]
  },
  {
   "cell_type": "code",
   "execution_count": null,
   "id": "b0651024-469b-43ca-b5cd-b1e9f75c8935",
   "metadata": {},
   "outputs": [],
   "source": [
    "# Save plot data to pickled .npy file to allow averaging all datasets\n",
    "np.save(save_loc + plot_info, output, allow_pickle=True)"
   ]
  },
  {
   "cell_type": "code",
   "execution_count": null,
   "id": "b48b700d-429e-4d07-b9cb-cde8057da017",
   "metadata": {},
   "outputs": [],
   "source": []
  }
 ],
 "metadata": {
  "kernelspec": {
   "display_name": "pyme",
   "language": "python",
   "name": "pyme"
  },
  "language_info": {
   "codemirror_mode": {
    "name": "ipython",
    "version": 3
   },
   "file_extension": ".py",
   "mimetype": "text/x-python",
   "name": "python",
   "nbconvert_exporter": "python",
   "pygments_lexer": "ipython3",
   "version": "3.7.9"
  }
 },
 "nbformat": 4,
 "nbformat_minor": 5
}
