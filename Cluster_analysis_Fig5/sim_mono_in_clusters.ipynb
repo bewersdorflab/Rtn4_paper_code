{
 "cells": [
  {
   "cell_type": "code",
   "execution_count": 1,
   "id": "1afdd256-669c-4087-af59-6a05388e6b9b",
   "metadata": {
    "tags": []
   },
   "outputs": [
    {
     "name": "stdout",
     "output_type": "stream",
     "text": [
      "Trying to load 3rd party recipe module cc_drift_cor.plugins.recipes.chung_cc\n",
      "Loaded 3rd party recipe module cc_drift_cor.plugins.recipes.chung_cc\n",
      "Trying to load 3rd party recipe module cc_drift_cor.plugins.recipes.io\n",
      "Loaded 3rd party recipe module cc_drift_cor.plugins.recipes.io\n",
      "Trying to load 3rd party recipe module pyme_picasso.recipe_modules.conversion\n",
      "Loaded 3rd party recipe module pyme_picasso.recipe_modules.conversion\n",
      "Trying to load 3rd party recipe module cc_drift_cor.plugins.recipes.processing\n",
      "Loaded 3rd party recipe module cc_drift_cor.plugins.recipes.processing\n",
      "Trying to load 3rd party recipe module cc_drift_cor.plugins.recipes.localisations\n",
      "Loaded 3rd party recipe module cc_drift_cor.plugins.recipes.localisations\n",
      "Trying to load 3rd party recipe module ch_shrinkwrap.recipe_modules.surface_feature_extraction\n",
      "Loaded 3rd party recipe module ch_shrinkwrap.recipe_modules.surface_feature_extraction\n",
      "Trying to load 3rd party recipe module pyme_4pi.recipe_modules.conversion\n",
      "Loaded 3rd party recipe module pyme_4pi.recipe_modules.conversion\n",
      "Trying to load 3rd party recipe module ch_shrinkwrap.recipe_modules.simulation\n",
      "Loaded 3rd party recipe module ch_shrinkwrap.recipe_modules.simulation\n",
      "Trying to load 3rd party recipe module ch_shrinkwrap.recipe_modules.surface_fitting\n",
      "Loaded 3rd party recipe module ch_shrinkwrap.recipe_modules.surface_fitting\n",
      "Trying to load 3rd party recipe module nep_fitting.recipe_modules.nep_fits\n",
      "Loaded 3rd party recipe module nep_fitting.recipe_modules.nep_fits\n",
      "Detected a .git folder, assuming a development install\n"
     ]
    }
   ],
   "source": [
    "from PYME.LMVis import VisGUI\n",
    "\n",
    "%gui wx"
   ]
  },
  {
   "cell_type": "code",
   "execution_count": 2,
   "id": "871e4589-7a1f-40da-8cbd-6d9b2b654f73",
   "metadata": {
    "tags": []
   },
   "outputs": [
    {
     "name": "stdout",
     "output_type": "stream",
     "text": [
      "quaternion module not found, disabling custom clip plane orientations\n",
      "quaternion module not found, disabling custom clip plane orientations\n",
      "New Canvas\n"
     ]
    },
    {
     "name": "stderr",
     "output_type": "stream",
     "text": [
      "DEBUG:PYME.LMVis.visCore:Creating VisGUI menu bar\n",
      "DEBUG:PYME.LMVis.Extras:Initializing QPobjectSegment plugin\n",
      "DEBUG:PYME.LMVis.Extras:Initializing animation plugin\n",
      "DEBUG:PYME.LMVis.Extras:Initializing annotation plugin\n",
      "c:\\users\\laf62\\code\\python-microscopy\\PYME\\DSView\\modules\\annotation.py:62: wxPyDeprecationWarning: Call to deprecated item. Use SetToolTip instead.\n",
      "  self.bAdjustSnake.SetToolTipString('Adjust the parameters of fo the \"snake\" (active contour) used for curve locking')\n",
      "c:\\users\\laf62\\code\\python-microscopy\\PYME\\DSView\\modules\\annotation.py:73: wxPyDeprecationWarning: Call to deprecated item. Use InsertItem instead.\n",
      "  self.lLabels.InsertStringItem(i, '%d' % i)\n",
      "c:\\users\\laf62\\code\\python-microscopy\\PYME\\DSView\\modules\\annotation.py:74: wxPyDeprecationWarning: Call to deprecated item. Use SetItem instead.\n",
      "  self.lLabels.SetStringItem(i, 1, 'Structure %d' % i)\n",
      "c:\\users\\laf62\\code\\python-microscopy\\PYME\\DSView\\modules\\annotation.py:76: wxPyDeprecationWarning: Call to deprecated item. Use SetItem instead.\n",
      "  self.lLabels.SetStringItem(0, 1, 'No label')\n",
      "c:\\users\\laf62\\code\\python-microscopy\\PYME\\DSView\\modules\\annotation.py:95: wxPyDeprecationWarning: Call to deprecated item. Use SetToolTip instead.\n",
      "  self.bAddLine.SetToolTipString('Add a curve annotation (ctrl-L / cmd-L)')\n",
      "DEBUG:PYME.LMVis.Extras:Initializing clusterAnalysis plugin\n",
      "WARNING:PYME.DSView.modules:Plugin [clusterAnalysis] injects into parent namespace, could result in circular references\n",
      "DEBUG:PYME.LMVis.Extras:Initializing dockedPanel plugin\n",
      "DEBUG:PYME.LMVis.Extras:Initializing extra_layers plugin\n",
      "DEBUG:PYME.LMVis.Extras:Initializing fiducial plugin\n",
      "DEBUG:PYME.LMVis.Extras:Initializing flagZMotionArtifacts plugin\n",
      "DEBUG:root:Adding menu items for event filters\n",
      "WARNING:PYME.DSView.modules:Plugin [flagZMotionArtifacts] injects into parent namespace, could result in circular references\n",
      "DEBUG:PYME.LMVis.Extras:Initializing fusionUtils plugin\n",
      "DEBUG:PYME.LMVis.Extras:Initializing multiColourAnalysis plugin\n",
      "DEBUG:PYME.LMVis.Extras:Initializing multiviewMapping plugin\n",
      "DEBUG:root:Adding menu items for multi-view manipulation\n",
      "WARNING:PYME.DSView.modules:Plugin [multiviewMapping] injects into parent namespace, could result in circular references\n",
      "DEBUG:PYME.LMVis.Extras:Initializing objectMeasurements plugin\n",
      "DEBUG:PYME.LMVis.Extras:Initializing particleTracking plugin\n",
      "WARNING:PYME.DSView.modules:Plugin [particleTracking] injects into parent namespace, could result in circular references\n",
      "DEBUG:PYME.LMVis.Extras:Initializing perFrameVariable plugin\n",
      "DEBUG:PYME.LMVis.Extras:Initializing photophysics plugin\n",
      "DEBUG:PYME.LMVis.Extras:Initializing pointSetGeneration plugin\n",
      "WARNING:PYME.DSView.modules:Plugin [pointSetGeneration] injects into parent namespace, could result in circular references\n",
      "DEBUG:PYME.LMVis.Extras:Initializing pointwiseColoc plugin\n",
      "DEBUG:PYME.LMVis.Extras:Initializing saved_views plugin\n",
      "DEBUG:PYME.LMVis.Extras:Initializing scaleBox plugin\n",
      "DEBUG:PYME.LMVis.Extras:Initializing sequentialSpecies plugin\n",
      "DEBUG:PYME.LMVis.Extras:Initializing setBGImage plugin\n",
      "DEBUG:PYME.LMVis.Extras:Initializing shiftmapGenerator plugin\n",
      "DEBUG:PYME.LMVis.Extras:Initializing showShortcuts plugin\n",
      "DEBUG:PYME.LMVis.Extras:Initializing snapshot plugin\n",
      "DEBUG:PYME.LMVis.Extras:Initializing spherical_harmonics plugin\n",
      "DEBUG:root:Adding menu items for spherical harmonic (shell) fitting\n",
      "WARNING:PYME.DSView.modules:Plugin [spherical_harmonics] injects into parent namespace, could result in circular references\n",
      "DEBUG:PYME.LMVis.Extras:Initializing subsets plugin\n",
      "DEBUG:PYME.LMVis.Extras:Initializing surface_fitting plugin\n",
      "DEBUG:PYME.LMVis.Extras:Initializing temperaturePlot plugin\n",
      "DEBUG:PYME.LMVis.Extras:Initializing vibration plugin\n",
      "DEBUG:PYME.recipes.recipe:Module timings: {}\n"
     ]
    },
    {
     "name": "stdout",
     "output_type": "stream",
     "text": [
      "Saved Views are deprecated -  use the ones with animation instead and remove me!\n",
      "Creating fold panel\n",
      "GenPanels\n",
      "Creating datasource panel\n",
      "Image list size: 1\n",
      "recipe.execute()\n",
      "0\n",
      "OpenGL - Version: b'4.6.0 NVIDIA 516.94'\n",
      "Shader - Version: b'4.60 NVIDIA'\n",
      "GL.GL_MAX_SAMPLES: 32, GL.GL_SAMPLES: 4\n"
     ]
    },
    {
     "name": "stderr",
     "output_type": "stream",
     "text": [
      "DEBUG:PYME.LMVis.shader_programs.ShaderProgramFactory:New shader program created: <class 'PYME.LMVis.shader_programs.DefaultShaderProgram.DefaultShaderProgram'>\n"
     ]
    },
    {
     "name": "stdout",
     "output_type": "stream",
     "text": [
      "Ev Idle\n",
      "('points', 't')\n",
      "refreshed\n",
      "Input datasources:  []\n",
      "Creating layers GUI\n",
      "height:  0\n",
      "NB best size: wx.Size(0, 0)\n"
     ]
    }
   ],
   "source": [
    "pymevis = VisGUI.ipython_pymevisualize()\n",
    "pipeline = pymevis.pipeline"
   ]
  },
  {
   "cell_type": "code",
   "execution_count": 61,
   "id": "61e9927e-92e5-45ef-8a20-31b3b2d6bba0",
   "metadata": {},
   "outputs": [],
   "source": [
    "import numpy as np\n",
    "from pathlib import Path\n",
    "import os\n",
    "import matplotlib.pyplot as plt\n",
    "from PYME.Analysis.points import cluster_morphology\n",
    "\n",
    "#Parameters to change\n",
    "savedir = 'K:\\\\4Pi_data\\\\Oligomer_analysis\\\\Oligomer_analysis_V2\\\\updated_analysis_20230111\\\\analysis'\n",
    "c_info = \"K:\\\\4Pi_data\\\\Oligomer_analysis\\\\Oligomer_analysis_V2\\\\updated_analysis_20230111\\\\count_info_V1.npy\"\n",
    "save_loc = \"K:\\\\4Pi_data\\\\Oligomer_analysis\\\\Oligomer_analysis_V2\\\\updated_analysis_20230111\"\n",
    "data = save_loc + '\\\\cluster_output_V1.npy'\n",
    "circ = save_loc + '\\\\circular_sims_V1.npy'\n",
    "line = save_loc + '\\\\linear_sims_V1.npy'\n",
    "ver = 'V1'\n",
    "min_size = 10      # currently not used\n",
    "max_size = 50     # currently not used\n",
    "m_dist = 3.75 # distance between monomers in nanometers\n",
    "lpm = 3.23 # factor that changes # of localizations per cluster distribution into one that looks like\n",
    "            # the number of molecules per cluster in the counting data\n",
    "lp = 5.65 # this is the average localization precision from the three Rtn4 experiments\n",
    "# Import data\n",
    "real = np.load(data, allow_pickle=True)\n",
    "#real = real.item()\n",
    "circ_sim = np.load(circ, allow_pickle=True)\n",
    "#circ_sim = circ_sim.item()\n",
    "line_sim = np.load(line, allow_pickle=True)\n",
    "#line_sim = line_sim.item()\n",
    "count_info = np.load(c_info, allow_pickle=True)\n",
    "count_info = count_info.item()"
   ]
  },
  {
   "cell_type": "code",
   "execution_count": 69,
   "id": "854d7633-5fb8-467c-b76d-bcd4140c24fa",
   "metadata": {},
   "outputs": [],
   "source": [
    "min_oli = int(np.rint(min_size/lpm))\n",
    "max_oli = int(np.rint(max_size/lpm))\n",
    "frequency = count_info['frequency'][min_oli:max_oli]\n",
    "oli_size = count_info['oli-size'][min_oli:max_oli]"
   ]
  },
  {
   "cell_type": "code",
   "execution_count": 71,
   "id": "c17e6fd9-a03b-495e-8dd7-a505c70b23bb",
   "metadata": {},
   "outputs": [
    {
     "data": {
      "text/plain": [
       "array([ 3.,  4.,  5.,  6.,  7.,  8.,  9., 10., 11., 12., 13., 14.])"
      ]
     },
     "execution_count": 71,
     "metadata": {},
     "output_type": "execute_result"
    }
   ],
   "source": []
  },
  {
   "cell_type": "code",
   "execution_count": 59,
   "id": "47a5f0ed-7c0e-4ac1-ab29-98c0da8a518b",
   "metadata": {},
   "outputs": [],
   "source": [
    "clusters = []\n",
    "rng = np.random.default_rng()\n",
    "\n",
    "frequency \n",
    "for a in range(len(oli_size)):                                  # for each oligomer size\n",
    "    for b in range(int(frequency[a])):                          # for the number of times that oligomer size occurs\n",
    "        pois = rng.poisson(lpm,int(oli_size[a]))                     # determine number of localizations each molecule has\n",
    "        total = sum(pois)                                       # find total number of localizations for this cluster\n",
    "        count = 0\n",
    "        points = np.zeros((total,3))\n",
    "        for c in range(int(oli_size[a])):                            # for each of molecule in this cluster\n",
    "            for d in range(pois[c]):                            # for each localization in each molecule in this cluster\n",
    "                points[count] = np.array([m_dist*c,0,0])\n",
    "                points[count][0] = points[count][0] + rng.normal(loc=0,scale=lp,size=1)\n",
    "                points[count][1] = points[count][1] + rng.normal(loc=0,scale=lp,size=1)\n",
    "                points[count][2] = points[count][2] + rng.normal(loc=0,scale=lp,size=1)\n",
    "                count = count + 1\n",
    "        clusters.append(points)\n",
    "\n",
    "# Unpack wanted measurements\n",
    "for z in range(len(real)):\n",
    "    if z == 0:\n",
    "        real_ani = real[z]['anisotropy']\n",
    "        circ_ani = circ_sim[z]['anisotropy']\n",
    "        line_ani = line_sim[z]['anisotropy']\n",
    "        ccounts = real[z]['count']\n",
    "    else:\n",
    "        np.concatenate((real_ani, real[z]['anisotropy']))\n",
    "        np.concatenate((circ_ani, circ_sim[z]['anisotropy']))\n",
    "        np.concatenate((line_ani, line_sim[z]['anisotropy']))\n",
    "        np.concatenate((ccounts, real[z]['count']))\n",
    "\n",
    "min_filt = ccounts > min_size\n",
    "max_filt = ccounts < max_size\n",
    "size_filt = min_filt * max_filt\n",
    "real_ani_filt = real_ani[size_filt]\n",
    "circ_ani_filt = circ_ani[size_filt]\n",
    "line_ani_filt = line_ani[size_filt]\n",
    "min_csize = int(np.rint(min_size/lpm))\n",
    "max_csize = int(np.rint(max_size/lpm))\n",
    "# Round frequency to nearest integer\n",
    "frequency = np.rint(count_info['frequency'])[min_csize:max_csize]\n",
    "# Grab oligomer size bins\n",
    "oli_size = count_info['oli-size'][min_csize:max_csize]\n",
    "\n",
    "cluster_anisotropy = np.zeros(len(clusters))\n",
    "for e in range(len(clusters)):\n",
    "    if len(clusters[e]) > 2:\n",
    "        cluster_meas = cluster_morphology.measure_3d(x=clusters[e][:,0],y=clusters[e][:,1],\n",
    "                                                  z=clusters[e][:,2])\n",
    "        cluster_anisotropy[e] = cluster_meas['anisotropy'][0]\n",
    "    else:\n",
    "        continue\n",
    "\n",
    "CB_color_cycle = ['#377eb8', '#ff7f00', '#4daf4a',\n",
    "                  '#f781bf', '#a65628', '#984ea3',\n",
    "                  '#999999', '#e41a1c', '#dede00']\n",
    "\n",
    "fig = plt.figure(figsize=[3,2])\n",
    "plt.hist(circ_ani_filt,bins=20, range=[0,1], alpha=0.3,label='Circular', \n",
    "         density=True, color='gold', edgecolor='k')\n",
    "plt.hist(line_ani_filt,bins=20, range=[0,1], alpha=0.3,label='Linear', \n",
    "         density=True, color='lime', edgecolor='k')\n",
    "plt.hist(real_ani_filt,bins=20, range=[0,1], alpha=0.3,label='Real', \n",
    "         density=True, color=CB_color_cycle[5], edgecolor='k')\n",
    "plt.legend(loc='upper right', bbox_to_anchor=(1.02, 1.03),frameon=False, markerfirst=False)\n",
    "plt.xlabel('Anisotropy')\n",
    "plt.ylabel('Normalized frequency')\n",
    "plt.show()\n",
    "ani_save = savedir + '\\\\Cluster_anisotropy_' + ver + '.png'\n",
    "plt.savefig(ani_save, dpi=600, facecolor='w', edgecolor='w',\n",
    "        orientation='portrait', papertype=None, format=None,\n",
    "        transparent=False, bbox_inches='tight', pad_inches=0, metadata=None)\n",
    "\n",
    "fig = plt.figure(figsize=[3,2])\n",
    "plt.hist(cluster_anisotropy, bins=20, range=[0,1], alpha=0.3,label='Sim-mono', \n",
    "         density=True, color=CB_color_cycle[6], edgecolor='k')\n",
    "plt.hist(real_ani_filt,bins=20, range=[0,1], alpha=0.3,label='Real', \n",
    "         density=True, color=CB_color_cycle[5], edgecolor='k')\n",
    "plt.legend(loc='upper right', bbox_to_anchor=(1.02, 1.03),frameon=False, markerfirst=False)\n",
    "plt.xlabel('Anisotropy')\n",
    "plt.ylabel('Normalized frequency')\n",
    "plt.show()\n",
    "mono_sim_save = savedir + '\\\\Monomer_sim_anisotropy_' + ver + '-' + str(m_dist) + '.png'\n",
    "plt.savefig(mono_sim_save, dpi=600, facecolor='w', edgecolor='w',\n",
    "        orientation='portrait', papertype=None, format=None,\n",
    "        transparent=False, bbox_inches='tight', pad_inches=0, metadata=None)"
   ]
  }
 ],
 "metadata": {
  "kernelspec": {
   "display_name": "pyme",
   "language": "python",
   "name": "pyme"
  },
  "language_info": {
   "codemirror_mode": {
    "name": "ipython",
    "version": 3
   },
   "file_extension": ".py",
   "mimetype": "text/x-python",
   "name": "python",
   "nbconvert_exporter": "python",
   "pygments_lexer": "ipython3",
   "version": "3.7.9"
  }
 },
 "nbformat": 4,
 "nbformat_minor": 5
}
