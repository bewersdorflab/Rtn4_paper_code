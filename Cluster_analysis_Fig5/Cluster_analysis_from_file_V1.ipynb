{
 "cells": [
  {
   "cell_type": "code",
   "execution_count": 1,
   "id": "7a62b966-dbc1-4f6d-afe0-04fd72ceddc0",
   "metadata": {},
   "outputs": [
    {
     "name": "stdout",
     "output_type": "stream",
     "text": [
      "Trying to load 3rd party recipe module nep_fitting.recipe_modules.nep_fits\n",
      "Loaded 3rd party recipe module nep_fitting.recipe_modules.nep_fits\n",
      "Trying to load 3rd party recipe module cc_drift_cor.plugins.recipes.processing\n",
      "Loaded 3rd party recipe module cc_drift_cor.plugins.recipes.processing\n",
      "Trying to load 3rd party recipe module ch_shrinkwrap.recipe_modules.surface_fitting\n",
      "Loaded 3rd party recipe module ch_shrinkwrap.recipe_modules.surface_fitting\n",
      "Trying to load 3rd party recipe module pyme_4pi.recipe_modules.conversion\n",
      "Loaded 3rd party recipe module pyme_4pi.recipe_modules.conversion\n",
      "Trying to load 3rd party recipe module ch_shrinkwrap.recipe_modules.surface_feature_extraction\n",
      "Loaded 3rd party recipe module ch_shrinkwrap.recipe_modules.surface_feature_extraction\n",
      "Trying to load 3rd party recipe module cc_drift_cor.plugins.recipes.io\n",
      "Loaded 3rd party recipe module cc_drift_cor.plugins.recipes.io\n",
      "Trying to load 3rd party recipe module ch_shrinkwrap.recipe_modules.simulation\n",
      "Loaded 3rd party recipe module ch_shrinkwrap.recipe_modules.simulation\n",
      "Trying to load 3rd party recipe module cc_drift_cor.plugins.recipes.localisations\n",
      "Loaded 3rd party recipe module cc_drift_cor.plugins.recipes.localisations\n",
      "Trying to load 3rd party recipe module pyme_picasso.recipe_modules.conversion\n",
      "Loaded 3rd party recipe module pyme_picasso.recipe_modules.conversion\n",
      "Trying to load 3rd party recipe module cc_drift_cor.plugins.recipes.chung_cc\n",
      "Loaded 3rd party recipe module cc_drift_cor.plugins.recipes.chung_cc\n",
      "Detected a .git folder, assuming a development install\n"
     ]
    }
   ],
   "source": [
    "from PYME.LMVis import VisGUI\n",
    "\n",
    "%gui wx"
   ]
  },
  {
   "cell_type": "code",
   "execution_count": 2,
   "id": "bb793a8f-639e-46c2-871d-96ff380caec9",
   "metadata": {},
   "outputs": [
    {
     "name": "stderr",
     "output_type": "stream",
     "text": [
      "DEBUG:PYME.LMVis.visCore:Creating VisGUI menu bar\n",
      "DEBUG:PYME.LMVis.Extras:Initializing QPobjectSegment plugin\n"
     ]
    },
    {
     "name": "stdout",
     "output_type": "stream",
     "text": [
      "quaternion module not found, disabling custom clip plane orientations\n",
      "quaternion module not found, disabling custom clip plane orientations\n",
      "New Canvas\n"
     ]
    },
    {
     "name": "stderr",
     "output_type": "stream",
     "text": [
      "DEBUG:PYME.LMVis.Extras:Initializing animation plugin\n",
      "DEBUG:PYME.LMVis.Extras:Initializing annotation plugin\n",
      "c:\\users\\laf62\\code\\python-microscopy\\PYME\\DSView\\modules\\annotation.py:62: wxPyDeprecationWarning: Call to deprecated item. Use SetToolTip instead.\n",
      "  self.bAdjustSnake.SetToolTipString('Adjust the parameters of fo the \"snake\" (active contour) used for curve locking')\n",
      "c:\\users\\laf62\\code\\python-microscopy\\PYME\\DSView\\modules\\annotation.py:73: wxPyDeprecationWarning: Call to deprecated item. Use InsertItem instead.\n",
      "  self.lLabels.InsertStringItem(i, '%d' % i)\n",
      "c:\\users\\laf62\\code\\python-microscopy\\PYME\\DSView\\modules\\annotation.py:74: wxPyDeprecationWarning: Call to deprecated item. Use SetItem instead.\n",
      "  self.lLabels.SetStringItem(i, 1, 'Structure %d' % i)\n",
      "c:\\users\\laf62\\code\\python-microscopy\\PYME\\DSView\\modules\\annotation.py:76: wxPyDeprecationWarning: Call to deprecated item. Use SetItem instead.\n",
      "  self.lLabels.SetStringItem(0, 1, 'No label')\n",
      "c:\\users\\laf62\\code\\python-microscopy\\PYME\\DSView\\modules\\annotation.py:95: wxPyDeprecationWarning: Call to deprecated item. Use SetToolTip instead.\n",
      "  self.bAddLine.SetToolTipString('Add a curve annotation (ctrl-L / cmd-L)')\n",
      "DEBUG:PYME.LMVis.Extras:Initializing clusterAnalysis plugin\n",
      "WARNING:PYME.DSView.modules:Plugin [clusterAnalysis] injects into parent namespace, could result in circular references\n",
      "DEBUG:PYME.LMVis.Extras:Initializing dockedPanel plugin\n",
      "DEBUG:PYME.LMVis.Extras:Initializing extra_layers plugin\n",
      "DEBUG:PYME.LMVis.Extras:Initializing fiducial plugin\n",
      "DEBUG:PYME.LMVis.Extras:Initializing flagZMotionArtifacts plugin\n",
      "DEBUG:root:Adding menu items for event filters\n",
      "WARNING:PYME.DSView.modules:Plugin [flagZMotionArtifacts] injects into parent namespace, could result in circular references\n",
      "DEBUG:PYME.LMVis.Extras:Initializing fusionUtils plugin\n",
      "DEBUG:PYME.LMVis.Extras:Initializing multiColourAnalysis plugin\n",
      "DEBUG:PYME.LMVis.Extras:Initializing multiviewMapping plugin\n",
      "DEBUG:root:Adding menu items for multi-view manipulation\n",
      "WARNING:PYME.DSView.modules:Plugin [multiviewMapping] injects into parent namespace, could result in circular references\n",
      "DEBUG:PYME.LMVis.Extras:Initializing objectMeasurements plugin\n",
      "DEBUG:PYME.LMVis.Extras:Initializing particleTracking plugin\n",
      "WARNING:PYME.DSView.modules:Plugin [particleTracking] injects into parent namespace, could result in circular references\n",
      "DEBUG:PYME.LMVis.Extras:Initializing perFrameVariable plugin\n",
      "DEBUG:PYME.LMVis.Extras:Initializing photophysics plugin\n",
      "DEBUG:PYME.LMVis.Extras:Initializing pointSetGeneration plugin\n",
      "WARNING:PYME.DSView.modules:Plugin [pointSetGeneration] injects into parent namespace, could result in circular references\n",
      "DEBUG:PYME.LMVis.Extras:Initializing pointwiseColoc plugin\n",
      "DEBUG:PYME.LMVis.Extras:Initializing saved_views plugin\n",
      "DEBUG:PYME.LMVis.Extras:Initializing scaleBox plugin\n",
      "DEBUG:PYME.LMVis.Extras:Initializing sequentialSpecies plugin\n",
      "DEBUG:PYME.LMVis.Extras:Initializing setBGImage plugin\n",
      "DEBUG:PYME.LMVis.Extras:Initializing shiftmapGenerator plugin\n",
      "DEBUG:PYME.LMVis.Extras:Initializing showShortcuts plugin\n",
      "DEBUG:PYME.LMVis.Extras:Initializing snapshot plugin\n",
      "DEBUG:PYME.LMVis.Extras:Initializing spherical_harmonics plugin\n",
      "DEBUG:root:Adding menu items for spherical harmonic (shell) fitting\n",
      "WARNING:PYME.DSView.modules:Plugin [spherical_harmonics] injects into parent namespace, could result in circular references\n",
      "DEBUG:PYME.LMVis.Extras:Initializing subsets plugin\n",
      "DEBUG:PYME.LMVis.Extras:Initializing surface_fitting plugin\n",
      "DEBUG:PYME.LMVis.Extras:Initializing temperaturePlot plugin\n",
      "DEBUG:PYME.LMVis.Extras:Initializing vibration plugin\n",
      "DEBUG:PYME.recipes.recipe:Module timings: {}\n"
     ]
    },
    {
     "name": "stdout",
     "output_type": "stream",
     "text": [
      "Saved Views are deprecated -  use the ones with animation instead and remove me!\n",
      "Creating fold panel\n",
      "GenPanels\n",
      "Creating datasource panel\n",
      "Image list size: 1\n",
      "recipe.execute()\n",
      "0\n",
      "OpenGL - Version: b'4.6.0 NVIDIA 516.94'\n",
      "Shader - Version: b'4.60 NVIDIA'\n",
      "GL.GL_MAX_SAMPLES: 32, GL.GL_SAMPLES: 4\n"
     ]
    },
    {
     "name": "stderr",
     "output_type": "stream",
     "text": [
      "DEBUG:PYME.LMVis.shader_programs.ShaderProgramFactory:New shader program created: <class 'PYME.LMVis.shader_programs.DefaultShaderProgram.DefaultShaderProgram'>\n"
     ]
    },
    {
     "name": "stdout",
     "output_type": "stream",
     "text": [
      "Ev Idle\n",
      "('points', 't')\n",
      "refreshed\n",
      "Input datasources:  []\n",
      "Creating layers GUI\n",
      "height:  0\n",
      "NB best size: wx.Size(0, 0)\n"
     ]
    }
   ],
   "source": [
    "pymevis = VisGUI.ipython_pymevisualize()\n",
    "pipeline = pymevis.pipeline"
   ]
  },
  {
   "cell_type": "code",
   "execution_count": 4,
   "id": "241dbf22-b8d1-4744-bcfe-0b8f8be26673",
   "metadata": {},
   "outputs": [],
   "source": [
    "import numpy as np\n",
    "from pathlib import Path\n",
    "import os\n",
    "import matplotlib.pyplot as plt\n",
    "\n",
    "#Parameters to change\n",
    "savedir = 'K:\\\\4Pi_data\\\\Oligomer_analysis\\\\Oligomer_analysis_V2\\\\updated_analysis_20230110'\n",
    "nbins = [0, 10, 20, 30, 40, 50, 60, 70, 80, 90, 100, 110, 120, 130, 140, 150, 160 ,170, 180]\n",
    "save_loc = \"K:\\\\4Pi_data\\\\Oligomer_analysis\\\\Oligomer_analysis_V2\\\\updated_analysis_20230110\"\n",
    "data = [save_loc + '\\\\cluster_output_20210907_Cell02_V3.npy',\n",
    "        save_loc + '\\\\cluster_output_20220930_Cell04_V3.npy',\n",
    "        save_loc + '\\\\cluster_output_20221004_Cell05_V3.npy']\n",
    "ver = 'V4'\n",
    "\n",
    "# Import data\n",
    "c_tdeg = []\n",
    "c_zdeg = []\n",
    "cp_tdeg = []\n",
    "arot_tdeg = []\n",
    "arot_zdeg = []\n",
    "center_angles = []\n",
    "alpha = []\n",
    "sim_alpha = []\n",
    "psi = []\n",
    "sim_psi = []\n",
    "count = []\n",
    "for a in range(len(data)):\n",
    "    output = np.load(data[a], allow_pickle=True)\n",
    "    output = output.item()\n",
    "    c_tdeg.append(output['c_tdeg'])\n",
    "    c_zdeg.append(output['c_zdeg'])\n",
    "    cp_tdeg.append(output['cp_tdeg'])\n",
    "    arot_tdeg.append(output['arot_tdeg'])\n",
    "    #arot_zdeg.append(output['arot_zdeg'])\n",
    "    center_angles.append(output['center_angles'])\n",
    "    alpha.append(output['alpha'])\n",
    "    sim_alpha.append(output['sim_alpha'])\n",
    "    psi.append(output['psi'])\n",
    "    sim_psi.append(output['sim_psi'])\n",
    "    count.append(output['count'])"
   ]
  },
  {
   "cell_type": "code",
   "execution_count": 5,
   "id": "8ae275dd-b59a-4ee4-b378-8a31ce79d865",
   "metadata": {},
   "outputs": [],
   "source": [
    "all_c_tdeg = [item for sublist in c_tdeg for item in sublist]\n",
    "all_c_zdeg = [item for sublist in c_zdeg for item in sublist]\n",
    "all_cp_tdeg = [item for sublist in cp_tdeg for item in sublist]\n",
    "all_arot_tdeg = [item for sublist in arot_tdeg for item in sublist]\n",
    "#all_arot_zdeg = [item for sublist in arot_zdeg for item in sublist]\n",
    "all_center_angles = [item for sublist in center_angles for item in sublist]\n",
    "all_alpha = [item for sublist in alpha for item in sublist]\n",
    "all_alpha = np.asarray(all_alpha)\n",
    "all_sim_alpha = [item for sublist in sim_alpha for item in sublist]\n",
    "all_sim_alpha = np.asarray(all_sim_alpha)\n",
    "all_psi = [item for sublist in psi for item in sublist]\n",
    "all_sim_psi = [item for sublist in sim_psi for item in sublist]\n",
    "all_count = [item for sublist in count for item in sublist]\n",
    "all_count = np.asarray(all_count)\n",
    "\n",
    "data_list = [all_c_tdeg, all_arot_tdeg]\n",
    "deg_range = [0,180]\n",
    "all_counts = []\n",
    "all_bins = []\n",
    "fig = plt.figure(tight_layout=True)\n",
    "for da in range(len(data_list)):\n",
    "    count, bins = np.histogram(data_list[da], bins=nbins, density=True, range=deg_range)\n",
    "    all_counts.append(count)\n",
    "    all_bins.append(bins)\n",
    "    plt.hist(data_list[da], bins=nbins, density=True, range=deg_range, histtype='step')\n",
    "    #plt.step(bins[1:], count, where='pre')\n",
    "plt.xlim([0,180])\n",
    "all_bins = all_bins[0][:-1]"
   ]
  },
  {
   "cell_type": "code",
   "execution_count": null,
   "id": "67ad96a2-3b72-4070-89c8-a92d8f7114c1",
   "metadata": {},
   "outputs": [],
   "source": [
    "import matplotlib.pyplot as plt\n",
    "\n",
    "CB_color_cycle = ['#377eb8', '#ff7f00','#a65628', # blue, orange, brown\n",
    "                  '#f781bf', '#4daf4a',  '#984ea3', # pink, green, purple\n",
    "                  '#999999', '#e41a1c', '#dede00'] #grey, red , yellow\n",
    "plt.rcParams.update({'font.size': 9})\n",
    "fig, axs = plt.subplots(figsize=(3,2.5))\n",
    "axs.hist(data_list[0], bins=nbins, density=True, range=deg_range, histtype='step',\n",
    "         color=CB_color_cycle[1], linewidth=2, label='Rtn4-tubule')\n",
    "axs.hist(data_list[1], bins=nbins, density=True, range=deg_range, histtype='step',\n",
    "         color=CB_color_cycle[6], linewidth=2, label='Sim-tubule')\n",
    "axs.set_ylabel('Frequency')\n",
    "axs.set_xlabel(u'\\u03C8 (degrees)')\n",
    "plt.legend(loc='lower center')\n",
    "axs.set_xlim([0,180])\n",
    "axs.set_xticks([0, 45, 90, 135, 180])\n",
    "#axs.set_ylim([0,0.008])\n",
    "step_save = savedir + '\\\\step_angles_all' + ver + '.png'\n",
    "plt.savefig(step_save, dpi=600, facecolor='w', edgecolor='w',\n",
    "        orientation='portrait', papertype=None, format=None,\n",
    "        transparent=False, bbox_inches='tight', pad_inches=0.1, metadata=None)"
   ]
  },
  {
   "cell_type": "code",
   "execution_count": null,
   "id": "065b5611-5bda-453e-85ad-9cad29caa21f",
   "metadata": {},
   "outputs": [],
   "source": [
    "from numpy import pi\n",
    "# convert to degrees\n",
    "all_center_deg = np.asarray(all_center_angles) * (180/pi)\n",
    "ticks = [0,45,90,135,180]\n",
    "# Plot a 2D histogram of the angles between the cluster major axis and the tubule axis (x) and tubule z-axis(y)\n",
    "plt.rcParams.update({'font.size': 9})\n",
    "fig = plt.figure(figsize=[2.5,2.5])\n",
    "abs_center_deg = np.absolute(all_center_deg)\n",
    "h, xedges, yedges, image = plt.hist2d(all_c_tdeg, abs_center_deg, bins=bins, cmap=plt.cm.inferno)#, density=True)\n",
    "plt.ylim([0,180])\n",
    "plt.xlim([0,180])\n",
    "plt.xticks(ticks)\n",
    "plt.yticks(ticks)\n",
    "plt.xlabel(u'\\u03C8 (degrees)')\n",
    "plt.ylabel(u'\\u03C6 (degrees)')\n",
    "hist_2d_save = savedir + '\\\\angles_between_axes_2D_histogram' + ver + '.png'\n",
    "plt.savefig(hist_2d_save, dpi=600, facecolor='w', edgecolor='w',\n",
    "        orientation='portrait', papertype=None, format=None,\n",
    "        transparent=False, bbox_inches='tight', pad_inches=0.1, metadata=None)"
   ]
  },
  {
   "cell_type": "code",
   "execution_count": null,
   "id": "5f931b7d-85af-4da1-ad30-9987c1fa5220",
   "metadata": {},
   "outputs": [],
   "source": [
    "\"\"\"\n",
    "=======================\n",
    "Histogram on polar axis\n",
    "=======================\n",
    "\n",
    "\"\"\"\n",
    "import numpy as np\n",
    "import matplotlib.pyplot as plt\n",
    "from numpy import pi\n",
    "\n",
    "plt.rcParams.update({'font.size': 9})\n",
    "fig = plt.figure(figsize=[2.5,2.5])\n",
    "ax = plt.subplot(111, projection='polar')\n",
    "hist = ax.hist(x=all_center_angles, bins=32, alpha=1, rwidth=1, density=True, \n",
    "               color=CB_color_cycle[0], edgecolor='k', linewidth=0.5, label='Rtn4 Cluster Centers')\n",
    "ax.set_rlabel_position(180)  # Move radial labels away from plotted line\n",
    "ax.set_rticks([0.1,0.2,0.3])\n",
    "ax.set_theta_zero_location(\"N\")\n",
    "plt.xlabel(u'\\u03C6 (degrees)')\n",
    "polar_cent_save = savedir + '\\\\polar_angles_of_cluster_centers_all' + ver + '.png'\n",
    "plt.savefig(polar_cent_save, dpi=600, facecolor='w', edgecolor='w',\n",
    "        orientation='portrait', papertype=None, format=None,\n",
    "        transparent=False, bbox_inches='tight', pad_inches=0.1, metadata=None)"
   ]
  },
  {
   "cell_type": "code",
   "execution_count": 6,
   "id": "c342b974-2b65-40c2-a541-2c9aa95949d2",
   "metadata": {},
   "outputs": [],
   "source": [
    "fig = plt.figure()\n",
    "plt.hist(all_alpha,bins=18,width=0.15,density=True,alpha=0.5,range=((-np.pi/2),np.pi/2),\n",
    "        label='observed')\n",
    "plt.hist(all_sim_alpha,bins=18,width=0.15,density=True,alpha=0.5,range=((-np.pi/2),np.pi/2),\n",
    "        label='simulated')\n",
    "plt.xlabel(u'\\u03B1 (radians)')\n",
    "plt.ylabel('Normalized frequency')\n",
    "plt.legend(loc='upper center')\n",
    "plt.show()\n",
    "alpha_save = savedir + '\\\\alpha_cluster_angles' + ver + '.png'\n",
    "plt.savefig(alpha_save, dpi=600, facecolor='w', edgecolor='w',\n",
    "        orientation='portrait', papertype=None, format=None,\n",
    "        transparent=False, bbox_inches='tight', pad_inches=0.1, metadata=None)"
   ]
  },
  {
   "cell_type": "code",
   "execution_count": 7,
   "id": "3211659f-0773-49b6-8d88-0b8cf4a971be",
   "metadata": {},
   "outputs": [],
   "source": [
    "small_thresh = 10\n",
    "large_thresh = 100\n",
    "small_clusts = all_count < small_thresh\n",
    "fig = plt.figure()\n",
    "plt.hist(all_alpha[small_clusts],bins=18,width=0.15,density=True,alpha=0.5,\n",
    "         range=((-np.pi/2),np.pi/2),label='observed')\n",
    "plt.hist(all_sim_alpha,bins=18,width=0.15,density=True,alpha=0.5,\n",
    "         range=((-np.pi/2),np.pi/2),label='simulated')\n",
    "plt.xlabel(u'\\u03B1 (radians) of small clusters (counts < ' + str(small_thresh) + ')')\n",
    "plt.ylabel('Normalized frequency')\n",
    "plt.legend(loc='upper center')\n",
    "plt.show()\n",
    "alpha_small_save = savedir + '\\\\alpha_small_cluster_angles' + ver + '.png'\n",
    "plt.savefig(alpha_small_save, dpi=600, facecolor='w', edgecolor='w',\n",
    "        orientation='portrait', papertype=None, format=None,\n",
    "        transparent=False, bbox_inches='tight', pad_inches=0.1, metadata=None)"
   ]
  },
  {
   "cell_type": "code",
   "execution_count": 8,
   "id": "2fdb47bc-ada3-4177-bd86-9971e4e2c4f7",
   "metadata": {},
   "outputs": [],
   "source": [
    "medium_low = all_count > small_thresh\n",
    "medium_high = all_count < large_thresh\n",
    "medium_clusts = medium_low * medium_high\n",
    "fig = plt.figure()\n",
    "plt.hist(all_alpha[medium_clusts],bins=18,width=0.15,density=True,alpha=0.5,\n",
    "         range=((-np.pi/2),np.pi/2),label='observed')\n",
    "plt.hist(all_sim_alpha,bins=18,width=0.15,density=True,alpha=0.5,\n",
    "         range=((-np.pi/2),np.pi/2),label='simualated')\n",
    "plt.xlabel(u'\\u03B1 (radians) of medium clusters (' + str(small_thresh) + ' < counts < ' + str(large_thresh) + ')')\n",
    "plt.ylabel('Normalized frequency')\n",
    "plt.legend(loc='upper center')\n",
    "plt.show()\n",
    "alpha_medium_save = savedir + '\\\\alpha_medium_cluster_angles' + ver + '.png'\n",
    "plt.savefig(alpha_medium_save, dpi=600, facecolor='w', edgecolor='w',\n",
    "        orientation='portrait', papertype=None, format=None,\n",
    "        transparent=False, bbox_inches='tight', pad_inches=0.1, metadata=None)"
   ]
  },
  {
   "cell_type": "code",
   "execution_count": 9,
   "id": "2607223f-7de4-4f9f-bfbc-542f84048917",
   "metadata": {},
   "outputs": [],
   "source": [
    "large_clusts = all_count > large_thresh\n",
    "fig = plt.figure()\n",
    "plt.hist(all_alpha[large_clusts],bins=18,width=0.15,density=True,alpha=0.5,\n",
    "         range=((-np.pi/2),np.pi/2),label='observed')\n",
    "plt.hist(all_sim_alpha,bins=18,width=0.15,density=True,alpha=0.5,\n",
    "         range=((-np.pi/2),np.pi/2),label='simulated')\n",
    "plt.xlabel(u'\\u03B1 (radians) of large clusters (counts > '+ str(large_thresh) + ')')\n",
    "plt.ylabel('Normalized frequency')\n",
    "plt.legend(loc='upper center')\n",
    "plt.show()\n",
    "alpha_large_save = savedir + '\\\\alpha_large_cluster_angles' + ver + '.png'\n",
    "plt.savefig(alpha_large_save, dpi=600, facecolor='w', edgecolor='w',\n",
    "        orientation='portrait', papertype=None, format=None,\n",
    "        transparent=False, bbox_inches='tight', pad_inches=0.1, metadata=None)"
   ]
  },
  {
   "cell_type": "code",
   "execution_count": 10,
   "id": "95c94ee9-7b4e-40ae-8914-65e176fb26aa",
   "metadata": {},
   "outputs": [],
   "source": [
    "fig = plt.figure()\n",
    "plt.hist(all_alpha[small_clusts],bins=18,width=0.15,density=False,alpha=0.3,\n",
    "         range=((-np.pi/2),np.pi/2),label='small clusters (counts > '+ str(small_thresh) + ')')\n",
    "plt.hist(all_alpha[medium_clusts],bins=18,width=0.15,density=False,alpha=0.3,\n",
    "         range=((-np.pi/2),np.pi/2),label='medium clusters (' + str(small_thresh) + ' < counts < ' + str(large_thresh) + ')')\n",
    "plt.hist(all_alpha[large_clusts],bins=18,width=0.15,density=False,alpha=0.3,\n",
    "         range=((-np.pi/2),np.pi/2),label='large clusters (counts > '+ str(large_thresh) + ')')\n",
    "plt.legend(loc='upper center')\n",
    "plt.xlabel(u'\\u03B1 (radians)')\n",
    "plt.ylabel('Normalized frequency')\n",
    "plt.show()\n",
    "alpha_all_size_save = savedir + '\\\\alpha_all_size_cluster_angles' + ver + '.png'\n",
    "plt.savefig(alpha_all_size_save, dpi=600, facecolor='w', edgecolor='w',\n",
    "        orientation='portrait', papertype=None, format=None,\n",
    "        transparent=False, bbox_inches='tight', pad_inches=0.1, metadata=None)"
   ]
  },
  {
   "cell_type": "code",
   "execution_count": null,
   "id": "d525b469-023f-4e19-bf82-eed0a0e006f7",
   "metadata": {},
   "outputs": [],
   "source": [
    "large_clusts = all_count > 100\n",
    "fig = plt.figure()\n",
    "plt.hist(output['count'],bins=25,range=(0,50),density=True)\n",
    "plt.show()"
   ]
  },
  {
   "cell_type": "code",
   "execution_count": null,
   "id": "3616b228-9e8a-4016-86d9-5270590c5c20",
   "metadata": {},
   "outputs": [],
   "source": [
    "sum(medium_clusts)/len(all_count)"
   ]
  }
 ],
 "metadata": {
  "kernelspec": {
   "display_name": "pyme",
   "language": "python",
   "name": "pyme"
  },
  "language_info": {
   "codemirror_mode": {
    "name": "ipython",
    "version": 3
   },
   "file_extension": ".py",
   "mimetype": "text/x-python",
   "name": "python",
   "nbconvert_exporter": "python",
   "pygments_lexer": "ipython3",
   "version": "3.7.9"
  }
 },
 "nbformat": 4,
 "nbformat_minor": 5
}
