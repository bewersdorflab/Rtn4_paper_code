{
 "cells": [
  {
   "cell_type": "code",
   "execution_count": 1,
   "id": "1afdd256-669c-4087-af59-6a05388e6b9b",
   "metadata": {},
   "outputs": [
    {
     "name": "stdout",
     "output_type": "stream",
     "text": [
      "Trying to load 3rd party recipe module nep_fitting.recipe_modules.nep_fits\n",
      "Loaded 3rd party recipe module nep_fitting.recipe_modules.nep_fits\n",
      "Trying to load 3rd party recipe module pyme_4pi.recipe_modules.conversion\n",
      "Loaded 3rd party recipe module pyme_4pi.recipe_modules.conversion\n",
      "Trying to load 3rd party recipe module cc_drift_cor.plugins.recipes.io\n",
      "Loaded 3rd party recipe module cc_drift_cor.plugins.recipes.io\n",
      "Trying to load 3rd party recipe module cc_drift_cor.plugins.recipes.processing\n",
      "Loaded 3rd party recipe module cc_drift_cor.plugins.recipes.processing\n",
      "Trying to load 3rd party recipe module ch_shrinkwrap.recipe_modules.surface_fitting\n",
      "Loaded 3rd party recipe module ch_shrinkwrap.recipe_modules.surface_fitting\n",
      "Trying to load 3rd party recipe module cc_drift_cor.plugins.recipes.chung_cc\n",
      "Loaded 3rd party recipe module cc_drift_cor.plugins.recipes.chung_cc\n",
      "Trying to load 3rd party recipe module cc_drift_cor.plugins.recipes.localisations\n",
      "Loaded 3rd party recipe module cc_drift_cor.plugins.recipes.localisations\n",
      "Trying to load 3rd party recipe module ch_shrinkwrap.recipe_modules.surface_feature_extraction\n",
      "Loaded 3rd party recipe module ch_shrinkwrap.recipe_modules.surface_feature_extraction\n",
      "Trying to load 3rd party recipe module ch_shrinkwrap.recipe_modules.simulation\n",
      "Loaded 3rd party recipe module ch_shrinkwrap.recipe_modules.simulation\n",
      "Trying to load 3rd party recipe module pyme_picasso.recipe_modules.conversion\n",
      "Loaded 3rd party recipe module pyme_picasso.recipe_modules.conversion\n",
      "Detected a .git folder, assuming a development install\n"
     ]
    }
   ],
   "source": [
    "from PYME.LMVis import VisGUI\n",
    "\n",
    "%gui wx"
   ]
  },
  {
   "cell_type": "code",
   "execution_count": 3,
   "id": "bb793a8f-639e-46c2-871d-96ff380caec9",
   "metadata": {},
   "outputs": [
    {
     "name": "stderr",
     "output_type": "stream",
     "text": [
      "DEBUG:PYME.LMVis.visCore:Creating VisGUI menu bar\n",
      "DEBUG:PYME.LMVis.Extras:Initializing QPobjectSegment plugin\n",
      "DEBUG:PYME.LMVis.Extras:Initializing animation plugin\n",
      "DEBUG:PYME.LMVis.Extras:Initializing annotation plugin\n"
     ]
    },
    {
     "name": "stdout",
     "output_type": "stream",
     "text": [
      "quaternion module not found, disabling custom clip plane orientations\n",
      "quaternion module not found, disabling custom clip plane orientations\n",
      "New Canvas\n"
     ]
    },
    {
     "name": "stderr",
     "output_type": "stream",
     "text": [
      "c:\\users\\laf62\\code\\python-microscopy\\PYME\\DSView\\modules\\annotation.py:62: wxPyDeprecationWarning: Call to deprecated item. Use SetToolTip instead.\n",
      "  self.bAdjustSnake.SetToolTipString('Adjust the parameters of fo the \"snake\" (active contour) used for curve locking')\n",
      "c:\\users\\laf62\\code\\python-microscopy\\PYME\\DSView\\modules\\annotation.py:73: wxPyDeprecationWarning: Call to deprecated item. Use InsertItem instead.\n",
      "  self.lLabels.InsertStringItem(i, '%d' % i)\n",
      "c:\\users\\laf62\\code\\python-microscopy\\PYME\\DSView\\modules\\annotation.py:74: wxPyDeprecationWarning: Call to deprecated item. Use SetItem instead.\n",
      "  self.lLabels.SetStringItem(i, 1, 'Structure %d' % i)\n",
      "c:\\users\\laf62\\code\\python-microscopy\\PYME\\DSView\\modules\\annotation.py:76: wxPyDeprecationWarning: Call to deprecated item. Use SetItem instead.\n",
      "  self.lLabels.SetStringItem(0, 1, 'No label')\n",
      "c:\\users\\laf62\\code\\python-microscopy\\PYME\\DSView\\modules\\annotation.py:95: wxPyDeprecationWarning: Call to deprecated item. Use SetToolTip instead.\n",
      "  self.bAddLine.SetToolTipString('Add a curve annotation (ctrl-L / cmd-L)')\n",
      "DEBUG:PYME.LMVis.Extras:Initializing clusterAnalysis plugin\n",
      "WARNING:PYME.DSView.modules:Plugin [clusterAnalysis] injects into parent namespace, could result in circular references\n",
      "DEBUG:PYME.LMVis.Extras:Initializing dockedPanel plugin\n",
      "DEBUG:PYME.LMVis.Extras:Initializing extra_layers plugin\n",
      "DEBUG:PYME.LMVis.Extras:Initializing fiducial plugin\n",
      "DEBUG:PYME.LMVis.Extras:Initializing flagZMotionArtifacts plugin\n",
      "DEBUG:root:Adding menu items for event filters\n",
      "WARNING:PYME.DSView.modules:Plugin [flagZMotionArtifacts] injects into parent namespace, could result in circular references\n",
      "DEBUG:PYME.LMVis.Extras:Initializing fusionUtils plugin\n",
      "DEBUG:PYME.LMVis.Extras:Initializing multiColourAnalysis plugin\n",
      "DEBUG:PYME.LMVis.Extras:Initializing multiviewMapping plugin\n",
      "DEBUG:root:Adding menu items for multi-view manipulation\n",
      "WARNING:PYME.DSView.modules:Plugin [multiviewMapping] injects into parent namespace, could result in circular references\n",
      "DEBUG:PYME.LMVis.Extras:Initializing objectMeasurements plugin\n",
      "DEBUG:PYME.LMVis.Extras:Initializing particleTracking plugin\n",
      "WARNING:PYME.DSView.modules:Plugin [particleTracking] injects into parent namespace, could result in circular references\n",
      "DEBUG:PYME.LMVis.Extras:Initializing perFrameVariable plugin\n",
      "DEBUG:PYME.LMVis.Extras:Initializing photophysics plugin\n",
      "DEBUG:PYME.LMVis.Extras:Initializing pointSetGeneration plugin\n",
      "WARNING:PYME.DSView.modules:Plugin [pointSetGeneration] injects into parent namespace, could result in circular references\n",
      "DEBUG:PYME.LMVis.Extras:Initializing pointwiseColoc plugin\n",
      "DEBUG:PYME.LMVis.Extras:Initializing saved_views plugin\n",
      "DEBUG:PYME.LMVis.Extras:Initializing scaleBox plugin\n",
      "DEBUG:PYME.LMVis.Extras:Initializing sequentialSpecies plugin\n",
      "DEBUG:PYME.LMVis.Extras:Initializing setBGImage plugin\n",
      "DEBUG:PYME.LMVis.Extras:Initializing shiftmapGenerator plugin\n",
      "DEBUG:PYME.LMVis.Extras:Initializing showShortcuts plugin\n",
      "DEBUG:PYME.LMVis.Extras:Initializing snapshot plugin\n",
      "DEBUG:PYME.LMVis.Extras:Initializing spherical_harmonics plugin\n",
      "DEBUG:root:Adding menu items for spherical harmonic (shell) fitting\n",
      "WARNING:PYME.DSView.modules:Plugin [spherical_harmonics] injects into parent namespace, could result in circular references\n",
      "DEBUG:PYME.LMVis.Extras:Initializing subsets plugin\n",
      "DEBUG:PYME.LMVis.Extras:Initializing surface_fitting plugin\n",
      "DEBUG:PYME.LMVis.Extras:Initializing temperaturePlot plugin\n",
      "DEBUG:PYME.LMVis.Extras:Initializing vibration plugin\n",
      "DEBUG:PYME.recipes.recipe:Module timings: {}\n"
     ]
    },
    {
     "name": "stdout",
     "output_type": "stream",
     "text": [
      "Saved Views are deprecated -  use the ones with animation instead and remove me!\n",
      "Creating fold panel\n",
      "GenPanels\n",
      "Creating datasource panel\n",
      "Image list size: 1\n",
      "recipe.execute()\n",
      "0\n",
      "OpenGL - Version: b'4.6.0 NVIDIA 516.94'\n",
      "Shader - Version: b'4.60 NVIDIA'\n",
      "GL.GL_MAX_SAMPLES: 32, GL.GL_SAMPLES: 4\n"
     ]
    },
    {
     "name": "stderr",
     "output_type": "stream",
     "text": [
      "DEBUG:PYME.LMVis.shader_programs.ShaderProgramFactory:New shader program created: <class 'PYME.LMVis.shader_programs.DefaultShaderProgram.DefaultShaderProgram'>\n"
     ]
    },
    {
     "name": "stdout",
     "output_type": "stream",
     "text": [
      "Ev Idle\n",
      "('points', 't')\n",
      "refreshed\n",
      "Input datasources:  []\n",
      "Creating layers GUI\n",
      "height:  0\n",
      "NB best size: wx.Size(0, 0)\n"
     ]
    }
   ],
   "source": [
    "pymevis = VisGUI.ipython_pymevisualize()\n",
    "pipeline = pymevis.pipeline"
   ]
  },
  {
   "cell_type": "code",
   "execution_count": 4,
   "id": "19bfd687-a023-4bca-bb59-bfb1ee9f8c66",
   "metadata": {},
   "outputs": [],
   "source": [
    "import numpy as np\n",
    "from pathlib import Path\n",
    "import os\n",
    "import matplotlib.pyplot as plt\n",
    "\n",
    "#Parameters to change\n",
    "savedir = 'K:\\\\4Pi_data\\\\Oligomer_analysis\\\\Oligomer_analysis_V2\\\\updated_analysis_20230111\\\\analysis'\n",
    "nbins = [0, 10, 20, 30, 40, 50, 60, 70, 80, 90, 100, 110, 120, 130, 140, 150, 160 ,170, 180]\n",
    "save_loc = \"K:\\\\4Pi_data\\\\Oligomer_analysis\\\\Oligomer_analysis_V2\\\\updated_analysis_20230111\"\n",
    "# data = save_loc + '\\\\cluster_output_V1.npy'\n",
    "# circ = save_loc + '\\\\circular_sims_V1.npy'\n",
    "# line = save_loc + '\\\\linear_sims_V1.npy'\n",
    "data = save_loc + '\\\\cluster_output_test_data.npy'\n",
    "circ = save_loc + '\\\\circular_sims_test_data.npy'\n",
    "line = save_loc + '\\\\linear_sims_test_data.npy'\n",
    "ver = 'V1'\n",
    "min_size = 10      # currently not used\n",
    "max_size = 100     # currently not used\n",
    "sim_num = 50 # number of simulated random orientations for each cluster. Must be the same as what\n",
    "             # was used when creating the simulations\n",
    "\n",
    "# Import data\n",
    "real = np.load(data, allow_pickle=True)\n",
    "#real = output.item()\n",
    "circ_sim = np.load(circ, allow_pickle=True)\n",
    "circ_sim = circ_sim.item()\n",
    "line_sim = np.load(line, allow_pickle=True)\n",
    "line_sim = line_sim.item()"
   ]
  },
  {
   "cell_type": "code",
   "execution_count": 5,
   "id": "68ff254f-7699-4764-8976-40ffb12fe513",
   "metadata": {},
   "outputs": [],
   "source": [
    "for a in range(len(real)):\n",
    "    if a == 0:\n",
    "        alpha = real[a]['alpha']\n",
    "        sim_alpha = real[a]['sim_alpha']\n",
    "        count = real[a]['count']\n",
    "    else:\n",
    "        np.concatenate(alpha,real[a]['alpha'])\n",
    "        np.concatenate(sim_alpha, real[a]['sim_alpha'])\n",
    "        np.concatenate(count, real[a]['count'])"
   ]
  },
  {
   "cell_type": "code",
   "execution_count": 6,
   "id": "4cb29441-acd9-4731-8461-539877d89e9a",
   "metadata": {},
   "outputs": [],
   "source": [
    "min_size_filt = count > min_size\n",
    "max_size_filt = count < max_size\n",
    "size_filt = min_size_filt * max_size_filt\n",
    "sim_size_filt = np.repeat(size_filt, sim_num)\n",
    "\n",
    "fig = plt.figure(figsize=[2.5,2.5])\n",
    "plt.hist(alpha[size_filt],bins=18,width=0.15,density=True,alpha=0.5,range=((-np.pi/2),np.pi/2))\n",
    "plt.hist(sim_alpha[sim_size_filt],bins=18,width=0.15,density=True,alpha=0.5,range=((-np.pi/2),np.pi/2))\n",
    "plt.xlabel(u'\\u03A8 (radians)')\n",
    "plt.ylabel('Normalized frequency')\n",
    "plt.show()\n",
    "psi_save = savedir + '\\\\psi_histogram_' + ver + '.png'\n",
    "plt.savefig(psi_save, dpi=600, facecolor='w', edgecolor='w',\n",
    "        orientation='portrait', papertype=None, format=None,\n",
    "        transparent=False, bbox_inches='tight', pad_inches=0.1, metadata=None)"
   ]
  },
  {
   "cell_type": "code",
   "execution_count": null,
   "id": "0acc6597-5f2a-4164-99fe-85382f4f1257",
   "metadata": {},
   "outputs": [],
   "source": [
    "sum(min_size_filt)"
   ]
  },
  {
   "cell_type": "code",
   "execution_count": null,
   "id": "fdde831b-92b8-44dc-a4c0-29dd285c4367",
   "metadata": {},
   "outputs": [],
   "source": [
    "len(alpha)"
   ]
  }
 ],
 "metadata": {
  "kernelspec": {
   "display_name": "pyme",
   "language": "python",
   "name": "pyme"
  },
  "language_info": {
   "codemirror_mode": {
    "name": "ipython",
    "version": 3
   },
   "file_extension": ".py",
   "mimetype": "text/x-python",
   "name": "python",
   "nbconvert_exporter": "python",
   "pygments_lexer": "ipython3",
   "version": "3.7.9"
  }
 },
 "nbformat": 4,
 "nbformat_minor": 5
}
