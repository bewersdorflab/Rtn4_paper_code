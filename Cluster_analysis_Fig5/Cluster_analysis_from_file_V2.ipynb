{
 "cells": [
  {
   "cell_type": "code",
   "execution_count": null,
   "id": "1afdd256-669c-4087-af59-6a05388e6b9b",
   "metadata": {},
   "outputs": [],
   "source": [
    "from PYME.LMVis import VisGUI\n",
    "\n",
    "%gui wx"
   ]
  },
  {
   "cell_type": "code",
   "execution_count": null,
   "id": "bb793a8f-639e-46c2-871d-96ff380caec9",
   "metadata": {},
   "outputs": [],
   "source": [
    "pymevis = VisGUI.ipython_pymevisualize()\n",
    "pipeline = pymevis.pipeline"
   ]
  },
  {
   "cell_type": "code",
   "execution_count": 1,
   "id": "19bfd687-a023-4bca-bb59-bfb1ee9f8c66",
   "metadata": {},
   "outputs": [],
   "source": [
    "import numpy as np\n",
    "from pathlib import Path\n",
    "import os\n",
    "import matplotlib.pyplot as plt\n",
    "\n",
    "#Parameters to change\n",
    "savedir = 'K:\\\\4Pi_data\\\\Oligomer_analysis\\\\Oligomer_analysis_V2\\\\updated_analysis_20230111\\\\analysis'\n",
    "nbins = [0, 10, 20, 30, 40, 50, 60, 70, 80, 90, 100, 110, 120, 130, 140, 150, 160 ,170, 180]\n",
    "save_loc = \"K:\\\\4Pi_data\\\\Oligomer_analysis\\\\Oligomer_analysis_V2\\\\updated_analysis_20230111\"\n",
    "# data = save_loc + '\\\\cluster_output_V1.npy'\n",
    "# circ = save_loc + '\\\\circular_sims_V1.npy'\n",
    "# line = save_loc + '\\\\linear_sims_V1.npy'\n",
    "data = save_loc + '\\\\cluster_output_test_data.npy'\n",
    "circ = save_loc + '\\\\circular_sims_test_data.npy'\n",
    "line = save_loc + '\\\\linear_sims_test_data.npy'\n",
    "ver = 'V1'\n",
    "min_size = 10      # currently not used\n",
    "max_size = 100     # currently not used\n",
    "sim_num = 50 # number of simulated random orientations for each cluster. Must be the same as what\n",
    "             # was used when creating the simulations\n",
    "\n",
    "# Import data\n",
    "real = np.load(data, allow_pickle=True)\n",
    "#real = output.item()\n",
    "circ_sim = np.load(circ, allow_pickle=True)\n",
    "circ_sim = circ_sim.item()\n",
    "line_sim = np.load(line, allow_pickle=True)\n",
    "line_sim = line_sim.item()"
   ]
  },
  {
   "cell_type": "code",
   "execution_count": 2,
   "id": "68ff254f-7699-4764-8976-40ffb12fe513",
   "metadata": {},
   "outputs": [],
   "source": [
    "for a in range(len(real)):\n",
    "    if a == 0:\n",
    "        alpha = real[a]['alpha']\n",
    "        sim_alpha = real[a]['sim_alpha']\n",
    "        count = real[a]['count']\n",
    "    else:\n",
    "        np.concatenate(alpha,real[a]['alpha'])\n",
    "        np.concatenate(sim_alpha, real[a]['sim_alpha'])\n",
    "        np.concatenate(count, real[a]['count'])"
   ]
  },
  {
   "cell_type": "code",
   "execution_count": 9,
   "id": "4cb29441-acd9-4731-8461-539877d89e9a",
   "metadata": {},
   "outputs": [
    {
     "data": {
      "image/png": "[encoded data removed]",
      "text/plain": [
       "<Figure size 250x250 with 1 Axes>"
      ]
     },
     "metadata": {},
     "output_type": "display_data"
    }
   ],
   "source": [
    "min_size_filt = count > min_size\n",
    "max_size_filt = count < max_size\n",
    "size_filt = min_size_filt * max_size_filt\n",
    "sim_size_filt = np.repeat(size_filt, sim_num)\n",
    "\n",
    "fig = plt.figure(figsize=[2.5,2.5])\n",
    "plt.hist(alpha[size_filt],bins=18,width=0.15,density=True,alpha=0.5,range=((-np.pi/2),np.pi/2))\n",
    "plt.hist(sim_alpha[sim_size_filt],bins=18,width=0.15,density=True,alpha=0.5,range=((-np.pi/2),np.pi/2))\n",
    "plt.xlabel(u'\\u03A8 (radians)')\n",
    "plt.ylabel('Normalized frequency')\n",
    "plt.show()\n",
    "psi_save = savedir + '\\\\psi_histogram_' + ver + '.png'\n",
    "plt.savefig(psi_save, dpi=600, facecolor='w', edgecolor='w',\n",
    "        orientation='portrait', papertype=None, format=None,\n",
    "        transparent=False, bbox_inches='tight', pad_inches=0.1, metadata=None)"
   ]
  },
  {
   "cell_type": "code",
   "execution_count": 4,
   "id": "0acc6597-5f2a-4164-99fe-85382f4f1257",
   "metadata": {},
   "outputs": [
    {
     "data": {
      "text/plain": [
       "558"
      ]
     },
     "execution_count": 4,
     "metadata": {},
     "output_type": "execute_result"
    }
   ],
   "source": [
    "sum(min_size_filt)"
   ]
  },
  {
   "cell_type": "code",
   "execution_count": 5,
   "id": "fdde831b-92b8-44dc-a4c0-29dd285c4367",
   "metadata": {},
   "outputs": [
    {
     "data": {
      "text/plain": [
       "797"
      ]
     },
     "execution_count": 5,
     "metadata": {},
     "output_type": "execute_result"
    }
   ],
   "source": [
    "len(alpha)"
   ]
  }
 ],
 "metadata": {
  "kernelspec": {
   "display_name": "pyme",
   "language": "python",
   "name": "pyme"
  },
  "language_info": {
   "codemirror_mode": {
    "name": "ipython",
    "version": 3
   },
   "file_extension": ".py",
   "mimetype": "text/x-python",
   "name": "python",
   "nbconvert_exporter": "python",
   "pygments_lexer": "ipython3",
   "version": "3.7.9"
  }
 },
 "nbformat": 4,
 "nbformat_minor": 5
}
