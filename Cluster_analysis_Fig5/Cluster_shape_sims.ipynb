{
 "cells": [
  {
   "cell_type": "code",
   "execution_count": 1,
   "id": "6cf2599c-6d0c-4d4a-88f6-302d15cbed46",
   "metadata": {
    "tags": []
   },
   "outputs": [
    {
     "name": "stdout",
     "output_type": "stream",
     "text": [
      "Trying to load 3rd party recipe module pyme_picasso.recipe_modules.conversion\n",
      "Loaded 3rd party recipe module pyme_picasso.recipe_modules.conversion\n",
      "Trying to load 3rd party recipe module cc_drift_cor.plugins.recipes.localisations\n",
      "Loaded 3rd party recipe module cc_drift_cor.plugins.recipes.localisations\n",
      "Trying to load 3rd party recipe module ch_shrinkwrap.recipe_modules.surface_fitting\n",
      "Loaded 3rd party recipe module ch_shrinkwrap.recipe_modules.surface_fitting\n",
      "Trying to load 3rd party recipe module nep_fitting.recipe_modules.nep_fits\n",
      "Loaded 3rd party recipe module nep_fitting.recipe_modules.nep_fits\n",
      "Trying to load 3rd party recipe module cc_drift_cor.plugins.recipes.chung_cc\n",
      "Loaded 3rd party recipe module cc_drift_cor.plugins.recipes.chung_cc\n",
      "Trying to load 3rd party recipe module pyme_4pi.recipe_modules.conversion\n",
      "Loaded 3rd party recipe module pyme_4pi.recipe_modules.conversion\n",
      "Trying to load 3rd party recipe module ch_shrinkwrap.recipe_modules.surface_feature_extraction\n",
      "Loaded 3rd party recipe module ch_shrinkwrap.recipe_modules.surface_feature_extraction\n",
      "Trying to load 3rd party recipe module cc_drift_cor.plugins.recipes.processing\n",
      "Loaded 3rd party recipe module cc_drift_cor.plugins.recipes.processing\n",
      "Trying to load 3rd party recipe module cc_drift_cor.plugins.recipes.io\n",
      "Loaded 3rd party recipe module cc_drift_cor.plugins.recipes.io\n",
      "Trying to load 3rd party recipe module ch_shrinkwrap.recipe_modules.simulation\n",
      "Loaded 3rd party recipe module ch_shrinkwrap.recipe_modules.simulation\n",
      "Detected a .git folder, assuming a development install\n"
     ]
    }
   ],
   "source": [
    "from PYME.LMVis import VisGUI\n",
    "\n",
    "%gui wx"
   ]
  },
  {
   "cell_type": "code",
   "execution_count": 2,
   "id": "4fabdd4f",
   "metadata": {
    "tags": []
   },
   "outputs": [
    {
     "name": "stderr",
     "output_type": "stream",
     "text": [
      "DEBUG:PYME.LMVis.visCore:Creating VisGUI menu bar\n"
     ]
    },
    {
     "name": "stdout",
     "output_type": "stream",
     "text": [
      "quaternion module not found, disabling custom clip plane orientations\n",
      "quaternion module not found, disabling custom clip plane orientations\n",
      "New Canvas\n"
     ]
    },
    {
     "name": "stderr",
     "output_type": "stream",
     "text": [
      "DEBUG:PYME.LMVis.Extras:Initializing QPobjectSegment plugin\n",
      "DEBUG:PYME.LMVis.Extras:Initializing animation plugin\n",
      "DEBUG:PYME.LMVis.Extras:Initializing annotation plugin\n",
      "c:\\users\\laf62\\code\\python-microscopy\\PYME\\DSView\\modules\\annotation.py:62: wxPyDeprecationWarning: Call to deprecated item. Use SetToolTip instead.\n",
      "  self.bAdjustSnake.SetToolTipString('Adjust the parameters of fo the \"snake\" (active contour) used for curve locking')\n",
      "c:\\users\\laf62\\code\\python-microscopy\\PYME\\DSView\\modules\\annotation.py:73: wxPyDeprecationWarning: Call to deprecated item. Use InsertItem instead.\n",
      "  self.lLabels.InsertStringItem(i, '%d' % i)\n",
      "c:\\users\\laf62\\code\\python-microscopy\\PYME\\DSView\\modules\\annotation.py:74: wxPyDeprecationWarning: Call to deprecated item. Use SetItem instead.\n",
      "  self.lLabels.SetStringItem(i, 1, 'Structure %d' % i)\n",
      "c:\\users\\laf62\\code\\python-microscopy\\PYME\\DSView\\modules\\annotation.py:76: wxPyDeprecationWarning: Call to deprecated item. Use SetItem instead.\n",
      "  self.lLabels.SetStringItem(0, 1, 'No label')\n",
      "c:\\users\\laf62\\code\\python-microscopy\\PYME\\DSView\\modules\\annotation.py:95: wxPyDeprecationWarning: Call to deprecated item. Use SetToolTip instead.\n",
      "  self.bAddLine.SetToolTipString('Add a curve annotation (ctrl-L / cmd-L)')\n",
      "DEBUG:PYME.LMVis.Extras:Initializing clusterAnalysis plugin\n",
      "WARNING:PYME.DSView.modules:Plugin [clusterAnalysis] injects into parent namespace, could result in circular references\n",
      "DEBUG:PYME.LMVis.Extras:Initializing dockedPanel plugin\n",
      "DEBUG:PYME.LMVis.Extras:Initializing extra_layers plugin\n",
      "DEBUG:PYME.LMVis.Extras:Initializing fiducial plugin\n",
      "DEBUG:PYME.LMVis.Extras:Initializing flagZMotionArtifacts plugin\n",
      "DEBUG:root:Adding menu items for event filters\n",
      "WARNING:PYME.DSView.modules:Plugin [flagZMotionArtifacts] injects into parent namespace, could result in circular references\n",
      "DEBUG:PYME.LMVis.Extras:Initializing fusionUtils plugin\n",
      "DEBUG:PYME.LMVis.Extras:Initializing multiColourAnalysis plugin\n",
      "DEBUG:PYME.LMVis.Extras:Initializing multiviewMapping plugin\n",
      "DEBUG:root:Adding menu items for multi-view manipulation\n",
      "WARNING:PYME.DSView.modules:Plugin [multiviewMapping] injects into parent namespace, could result in circular references\n",
      "DEBUG:PYME.LMVis.Extras:Initializing objectMeasurements plugin\n",
      "DEBUG:PYME.LMVis.Extras:Initializing particleTracking plugin\n",
      "WARNING:PYME.DSView.modules:Plugin [particleTracking] injects into parent namespace, could result in circular references\n",
      "DEBUG:PYME.LMVis.Extras:Initializing perFrameVariable plugin\n",
      "DEBUG:PYME.LMVis.Extras:Initializing photophysics plugin\n",
      "DEBUG:PYME.LMVis.Extras:Initializing pointSetGeneration plugin\n",
      "WARNING:PYME.DSView.modules:Plugin [pointSetGeneration] injects into parent namespace, could result in circular references\n",
      "DEBUG:PYME.LMVis.Extras:Initializing pointwiseColoc plugin\n",
      "DEBUG:PYME.LMVis.Extras:Initializing saved_views plugin\n",
      "DEBUG:PYME.LMVis.Extras:Initializing scaleBox plugin\n",
      "DEBUG:PYME.LMVis.Extras:Initializing sequentialSpecies plugin\n",
      "DEBUG:PYME.LMVis.Extras:Initializing setBGImage plugin\n",
      "DEBUG:PYME.LMVis.Extras:Initializing shiftmapGenerator plugin\n",
      "DEBUG:PYME.LMVis.Extras:Initializing showShortcuts plugin\n",
      "DEBUG:PYME.LMVis.Extras:Initializing snapshot plugin\n",
      "DEBUG:PYME.LMVis.Extras:Initializing spherical_harmonics plugin\n",
      "DEBUG:root:Adding menu items for spherical harmonic (shell) fitting\n",
      "WARNING:PYME.DSView.modules:Plugin [spherical_harmonics] injects into parent namespace, could result in circular references\n",
      "DEBUG:PYME.LMVis.Extras:Initializing subsets plugin\n",
      "DEBUG:PYME.LMVis.Extras:Initializing surface_fitting plugin\n",
      "DEBUG:PYME.LMVis.Extras:Initializing temperaturePlot plugin\n",
      "DEBUG:PYME.LMVis.Extras:Initializing vibration plugin\n",
      "DEBUG:PYME.recipes.recipe:Module timings: {}\n"
     ]
    },
    {
     "name": "stdout",
     "output_type": "stream",
     "text": [
      "Saved Views are deprecated -  use the ones with animation instead and remove me!\n",
      "Creating fold panel\n",
      "GenPanels\n",
      "Creating datasource panel\n",
      "Image list size: 1\n",
      "recipe.execute()\n",
      "0\n",
      "OpenGL - Version: b'4.6.0 NVIDIA 516.94'\n",
      "Shader - Version: b'4.60 NVIDIA'\n",
      "GL.GL_MAX_SAMPLES: 32, GL.GL_SAMPLES: 4\n"
     ]
    },
    {
     "name": "stderr",
     "output_type": "stream",
     "text": [
      "DEBUG:PYME.LMVis.shader_programs.ShaderProgramFactory:New shader program created: <class 'PYME.LMVis.shader_programs.DefaultShaderProgram.DefaultShaderProgram'>\n"
     ]
    },
    {
     "name": "stdout",
     "output_type": "stream",
     "text": [
      "Ev Idle\n",
      "('points', 't')\n",
      "refreshed\n",
      "Input datasources:  []\n",
      "Creating layers GUI\n",
      "height:  0\n",
      "NB best size: wx.Size(0, 0)\n"
     ]
    }
   ],
   "source": [
    "pymevis = VisGUI.ipython_pymevisualize()\n",
    "pipeline = pymevis.pipeline"
   ]
  },
  {
   "cell_type": "code",
   "execution_count": 3,
   "id": "3dddc063-bc23-4483-beda-22f2aa657b10",
   "metadata": {},
   "outputs": [],
   "source": [
    "import numpy as np\n",
    "from PYME.IO import tabular\n",
    "\n",
    "# PARAMETERS to Change\n",
    "min_dist = 10       #minimum distance between skeleton vertices in determining the vector that points from each vertex\n",
    "                    #to the closest vertex that's at least this distance away (helps make nice backbone vectors)\n",
    "max_dist = 50       #maximum distance between skeleton vertices. This helps speed up the KDTree query\n",
    "max_nn = 200        #maximum # of nearest neighbors before collapsing them into one point\n",
    "ball_r = 50         #radius used for query_ball_points\n",
    "asprat_thresh = 1.5 # the minimum asprect ratio that cluster sigma0/sigma1 must have (std dev of major and intermediate axes)\n",
    "#en = 3              #experiment number (1-3) or 0 for figure 5 tubule data\n",
    "rg_factor = 0.925     # Factor to multiply radius of gyration by\n",
    "min_size = 10\n",
    "max_size = 100\n",
    "savedir = 'K:\\\\4Pi_data\\\\Oligomer_analysis\\\\Oligomer_analysis_V2\\\\Cluster_shape_simulations_V2'\n",
    "ver = 'V8-adjusted-linear'\n",
    "datadir = [\"K:\\\\4Pi_data\\Oligomer_analysis\\\\Oligomer_data\\\\20210907_data\\\\Cell02_DBSCAN-2_ROI_all-clumped_DBSCAN-clusters_measureClusters3D.csv\",\n",
    "           \"K:\\\\4Pi_data\\\\Oligomer_analysis\\\\Oligomer_data\\\\20220930_data\\\\Cell04_ROI1_all-clumped_MeasureCluster3D_DBSCAN.csv\",\n",
    "           \"K:\\\\4Pi_data\\\\Oligomer_analysis\\\\Oligomer_data\\\\20221004_data\\\\Cell05_ROI4_all-clumped_measureClusters3D.csv\"]\n",
    "c_points = [\"K:\\\\4Pi_data\\\\Oligomer_analysis\\\\Oligomer_data\\\\20210907_data\\\\Cell02_DBSCAN-2_ROI_all-clumped_DBSCAN-clusters.hdf\",\n",
    "            \"K:\\\\4Pi_data\\\\Oligomer_analysis\\\\Oligomer_data\\\\20220930_data\\\\Cell04_ROI1_all-clumped_DBSCAN_Clusters.hdf\",\n",
    "            \"K:\\\\4Pi_data\\\\Oligomer_analysis\\\\Oligomer_data\\\\20221004_data\\\\Cell05_ROI4_all-clumped_DBSCAN_Clusters.hdf\"]\n",
    "mesh_fn_rtn = [\"K:\\\\4Pi_data\\\\Oligomer_analysis\\\\Oligomer_data\\\\20210907_data\\\\Cell02_DBSCAN-2_ROI_shrinkwrap.stl\",\n",
    "               \"K:\\\\4Pi_data\\\\Oligomer_analysis\\\\Oligomer_data\\\\20220930_data\\\\Cell04_ROI1_shrinkwrap_1.stl\",\n",
    "               \"K:\\\\4Pi_data\\\\Oligomer_analysis\\\\Oligomer_data\\\\20221004_data\\\\Cell05_ROI4_shrinkwrap.stl\"]\n",
    "skelly = [\"K:\\\\4Pi_data\\\\Oligomer_analysis\\\\Oligomer_data\\\\20210907_data\\\\Cell02_DBSCAN-2_ROI_skeleton.stl\",\n",
    "          \"K:\\\\4Pi_data\\\\Oligomer_analysis\\\\Oligomer_data\\\\20220930_data\\\\Cell04_ROI1_skeleton.stl\",\n",
    "          \"K:\\\\4Pi_data\\\\Oligomer_analysis\\\\Oligomer_data\\\\20221004_data\\\\Cell05_ROI4_skeleton.stl\"]\n",
    "loc_info = [\"K:\\\\4Pi_data\\\\Oligomer_analysis\\\\Oligomer_data\\\\20210907_data\\\\Cell02_DBSCAN-2_ROI_all-clumped_dbscanID_locs.csv\",\n",
    "            \"K:\\\\4Pi_data\\\\Oligomer_analysis\\\\Oligomer_data\\\\20220930_data\\\\Cell04_ROI1_all_clumped_dbscanID_locs.csv\",\n",
    "            \"K:\\\\4Pi_data\\\\Oligomer_analysis\\\\Oligomer_data\\\\20221004_data\\\\Cell05_ROI4_all-clumped_dbscanID_locs.csv\"]\n",
    "\n",
    "#clust_min = 3                                           # Clusters with less than this # of points will be excluded\n",
    "Rtn4_chan = 'chan1'    # channel name for Rtn4 data\n",
    "rtn_save = 'rtn4_screenshot'\n",
    "\n",
    "high_filt=100          # Threshold for max distance a Rtn4 point can be from mesh and still be included in analysis\n",
    "low_filt=-100          # Threshold for min distance a Rtn4 point can be from mesh and still be included in analysis"
   ]
  },
  {
   "cell_type": "code",
   "execution_count": 4,
   "id": "aaff917c-1b65-473a-ba1a-0a1dcf2a5f0d",
   "metadata": {},
   "outputs": [],
   "source": [
    "# # For figure data:\n",
    "# datadir = [\"K:\\\\4Pi_data\\\\Oligomer_analysis\\\\Oligomer_data\\\\20210907_data\\\\Old_results\\\\Cell02_oligomer_ROI2_DBSCAN.csv\"]\n",
    "# c_points = [\"K:\\\\4Pi_data\\\\Oligomer_analysis\\\\Oligomer_data\\\\20210907_data\\\\Old_results\\\\Cell02_oligomer_ROI2_DBSCAN.hdf\"]\n",
    "# mesh_fn_rtn = [\"K:\\\\4Pi_data\\\\Oligomer_analysis\\\\Oligomer_data\\\\20210907_data\\\\Old_results\\\\Cell02_oligomer_ROI2_shrinkwrap.stl\"]\n",
    "# skelly = [\"K:\\\\4Pi_data\\\\Oligomer_analysis\\\\Oligomer_data\\\\20210907_data\\\\Old_results\\\\Cell02_oligomer_ROI2_skeleton_V2.stl\"]\n",
    "# loc_info = [\"K:\\\\4Pi_data\\\\Oligomer_analysis\\\\Oligomer_data\\\\20210907_data\\\\Old_results\\\\Cell02_mapped_clumped_ROI2_dbscanID_locs.csv\"]"
   ]
  },
  {
   "cell_type": "code",
   "execution_count": 5,
   "id": "86196a1f-e33b-4bc0-93dd-e570ff3906b8",
   "metadata": {
    "tags": []
   },
   "outputs": [],
   "source": [
    "import numpy as np\n",
    "from PYME.IO import tabular\n",
    "\n",
    "# generate 3D Gaussian\n",
    "# points = np.random.randn(100,3)*100\n",
    "\n",
    "#######################################################################################################################\n",
    "# Define needed functions\n",
    "#######################################################################################################################\n",
    "\n",
    "def add_ds_from_Nx3(points, pipeline, pymevis, ds_name='points', color=None, normals=None):\n",
    "    \"\"\"\n",
    "    Quickly add points/normals to the pipeline and pymevis display.\n",
    "    \"\"\"\n",
    "    \n",
    "    d = {'x': points[:,0], 'y': points[:,1], 'z': points[:,2]}\n",
    "    \n",
    "    if color is not None:\n",
    "        d['c'] = color\n",
    "        \n",
    "    if normals is not None:\n",
    "        d['xn'] = normals[:,0]\n",
    "        d['yn'] = normals[:,1]\n",
    "        d['zn'] = normals[:,2]\n",
    "\n",
    "    # create tabular mappingFilter data source and add it to pymevis\n",
    "    pipeline.addDataSource(ds_name, tabular.mappingFilter(d))\n",
    "\n",
    "    # select this data source (optional, but helps support \"default behavior\")\n",
    "    pipeline.selectDataSource(ds_name)\n",
    "\n",
    "    # Add a pointcloud layer that displays data source named 'points' (the one we just added)\n",
    "    pymevis.add_pointcloud_layer(ds_name=ds_name)\n",
    "    \n",
    "    if normals is not None:\n",
    "        pymevis.glCanvas.layers[-1].display_normals=True\n",
    "        pymevis.glCanvas.layers[-1].normal_scaling=25.0\n",
    "\n",
    "def save_snapshot(canvas, file_name=None):\n",
    "    if True:\n",
    "        pixel_size=None\n",
    "        \n",
    "        if file_name is None:\n",
    "            file_name = wx.FileSelector('Save current view as', wildcard=\"PNG files(*.png)|*.png\",\n",
    "                            flags=wx.FD_SAVE | wx.FD_OVERWRITE_PROMPT)\n",
    "        \n",
    "        if file_name:\n",
    "            snap = canvas.getIm(pixel_size, GL_RGB)\n",
    "            print(snap.dtype, snap.shape, snap.max())\n",
    "            if snap.ndim == 3:\n",
    "                img = PIL.Image.fromarray(snap.transpose(1, 0, 2))\n",
    "                #img = toimage(snap.transpose(1, 0, 2))\n",
    "            else:\n",
    "                img = PIL.Image.fromarray(snap.transpose())\n",
    "                #img = toimage(snap.transpose())\n",
    "            \n",
    "            img = img.transpose(PIL.Image.FLIP_TOP_BOTTOM)\n",
    "            \n",
    "            if not file_name.endswith('.png'):\n",
    "                img.save('{}.png'.format(file_name))\n",
    "            else:\n",
    "                img.save('{}'.format(file_name))\n",
    "                \n",
    "def interior_points_from_sdf(sdf, r_max=1, centre=(0,0,0), dx_min=1, p=0.1, eps=0):\n",
    "    '''\n",
    "    Generate points from a signed distance function. Effectively does octree-like subdivision of the function domain to\n",
    "    assign points on a regular grid, then passes through a Monte-Carlo acceptance function to simulate labelling efficiency\n",
    "    \n",
    "    Parameters\n",
    "    ----------\n",
    "    sdf : function\n",
    "        the signed distance function. Should be of the form dist = sdf(pts) where pts is a 3xN ndarray/\n",
    "    r_max: float\n",
    "        The maximum radius of the object (from centre)\n",
    "    centre : 3-tuple / array of float\n",
    "        The centre of the object\n",
    "    dx_min : float\n",
    "        The target side length of a voxel. Effectively a density parameter (density = 1/dx_min^3).\n",
    "    p : float\n",
    "        Monte-Carlo acceptance probability.\n",
    "\n",
    "    Returns\n",
    "    -------\n",
    "    \n",
    "    verts : 3xN ndarray of fluorophore positions\n",
    "\n",
    "    '''\n",
    "    dx = 1.2 * r_max\n",
    "    \n",
    "    vx, vy, vz = [v.ravel() for v in np.mgrid[-1:2, -1:2, -1:2]]\n",
    "    \n",
    "    verts = dx * np.vstack([vx, vy, vz]) + np.array(centre)[:,None]\n",
    "#     print(verts.shape)\n",
    "    \n",
    "    c_offs = np.array(\n",
    "        [[-1, -1, -1], [1, -1, -1], [1, 1, -1], [-1, 1, -1], [-1, -1, 1], [1, -1, 1], [1, 1, 1], [-1, 1, 1]])\n",
    "    #test_offs =\n",
    "    \n",
    "    while dx > dx_min:\n",
    "        dx /= 2.0\n",
    "        #test and discard.\n",
    "        corners = [verts + dx * c_offs[i][:, None] for i in range(8)]\n",
    "        corner_dists = [sdf(c) for c in corners] + [sdf(verts), ]\n",
    "#         print(corner_dists)\n",
    "        \n",
    "        #corner_dists = [sdf(verts),]\n",
    "        \n",
    "        #contains_points = np.abs(np.sum([np.sign(c) for c in corner_dists], axis=0)) < 9\n",
    "        # for some reason the sign test doesn't seem to work properly. Use a generous\n",
    "        # distance based test instead\n",
    "        contains_points = np.min([c for c in corner_dists], axis=0) < 2 * dx\n",
    "#         print(dx)\n",
    "#         print(corner_dists)\n",
    "        \n",
    "        verts = verts[:, contains_points]\n",
    "#         print(verts.shape)\n",
    "        \n",
    "        #subdivide\n",
    "        verts = np.concatenate([verts + dx * c_offs[i][:, None] for i in range(8)], axis=1)\n",
    "        #print(verts.shape)\n",
    "    \n",
    "    # because we use a fairly relaxed / conservative criterea for discarding above (which will\n",
    "    # effectively match the cell containing the surface AND it's neighbours)\n",
    "    # we perform a more stringent test on the final set of points.\n",
    "    corners = [verts + dx * c_offs[i][:, None] for i in range(8)]\n",
    "    corner_dists = [sdf(c) for c in corners]\n",
    "    \n",
    "    sv = sdf(verts)\n",
    "    contains_points = ((np.sum([np.sign(c) for c in corner_dists], axis=0) == -8) | (sv < dx)) & (sv < eps)\n",
    "    verts = verts[:, contains_points]\n",
    "    \n",
    "    #print(verts.shape)\n",
    "    \n",
    "    return verts[:, np.random.rand(verts.shape[1]) < p]\n",
    "\n",
    "def grad_sdf(pts, sdf, delta=0.1):\n",
    "    \"\"\"\n",
    "    Gradient of the signed distance function, calculated via central differences.\n",
    "    \n",
    "    Parameters\n",
    "    ----------\n",
    "    pts : np.array\n",
    "        3 x N array of points on which we evaluate the gradient\n",
    "    sdf : function\n",
    "        Signed-distance function. Expects 3xN vector of x, y, z coordinates.\n",
    "    delta : float\n",
    "        Shift in gradient direction.\n",
    "    \"\"\"\n",
    "    d2 = delta/2.0\n",
    "    hx = np.array([d2,0,0])[:,None]\n",
    "    hy = np.array([0,d2,0])[:,None]\n",
    "    hz = np.array([0,0,d2])[:,None]\n",
    "    dx = (sdf(pts + hx) - sdf(pts - hx))/delta\n",
    "    dy = (sdf(pts + hy) - sdf(pts - hy))/delta\n",
    "    dz = (sdf(pts + hz) - sdf(pts - hz))/delta\n",
    "    \n",
    "    return dx, dy, dz\n",
    "\n",
    "def fullprint(*args, **kwargs):\n",
    "  from pprint import pprint\n",
    "  import numpy\n",
    "  opt = numpy.get_printoptions()\n",
    "  numpy.set_printoptions(threshold=numpy.inf)\n",
    "  pprint(*args, **kwargs)\n",
    "  numpy.set_printoptions(**opt)\n",
    "    \n",
    "def tan_circ_sim(rad, count, loc_prec, rg_factor):\n",
    "    \"\"\"\n",
    "    Simulate clusters that are disc-shaped, tangent to the surface, and centered at the true cluster centers.\n",
    "    They also contain the same number of simulated localizations as the real cluster they are based on.\n",
    "    \n",
    "    Followed advice for determining plane for cicle from:\n",
    "    https://stackoverflow.com/questions/71160423/how-to-sample-points-in-3d-in-python-with-origin-and-normal-vector\n",
    "    \n",
    "    Also followed advice for uniform random distributions on a circle from here:\n",
    "    https://math.stackexchange.com/questions/1307287/random-uniformly-distributed-points-in-a-circle\n",
    "    \n",
    "    ------\n",
    "    Input:\n",
    "    ------\n",
    "    \n",
    "    rad (numpy array): radius of the simulated disc\n",
    "    \n",
    "    count (numpy array of ints): number of localizations to be simulated in each cluster\n",
    "    \n",
    "    -------\n",
    "    Output:\n",
    "    -------\n",
    "    \n",
    "    cs_points_all (numpy array): coordinates of points in the simulated clusters\n",
    "    \n",
    "    \"\"\"\n",
    "    from numpy import pi\n",
    "\n",
    "    # parameters for this simulation\n",
    "    #rad = radius # radius of points sampled in the circle on the plane (probably leave as 1 always)\n",
    "    max_r = rad * rg_factor\n",
    "    v_num = count # number of vectors desired (evenly spaced around the circle)\n",
    "    lp = loc_prec\n",
    "    rng = np.random.default_rng()\n",
    "\n",
    "    # equations for making the vectors\n",
    "    # rho = np.linspace(0, 2*np.pi, v_num)\n",
    "    # x = np.cos(rho) * r\n",
    "    # y = np.sin(rho) * r\n",
    "    # z = np.zeros(rho.shape)\n",
    "    # positions of simulated clusters\n",
    "    arot_pos = centers_filt\n",
    "    # establish initial vectors\n",
    "    arot_surf_dist, arot_surf_ind = tree_surf.query(arot_pos, k=1)\n",
    "    arot_skel_dist, arot_skel_ind = mean_tree_skeleton.query(arot_pos, k=1)\n",
    "    arot_skel_vec = arot_pos - skeleton[arot_skel_ind]\n",
    "    arot_vecs = np.cross(vecs_hat[arot_skel_ind], arot_skel_vec)\n",
    "    arot_tub = vecs_hat[arot_skel_ind]\n",
    "\n",
    "    # Create vectors in a circle in the plane perpendicular to the vector that points from cluster center to skeleton\n",
    "    f_all = []\n",
    "    cs_points_sep = []\n",
    "    cs_points_tog = []\n",
    "    for bd in range(len(arot_pos)):\n",
    "        rho = rng.uniform(0, 2*np.pi, int(v_num[bd]))\n",
    "        uni = rng.uniform(0,1,int(v_num[bd]))\n",
    "        p1 = arot_pos[bd]\n",
    "        n = arot_skel_vec[bd] # vector normal to the plane\n",
    "        #pp = arot_vecs[bd] #vector orthogonal to normal\n",
    "        nabs = np.absolute(n)\n",
    "        indices = (-n).argsort()[:3]\n",
    "        v = np.zeros(3)\n",
    "        v[indices[1]] = -n[indices[0]]\n",
    "        v[indices[0]] = n[indices[1]]\n",
    "        v[indices[2]] = 0\n",
    "        u = np.cross(n,v)\n",
    "        #normalize vectors\n",
    "        v_norm = v/np.linalg.norm(v)\n",
    "        u_norm = u/np.linalg.norm(u)\n",
    "        f = []\n",
    "        cs_points = []\n",
    "        for be in range(int(v_num[bd])):\n",
    "            r = np.sqrt(uni[be])*max_r[bd]\n",
    "            # x = np.cos(rho[be]) * r\n",
    "            # y = np.sin(rho[be]) * r\n",
    "            # z = np.zeros(rho[be].shape)\n",
    "            \n",
    "            # Take the center point and add the uniform random location around the circle then add some localization precision\n",
    "            unc = [rng.normal(loc=0,scale=lp,size=1),rng.normal(loc=0,scale=lp,size=1),rng.normal(loc=0,scale=lp,size=1)]\n",
    "            circ_p = np.zeros(3)\n",
    "            for bf in range(len(circ_p)):\n",
    "                circ_p[bf] = p1[bf] + r * v_norm[bf] * np.cos(rho[be]) + r * u_norm[bf] * np.sin(rho[be]) + unc[bf]# + rng.normal(loc=0,scale=lp,size=1)\n",
    "            circ_vec = p1-circ_p\n",
    "            cs_points_tog.append(circ_p)\n",
    "            cs_points.append(circ_p)\n",
    "            f.append(circ_vec/np.linalg.norm(circ_vec))\n",
    "        #print(cs_points_tog)\n",
    "        cs_points = np.asarray(cs_points)\n",
    "        cs_points_sep.append(cs_points)\n",
    "        f = np.asarray(f)\n",
    "        f_all.append(f)\n",
    "    cs_points_tog = np.asarray(cs_points_tog)\n",
    "    cs_points_sep = np.asarray(cs_points_sep)\n",
    "    f_all = np.asarray(f_all)\n",
    "    \n",
    "    add_ds_from_Nx3(cs_points_tog, pipeline, pymevis, 'Disc-sim-clusters', normals=None)\n",
    "    \n",
    "    return cs_points_sep, cs_points_tog\n",
    "\n",
    "def tan_line_sim(rad, count, loc_prec, rg_factor):\n",
    "    \"\"\"\n",
    "    Simulate clusters that are linearly-shaped, tangent to the surface, and centered at the true cluster centers.\n",
    "    They also contain the same number of simulated localizations as the real cluster they are based on, and the\n",
    "    same localization precision. The difference between these simulated clusters and the circular simulated\n",
    "    clusters, is the angle of each point in the circular clusters is randomized whereas all the points\n",
    "    in the linear clusters have the same angle. The radius varies for both.\n",
    "    \n",
    "    Followed advice for determining plane for cicle from:\n",
    "    https://stackoverflow.com/questions/71160423/how-to-sample-points-in-3d-in-python-with-origin-and-normal-vector\n",
    "    \n",
    "    Also followed advice for uniform random distributions on a circle from here:\n",
    "    https://math.stackexchange.com/questions/1307287/random-uniformly-distributed-points-in-a-circle\n",
    "    \n",
    "    ------\n",
    "    Input:\n",
    "    ------\n",
    "    \n",
    "    rad (numpy array): radius of the simulated disc\n",
    "    \n",
    "    count (numpy array of ints): number of localizations to be simulated in each cluster\n",
    "    \n",
    "    -------\n",
    "    Output:\n",
    "    -------\n",
    "    \n",
    "    cs_points_all (numpy array): coordinates of points in the simulated clusters\n",
    "    \n",
    "    \"\"\"\n",
    "    from numpy import pi\n",
    "\n",
    "    # parameters for this simulation\n",
    "    #rad = radius # radius of points sampled in the circle on the plane (probably leave as 1 always)\n",
    "    max_r = rad * rg_factor\n",
    "    v_num = count # number of vectors desired (evenly spaced around the circle)\n",
    "    lp = loc_prec\n",
    "    rng = np.random.default_rng()\n",
    "\n",
    "    # equations for making the vectors\n",
    "    # rho = np.linspace(0, 2*np.pi, v_num)\n",
    "    # x = np.cos(rho) * r\n",
    "    # y = np.sin(rho) * r\n",
    "    # z = np.zeros(rho.shape)\n",
    "    # positions of simulated clusters\n",
    "    arot_pos = centers_filt\n",
    "    # establish initial vectors\n",
    "    arot_surf_dist, arot_surf_ind = tree_surf.query(arot_pos, k=1)\n",
    "    arot_skel_dist, arot_skel_ind = mean_tree_skeleton.query(arot_pos, k=1)\n",
    "    arot_skel_vec = arot_pos - skeleton[arot_skel_ind]\n",
    "    arot_vecs = np.cross(vecs_hat[arot_skel_ind], arot_skel_vec)\n",
    "    arot_tub = vecs_hat[arot_skel_ind]\n",
    "\n",
    "    # Create vectors in a circle in the plane perpendicular to the vector that points from cluster center to skeleton\n",
    "    f_all = []\n",
    "    ls_points_sep = []\n",
    "    ls_points_tog = []\n",
    "    for bd in range(len(arot_pos)):\n",
    "        rho = rng.uniform(0, 2*np.pi, 1) * np.ones(int(v_num[bd]))\n",
    "        uni = rng.uniform(-1,1,int(v_num[bd]))\n",
    "        p1 = arot_pos[bd]\n",
    "        n = arot_skel_vec[bd] # vector normal to the plane\n",
    "        #pp = arot_vecs[bd] #vector orthogonal to normal\n",
    "        nabs = np.absolute(n)\n",
    "        indices = (-n).argsort()[:3]\n",
    "        v = np.zeros(3)\n",
    "        v[indices[1]] = -n[indices[0]]\n",
    "        v[indices[0]] = n[indices[1]]\n",
    "        v[indices[2]] = 0\n",
    "        u = np.cross(n,v)\n",
    "        #normalize vectors\n",
    "        v_norm = v/np.linalg.norm(v)\n",
    "        u_norm = u/np.linalg.norm(u)\n",
    "        f = []\n",
    "        ls_points = []\n",
    "        for be in range(int(v_num[bd])):\n",
    "            # if uni[be] < 0:\n",
    "            #     r = np.sqrt(np.absolute(uni[be]))*max_r[bd]*(-1)\n",
    "            # else:\n",
    "            #     r = np.sqrt(uni[be])*max_r[bd]\n",
    "            r = uni[be] * max_r[bd]\n",
    "            \n",
    "            # Take the center point and add the uniform random location around the circle then add some localization precision\n",
    "            unc = [rng.normal(loc=0,scale=lp,size=1),rng.normal(loc=0,scale=lp,size=1),rng.normal(loc=0,scale=lp,size=1)]\n",
    "            circ_p = np.zeros(3)\n",
    "            for bf in range(len(circ_p)):\n",
    "                circ_p[bf] = p1[bf] + r * v_norm[bf] * np.cos(rho[be]) + r * u_norm[bf] * np.sin(rho[be]) + unc[bf]# + rng.normal(loc=0,scale=lp,size=1)\n",
    "            circ_vec = p1-circ_p\n",
    "            ls_points_tog.append(circ_p)\n",
    "            ls_points.append(circ_p)\n",
    "            f.append(circ_vec/np.linalg.norm(circ_vec))\n",
    "        #print(cs_points_tog)\n",
    "        ls_points = np.asarray(ls_points)\n",
    "        ls_points_sep.append(ls_points)\n",
    "        f = np.asarray(f)\n",
    "        f_all.append(f)\n",
    "    ls_points_tog = np.asarray(ls_points_tog)\n",
    "    ls_points_sep = np.asarray(ls_points_sep)\n",
    "    f_all = np.asarray(f_all)\n",
    "    \n",
    "    add_ds_from_Nx3(ls_points_tog, pipeline, pymevis, 'Line-sim-clusters', normals=None)\n",
    "    \n",
    "    return ls_points_sep, ls_points_tog"
   ]
  },
  {
   "cell_type": "code",
   "execution_count": 6,
   "id": "fccf10d1-a068-4a04-a8eb-f15d1659713b",
   "metadata": {
    "collapsed": true,
    "jupyter": {
     "outputs_hidden": true
    },
    "tags": []
   },
   "outputs": [
    {
     "name": "stderr",
     "output_type": "stream",
     "text": [
      "DEBUG:PYME.recipes.recipe:Executing <PYME.recipes.localisations.Pipelineify object at 0x000001EC61DC95E8>\n",
      "DEBUG:PYME.recipes.localisations:no events found\n",
      "DEBUG:PYME.recipes.recipe:Executing <PYME.recipes.localisations.ProcessColour object at 0x000001EC61DC9708>\n",
      "DEBUG:PYME.recipes.recipe:Executing <PYME.recipes.tablefilters.FilterTable object at 0x000001EC61DDCD08>\n",
      "DEBUG:PYME.recipes.recipe:Module timings: {'localisations.AddPipelineDerivedVars': 0.0009706020355224609, 'localisations.ProcessColour': 0.0019936561584472656, 'tablefilters.FilterTable': 0.0029883384704589844}\n"
     ]
    },
    {
     "name": "stdout",
     "output_type": "stream",
     "text": [
      "Creating Pipeline\n",
      "recipe.execute()\n",
      "Pipeline Created\n"
     ]
    },
    {
     "name": "stderr",
     "output_type": "stream",
     "text": [
      "DEBUG:PYME.LMVis.VisGUI:Creating tabs\n",
      "DEBUG:PYME.LMVis.VisGUI:Finished creating tabs\n"
     ]
    },
    {
     "name": "stdout",
     "output_type": "stream",
     "text": [
      "0\n",
      "Gui stuff done\n",
      "Data munged to vertices, faces\n",
      "initializing halfedges ...\n",
      "vertices.shape = (156681, 3), faces.shape = (313750, 3)\n",
      "iterating edges\n",
      "done initializing halfedges\n",
      "mesh_layer update\n",
      "Data munged to vertices, faces\n",
      "initializing halfedges ...\n",
      "vertices.shape = (321278, 3), faces.shape = (642952, 3)\n",
      "iterating edges\n",
      "done initializing halfedges\n",
      "mesh_layer update\n"
     ]
    },
    {
     "name": "stderr",
     "output_type": "stream",
     "text": [
      "DEBUG:PYME.recipes.recipe:Executing <PYME.recipes.localisations.ExtractTableChannel object at 0x000001EC61717588>\n"
     ]
    },
    {
     "name": "stdout",
     "output_type": "stream",
     "text": [
      "recipe.execute()\n",
      "mesh_layer update\n",
      "mesh_layer update\n"
     ]
    },
    {
     "name": "stderr",
     "output_type": "stream",
     "text": [
      "DEBUG:PYME.recipes.recipe:Module timings: {'localisations.AddPipelineDerivedVars': 0.0009706020355224609, 'localisations.ProcessColour': 0.0019936561584472656, 'tablefilters.FilterTable': 0.0029883384704589844, 'localisations.ExtractTableChannel': 0.0}\n"
     ]
    },
    {
     "name": "stdout",
     "output_type": "stream",
     "text": [
      "mesh_layer update\n",
      "mesh_layer update\n"
     ]
    },
    {
     "name": "stderr",
     "output_type": "stream",
     "text": [
      "DEBUG:PYME.recipes.recipe:Executing <PYME.recipes.surface_fitting.DistanceToMesh object at 0x000001EC61717648>\n"
     ]
    },
    {
     "name": "stdout",
     "output_type": "stream",
     "text": [
      "recipe.execute()\n",
      "mesh_layer update\n",
      "mesh_layer update\n"
     ]
    },
    {
     "name": "stderr",
     "output_type": "stream",
     "text": [
      "DEBUG:PYME.recipes.recipe:Module timings: {'localisations.AddPipelineDerivedVars': 0.0009706020355224609, 'localisations.ProcessColour': 0.0019936561584472656, 'tablefilters.FilterTable': 0.0029883384704589844, 'localisations.ExtractTableChannel': 0.0, 'surface_fitting.DistanceToMesh': 0.7659618854522705}\n"
     ]
    },
    {
     "name": "stdout",
     "output_type": "stream",
     "text": [
      "mesh_layer update\n",
      "mesh_layer update\n"
     ]
    },
    {
     "name": "stderr",
     "output_type": "stream",
     "text": [
      "DEBUG:PYME.recipes.recipe:Executing <PYME.recipes.tablefilters.FilterTable object at 0x000001EC61741BE8>\n"
     ]
    },
    {
     "name": "stdout",
     "output_type": "stream",
     "text": [
      "recipe.execute()\n",
      "mesh_layer update\n",
      "mesh_layer update\n"
     ]
    },
    {
     "name": "stderr",
     "output_type": "stream",
     "text": [
      "DEBUG:PYME.recipes.recipe:Module timings: {'localisations.AddPipelineDerivedVars': 0.0009706020355224609, 'localisations.ProcessColour': 0.0019936561584472656, 'tablefilters.FilterTable': 0.006012916564941406, 'localisations.ExtractTableChannel': 0.0, 'surface_fitting.DistanceToMesh': 0.7659618854522705}\n"
     ]
    },
    {
     "name": "stdout",
     "output_type": "stream",
     "text": [
      "mesh_layer update\n",
      "mesh_layer update\n"
     ]
    },
    {
     "name": "stderr",
     "output_type": "stream",
     "text": [
      "c:\\users\\laf62\\code\\python-microscopy\\PYME\\IO\\tabular.py:996: VisibleDeprecationWarning: Mapping filter created with something that is not a tabular object. This will be unsupported in a future release. Consider DictSource or ColumnSource instead\n",
      "  warnings.warn(VisibleDeprecationWarning('Mapping filter created with something that is not a tabular object. This will be unsupported in a future release. Consider DictSource or ColumnSource instead'))\n"
     ]
    },
    {
     "name": "stdout",
     "output_type": "stream",
     "text": [
      "mesh_layer update\n",
      "mesh_layer update\n"
     ]
    },
    {
     "name": "stderr",
     "output_type": "stream",
     "text": [
      "c:\\users\\laf62\\code\\python-microscopy\\PYME\\IO\\tabular.py:48: VisibleDeprecationWarning: mappingFilter is deprecated, use MappingFilter instead\n",
      "  warnings.warn(VisibleDeprecationWarning('%s is deprecated, use %s instead' % (name, cls.__name__)))\n"
     ]
    },
    {
     "name": "stdout",
     "output_type": "stream",
     "text": [
      "mesh_layer update\n",
      "mesh_layer update\n"
     ]
    },
    {
     "name": "stderr",
     "output_type": "stream",
     "text": [
      "DEBUG:PYME.LMVis.visCore:Added layer, datasouce=cluster-centers\n"
     ]
    },
    {
     "name": "stdout",
     "output_type": "stream",
     "text": [
      "pointcloud.update_from_datasource() - dsname=cluster-centers\n",
      "mesh_layer update\n",
      "mesh_layer update\n"
     ]
    },
    {
     "name": "stderr",
     "output_type": "stream",
     "text": [
      "DEBUG:PYME.recipes.recipe:Executing <PYME.recipes.surface_fitting.DistanceToMesh object at 0x000001EC45E0D0A8>\n"
     ]
    },
    {
     "name": "stdout",
     "output_type": "stream",
     "text": [
      "pointcloud.update_from_datasource() - dsname=cluster-centers\n",
      "recipe.execute()\n"
     ]
    },
    {
     "name": "stderr",
     "output_type": "stream",
     "text": [
      "c:\\users\\laf62\\code\\python-microscopy\\PYME\\experimental\\isosurface.py:97: RuntimeWarning: overflow encountered in exp2\n",
      "  val = -np.log2(np.nansum(np.exp2(-k*sdf), axis=1))/k\n"
     ]
    },
    {
     "name": "stdout",
     "output_type": "stream",
     "text": [
      "mesh_layer update\n",
      "mesh_layer update\n"
     ]
    },
    {
     "name": "stderr",
     "output_type": "stream",
     "text": [
      "DEBUG:PYME.recipes.recipe:Module timings: {'localisations.AddPipelineDerivedVars': 0.0009706020355224609, 'localisations.ProcessColour': 0.0019936561584472656, 'tablefilters.FilterTable': 0.006012916564941406, 'localisations.ExtractTableChannel': 0.0, 'surface_fitting.DistanceToMesh': 0.20291996002197266}\n"
     ]
    },
    {
     "name": "stdout",
     "output_type": "stream",
     "text": [
      "pointcloud.update_from_datasource() - dsname=cluster-centers\n",
      "mesh_layer update\n",
      "mesh_layer update\n"
     ]
    },
    {
     "name": "stderr",
     "output_type": "stream",
     "text": [
      "DEBUG:PYME.recipes.recipe:Executing <PYME.recipes.tablefilters.FilterTable object at 0x000001EC45E0D6A8>\n"
     ]
    },
    {
     "name": "stdout",
     "output_type": "stream",
     "text": [
      "pointcloud.update_from_datasource() - dsname=cluster-centers\n",
      "recipe.execute()\n",
      "mesh_layer update\n",
      "mesh_layer update\n"
     ]
    },
    {
     "name": "stderr",
     "output_type": "stream",
     "text": [
      "DEBUG:PYME.recipes.recipe:Module timings: {'localisations.AddPipelineDerivedVars': 0.0009706020355224609, 'localisations.ProcessColour': 0.0019936561584472656, 'tablefilters.FilterTable': 0.0, 'localisations.ExtractTableChannel': 0.0, 'surface_fitting.DistanceToMesh': 0.20291996002197266}\n"
     ]
    },
    {
     "name": "stdout",
     "output_type": "stream",
     "text": [
      "pointcloud.update_from_datasource() - dsname=cluster-centers\n",
      "mesh_layer update\n",
      "mesh_layer update\n",
      "pointcloud.update_from_datasource() - dsname=cluster-centers\n",
      "mesh_layer update\n",
      "mesh_layer update\n",
      "pointcloud.update_from_datasource() - dsname=cluster-centers\n",
      "mesh_layer update\n"
     ]
    },
    {
     "name": "stderr",
     "output_type": "stream",
     "text": [
      "DEBUG:PYME.LMVis.visCore:Added layer, datasouce=cluster-centers\n"
     ]
    },
    {
     "name": "stdout",
     "output_type": "stream",
     "text": [
      "mesh_layer update\n",
      "pointcloud.update_from_datasource() - dsname=cluster-centers\n",
      "pointcloud.update_from_datasource() - dsname=cluster-centers\n"
     ]
    },
    {
     "name": "stderr",
     "output_type": "stream",
     "text": [
      "C:\\Users\\laf62\\.conda\\envs\\pyme\\lib\\site-packages\\numpy\\core\\_asarray.py:83: VisibleDeprecationWarning: Creating an ndarray from ragged nested sequences (which is a list-or-tuple of lists-or-tuples-or ndarrays with different lengths or shapes) is deprecated. If you meant to do this, you must specify 'dtype=object' when creating the ndarray\n",
      "  return array(a, dtype, copy=False, order=order)\n"
     ]
    },
    {
     "name": "stdout",
     "output_type": "stream",
     "text": [
      "mesh_layer update\n",
      "mesh_layer update\n",
      "pointcloud.update_from_datasource() - dsname=cluster-centers\n",
      "pointcloud.update_from_datasource() - dsname=cluster-centers\n"
     ]
    },
    {
     "name": "stderr",
     "output_type": "stream",
     "text": [
      "DEBUG:PYME.LMVis.visCore:Added layer, datasouce=Disc-sim-clusters\n"
     ]
    },
    {
     "name": "stdout",
     "output_type": "stream",
     "text": [
      "pointcloud.update_from_datasource() - dsname=Disc-sim-clusters\n",
      "mesh_layer update\n",
      "mesh_layer update\n"
     ]
    },
    {
     "name": "stderr",
     "output_type": "stream",
     "text": [
      "DEBUG:PYME.LMVis.visCore:Added layer, datasouce=Line-sim-clusters\n"
     ]
    },
    {
     "name": "stdout",
     "output_type": "stream",
     "text": [
      "pointcloud.update_from_datasource() - dsname=cluster-centers\n",
      "pointcloud.update_from_datasource() - dsname=cluster-centers\n",
      "pointcloud.update_from_datasource() - dsname=Disc-sim-clusters\n",
      "pointcloud.update_from_datasource() - dsname=Line-sim-clusters\n"
     ]
    },
    {
     "name": "stderr",
     "output_type": "stream",
     "text": [
      "DEBUG:PYME.recipes.recipe:Executing <PYME.recipes.localisations.Pipelineify object at 0x000001EC625155E8>\n",
      "DEBUG:PYME.recipes.localisations:no events found\n",
      "DEBUG:PYME.recipes.recipe:Executing <PYME.recipes.localisations.ProcessColour object at 0x000001EC69A80AC8>\n",
      "DEBUG:PYME.recipes.recipe:Executing <PYME.recipes.tablefilters.FilterTable object at 0x000001EC69A80948>\n",
      "DEBUG:PYME.recipes.recipe:Module timings: {'localisations.AddPipelineDerivedVars': 0.0009713172912597656, 'localisations.ProcessColour': 0.0030205249786376953, 'tablefilters.FilterTable': 0.0020008087158203125, 'localisations.ExtractTableChannel': 0.0, 'surface_fitting.DistanceToMesh': 0.20291996002197266}\n",
      "DEBUG:PYME.LMVis.VisGUI:Creating tabs\n"
     ]
    },
    {
     "name": "stdout",
     "output_type": "stream",
     "text": [
      "Creating Pipeline\n",
      "recipe.execute()\n",
      "Pipeline Created\n"
     ]
    },
    {
     "name": "stderr",
     "output_type": "stream",
     "text": [
      "DEBUG:PYME.LMVis.VisGUI:Finished creating tabs\n"
     ]
    },
    {
     "name": "stdout",
     "output_type": "stream",
     "text": [
      "0\n",
      "Gui stuff done\n",
      "Data munged to vertices, faces\n",
      "initializing halfedges ...\n",
      "vertices.shape = (211355, 3), faces.shape = (423634, 3)\n",
      "iterating edges\n",
      "done initializing halfedges\n",
      "mesh_layer update\n",
      "Data munged to vertices, faces\n",
      "initializing halfedges ...\n",
      "vertices.shape = (202197, 3), faces.shape = (405402, 3)\n",
      "iterating edges\n",
      "done initializing halfedges\n",
      "mesh_layer update\n"
     ]
    },
    {
     "name": "stderr",
     "output_type": "stream",
     "text": [
      "DEBUG:PYME.recipes.recipe:Executing <PYME.recipes.localisations.ExtractTableChannel object at 0x000001EC407477C8>\n"
     ]
    },
    {
     "name": "stdout",
     "output_type": "stream",
     "text": [
      "recipe.execute()\n",
      "mesh_layer update\n",
      "mesh_layer update\n",
      "mesh_layer update\n",
      "mesh_layer update\n"
     ]
    },
    {
     "name": "stderr",
     "output_type": "stream",
     "text": [
      "DEBUG:PYME.recipes.recipe:Module timings: {'localisations.AddPipelineDerivedVars': 0.0009713172912597656, 'localisations.ProcessColour': 0.0030205249786376953, 'tablefilters.FilterTable': 0.0020008087158203125, 'localisations.ExtractTableChannel': 0.0, 'surface_fitting.DistanceToMesh': 0.20291996002197266}\n"
     ]
    },
    {
     "name": "stdout",
     "output_type": "stream",
     "text": [
      "mesh_layer update\n",
      "mesh_layer update\n",
      "mesh_layer update\n",
      "mesh_layer update\n"
     ]
    },
    {
     "name": "stderr",
     "output_type": "stream",
     "text": [
      "DEBUG:PYME.recipes.recipe:Executing <PYME.recipes.surface_fitting.DistanceToMesh object at 0x000001EC40747468>\n"
     ]
    },
    {
     "name": "stdout",
     "output_type": "stream",
     "text": [
      "recipe.execute()\n"
     ]
    },
    {
     "name": "stderr",
     "output_type": "stream",
     "text": [
      "c:\\users\\laf62\\code\\python-microscopy\\PYME\\experimental\\isosurface.py:83: RuntimeWarning: invalid value encountered in true_divide\n",
      "  g = norpa*norpa/(nor*nor).sum(2)\n",
      "C:\\Users\\laf62\\.conda\\envs\\pyme\\lib\\site-packages\\numpy\\core\\fromnumeric.py:87: RuntimeWarning: overflow encountered in reduce\n",
      "  return ufunc.reduce(obj, axis, dtype, out, **passkwargs)\n"
     ]
    },
    {
     "name": "stdout",
     "output_type": "stream",
     "text": [
      "mesh_layer update\n",
      "mesh_layer update\n",
      "mesh_layer update\n",
      "mesh_layer update\n"
     ]
    },
    {
     "name": "stderr",
     "output_type": "stream",
     "text": [
      "DEBUG:PYME.recipes.recipe:Module timings: {'localisations.AddPipelineDerivedVars': 0.0009713172912597656, 'localisations.ProcessColour': 0.0030205249786376953, 'tablefilters.FilterTable': 0.0020008087158203125, 'localisations.ExtractTableChannel': 0.0, 'surface_fitting.DistanceToMesh': 0.9548461437225342}\n"
     ]
    },
    {
     "name": "stdout",
     "output_type": "stream",
     "text": [
      "mesh_layer update\n",
      "mesh_layer update\n",
      "mesh_layer update\n",
      "mesh_layer update\n"
     ]
    },
    {
     "name": "stderr",
     "output_type": "stream",
     "text": [
      "DEBUG:PYME.recipes.recipe:Executing <PYME.recipes.tablefilters.FilterTable object at 0x000001EC407475E8>\n"
     ]
    },
    {
     "name": "stdout",
     "output_type": "stream",
     "text": [
      "recipe.execute()\n",
      "mesh_layer update\n",
      "mesh_layer update\n",
      "mesh_layer update\n"
     ]
    },
    {
     "name": "stderr",
     "output_type": "stream",
     "text": [
      "DEBUG:PYME.recipes.recipe:Module timings: {'localisations.AddPipelineDerivedVars': 0.0009713172912597656, 'localisations.ProcessColour': 0.0030205249786376953, 'tablefilters.FilterTable': 0.005983591079711914, 'localisations.ExtractTableChannel': 0.0, 'surface_fitting.DistanceToMesh': 0.9548461437225342}\n"
     ]
    },
    {
     "name": "stdout",
     "output_type": "stream",
     "text": [
      "mesh_layer update\n",
      "mesh_layer update\n",
      "mesh_layer update\n",
      "mesh_layer update\n",
      "mesh_layer update\n",
      "mesh_layer update\n",
      "mesh_layer update\n",
      "mesh_layer update\n",
      "mesh_layer update\n",
      "mesh_layer update\n",
      "mesh_layer update\n"
     ]
    },
    {
     "name": "stderr",
     "output_type": "stream",
     "text": [
      "DEBUG:PYME.LMVis.visCore:Added layer, datasouce=cluster-centers\n"
     ]
    },
    {
     "name": "stdout",
     "output_type": "stream",
     "text": [
      "pointcloud.update_from_datasource() - dsname=cluster-centers\n",
      "mesh_layer update\n",
      "mesh_layer update\n"
     ]
    },
    {
     "name": "stderr",
     "output_type": "stream",
     "text": [
      "DEBUG:PYME.recipes.recipe:Executing <PYME.recipes.surface_fitting.DistanceToMesh object at 0x000001EC45E0D0A8>\n"
     ]
    },
    {
     "name": "stdout",
     "output_type": "stream",
     "text": [
      "pointcloud.update_from_datasource() - dsname=cluster-centers\n",
      "recipe.execute()\n",
      "mesh_layer update\n"
     ]
    },
    {
     "name": "stderr",
     "output_type": "stream",
     "text": [
      "DEBUG:PYME.recipes.recipe:Module timings: {'localisations.AddPipelineDerivedVars': 0.0009713172912597656, 'localisations.ProcessColour': 0.0030205249786376953, 'tablefilters.FilterTable': 0.005983591079711914, 'localisations.ExtractTableChannel': 0.0, 'surface_fitting.DistanceToMesh': 0.27222108840942383}\n"
     ]
    },
    {
     "name": "stdout",
     "output_type": "stream",
     "text": [
      "mesh_layer update\n",
      "pointcloud.update_from_datasource() - dsname=cluster-centers\n",
      "mesh_layer update\n"
     ]
    },
    {
     "name": "stderr",
     "output_type": "stream",
     "text": [
      "DEBUG:PYME.recipes.recipe:Executing <PYME.recipes.tablefilters.FilterTable object at 0x000001EEE39B59A8>\n"
     ]
    },
    {
     "name": "stdout",
     "output_type": "stream",
     "text": [
      "mesh_layer update\n",
      "pointcloud.update_from_datasource() - dsname=cluster-centers\n",
      "recipe.execute()\n",
      "mesh_layer update\n",
      "mesh_layer update\n",
      "pointcloud.update_from_datasource() - dsname=cluster-centers\n"
     ]
    },
    {
     "name": "stderr",
     "output_type": "stream",
     "text": [
      "DEBUG:PYME.recipes.recipe:Module timings: {'localisations.AddPipelineDerivedVars': 0.0009713172912597656, 'localisations.ProcessColour': 0.0030205249786376953, 'tablefilters.FilterTable': 0.0, 'localisations.ExtractTableChannel': 0.0, 'surface_fitting.DistanceToMesh': 0.27222108840942383}\n"
     ]
    },
    {
     "name": "stdout",
     "output_type": "stream",
     "text": [
      "mesh_layer update\n",
      "mesh_layer update\n",
      "pointcloud.update_from_datasource() - dsname=cluster-centers\n",
      "mesh_layer update\n",
      "mesh_layer update\n",
      "pointcloud.update_from_datasource() - dsname=cluster-centers\n",
      "mesh_layer update\n",
      "mesh_layer update\n"
     ]
    },
    {
     "name": "stderr",
     "output_type": "stream",
     "text": [
      "DEBUG:PYME.LMVis.visCore:Added layer, datasouce=cluster-centers\n"
     ]
    },
    {
     "name": "stdout",
     "output_type": "stream",
     "text": [
      "pointcloud.update_from_datasource() - dsname=cluster-centers\n",
      "pointcloud.update_from_datasource() - dsname=cluster-centers\n",
      "mesh_layer update\n",
      "mesh_layer update\n"
     ]
    },
    {
     "name": "stderr",
     "output_type": "stream",
     "text": [
      "DEBUG:PYME.LMVis.visCore:Added layer, datasouce=Disc-sim-clusters\n"
     ]
    },
    {
     "name": "stdout",
     "output_type": "stream",
     "text": [
      "pointcloud.update_from_datasource() - dsname=cluster-centers\n",
      "pointcloud.update_from_datasource() - dsname=cluster-centers\n",
      "pointcloud.update_from_datasource() - dsname=Disc-sim-clusters\n",
      "mesh_layer update\n",
      "mesh_layer update\n"
     ]
    },
    {
     "name": "stderr",
     "output_type": "stream",
     "text": [
      "DEBUG:PYME.LMVis.visCore:Added layer, datasouce=Line-sim-clusters\n"
     ]
    },
    {
     "name": "stdout",
     "output_type": "stream",
     "text": [
      "pointcloud.update_from_datasource() - dsname=cluster-centers\n",
      "pointcloud.update_from_datasource() - dsname=cluster-centers\n",
      "pointcloud.update_from_datasource() - dsname=Disc-sim-clusters\n",
      "pointcloud.update_from_datasource() - dsname=Line-sim-clusters\n"
     ]
    },
    {
     "name": "stderr",
     "output_type": "stream",
     "text": [
      "DEBUG:PYME.recipes.recipe:Executing <PYME.recipes.localisations.Pipelineify object at 0x000001EC62515DC8>\n",
      "DEBUG:PYME.recipes.localisations:no events found\n",
      "DEBUG:PYME.recipes.recipe:Executing <PYME.recipes.localisations.ProcessColour object at 0x000001EF7A3FEC48>\n",
      "DEBUG:PYME.recipes.recipe:Executing <PYME.recipes.tablefilters.FilterTable object at 0x000001EF7A3FEAC8>\n",
      "DEBUG:PYME.recipes.recipe:Module timings: {'localisations.AddPipelineDerivedVars': 0.0009968280792236328, 'localisations.ProcessColour': 0.0019958019256591797, 'tablefilters.FilterTable': 0.001993417739868164, 'localisations.ExtractTableChannel': 0.0, 'surface_fitting.DistanceToMesh': 0.27222108840942383}\n",
      "DEBUG:PYME.LMVis.VisGUI:Creating tabs\n"
     ]
    },
    {
     "name": "stdout",
     "output_type": "stream",
     "text": [
      "Creating Pipeline\n",
      "recipe.execute()\n",
      "Pipeline Created\n"
     ]
    },
    {
     "name": "stderr",
     "output_type": "stream",
     "text": [
      "DEBUG:PYME.LMVis.VisGUI:Finished creating tabs\n"
     ]
    },
    {
     "name": "stdout",
     "output_type": "stream",
     "text": [
      "0\n",
      "Gui stuff done\n",
      "Data munged to vertices, faces\n",
      "initializing halfedges ...\n",
      "vertices.shape = (75372, 3), faces.shape = (151012, 3)\n",
      "iterating edges\n",
      "done initializing halfedges\n",
      "mesh_layer update\n",
      "Data munged to vertices, faces\n",
      "initializing halfedges ...\n",
      "vertices.shape = (203468, 3), faces.shape = (407326, 3)\n",
      "iterating edges\n",
      "done initializing halfedges\n",
      "mesh_layer update\n"
     ]
    },
    {
     "name": "stderr",
     "output_type": "stream",
     "text": [
      "DEBUG:PYME.recipes.recipe:Executing <PYME.recipes.localisations.ExtractTableChannel object at 0x000001EC4B77FFA8>\n"
     ]
    },
    {
     "name": "stdout",
     "output_type": "stream",
     "text": [
      "recipe.execute()\n",
      "mesh_layer update\n",
      "mesh_layer update\n",
      "mesh_layer update\n",
      "mesh_layer update\n"
     ]
    },
    {
     "name": "stderr",
     "output_type": "stream",
     "text": [
      "DEBUG:PYME.recipes.recipe:Module timings: {'localisations.AddPipelineDerivedVars': 0.0009968280792236328, 'localisations.ProcessColour': 0.0019958019256591797, 'tablefilters.FilterTable': 0.001993417739868164, 'localisations.ExtractTableChannel': 0.0, 'surface_fitting.DistanceToMesh': 0.27222108840942383}\n"
     ]
    },
    {
     "name": "stdout",
     "output_type": "stream",
     "text": [
      "mesh_layer update\n",
      "mesh_layer update\n"
     ]
    },
    {
     "name": "stderr",
     "output_type": "stream",
     "text": [
      "DEBUG:PYME.recipes.recipe:Executing <PYME.recipes.surface_fitting.DistanceToMesh object at 0x000001EC4B77FD08>\n"
     ]
    },
    {
     "name": "stdout",
     "output_type": "stream",
     "text": [
      "mesh_layer update\n",
      "mesh_layer update\n",
      "recipe.execute()\n",
      "mesh_layer update\n",
      "mesh_layer update\n",
      "mesh_layer update\n"
     ]
    },
    {
     "name": "stderr",
     "output_type": "stream",
     "text": [
      "DEBUG:PYME.recipes.recipe:Module timings: {'localisations.AddPipelineDerivedVars': 0.0009968280792236328, 'localisations.ProcessColour': 0.0019958019256591797, 'tablefilters.FilterTable': 0.001993417739868164, 'localisations.ExtractTableChannel': 0.0, 'surface_fitting.DistanceToMesh': 0.6283197402954102}\n"
     ]
    },
    {
     "name": "stdout",
     "output_type": "stream",
     "text": [
      "mesh_layer update\n",
      "mesh_layer update\n",
      "mesh_layer update\n",
      "mesh_layer update\n"
     ]
    },
    {
     "name": "stderr",
     "output_type": "stream",
     "text": [
      "DEBUG:PYME.recipes.recipe:Executing <PYME.recipes.tablefilters.FilterTable object at 0x000001EEE3910EE8>\n"
     ]
    },
    {
     "name": "stdout",
     "output_type": "stream",
     "text": [
      "mesh_layer update\n",
      "recipe.execute()\n",
      "mesh_layer update\n",
      "mesh_layer update\n"
     ]
    },
    {
     "name": "stderr",
     "output_type": "stream",
     "text": [
      "DEBUG:PYME.recipes.recipe:Module timings: {'localisations.AddPipelineDerivedVars': 0.0009968280792236328, 'localisations.ProcessColour': 0.0019958019256591797, 'tablefilters.FilterTable': 0.006013631820678711, 'localisations.ExtractTableChannel': 0.0, 'surface_fitting.DistanceToMesh': 0.6283197402954102}\n"
     ]
    },
    {
     "name": "stdout",
     "output_type": "stream",
     "text": [
      "mesh_layer update\n",
      "mesh_layer update\n",
      "mesh_layer update\n",
      "mesh_layer update\n",
      "mesh_layer update\n",
      "mesh_layer update\n",
      "mesh_layer update\n",
      "mesh_layer update\n",
      "mesh_layer update\n",
      "mesh_layer update\n",
      "mesh_layer update\n",
      "mesh_layer update\n"
     ]
    },
    {
     "name": "stderr",
     "output_type": "stream",
     "text": [
      "DEBUG:PYME.LMVis.visCore:Added layer, datasouce=cluster-centers\n"
     ]
    },
    {
     "name": "stdout",
     "output_type": "stream",
     "text": [
      "pointcloud.update_from_datasource() - dsname=cluster-centers\n",
      "mesh_layer update\n",
      "mesh_layer update\n"
     ]
    },
    {
     "name": "stderr",
     "output_type": "stream",
     "text": [
      "DEBUG:PYME.recipes.recipe:Executing <PYME.recipes.surface_fitting.DistanceToMesh object at 0x000001EC42618F48>\n"
     ]
    },
    {
     "name": "stdout",
     "output_type": "stream",
     "text": [
      "pointcloud.update_from_datasource() - dsname=cluster-centers\n",
      "recipe.execute()\n",
      "mesh_layer update\n",
      "mesh_layer update\n"
     ]
    },
    {
     "name": "stderr",
     "output_type": "stream",
     "text": [
      "DEBUG:PYME.recipes.recipe:Module timings: {'localisations.AddPipelineDerivedVars': 0.0009968280792236328, 'localisations.ProcessColour': 0.0019958019256591797, 'tablefilters.FilterTable': 0.006013631820678711, 'localisations.ExtractTableChannel': 0.0, 'surface_fitting.DistanceToMesh': 0.0907294750213623}\n"
     ]
    },
    {
     "name": "stdout",
     "output_type": "stream",
     "text": [
      "pointcloud.update_from_datasource() - dsname=cluster-centers\n",
      "mesh_layer update\n",
      "mesh_layer update\n"
     ]
    },
    {
     "name": "stderr",
     "output_type": "stream",
     "text": [
      "DEBUG:PYME.recipes.recipe:Executing <PYME.recipes.tablefilters.FilterTable object at 0x000001EC625156A8>\n"
     ]
    },
    {
     "name": "stdout",
     "output_type": "stream",
     "text": [
      "pointcloud.update_from_datasource() - dsname=cluster-centers\n",
      "recipe.execute()\n",
      "mesh_layer update\n",
      "mesh_layer update\n",
      "pointcloud.update_from_datasource() - dsname=cluster-centers\n"
     ]
    },
    {
     "name": "stderr",
     "output_type": "stream",
     "text": [
      "DEBUG:PYME.recipes.recipe:Module timings: {'localisations.AddPipelineDerivedVars': 0.0009968280792236328, 'localisations.ProcessColour': 0.0019958019256591797, 'tablefilters.FilterTable': 0.0, 'localisations.ExtractTableChannel': 0.0, 'surface_fitting.DistanceToMesh': 0.0907294750213623}\n"
     ]
    },
    {
     "name": "stdout",
     "output_type": "stream",
     "text": [
      "mesh_layer update\n",
      "mesh_layer update\n",
      "pointcloud.update_from_datasource() - dsname=cluster-centers\n",
      "mesh_layer update\n",
      "mesh_layer update\n",
      "pointcloud.update_from_datasource() - dsname=cluster-centers\n",
      "mesh_layer update\n",
      "mesh_layer update\n"
     ]
    },
    {
     "name": "stderr",
     "output_type": "stream",
     "text": [
      "DEBUG:PYME.LMVis.visCore:Added layer, datasouce=cluster-centers\n"
     ]
    },
    {
     "name": "stdout",
     "output_type": "stream",
     "text": [
      "pointcloud.update_from_datasource() - dsname=cluster-centers\n",
      "pointcloud.update_from_datasource() - dsname=cluster-centers\n",
      "mesh_layer update\n",
      "mesh_layer update\n"
     ]
    },
    {
     "name": "stderr",
     "output_type": "stream",
     "text": [
      "DEBUG:PYME.LMVis.visCore:Added layer, datasouce=Disc-sim-clusters\n"
     ]
    },
    {
     "name": "stdout",
     "output_type": "stream",
     "text": [
      "pointcloud.update_from_datasource() - dsname=cluster-centers\n",
      "pointcloud.update_from_datasource() - dsname=cluster-centers\n",
      "pointcloud.update_from_datasource() - dsname=Disc-sim-clusters\n",
      "mesh_layer update\n",
      "mesh_layer update\n",
      "pointcloud.update_from_datasource() - dsname=cluster-centers\n"
     ]
    },
    {
     "name": "stderr",
     "output_type": "stream",
     "text": [
      "DEBUG:PYME.LMVis.visCore:Added layer, datasouce=Line-sim-clusters\n"
     ]
    },
    {
     "name": "stdout",
     "output_type": "stream",
     "text": [
      "pointcloud.update_from_datasource() - dsname=cluster-centers\n",
      "pointcloud.update_from_datasource() - dsname=Disc-sim-clusters\n",
      "pointcloud.update_from_datasource() - dsname=Line-sim-clusters\n"
     ]
    },
    {
     "name": "stderr",
     "output_type": "stream",
     "text": [
      "DEBUG:PYME.LMVis.shader_programs.ShaderProgramFactory:New shader program created: <class 'PYME.LMVis.shader_programs.WireFrameShaderProgram.WireFrameShaderProgram'>\n",
      "DEBUG:PYME.LMVis.shader_programs.ShaderProgramFactory:New shader program created: <class 'PYME.LMVis.shader_programs.DefaultShaderProgram.OpaquePointShaderProgram'>\n"
     ]
    },
    {
     "name": "stdout",
     "output_type": "stream",
     "text": [
      "Input datasources:  ['_Localizations', 'FitResults', 'surf0', 'skeleton0', 'cluster-centers', 'Disc-sim-clusters', 'Line-sim-clusters']\n",
      "Creating layers GUI\n",
      "hl update\n",
      "hl update\n",
      "hl update\n",
      "hl update\n",
      "hl update\n",
      "hl update\n",
      "height:  147\n",
      "NB best size: wx.Size(3, 132)\n"
     ]
    }
   ],
   "source": [
    "# Read data except for axes which are more involved\n",
    "clust_data = []\n",
    "circ_sims_all = []\n",
    "line_sims_all = []\n",
    "for dt in range(len(datadir)):\n",
    "    c_data = np.genfromtxt(datadir[dt], delimiter = ',')\n",
    "    l_data = np.genfromtxt(loc_info[dt], delimiter = ',')\n",
    "    clust = {\"count\": c_data[:,0], \"x\": c_data[:,1], \"y\": c_data[:,2], \"z\": c_data[:,3], \"gyrationRadius\": c_data[:,4], \n",
    "            \"median_abs_deviation\": c_data[:,5], \"sigma0\": c_data[:,9], \"sigma1\": c_data[:,10], \"sigma2\": c_data[:,11], \n",
    "            \"sigma_x\": c_data[:,12], \"sigma_y\": c_data[:,13], \"sigma_z\": c_data[:,14], \"anisotropy\": c_data[:,15], \n",
    "            \"theta\": c_data[:,16], \"phi\": c_data[:,17], \"loc_prec\": l_data[:,12]}\n",
    "\n",
    "    #making save-folder if it doesn't exist (DON'T TOUCH THE NEXT 5 LINES)\n",
    "    from pathlib import Path\n",
    "    import os\n",
    "    p = Path(savedir)\n",
    "    if not p.exists():\n",
    "        os.mkdir(savedir)\n",
    "    workdir = os.getcwd()\n",
    "\n",
    "    import pandas as pd\n",
    "    import copy\n",
    "\n",
    "    if 'check1' in locals():\n",
    "        del check1\n",
    "    if 'check2' in locals():\n",
    "        del check2\n",
    "    if 'x' in locals():\n",
    "        del x\n",
    "    if 'y' in locals():\n",
    "        del y\n",
    "    if 'z' in locals():\n",
    "        del z\n",
    "\n",
    "    # Initialize variables\n",
    "    csv_file = pd.read_csv(datadir[dt], sep=',', header=None)\n",
    "    # clusto[\"axis0\"] = np.copy(csv_file[6][1:].values)\n",
    "    # clusto[\"axis1\"] = np.copy(csv_file[7][1:].values)\n",
    "    # clusto[\"axis2\"] = np.copy(csv_file[8][1:].values)\n",
    "    clusto = {\"axis0\": np.copy(csv_file[6][1:].values), \"axis1\": np.copy(csv_file[7][1:].values), \n",
    "              \"axis2\": np.copy(csv_file[8][1:].values)}\n",
    "    clust['axis0'] = np.zeros((len(clust['count']),3))\n",
    "    clust['axis1'] = np.zeros((len(clust['count']),3))\n",
    "    clust['axis2'] = np.zeros((len(clust['count']),3))\n",
    "    # clust = {\"axis0\": np.copy(csv_file[6][1:].values), \"axis1\": np.copy(csv_file[7][1:].values),\n",
    "    #         \"axis2\": np.copy(csv_file[8][1:].values)}\n",
    "    # clust = {\"count\": np.copy(c_data[0][1:].values), \"x\": np.copy(c_data[1][1:].values), \"y\": np.copy(c_data[2][1:].values), \n",
    "    #         \"z\": np.copy(c_data[3][1:].values), \"gyrationRadius\": np.copy(c_data[4][1:].values), \n",
    "    #         \"median_abs_deviation\": np.copy(c_data[5][1:].values), \"axis0\": np.copy(c_data[6][1:].values), \n",
    "    #         \"axis1\": np.copy(c_data[7][1:].values), \"axis2\": np.copy(c_data[8][1:].values), \n",
    "    #         \"sigma0\": np.copy(c_data[9][1:].values), \"sigma1\": np.copy(c_data[10][1:].values), \n",
    "    #         \"sigma2\": np.copy(c_data[11][1:].values), \"sigma_x\": np.copy(c_data[12][1:].values),\n",
    "    #         \"sigma_y\": np.copy(c_data[13][1:].values), \"sigma_z\": np.copy(c_data[14][1:].values), \n",
    "    #         \"anisotropy\": np.copy(c_data[15][1:].values), \"theta\": np.copy(c_data[16][1:].values), \n",
    "    #         \"phi\": np.copy(c_data[17][1:].values)}\n",
    "    #clust2 = copy.deepcopy(clust)\n",
    "\n",
    "    # Convert 'axis0', 'axis1', and 'axis2' values to floats from strings\n",
    "    # axis0\n",
    "    for a in range(len(clusto[\"axis0\"])):\n",
    "        #print('a:',a)\n",
    "        if a > 0:\n",
    "            del x,y,z,check1,check2\n",
    "        if clusto['axis0'][a][2:4] == '[ ': ##### need a different way of parsing the data\n",
    "            for b in range(1,len(clusto['axis0'][a])):\n",
    "                if clusto['axis0'][a][b] == ' ' and 'check1' not in locals():\n",
    "                    #print('b:',b)\n",
    "                    check1 = b\n",
    "                elif clusto['axis0'][a][b] == ' ' and 'check2' not in locals():\n",
    "                    #print('x - b:',b)\n",
    "                    x = float(clusto['axis0'][a][3:b])\n",
    "                    check2 = b\n",
    "                elif clusto['axis0'][a][b] == ' ' and clusto['axis0'][a][b-1] != ' ' and 'check2' in locals() and 'y' not in locals():             \n",
    "                    #print('yz - b:',b)\n",
    "                    y = float(clusto['axis0'][a][check2:b])\n",
    "                    z = float(clusto['axis0'][a][b:-2])\n",
    "                    #check2 = b\n",
    "        elif clusto['axis0'][a][2] == '[' and clusto['axis0'][a][3] != ' ': ####resume here\n",
    "            for b in range(1,len(clusto['axis0'][a])):\n",
    "                if clusto['axis0'][a][b] == ' ' and 'check1' not in locals():\n",
    "                    #print('2x b:',b)\n",
    "                    check1 = b\n",
    "                    x = float(clusto['axis0'][a][3:b])\n",
    "                elif clusto['axis0'][a][b] == ' ' and clusto['axis0'][a][b-1] != ' ' and 'check2' not in locals() and 'y' not in locals():# 'check2' not in locals():\n",
    "                    #print('2yz - b:',b)\n",
    "                    y = float(clusto['axis0'][a][check1:b])\n",
    "                    z = float(clusto['axis0'][a][b:-2])\n",
    "                    check2 = b\n",
    "        clust['axis0'][a] = np.array([x, y, z])\n",
    "    #     clust['axis0'][a][0] = x\n",
    "    #     clust['axis0'][a][1] = y\n",
    "    #     clust['axis0'][a][2] = z\n",
    "    del check1, check2, x, y, z, a, b\n",
    "\n",
    "    # axis1\n",
    "    for c in range(len(clusto[\"axis1\"])):\n",
    "        #print('c:',c)\n",
    "        if c > 0:\n",
    "            del x,y,z,check1,check2\n",
    "        if clusto['axis1'][c][2:4] == '[ ': ##### need a different way of parsing the data\n",
    "            for d in range(1,len(clusto['axis1'][c])):\n",
    "                if clusto['axis1'][c][d] == ' ' and 'check1' not in locals():\n",
    "                    #print('d:',d)\n",
    "                    check1 = d\n",
    "                elif clusto['axis1'][c][d] == ' ' and 'check2' not in locals():\n",
    "                    #print('x - d:',d)\n",
    "                    x = float(clusto['axis1'][c][3:d])\n",
    "                    check2 = d\n",
    "                elif clusto['axis1'][c][d] == ' ' and clusto['axis1'][c][d-1] != ' ' and 'check2' in locals() and 'y' not in locals():             \n",
    "                    #print('yz - d:',d)\n",
    "                    y = float(clusto['axis1'][c][check2:d])\n",
    "                    z = float(clusto['axis1'][c][d:-2])\n",
    "                    #check2 = d\n",
    "        elif clusto['axis1'][c][2] == '[' and clusto['axis1'][c][3] != ' ': ####resume here\n",
    "            for d in range(1,len(clusto['axis1'][c])):\n",
    "                if clusto['axis1'][c][d] == ' ' and 'check1' not in locals():\n",
    "                    #print('2x d:',d)\n",
    "                    check1 = d\n",
    "                    x = float(clusto['axis1'][c][3:d])\n",
    "                elif clusto['axis1'][c][d] == ' ' and clusto['axis1'][c][d-1] != ' ' and 'check2' not in locals() and 'y' not in locals():# 'check2' not in locals():\n",
    "                    #print('2yz - d:',d)\n",
    "                    y = float(clusto['axis1'][c][check1:d])\n",
    "                    z = float(clusto['axis1'][c][d:-2])\n",
    "                    check2 = d\n",
    "        clust['axis1'][c] = np.array([x, y, z])\n",
    "    del check1, check2, x, y, z, c, d\n",
    "\n",
    "    # axis2\n",
    "    for e in range(len(clusto[\"axis2\"])):\n",
    "        #print('c:',c)\n",
    "        if e > 0:\n",
    "            del x,y,z,check1,check2\n",
    "        if clusto['axis2'][e][2:4] == '[ ': ##### need a different way of parsing the data\n",
    "            for f in range(1,len(clusto['axis2'][e])):\n",
    "                if clusto['axis2'][e][f] == ' ' and 'check1' not in locals():\n",
    "                    #print('f:',f)\n",
    "                    check1 = f\n",
    "                elif clusto['axis2'][e][f] == ' ' and 'check2' not in locals():\n",
    "                    #print('x - f:',f)\n",
    "                    x = float(clusto['axis2'][e][3:f])\n",
    "                    check2 = f\n",
    "                elif clusto['axis2'][e][f] == ' ' and clusto['axis2'][e][f-1] != ' ' and 'check2' in locals() and 'y' not in locals():             \n",
    "                    #print('yz - f:',f)\n",
    "                    y = float(clusto['axis2'][e][check2:f])\n",
    "                    z = float(clusto['axis2'][e][f:-2])\n",
    "                    #check2 = f\n",
    "        elif clusto['axis2'][e][2] == '[' and clusto['axis2'][e][3] != ' ': ####resume here\n",
    "            for f in range(1,len(clusto['axis2'][e])):\n",
    "                if clusto['axis2'][e][f] == ' ' and 'check1' not in locals():\n",
    "                    #print('2x f:',f)\n",
    "                    check1 = f\n",
    "                    x = float(clusto['axis2'][e][3:f])\n",
    "                elif clusto['axis2'][e][f] == ' ' and clusto['axis2'][e][f-1] != ' ' and 'check2' not in locals() and 'y' not in locals():# 'check2' not in locals():\n",
    "                    #print('2yz - f:',f)\n",
    "                    y = float(clusto['axis2'][e][check1:f])\n",
    "                    z = float(clusto['axis2'][e][f:-2])\n",
    "                    check2 = f\n",
    "        clust['axis2'][e] = np.array([x, y, z])\n",
    "        \n",
    "    clust_data.append(clust)\n",
    "    del clust, c_data\n",
    "\n",
    "    # Load and display points\n",
    "    pymevis.OpenFile(c_points[dt])\n",
    "\n",
    "    # define mesh sdf\n",
    "    from PYME.experimental.isosurface import distance_to_mesh\n",
    "\n",
    "    mesh_sdf = lambda pts: distance_to_mesh(pts.T, mesh)\n",
    "\n",
    "    # Load and display mesh\n",
    "    from PYME.experimental._triangle_mesh import TriangleMesh\n",
    "    from PYME.LMVis.layers.mesh import TriangleRenderLayer\n",
    "\n",
    "    mesh = TriangleMesh.from_stl(mesh_fn_rtn[dt])\n",
    "\n",
    "    mesh_name = pipeline.new_ds_name('surf')\n",
    "    pipeline.recipe.namespace[mesh_name] = mesh\n",
    "    layer = TriangleRenderLayer(pipeline, dsname=mesh_name, method='wireframe', cmap = 'SolidCyan')\n",
    "    pymevis.add_layer(layer)\n",
    "\n",
    "    # grab the bounding box\n",
    "    mesh_bbox = pymevis.glCanvas.layers[-1]._bbox\n",
    "\n",
    "    # Load and display skeleton (this is replacing the skeleton creation within the script approach because\n",
    "    # it takes so long to make the skeleton. Better to do it once and then load it in for analyses\n",
    "\n",
    "    from PYME.experimental._triangle_mesh import TriangleMesh\n",
    "    from PYME.LMVis.layers.mesh import TriangleRenderLayer\n",
    "\n",
    "    mesh = TriangleMesh.from_stl(skelly[dt])\n",
    "\n",
    "    mesh_name = pipeline.new_ds_name('skeleton')\n",
    "    pipeline.recipe.namespace[mesh_name] = mesh\n",
    "    layer = TriangleRenderLayer(pipeline, dsname=mesh_name, method='wireframe', cmap = 'SolidMagenta')\n",
    "    pymevis.add_layer(layer)\n",
    "\n",
    "    # grab the bounding box\n",
    "    mesh_bbox = pymevis.glCanvas.layers[-1]._bbox\n",
    "\n",
    "    # Import ExtractTableChannel Recipe\n",
    "    from PYME.recipes.localisations import ExtractTableChannel\n",
    "    recipe = pipeline.recipe\n",
    "    # Extract Rtn4 points as 'Rtn4' DataSource\n",
    "    recipe.add_modules_and_execute([ExtractTableChannel(recipe, inputName = 'filtered_localizations', outputName = 'Rtn4',\n",
    "                                                        channel = Rtn4_chan)])\n",
    "\n",
    "    # Select simulated DataSource\n",
    "    pipeline.selectDataSource('Rtn4')\n",
    "\n",
    "    # Calculate distance from simulated points to surface\n",
    "    from PYME.recipes.surface_fitting import DistanceToMesh\n",
    "    recipe = pipeline.recipe\n",
    "    recipe.add_modules_and_execute([DistanceToMesh(recipe, input_mesh = 'surf0', input_points = 'Rtn4', output = 'Rtn4_filt')])\n",
    "\n",
    "    # Select simulated datasource that now has the distance_to_surf0 values associated with it\n",
    "    pipeline.selectDataSource('Rtn4_filt')\n",
    "\n",
    "    # Dictionary with info about what filter to use and what values\n",
    "    filt_dict_rtn = {'distance_to_surf0': [low_filt,high_filt]}\n",
    "\n",
    "    # Use PYME FilterTable to filter by distance to mesh (SDF) using low_filt and high_filt variables\n",
    "    from PYME.recipes.tablefilters import FilterTable\n",
    "    recipe.add_modules_and_execute([FilterTable(recipe, inputName = 'Rtn4_filt', filters = filt_dict_rtn, \n",
    "                                                outputName = 'sdf_filtered_Rtn4')])\n",
    "\n",
    "    # Select the simulate points that passed the SDF filter above\n",
    "    pipeline.selectDataSource('sdf_filtered_Rtn4')\n",
    "\n",
    "    # Extract x,y,z coordinates for simulated points\n",
    "    x_rtn = pipeline['x']\n",
    "    y_rtn = pipeline['y']\n",
    "    z_rtn = pipeline['z']\n",
    "\n",
    "    # Merge x,y,z coordinates into one variable 'points_rtn'\n",
    "    points_rtn = np.c_[x_rtn.ravel(),y_rtn.ravel(),z_rtn.ravel()]\n",
    "\n",
    "    # Import cKDTree function from SciPy and use it on the skeleton\n",
    "    pipeline.selectDataSource('skeleton0')\n",
    "    d_skelly = pipeline.selectedDataSource\n",
    "    orig_skeleton = d_skelly._vertices['position'][d_skelly._vertices['halfedge']!=-1]\n",
    "    from scipy.spatial import cKDTree\n",
    "    tree_orig = cKDTree(orig_skeleton)\n",
    "\n",
    "    # Move each vertex to the average position of all of its neighbors within a 'ball_r' radius\n",
    "    # Also trim out vertices that have a # of nearest neighbors > than max_nn (these are the q-tip looking spots)\n",
    "    # This doesn't make the problem areas better, it just cuts them out entirely\n",
    "    from collections import OrderedDict\n",
    "    skeleton = orig_skeleton\n",
    "    bad_inds = []\n",
    "    a_ind = tree_orig.query_ball_point(skeleton, ball_r)\n",
    "    for trim in range(len(a_ind)):\n",
    "        skeleton[trim] = np.mean(skeleton[a_ind[trim]],axis=0)\n",
    "        if len(a_ind[trim]) > max_nn:\n",
    "            bad_inds.append(a_ind[trim])\n",
    "\n",
    "    flat_bad_inds = [element for sublist in bad_inds for element in sublist]\n",
    "    flat_unique = list(OrderedDict.fromkeys(flat_bad_inds))\n",
    "    skeleton = np.delete(skeleton, flat_unique, axis=0)\n",
    "\n",
    "    # Make KDTree based on the mean skeleton\n",
    "    mean_tree_skeleton = cKDTree(skeleton)\n",
    "\n",
    "    # Find the closest neighbor that is at least 'min_dist' away from point being queried.\n",
    "    nneigh_ind = np.zeros([len(skeleton),1])\n",
    "    nneigh_dist = np.zeros([len(skeleton),1])\n",
    "    for aa in range(len(skeleton)):\n",
    "        dist, ind = mean_tree_skeleton.query(skeleton[aa], k=len(skeleton), distance_upper_bound=max_dist*2)\n",
    "        for ab in range(len(dist)):\n",
    "            if dist[ab] > min_dist:\n",
    "                nneigh_ind[aa] = ind[ab]\n",
    "                nneigh_dist[aa] = dist[ab]\n",
    "                break\n",
    "\n",
    "    # Calculate vectors pointing from each point to its nearest neighbor that is at least 'min_dist' away.\n",
    "    skel_vecs = np.zeros([len(skeleton),3])\n",
    "    bad_skel = []\n",
    "    for ac in range(len(skeleton)):\n",
    "        if nneigh_ind[ac] >= len(skeleton):\n",
    "            bad_skel.append(ac)\n",
    "        else:\n",
    "            vec = skeleton[ac] - skeleton[int(nneigh_ind[ac][0])]\n",
    "            skel_vecs[int(ac)] = vec\n",
    "    bad_skel = np.asarray(bad_skel)\n",
    "    skeleton = np.delete(skeleton, bad_skel, axis=0)\n",
    "    nneigh_dist = np.delete(nneigh_dist, bad_skel, axis=0)\n",
    "    nneigh_ind = np.delete(nneigh_ind, bad_skel, axis=0)\n",
    "    skel_vecs = np.delete(skel_vecs, bad_skel, axis=0)\n",
    "\n",
    "    del mean_tree_skeleton\n",
    "    mean_tree_skeleton = cKDTree(skeleton)\n",
    "\n",
    "    # Normalize\n",
    "    skel_dist_mag = np.c_[nneigh_dist.ravel(),nneigh_dist.ravel(),nneigh_dist.ravel()]\n",
    "    vecs_hat = skel_vecs/skel_dist_mag\n",
    "\n",
    "    # Add those vectors to the skeleton in the GUI\n",
    "    # add_ds_from_Nx3(skeleton, pipeline, pymevis, ds_name=f'nn-mean-skel-{min_dist}nm', normals=vecs_hat)\n",
    "\n",
    "    # skel_dist = distance from each Rtn4 point to closest skeleton point; skel_ind = index of the closest point in 'skeleton'\n",
    "    skel_dist_rtn, skel_ind_rtn = mean_tree_skeleton.query(points_rtn, k=1)\n",
    "\n",
    "    # map centers of clusters to 'centers' as xyz coordinates\n",
    "    centers = np.zeros([len(clust_data[dt]['x']),3])\n",
    "    for g in range(len(clust_data[dt]['x'])):\n",
    "        centers[g] = [clust_data[dt]['x'][g],clust_data[dt]['y'][g],clust_data[dt]['z'][g]]\n",
    "\n",
    "    # Add layer of center points with normals set as the vectors that point to closest part of the skeleton\n",
    "    skel_cent_dist, skel_cent_ind = mean_tree_skeleton.query(centers, k=1)\n",
    "    cent_skel_vec = centers - skeleton[skel_cent_ind]\n",
    "    cent_skel_vec_hat = cent_skel_vec / np.linalg.norm(cent_skel_vec,axis=1)[:,None]\n",
    "    add_ds_from_Nx3(centers, pipeline, pymevis, 'cluster-centers', normals=cent_skel_vec_hat)\n",
    "\n",
    "    # Import ExtractTableChannel Recipe\n",
    "    from PYME.recipes.localisations import ExtractTableChannel\n",
    "    recipe = pipeline.recipe\n",
    "    # Extract cluster center point\n",
    "\n",
    "    # Select simulated DataSource\n",
    "    pipeline.selectDataSource('cluster-centers')\n",
    "\n",
    "    # Calculate distance from simulated points to surface\n",
    "    from PYME.recipes.surface_fitting import DistanceToMesh\n",
    "    recipe = pipeline.recipe\n",
    "    recipe.add_modules_and_execute([DistanceToMesh(recipe, input_mesh = 'surf0', input_points = 'cluster-centers',\n",
    "                                                   output = 'centers_sdf')])\n",
    "\n",
    "    # Select simulated datasource that now has the distance_to_surf0 values associated with it\n",
    "    pipeline.selectDataSource('centers_sdf')\n",
    "\n",
    "    # Dictionary with info about what filter to use and what values\n",
    "    filt_dict_rtn = {'distance_to_surf0': [low_filt,high_filt]}\n",
    "\n",
    "    # Use PYME FilterTable to filter by distance to mesh (SDF) using low_filt and high_filt variables\n",
    "    from PYME.recipes.tablefilters import FilterTable\n",
    "    recipe.add_modules_and_execute([FilterTable(recipe, inputName = 'centers_sdf', filters = filt_dict_rtn, \n",
    "                                                outputName = 'sdf_filtered_centers')])\n",
    "\n",
    "    # Select the simulate points that passed the SDF filter above\n",
    "    pipeline.selectDataSource('sdf_filtered_centers')\n",
    "\n",
    "    # Filter data\n",
    "\n",
    "    # Determine how far each cluster center is from the membrane surface so we can filter out those\n",
    "    # that are too far away\n",
    "    pipeline.selectDataSource('surf0')\n",
    "    surf_d = pipeline.selectedDataSource\n",
    "    surf_verts = surf_d._vertices['position'][surf_d._vertices['halfedge']!=-1]\n",
    "    surf_norms = surf_d._vertices['normal']\n",
    "    from scipy.spatial import cKDTree\n",
    "    tree_surf = cKDTree(surf_verts)\n",
    "    surf_dist, surf_ind = tree_surf.query(centers, k=1)\n",
    "\n",
    "    # Create filters to filter out clusters that are too far from the skeleton and that are less than clust_min in size\n",
    "    sdf_filt = skel_cent_dist < high_filt\n",
    "    min_size_filt = clust_data[dt]['count'] > min_size\n",
    "    max_size_filt = clust_data[dt]['count'] < max_size\n",
    "    size_filt = min_size_filt * max_size_filt\n",
    "    # create filter of aspect ratio of clusters (determined by standard deviation)\n",
    "    major = clust_data[dt]['sigma0']\n",
    "    minor = clust_data[dt]['sigma1']\n",
    "    #asprat = major/minor\n",
    "    #asprat_filt = asprat >= asprat_thresh\n",
    "\n",
    "    #total_filt = sdf_filt * size_filt * asprat_filt\n",
    "    total_filt = sdf_filt * size_filt\n",
    "    \n",
    "    clust_data[dt]['total_filt'] = total_filt\n",
    "\n",
    "    # Apply filter\n",
    "    clust_filt = clust_data[dt]['axis0'][total_filt]\n",
    "    centers_filt = centers[total_filt]\n",
    "    ccount = clust_data[dt]['count'][total_filt]\n",
    "    gr = clust_data[dt]['gyrationRadius'][total_filt]\n",
    "\n",
    "    add_ds_from_Nx3(centers_filt, pipeline, pymevis, 'cluster-centers', normals=clust_filt)\n",
    "    \n",
    "    # Simulating data \n",
    "    # generate positions using uniform distribution\n",
    "    rng = np.random.default_rng()\n",
    "    uni = rng.uniform(0,2*np.pi,10)\n",
    "\n",
    "\n",
    "    cs_points_sep, cs_points_tog = tan_circ_sim(rad=gr, count=ccount,\n",
    "                                                loc_prec=np.average(clust_data[dt]['loc_prec']),\n",
    "                                                rg_factor=rg_factor)\n",
    "    \n",
    "    ls_points_sep, ls_points_tog = tan_line_sim(rad=gr, count=ccount,\n",
    "                                                loc_prec=np.average(clust_data[dt]['loc_prec']),\n",
    "                                                rg_factor=1)\n",
    "\n",
    "    # ls_points_sep, ls_points_tog = tan_line_sim(rad=gr, count=ccount,\n",
    "    #                                             loc_prec=np.average(clust_data[dt]['loc_prec']), \n",
    "    #                                             rg_factor=rg_factor)\n",
    "\n",
    "    # Measure the 3D information of each cluster and add it to a single dictionary for each simulation\n",
    "\n",
    "    from PYME.Analysis.points import cluster_morphology\n",
    "\n",
    "    base = np.zeros(len(ccount))\n",
    "    axes = np.zeros((np.shape(clust_data[dt]['axis0'])))\n",
    "\n",
    "    circ_clusts = {\"count\": base, \"x\": base, \"y\": base, \"z\": base, \"gyrationRadius\": base, \n",
    "                \"median_abs_deviation\": base, \"sigma0\": base, \"sigma1\": base, \"sigma2\": base, \n",
    "                \"sigma_x\": base, \"sigma_y\": base, \"sigma_z\": base, \"anisotropy\": base, \n",
    "                \"theta\": base, \"phi\": base, \"axis0\": axes, \"axis1\": axes, \"axis2\": axes}\n",
    "\n",
    "    line_clusts = {\"count\": base, \"x\": base, \"y\": base, \"z\": base, \"gyrationRadius\": base, \n",
    "                \"median_abs_deviation\": base, \"sigma0\": base, \"sigma1\": base, \"sigma2\": base, \n",
    "                \"sigma_x\": base, \"sigma_y\": base, \"sigma_z\": base, \"anisotropy\": base, \n",
    "                \"theta\": base, \"phi\": base, \"axis0\": axes, \"axis1\": axes, \"axis2\": axes}\n",
    "\n",
    "    ### Measure simulated clusters using measure_3d\n",
    "\n",
    "    # initialize variables\n",
    "    circ_count = np.zeros(len(ccount))\n",
    "    circ_x = np.zeros(len(ccount))\n",
    "    circ_y = np.zeros(len(ccount))\n",
    "    circ_z = np.zeros(len(ccount))\n",
    "    circ_gR = np.zeros(len(ccount))\n",
    "    circ_mad = np.zeros(len(ccount))\n",
    "    circ_sigma0 = np.zeros(len(ccount))\n",
    "    circ_sigma1 = np.zeros(len(ccount))\n",
    "    circ_sigma2 = np.zeros(len(ccount))\n",
    "    circ_sigmax = np.zeros(len(ccount))\n",
    "    circ_sigmay = np.zeros(len(ccount))\n",
    "    circ_sigmaz = np.zeros(len(ccount))\n",
    "    circ_anisotropy = np.zeros(len(ccount))\n",
    "    circ_theta = np.zeros(len(ccount))\n",
    "    circ_phi = np.zeros(len(ccount))\n",
    "    circ_axis0 = np.zeros((np.shape(clust_data[dt]['axis0'])))\n",
    "    circ_axis1 = np.zeros((np.shape(clust_data[dt]['axis0'])))\n",
    "    circ_axis2 = np.zeros((np.shape(clust_data[dt]['axis0'])))\n",
    "\n",
    "    line_count = np.zeros(len(ccount))\n",
    "    line_x = np.zeros(len(ccount))\n",
    "    line_y = np.zeros(len(ccount))\n",
    "    line_z = np.zeros(len(ccount))\n",
    "    line_gR = np.zeros(len(ccount))\n",
    "    line_mad = np.zeros(len(ccount))\n",
    "    line_sigma0 = np.zeros(len(ccount))\n",
    "    line_sigma1 = np.zeros(len(ccount))\n",
    "    line_sigma2 = np.zeros(len(ccount))\n",
    "    line_sigmax = np.zeros(len(ccount))\n",
    "    line_sigmay = np.zeros(len(ccount))\n",
    "    line_sigmaz = np.zeros(len(ccount))\n",
    "    line_anisotropy = np.zeros(len(ccount))\n",
    "    line_theta = np.zeros(len(ccount))\n",
    "    line_phi = np.zeros(len(ccount))\n",
    "    line_axis0 = np.zeros((np.shape(clust_data[dt]['axis0'])))\n",
    "    line_axis1 = np.zeros((np.shape(clust_data[dt]['axis0'])))\n",
    "    line_axis2 = np.zeros((np.shape(clust_data[dt]['axis0'])))\n",
    "\n",
    "    for id in range(len(ccount)):\n",
    "    # measure circular simulated clusters and record info in circ_clusts dictionary\n",
    "        circ_meas = cluster_morphology.measure_3d(x=cs_points_sep[id][:,0],y=cs_points_sep[id][:,1],\n",
    "                                                  z=cs_points_sep[id][:,2])\n",
    "\n",
    "        circ_count[id] = circ_meas['count'][0]\n",
    "        circ_x[id] = circ_meas['x'][0]\n",
    "        circ_y[id] = circ_meas['y'][0]\n",
    "        circ_z[id] = circ_meas['z'][0]\n",
    "        circ_gR[id] = circ_meas['gyrationRadius'][0]\n",
    "        circ_mad[id] = circ_meas['median_abs_deviation'][0]\n",
    "        circ_sigma0[id] = circ_meas['sigma0'][0]\n",
    "        circ_sigma1[id] = circ_meas['sigma1'][0]\n",
    "        circ_sigma2[id] = circ_meas['sigma2'][0]\n",
    "        circ_sigmax[id] = circ_meas['sigma_x'][0]\n",
    "        circ_sigmay[id] = circ_meas['sigma_y'][0]\n",
    "        circ_sigmaz[id] = circ_meas['sigma_z'][0]\n",
    "        circ_anisotropy[id] = circ_meas['anisotropy'][0]\n",
    "        circ_theta[id] = circ_meas['theta'][0]\n",
    "        circ_phi[id] = circ_meas['phi'][0]\n",
    "        circ_axis0[id] = circ_meas['axis0'][0]\n",
    "        circ_axis1[id] = circ_meas['axis1'][0]\n",
    "        circ_axis2[id] = circ_meas['axis2'][0]\n",
    "\n",
    "        circ_clusts['count'] = np.asarray(circ_count)\n",
    "        circ_clusts['x'] = np.asarray(circ_x)\n",
    "        circ_clusts['y'] = np.asarray(circ_y)\n",
    "        circ_clusts['z'] = np.asarray(circ_z)\n",
    "        circ_clusts['gyrationRadius'] = np.asarray(circ_gR)\n",
    "        circ_clusts['median_abs_deviation'] = np.asarray(circ_mad)\n",
    "        circ_clusts['sigma0'] = np.asarray(circ_sigma0)\n",
    "        circ_clusts['sigma1'] = np.asarray(circ_sigma1)\n",
    "        circ_clusts['sigma2'] = np.asarray(circ_sigma2)\n",
    "        circ_clusts['sigma_x'] = np.asarray(circ_sigmax)\n",
    "        circ_clusts['sigma_y'] = np.asarray(circ_sigmay)\n",
    "        circ_clusts['sigma_z'] = np.asarray(circ_sigmaz)\n",
    "        circ_clusts['anisotropy'] = np.asarray(circ_anisotropy)\n",
    "        circ_clusts['theta'] = np.asarray(circ_theta)\n",
    "        circ_clusts['phi'] = np.asarray(circ_phi)\n",
    "        circ_clusts['axis0'] = np.asarray(circ_axis0)\n",
    "        circ_clusts['axis1'] = np.asarray(circ_axis1)\n",
    "        circ_clusts['axis2'] = np.asarray(circ_axis2)\n",
    "\n",
    "\n",
    "    # Measure linear simulated clusters and record info in line_clusts dictionary\n",
    "        line_meas = cluster_morphology.measure_3d(x=ls_points_sep[id][:,0],y=ls_points_sep[id][:,1],\n",
    "                                                  z=ls_points_sep[id][:,2])\n",
    "\n",
    "        line_count[id] = line_meas['count'][0]\n",
    "        line_x[id] = line_meas['x'][0]\n",
    "        line_y[id] = line_meas['y'][0]\n",
    "        line_z[id] = line_meas['z'][0]\n",
    "        line_gR[id] = line_meas['gyrationRadius'][0]\n",
    "        line_mad[id] = line_meas['median_abs_deviation'][0]\n",
    "        line_sigma0[id] = line_meas['sigma0'][0]\n",
    "        line_sigma1[id] = line_meas['sigma1'][0]\n",
    "        line_sigma2[id] = line_meas['sigma2'][0]\n",
    "        line_sigmax[id] = line_meas['sigma_x'][0]\n",
    "        line_sigmay[id] = line_meas['sigma_y'][0]\n",
    "        line_sigmaz[id] = line_meas['sigma_z'][0]\n",
    "        line_anisotropy[id] = line_meas['anisotropy'][0]\n",
    "        line_theta[id] = line_meas['theta'][0]\n",
    "        line_phi[id] = line_meas['phi'][0]\n",
    "        line_axis0[id] = line_meas['axis0'][0]\n",
    "        line_axis1[id] = line_meas['axis1'][0]\n",
    "        line_axis2[id] = line_meas['axis2'][0]\n",
    "\n",
    "        line_clusts['count'] = np.asarray(line_count)\n",
    "        line_clusts['x'] = np.asarray(line_x)\n",
    "        line_clusts['y'] = np.asarray(line_y)\n",
    "        line_clusts['z'] = np.asarray(line_z)\n",
    "        line_clusts['gyrationRadius'] = np.asarray(line_gR)\n",
    "        line_clusts['median_abs_deviation'] = np.asarray(line_mad)\n",
    "        line_clusts['sigma0'] = np.asarray(line_sigma0)\n",
    "        line_clusts['sigma1'] = np.asarray(line_sigma1)\n",
    "        line_clusts['sigma2'] = np.asarray(line_sigma2)\n",
    "        line_clusts['sigma_x'] = np.asarray(line_sigmax)\n",
    "        line_clusts['sigma_y'] = np.asarray(line_sigmay)\n",
    "        line_clusts['sigma_z'] = np.asarray(line_sigmaz)\n",
    "        line_clusts['anisotropy'] = np.asarray(line_anisotropy)\n",
    "        line_clusts['theta'] = np.asarray(line_theta)\n",
    "        line_clusts['phi'] = np.asarray(line_phi)\n",
    "        line_clusts['axis0'] = np.asarray(line_axis0)\n",
    "        line_clusts['axis1'] = np.asarray(line_axis1)\n",
    "        line_clusts['axis2'] = np.asarray(line_axis2)\n",
    "\n",
    "    circ_sims_all.append(circ_clusts)\n",
    "    line_sims_all.append(line_clusts)"
   ]
  },
  {
   "cell_type": "code",
   "execution_count": null,
   "id": "db851663-0fe7-4d64-ac7f-d2a7c835355b",
   "metadata": {
    "tags": []
   },
   "outputs": [],
   "source": [
    "add_ds_from_Nx3(centers_filt, pipeline, pymevis, 'cluster-centers', normals=clust_filt)"
   ]
  },
  {
   "cell_type": "code",
   "execution_count": 9,
   "id": "45f0d69b-f484-4cc7-9fd9-157527ecf46d",
   "metadata": {},
   "outputs": [],
   "source": [
    "# get all the anisotropy measurements from the 3 experiments\n",
    "circ_ani = []\n",
    "line_ani = []\n",
    "real_ani = []\n",
    "for exp in range(len(circ_sims_all)):\n",
    "    circ_ani.append(circ_sims_all[exp]['anisotropy'])\n",
    "    line_ani.append(line_sims_all[exp]['anisotropy'])\n",
    "    real_ani.append(clust_data[exp]['anisotropy'][clust_data[exp]['total_filt']])\n",
    "\n",
    "circ_ani_all = np.asarray([item for sublist in circ_ani for item in sublist])\n",
    "line_ani_all = np.asarray([item for sublist in line_ani for item in sublist])\n",
    "real_ani_all = np.asarray([item for sublist in real_ani for item in sublist])\n",
    "\n",
    "CB_color_cycle = ['#377eb8', '#ff7f00', '#4daf4a',\n",
    "                  '#f781bf', '#a65628', '#984ea3',\n",
    "                  '#999999', '#e41a1c', '#dede00']"
   ]
  },
  {
   "cell_type": "code",
   "execution_count": 11,
   "id": "bb56de18-b9c0-468d-b0a5-9c0c16979c81",
   "metadata": {},
   "outputs": [],
   "source": [
    "import matplotlib.pyplot as plt\n",
    "\n",
    "fig = plt.figure(figsize=[3,2])\n",
    "plt.hist(circ_ani_all,bins=20, range=[0,1], alpha=0.3,label='Circular', \n",
    "         density=True, color='gold', edgecolor='k')\n",
    "plt.hist(line_ani_all,bins=20, range=[0,1], alpha=0.3,label='Linear', \n",
    "         density=True, color='lime', edgecolor='k')\n",
    "plt.hist(real_ani_all,bins=20, range=[0,1], alpha=0.3,label='Real', \n",
    "         density=True, color=CB_color_cycle[5], edgecolor='k')\n",
    "plt.legend(loc='upper right', bbox_to_anchor=(1.02, 1.03),frameon=False, markerfirst=False)\n",
    "plt.xlabel('Anisotropy')\n",
    "plt.ylabel('Normalized frequency')\n",
    "plt.show()\n",
    "ani_save = savedir + '\\\\Cluster_anisotropy_' + ver + '.png'\n",
    "plt.savefig(ani_save, dpi=600, facecolor='w', edgecolor='w',\n",
    "        orientation='portrait', papertype=None, format=None,\n",
    "        transparent=False, bbox_inches='tight', pad_inches=0, metadata=None)"
   ]
  },
  {
   "cell_type": "code",
   "execution_count": null,
   "id": "dc51b6ca-3805-4c48-8eef-1a9bb7197b12",
   "metadata": {},
   "outputs": [],
   "source": [
    "sim_stats={'Radius of Gyration Factor': rg_factor}\n",
    "from scipy.stats import ranksums\n",
    "sim_stats['linear_vs_real'] = ranksums(line_ani_all,real_ani_all)\n",
    "sim_stats['disc_vs_real'] = ranksums(circ_ani_all,real_ani_all)\n",
    "save_stats = savedir + '\\\\statistics'\n",
    "p2 = Path(save_stats)\n",
    "if not p2.exists():\n",
    "    os.mkdir(save_stats)\n",
    "np.save(save_stats + '\\\\ranksum_statistics' + ver, sim_stats, allow_pickle=True)"
   ]
  },
  {
   "cell_type": "code",
   "execution_count": null,
   "id": "33c2b354-7160-45c1-8894-94a871fc3f1f",
   "metadata": {},
   "outputs": [],
   "source": [
    "sim_stats"
   ]
  },
  {
   "cell_type": "code",
   "execution_count": null,
   "id": "b1eee359-8c7c-476f-a224-e3a902e49900",
   "metadata": {},
   "outputs": [],
   "source": [
    "clust_data[0]['count']"
   ]
  },
  {
   "cell_type": "code",
   "execution_count": null,
   "id": "b7654eaf-eab1-4989-a815-5f93bd7e8b4b",
   "metadata": {},
   "outputs": [],
   "source": [
    "# Calculate distance between monomers of Rtn4\n",
    "import matplotlib.pyplot as plt\n",
    "\n",
    "maj_len = clust_data[0]['sigma0'] * 3    #Standard deviation of major axis * 3 included 99.7% of points\n",
    "fcounts = []\n",
    "grads = []\n",
    "sd = []\n",
    "for ml in range(len(clust_data)):\n",
    "    fcounts.append(clust_data[ml]['count'][clust_data[ml]['total_filt']])\n",
    "    grads.append(clust_data[ml]['gyrationRadius'][clust_data[ml]['total_filt']])\n",
    "    sd.append(clust_data[ml]['sigma0'][clust_data[ml]['total_filt']])\n",
    "    \n",
    "    \n",
    "fcounts = np.asarray([item for sublist in fcounts for item in sublist])\n",
    "grads = np.asarray([item for sublist in grads for item in sublist])\n",
    "sd = np.asarray([item for sublist in sd for item in sublist])\n",
    "# Histogram of counts\n",
    "fig = plt.figure(figsize=[5,5])\n",
    "plt.hist(fcounts/3.23,bins=25, range=[0,50], alpha=0.3,label='Circular', \n",
    "         density=True, color='gold', edgecolor='k')\n",
    "#plt.legend(loc='upper right', bbox_to_anchor=(1.02, 1.03),frameon=False, markerfirst=False)\n",
    "plt.xlabel('Rtn4 copies per cluster')\n",
    "plt.ylabel('Normalized frequency')\n",
    "ccmean = np.median(fcounts)/3.23\n",
    "plt.axvline(x=ccmean, linestyle='--',color=CB_color_cycle[4],alpha=0.5)\n",
    "plt.text(ccmean+5,0.02,str(np.round(ccmean,1)),color=CB_color_cycle[4], fontsize='large')\n",
    "plt.show()"
   ]
  },
  {
   "cell_type": "code",
   "execution_count": null,
   "id": "040516d1-22e9-4509-bc2c-823ab2921311",
   "metadata": {},
   "outputs": [],
   "source": [
    "# Calculate distance between monomers of Rtn4 continued\n",
    "num_rtn = fcounts/3.23\n",
    "small_filt = num_rtn > 1\n",
    "num_rtn_filt = num_rtn[small_filt]\n",
    "grads_filt = grads[small_filt]\n",
    "clen = sd * 3\n",
    "#cdist = 2*grads/(num_rtn)#-1)\n",
    "cdist = clen/num_rtn\n",
    "fig = plt.figure(figsize=[5,5])\n",
    "plt.scatter(num_rtn,grads,alpha=0.05)\n",
    "#plt.hist(grads_filt,bins=80)\n",
    "plt.xlabel('SD * 3')\n",
    "plt.ylabel('Monomer length (SD*3/# Rtn4)')"
   ]
  },
  {
   "cell_type": "code",
   "execution_count": null,
   "id": "9f704a3f-e626-450b-9329-5e0ed96de6d1",
   "metadata": {},
   "outputs": [],
   "source": [
    "small_filt = num_rtn > 1\n",
    "print(np.sum(small_filt))\n",
    "(2*grads)/(num_rtn-1)"
   ]
  },
  {
   "cell_type": "code",
   "execution_count": null,
   "id": "a0085920-f493-4d06-9794-2fb6b9175857",
   "metadata": {},
   "outputs": [],
   "source": [
    "#plt.close(fig=None)\n",
    "\n",
    "circ_ar = circ_clusts['sigma0']/circ_clusts['sigma1']\n",
    "line_ar = line_clusts['sigma0']/line_clusts['sigma1']\n",
    "real_ar = clust_data[dt]['sigma0']/clust_data[dt]['sigma1']\n",
    "\n",
    "fig = plt.figure(figsize=[3,2])\n",
    "plt.hist(circ_ar, bins=30, range=[1,4], alpha=0.3, color='gold', edgecolor='k',\n",
    "         label='Circular', density=True)\n",
    "plt.hist(line_ar, bins=30, range=[1,4], alpha=0.3, color='lime', edgecolor='k',\n",
    "         label='Linear', density=True)\n",
    "plt.hist(real_ar, bins=30, range=[1,4], alpha=0.3, color=CB_color_cycle[0], edgecolor='k',\n",
    "         label='Real', density=True)\n",
    "plt.legend(loc='upper right', bbox_to_anchor=(1.02, 1.03),frameon=False, markerfirst=False)\n",
    "plt.xlabel('Aspect ratio')\n",
    "plt.ylabel('Normalized frequency')\n",
    "plt.show()\n",
    "AR_save = savedir + '\\\\Cluster_aspect-ratio_' + ver + '.png'\n",
    "plt.savefig(AR_save, dpi=600, facecolor='w', edgecolor='w',\n",
    "        orientation='portrait', papertype=None, format=None,\n",
    "        transparent=False, bbox_inches='tight', pad_inches=0, metadata=None)"
   ]
  },
  {
   "cell_type": "code",
   "execution_count": null,
   "id": "8914d210-96b0-4433-a01c-74b538353e29",
   "metadata": {},
   "outputs": [],
   "source": [
    "from scipy.stats import ranksums\n",
    "ranksums(line_ar,real_ar)"
   ]
  },
  {
   "cell_type": "code",
   "execution_count": null,
   "id": "fc2e017f-0cff-4464-ac79-012d77b1b4e7",
   "metadata": {},
   "outputs": [],
   "source": [
    "import matplotlib.pyplot as plt\n",
    "\n",
    "fig = plt.figure()\n",
    "plt.violinplot(circ_ani_all, positions=[1])#, color='gold')\n",
    "plt.violinplot(line_ani_all, positions=[1])#, color='lime')\n",
    "plt.violinplot(real_ani_all, positions=[1])#, color=CB_color_cycle[0])"
   ]
  },
  {
   "cell_type": "code",
   "execution_count": null,
   "id": "df5ba10c-1563-464f-b156-ee511a3c21a1",
   "metadata": {},
   "outputs": [],
   "source": [
    "# The cells below were used only for figures and movies in the paper"
   ]
  },
  {
   "cell_type": "code",
   "execution_count": null,
   "id": "373b56ce-0130-4063-bade-23b2555b29c4",
   "metadata": {},
   "outputs": [],
   "source": [
    "add_ds_from_Nx3(centers_filt, pipeline, pymevis, 'cluster-centers', normals=clust_filt)\n"
   ]
  },
  {
   "cell_type": "code",
   "execution_count": null,
   "id": "dbf33929-b571-45b8-95cb-d6ec0908aba8",
   "metadata": {},
   "outputs": [],
   "source": [
    "def proj_u_onto_plane(u, n):\n",
    "    ''' \n",
    "    Input:\n",
    "        u: vector to be projected onto plane\n",
    "        n: vector normal to the plane\n",
    "    Output:\n",
    "        u_p: normalized projection of vector u onto plane with normal n\n",
    "    '''\n",
    "    n_norm = np.sqrt(sum(n**2))\n",
    "    proj_of_u_on_n = (np.dot(u, n)/n_norm**2)*n\n",
    "    u_p = u - proj_of_u_on_n\n",
    "    return u_p"
   ]
  },
  {
   "cell_type": "code",
   "execution_count": null,
   "id": "4a184d9d-28ee-4ce9-983c-aede773d1d07",
   "metadata": {
    "tags": []
   },
   "outputs": [],
   "source": [
    "from numpy import pi\n",
    "# 4. clusters whose axes are tangent to surface in any direction (360 degrees) and positioned as real data\n",
    "\n",
    "# Vectors can probably just point from each vertex to the closest vertex. That should be pretty random\n",
    "# and tangent\n",
    "# positions = cluster_center_positions\n",
    "# vectors = tangent_to_surface_and_any_direction\\\n",
    "# followed advice from https://stackoverflow.com/questions/71160423/how-to-sample-points-in-3d-in-python-with-origin-and-normal-vector\n",
    "\n",
    "# parameters for this simulation\n",
    "r = 1 # radius of points sampled in the circle on the plane (probably leave as 1 always)\n",
    "v_num = 9 # number of vectors desired (evenly spaced around the circle)\n",
    "zdir = np.array([0,0,1])\n",
    "# equations for making the vectors\n",
    "rho = np.linspace(0, 2*np.pi, v_num)\n",
    "x = np.cos(rho) * r\n",
    "y = np.sin(rho) * r\n",
    "z = np.zeros(rho.shape)\n",
    "# positions of simulated clusters\n",
    "arot_pos = centers_filt\n",
    "# establish initial vectors\n",
    "arot_surf_dist, arot_surf_ind = tree_surf.query(arot_pos, k=1)\n",
    "arot_skel_dist, arot_skel_ind = mean_tree_skeleton.query(arot_pos, k=1)\n",
    "arot_skel_vec = arot_pos - skeleton[arot_skel_ind]\n",
    "arot_vecs = np.cross(vecs_hat[arot_skel_ind], arot_skel_vec)\n",
    "arot_tub = vecs_hat[arot_skel_ind]\n",
    "\n",
    "# Create vectors in a circle in the plane perpendicular to the vector that points from cluster center to skeleton\n",
    "f_all = []\n",
    "for bd in range(len(arot_pos)):\n",
    "    p1 = arot_pos[bd]\n",
    "    n = arot_skel_vec[bd] # vector normal to the plane\n",
    "    #pp = arot_vecs[bd] #vector orthogonal to normal\n",
    "    nabs = np.absolute(n)\n",
    "    indices = (-n).argsort()[:3]\n",
    "    v = np.zeros(3)\n",
    "    v[indices[1]] = -n[indices[0]]\n",
    "    v[indices[0]] = n[indices[1]]\n",
    "    v[indices[2]] = 0\n",
    "    u = np.cross(n,v)\n",
    "    #normalize vectors\n",
    "    v_norm = v/np.linalg.norm(v)\n",
    "    u_norm = u/np.linalg.norm(u)\n",
    "    f = []\n",
    "    for be in range(len(rho)):\n",
    "        circ_p = p1 + r * v_norm * np.cos(rho[be]) + r * u_norm * np.sin(rho[be])\n",
    "        circ_vec = p1-circ_p\n",
    "        f.append(circ_vec/np.linalg.norm(circ_vec))\n",
    "    f = np.asarray(f)\n",
    "    f_all.append(f)\n",
    "f_all = np.asarray(f_all)\n",
    "\n",
    "del u\n",
    "#Add the positions with each of the simulated cluster vectors (the number of which is equal to 'rho'-1)\n",
    "for bf in range(len(rho)-1):\n",
    "    name = 'all-rots-' + str(bf)\n",
    "    add_ds_from_Nx3(arot_pos, pipeline, pymevis, name, normals=f_all[:,bf])\n",
    "\n",
    "# Calculate portion of Z-dir that is orthogonal to frame0_cent (z-axis of the tubule accroding to tubule axis)\n",
    "arot_z = zdir[None,:] - vecs_hat[arot_skel_ind]*(vecs_hat[arot_skel_ind]*zdir[None,:]).sum(1)[:,None]\n",
    "\n",
    "# project simulated cluster vectors onto xy-ish axis of tubules\n",
    "proj_arot_all = []\n",
    "for zy in range(len(f_all)):\n",
    "    proj_arot = []\n",
    "    for zz in range(len(rho)-1):\n",
    "        # u = f_all[zy][zz]\n",
    "        # n = arot_z[zy]\n",
    "        # n_norm = np.sqrt(sum(n**2))\n",
    "        # proj = u-(np.dot(u,n)/n_norm**2)*n\n",
    "        # proj_arot.append(proj)\n",
    "        proj_arot.append(proj_u_onto_plane(f_all[zy][zz], arot_z[zy]))\n",
    "    proj_arot = np.asarray(proj_arot)\n",
    "    proj_clust_norm = proj_arot/np.linalg.norm(proj_arot,axis=1)[:,None]\n",
    "    proj_arot_all.append(proj_clust_norm)\n",
    "proj_arot_all = np.asarray(proj_arot_all)\n",
    "\n",
    "\n",
    "\n",
    "# Calculate angle between simulated points/vectors and tubule axis/tubule z-axis\n",
    "arot_tangs_all = []\n",
    "arot_ptangs_all = []\n",
    "arot_zangs_all = []\n",
    "for bi in range(len(rho)-1):\n",
    "    arot_tangs = np.zeros(len(arot_pos))\n",
    "    arot_ptangs = np.zeros(len(arot_pos))\n",
    "    arot_zangs = np.zeros(len(arot_pos))\n",
    "    for bg in range(len(arot_pos)):\n",
    "        # Take arccos of the dot product to get the angle out\n",
    "        arot_tangs[bg] = np.arccos(np.dot(arot_tub[bg],f_all[:,bi][bg]))\n",
    "        arot_ptangs[bg] = np.arccos(np.dot(arot_tub[bg],proj_arot_all[:,bi][bg]))\n",
    "        arot_zangs[bg] = np.arccos(np.dot(arot_z[bg],f_all[:,bi][bg]))\n",
    "    # remove NaNs that occur for some reason (something about invalid value for arccos but I don't understand why)\n",
    "    # it shouldn't matter though since there are so many points anyways and they are all just going to be 0 anyways\n",
    "    # filter out the same ones for z-axis even though that shouldn't have issues, just to be consistent\n",
    "    arot_zangs = arot_zangs[~np.isnan(arot_tangs)]\n",
    "    arot_tangs = arot_tangs[~np.isnan(arot_tangs)]\n",
    "    arot_ptangs = arot_ptangs[~np.isnan(arot_tangs)]\n",
    "    arot_tangs_all.append(arot_tangs)\n",
    "    arot_ptangs_all.append(arot_ptangs)\n",
    "    arot_zangs_all.append(arot_zangs)\n",
    "arot_tangs_all = np.asarray(arot_tangs_all)\n",
    "flat_arot_tangs = [element for sublist in arot_tangs_all for element in sublist]\n",
    "flat_arot_tangs = np.asarray(flat_arot_tangs)\n",
    "\n",
    "arot_ptangs_all = np.asarray(arot_ptangs_all)\n",
    "flat_arot_ptangs = [element for sublist in arot_ptangs_all for element in sublist]\n",
    "flat_arot_ptangs = np.asarray(flat_arot_ptangs)\n",
    "\n",
    "arot_zangs_all = np.asarray(arot_zangs_all)\n",
    "flat_arot_zangs = [element for sublist in arot_zangs_all for element in sublist]\n",
    "flat_arot_zangs = np.asarray(flat_arot_zangs)\n",
    "# convert from radians to degrees\n",
    "arot_tdeg = flat_arot_tangs * (180/pi)\n",
    "arot_ptdeg = flat_arot_ptangs * (180/pi)\n",
    "arot_zdeg = flat_arot_zangs * (180/pi)"
   ]
  },
  {
   "cell_type": "code",
   "execution_count": null,
   "id": "699853b7-13b3-4796-a842-e641fce73b71",
   "metadata": {},
   "outputs": [],
   "source": []
  }
 ],
 "metadata": {
  "kernelspec": {
   "display_name": "pyme",
   "language": "python",
   "name": "pyme"
  },
  "language_info": {
   "codemirror_mode": {
    "name": "ipython",
    "version": 3
   },
   "file_extension": ".py",
   "mimetype": "text/x-python",
   "name": "python",
   "nbconvert_exporter": "python",
   "pygments_lexer": "ipython3",
   "version": "3.7.9"
  }
 },
 "nbformat": 4,
 "nbformat_minor": 5
}
