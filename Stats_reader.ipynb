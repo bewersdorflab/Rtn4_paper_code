{
 "cells": [
  {
   "cell_type": "code",
   "execution_count": 11,
   "id": "79632a77-cb82-429a-afc5-52eba2bd282c",
   "metadata": {},
   "outputs": [
    {
     "name": "stdout",
     "output_type": "stream",
     "text": [
      "{'Rtn4_vs_Sec61B': RanksumsResult(statistic=-126.15862413000697, pvalue=0.0), 'Rtn4_vs_KDEL': RanksumsResult(statistic=-77.13838762629021, pvalue=0.0), 'Sec61B_vs_KDEL': RanksumsResult(statistic=43.164756805369734, pvalue=0.0), 'Rtn4_vs_sim': RanksumsResult(statistic=-27.390858888850435, pvalue=3.5241379601448053e-165), 'Sec61B_vs_sim': RanksumsResult(statistic=29.267402790107617, pvalue=2.6969855404040754e-188), 'KDEL_vs_sim': RanksumsResult(statistic=6.904915236410365, pvalue=5.023341303301015e-12)}\n"
     ]
    }
   ],
   "source": [
    "import numpy as np\n",
    "from pathlib import Path\n",
    "import os\n",
    "import matplotlib.pyplot as plt\n",
    "\n",
    "#Parameters to change\n",
    "#savedir = 'K:\\\\4Pi_data\\\\Oligomer_analysis\\\\Oligomer_analysis_V2\\\\Real_data_analysis'\n",
    "#bins = 18\n",
    "#save_loc = \n",
    "data = \"F:\\\\Rtn4_Paper_Data\\\\4Pi_data\\\\Cross-sectional_angles_analysis\\\\analysis_results_V8-vector-rejection\\\\analysis\\\\histograms\\\\statistics\\\\ranksum_statistics.npy\"\n",
    "output = np.load(data, allow_pickle=True)\n",
    "output = output.item()\n",
    "print(output)\n",
    "#ver = 'V6'\n",
    "\n",
    "# Import data\n",
    "# c_tdeg = []\n",
    "# # c_zdeg = []\n",
    "# # cp_tdeg = []\n",
    "# # arot_tdeg = []\n",
    "# # arot_zdeg = []\n",
    "# # center_angles = []\n",
    "# for a in range(len(data)):\n",
    "#     output = np.load(data[a], allow_pickle=True)\n",
    "#     output = output.item()\n",
    "#     c_tdeg.append(output['c_tdeg'])\n",
    "#     c_zdeg.append(output['c_zdeg'])\n",
    "#     cp_tdeg.append(output['cp_tdeg'])\n",
    "#     arot_tdeg.append(output['arot_tdeg'])\n",
    "#     arot_zdeg.append(output['arot_zdeg'])\n",
    "#     center_angles.append(output['center_angles'])"
   ]
  },
  {
   "cell_type": "code",
   "execution_count": 4,
   "id": "e1f6df57-24f6-4ed7-85dc-576435ce4172",
   "metadata": {},
   "outputs": [
    {
     "data": {
      "text/plain": [
       "'F:\\\\Rtn4_Paper_Data\\\\SP8\\\\Inner_vs_Outer_Rtn4-intensity_analysis\\\\Results\\\\Peripheral_vs_Perinuclear.npy'"
      ]
     },
     "execution_count": 4,
     "metadata": {},
     "output_type": "execute_result"
    }
   ],
   "source": [
    "data"
   ]
  },
  {
   "cell_type": "code",
   "execution_count": 10,
   "id": "691fe677-48a8-4a54-aa8b-20c10f944c76",
   "metadata": {},
   "outputs": [
    {
     "data": {
      "text/plain": [
       "array([-8.61020070e+00,  7.29327749e-18])"
      ]
     },
     "execution_count": 10,
     "metadata": {},
     "output_type": "execute_result"
    }
   ],
   "source": [
    "output"
   ]
  }
 ],
 "metadata": {
  "kernelspec": {
   "display_name": "pyme",
   "language": "python",
   "name": "pyme"
  },
  "language_info": {
   "codemirror_mode": {
    "name": "ipython",
    "version": 3
   },
   "file_extension": ".py",
   "mimetype": "text/x-python",
   "name": "python",
   "nbconvert_exporter": "python",
   "pygments_lexer": "ipython3",
   "version": "3.7.9"
  }
 },
 "nbformat": 4,
 "nbformat_minor": 5
}
